{
 "cells": [
  {
   "cell_type": "markdown",
   "metadata": {},
   "source": [
    "## Vortrainierte fastText-Modelle mit Gensim-Implementierung"
   ]
  },
  {
   "cell_type": "markdown",
   "metadata": {},
   "source": [
    "###  Trainieren von Modellen mit fastText (Extra)"
   ]
  },
  {
   "cell_type": "code",
   "execution_count": 1,
   "metadata": {},
   "outputs": [],
   "source": [
    "import logging\n",
    "logging.basicConfig(format='%(asctime)s : %(levelname)s : %(message)s', level=logging.INFO)"
   ]
  },
  {
   "cell_type": "code",
   "execution_count": 21,
   "metadata": {},
   "outputs": [],
   "source": [
    "from pprint import pprint as print\n",
    "from gensim.models.fasttext import FastText\n",
    "from gensim.test.utils import datapath\n",
    "import fasttext.util\n",
    "import tempfile\n",
    "import os\n",
    "import glob"
   ]
  },
  {
   "cell_type": "code",
   "execution_count": 2,
   "metadata": {},
   "outputs": [
    {
     "data": {
      "text/plain": [
       "<gensim.models.fasttext.FastText at 0x7f11a451afd0>"
      ]
     },
     "execution_count": 2,
     "metadata": {},
     "output_type": "execute_result"
    }
   ],
   "source": [
    "# Quelle: https://radimrehurek.com/gensim/auto_examples/tutorials/run_fasttext.html#sphx-glr-auto-examples-tutorials-run-fasttext-py\n",
    "# Dateinamen für Trainings- und Test-Daten werden definiert\n",
    "\n",
    "# Das \"Lee\"-Korpus wird zusammen mit Gensim installiert.\n",
    "# Es besteht aus 314 Dokumenten, die aus dem \"Australian Broadcasting Corporation’s news mail service\" ausgewählt wurden.\n",
    "# Der Dienst bietet Text-E-Mails von Schlagzeilen an sowie eine Reihe allgemeiner Themen\n",
    "\n",
    "corpus_file = datapath('lee_background.cor')\n",
    "\n",
    "model = FastText(vector_size=100)\n",
    "\n",
    "# Aufbau des Wörterbuchs\n",
    "model.build_vocab(corpus_file=corpus_file)\n",
    "\n",
    "# Trainieren des Modells\n",
    "model.train(\n",
    "    corpus_file=corpus_file, \n",
    "    epochs=model.epochs,\n",
    "    total_examples=model.corpus_count, \n",
    "    total_words=model.corpus_total_words,\n",
    ")\n",
    "\n",
    "model"
   ]
  },
  {
   "cell_type": "code",
   "execution_count": null,
   "metadata": {},
   "outputs": [],
   "source": [
    "# Parameter"
   ]
  },
  {
   "cell_type": "markdown",
   "metadata": {},
   "source": [
    "### Speichern und Laden von Modellen"
   ]
  },
  {
   "cell_type": "code",
   "execution_count": null,
   "metadata": {},
   "outputs": [],
   "source": [
    "# Speichern des durch die Gensim-fastText-Implementation trainierten Modells als \"temp\"\n",
    "with tempfile.NamedTemporaryFile(prefix='saved_model_gensim-', delete=False) as tmp:\n",
    "    model.save(tmp.name, separately=[])\n",
    "\n",
    "# Dasselbe Modell wird geladen\n",
    "loaded_model = FastText.load(tmp.name)\n",
    "print(loaded_model)\n",
    "\n",
    "# Die \"temp\"-Datei wird nicht mehr gebraucht\n",
    "os.unlink(tmp.name)"
   ]
  },
  {
   "cell_type": "code",
   "execution_count": 24,
   "metadata": {},
   "outputs": [
    {
     "data": {
      "text/plain": [
       "'/home/iuser/DH/DH_2020_2021/word_embeddings_HP'"
      ]
     },
     "execution_count": 24,
     "metadata": {},
     "output_type": "execute_result"
    }
   ],
   "source": [
    "# Überprüfen, ob sich man bei dem richtigen Arbeitsverzeichnis befindet\n",
    "os.getcwd()"
   ]
  },
  {
   "cell_type": "code",
   "execution_count": 11,
   "metadata": {},
   "outputs": [
    {
     "name": "stdout",
     "output_type": "stream",
     "text": [
      "None\n"
     ]
    }
   ],
   "source": [
    "# Ändern des Arbeitsverzeichnisses\n",
    "print(os.chdir('../'))"
   ]
  },
  {
   "cell_type": "code",
   "execution_count": 25,
   "metadata": {},
   "outputs": [
    {
     "data": {
      "text/plain": [
       "['./Notebooks/3_Word2vec mit Gensim/trained_models/cc.de.300.bin',\n",
       " './Notebooks/3_Word2vec mit Gensim/trained_models/wiki.de.bin',\n",
       " './Notebooks/3_Word2vec mit Gensim/trained_models/hp5_w2v.bin',\n",
       " './Notebooks/3_Word2vec mit Gensim/trained_models/hp1_7_w2v.bin']"
      ]
     },
     "execution_count": 25,
     "metadata": {},
     "output_type": "execute_result"
    }
   ],
   "source": [
    "# Suchen und Ausgeben der schon trainierten bzw. herunterladenen Modellen\n",
    "pretr_models = glob.glob(\"./Notebooks/3_Word2vec mit Gensim/trained_models/*.bin\")\n",
    "pretr_models"
   ]
  },
  {
   "cell_type": "markdown",
   "metadata": {},
   "source": [
    "### Auf Common Crawl und Wikipedia vortrainierte Wortvektoren - deutsche Sprache"
   ]
  },
  {
   "cell_type": "code",
   "execution_count": null,
   "metadata": {},
   "outputs": [],
   "source": [
    "# Vortrainierte Wortvektoren für das Deutsch, aus den Modellen für 157 Sprachen ausgewählt,\n",
    "# die auf Common Crawl and Wikipedia mittels fastTexts trainiert wurden.\n",
    "# Das Modell wurde außerdem nach den folgenden Leitlinien trainiert: \"CBOW with position-weights, in dimension 300, \n",
    "# with character n-grams of length 5, a window of size 5 and 10 negatives\".\n",
    "# Die Datei 'wiki.de.bin' ist die alte Version für Multisprachenwortvektoren im Vergleich zu 'cc.de.300.bin'\n",
    "\n",
    "# Herunter- und Hochladen des Modells mittels \"import fasttext.util\"\n",
    "#import fasttext.util\n",
    "#fasttext.util.download_model('de', if_exists='ignore')\n",
    "#cc_de = fasttext.load_model('cc.de.300.bin')\n",
    "\n",
    "cc_de = fasttext.load_model('./Notebooks/3_Word2vec mit Gensim/trained_models/cc.de.300.bin)"
   ]
  },
  {
   "cell_type": "code",
   "execution_count": null,
   "metadata": {},
   "outputs": [],
   "source": [
    "# Größe des Vektoren-Modells\n",
    "cc_de.get_dimension()"
   ]
  },
  {
   "cell_type": "markdown",
   "metadata": {},
   "source": [
    "#### Wortvektorenexploration"
   ]
  },
  {
   "cell_type": "code",
   "execution_count": null,
   "metadata": {},
   "outputs": [],
   "source": [
    "# Das \".wv\"-Attribut enthält alle Informationen zur Exploration von fastText-Wörtern und sogar OOV-Wörtern.\n",
    "# Um Speicherplatz und RAM zu sparen wird das \".wv\"-Attribut exportiert und gespeichert\n",
    "\n",
    "cc_wv = cc_de.wv\n",
    "cc_wv\n",
    "\n",
    "'hexe' in cc_wv.key_to_index"
   ]
  },
  {
   "cell_type": "code",
   "execution_count": null,
   "metadata": {},
   "outputs": [],
   "source": [
    "# Die \"out-of-vocabulary\"-Wörter werden durch die Summe ihrer \"character ngrams\" erfolgreich behandelt\n",
    "'hexen' in cc_wv.key_to_index"
   ]
  },
  {
   "cell_type": "code",
   "execution_count": null,
   "metadata": {},
   "outputs": [],
   "source": [
    "cc_wv['hexe']"
   ]
  },
  {
   "cell_type": "code",
   "execution_count": null,
   "metadata": {},
   "outputs": [],
   "source": [
    "cc_wv['hexen']"
   ]
  },
  {
   "cell_type": "markdown",
   "metadata": {},
   "source": [
    "#### Ähnlichkeitsoperationen"
   ]
  },
  {
   "cell_type": "code",
   "execution_count": null,
   "metadata": {},
   "outputs": [],
   "source": [
    "# interesting! and they are OOV words!\n",
    "cc_wv.similarity(\"harry\", \"potter\")"
   ]
  },
  {
   "cell_type": "code",
   "execution_count": null,
   "metadata": {},
   "outputs": [],
   "source": [
    "cc_wv.similarity(\"hexe\", \"hexen\")"
   ]
  },
  {
   "cell_type": "code",
   "execution_count": null,
   "metadata": {},
   "outputs": [],
   "source": [
    "cc_wv.most_similar(\"hexe\")"
   ]
  },
  {
   "cell_type": "code",
   "execution_count": null,
   "metadata": {},
   "outputs": [],
   "source": [
    "# bin im Himmel!\n",
    "cc_wv.n_similarity(['harry', 'wand'], ['spiderman', 'cobweb'])"
   ]
  },
  {
   "cell_type": "code",
   "execution_count": null,
   "metadata": {},
   "outputs": [],
   "source": [
    "# YESSSA!\n",
    "cc_wv.doesnt_match(\"harry ron hermione voldemort\".split())"
   ]
  },
  {
   "cell_type": "code",
   "execution_count": null,
   "metadata": {},
   "outputs": [],
   "source": [
    "cc_wv.most_similar(positive=['harry', 'ron'], negative=['malfoy'])"
   ]
  },
  {
   "cell_type": "code",
   "execution_count": null,
   "metadata": {},
   "outputs": [],
   "source": []
  },
  {
   "cell_type": "markdown",
   "metadata": {},
   "source": [
    "### Vortrainiertes Harry-Potter-Modell"
   ]
  },
  {
   "cell_type": "code",
   "execution_count": null,
   "metadata": {},
   "outputs": [],
   "source": [
    "pretr_hp = fasttext.load_model(./Notebooks/3_Word2vec mit Gensim/trained_models/hp1_7_w2v.bin')"
   ]
  },
  {
   "cell_type": "markdown",
   "metadata": {},
   "source": [
    "#### Wortvektorenexploration"
   ]
  },
  {
   "cell_type": "code",
   "execution_count": null,
   "metadata": {},
   "outputs": [],
   "source": [
    "# Das \".wv\"-Attribut enthält alle Informationen zur Exploration von fastText-Wörtern und sogar OOV-Wörtern.\n",
    "# Um Speicherplatz und RAM zu sparen wird das \".wv\"-Attribut exportiert und gespeichert\n",
    "\n",
    "hp_wv = pretr_hp.wv\n",
    "hp_wv\n",
    "\n",
    "'hexe' in hp_wv.key_to_index "
   ]
  },
  {
   "cell_type": "code",
   "execution_count": null,
   "metadata": {},
   "outputs": [],
   "source": [
    "# Die \"out-of-vocabulary\"-Wörter werden durch die Summe ihrer \"character ngrams\" erfolgreich behandelt\n",
    "'hexen' in hp_wv.key_to_index"
   ]
  },
  {
   "cell_type": "markdown",
   "metadata": {},
   "source": [
    "#### Ähnlichkeitsoperationen"
   ]
  },
  {
   "cell_type": "code",
   "execution_count": null,
   "metadata": {},
   "outputs": [],
   "source": [
    "# interesting! and they are OOV words!\n",
    "hp_wv.similarity(\"harry\", \"potter\")"
   ]
  },
  {
   "cell_type": "code",
   "execution_count": null,
   "metadata": {},
   "outputs": [],
   "source": [
    "hp_wv.most_similar(\"hexen\")"
   ]
  },
  {
   "cell_type": "code",
   "execution_count": null,
   "metadata": {},
   "outputs": [],
   "source": [
    "# bin im Himmel!\n",
    "hp_wv.n_similarity(['harry', 'wand'], ['spiderman', 'cobweb'])"
   ]
  },
  {
   "cell_type": "code",
   "execution_count": null,
   "metadata": {},
   "outputs": [],
   "source": [
    "# YESSSA!\n",
    "hp_wv.doesnt_match(\"harry ron hermione voldemort\".split())"
   ]
  },
  {
   "cell_type": "code",
   "execution_count": null,
   "metadata": {},
   "outputs": [],
   "source": [
    "hp_wv.most_similar(positive=['harry', 'ron'], negative=['malfoy'])"
   ]
  },
  {
   "cell_type": "markdown",
   "metadata": {},
   "source": [
    "### Vortrainiertes Fanfiction-Modell"
   ]
  },
  {
   "cell_type": "code",
   "execution_count": null,
   "metadata": {},
   "outputs": [],
   "source": [
    "pretr_ff = fasttext.load_model(./Notebooks/3_Word2vec mit Gensim/trained_models/___.bin')"
   ]
  },
  {
   "cell_type": "markdown",
   "metadata": {},
   "source": [
    "#### Wortvektorenexploration"
   ]
  },
  {
   "cell_type": "code",
   "execution_count": null,
   "metadata": {},
   "outputs": [],
   "source": [
    "# Das \".wv\"-Attribut enthält alle Informationen zur Exploration von fastText-Wörtern und sogar OOV-Wörtern.\n",
    "# Um Speicherplatz und RAM zu sparen wird das \".wv\"-Attribut exportiert und gespeichert\n",
    "\n",
    "ff_wv = pretr_ff.wv\n",
    "ff_wv\n",
    "\n",
    "'hexe' in ff_wv.key_to_index"
   ]
  },
  {
   "cell_type": "code",
   "execution_count": null,
   "metadata": {},
   "outputs": [],
   "source": [
    "# Die \"out-of-vocabulary\"-Wörter werden durch die Summe ihrer \"character ngrams\" erfolgreich behandelt\n",
    "'hexen' in ff_wv.key_to_index"
   ]
  },
  {
   "cell_type": "markdown",
   "metadata": {},
   "source": [
    "#### Ähnlichkeitsoperationen"
   ]
  },
  {
   "cell_type": "code",
   "execution_count": null,
   "metadata": {},
   "outputs": [],
   "source": [
    "# interesting! and they are OOV words!\n",
    "ff_wv.similarity(\"harry\", \"potter\")"
   ]
  },
  {
   "cell_type": "code",
   "execution_count": null,
   "metadata": {},
   "outputs": [],
   "source": [
    "ff_wv.most_similar(\"hexen\")"
   ]
  },
  {
   "cell_type": "code",
   "execution_count": null,
   "metadata": {},
   "outputs": [],
   "source": [
    "# bin im Himmel!\n",
    "ff_wv.n_similarity(['harry', 'wand'], ['spiderman', 'cobweb'])"
   ]
  },
  {
   "cell_type": "code",
   "execution_count": null,
   "metadata": {},
   "outputs": [],
   "source": [
    "# YESSSA!\n",
    "ff_wv.doesnt_match(\"harry ron hermione voldemort\".split())"
   ]
  },
  {
   "cell_type": "code",
   "execution_count": null,
   "metadata": {},
   "outputs": [],
   "source": [
    "ff_wv.most_similar(positive=['harry', 'ron'], negative=['malfoy'])"
   ]
  },
  {
   "cell_type": "code",
   "execution_count": null,
   "metadata": {},
   "outputs": [],
   "source": []
  },
  {
   "cell_type": "code",
   "execution_count": null,
   "metadata": {},
   "outputs": [],
   "source": [
    "# 'questions-words.txt' should be considered here as source\n",
    "wv.evaluate_word_analogies(datapath('questions-words.txt'))\n"
   ]
  },
  {
   "cell_type": "code",
   "execution_count": null,
   "metadata": {},
   "outputs": [],
   "source": [
    "sentence_obama = .lower().split()\n",
    "sentence_president = .lower().split()\n",
    "\n",
    "#from gensim.parsing.preprocessing import STOPWORDS\n",
    "sentence_obama = [w for w in sentence_obama if w not in stopwords]\n",
    "sentence_president = [w for w in sentence_president if w not in stopwords]\n",
    "\n",
    "distance = wv.wmdistance(sentence_obama, sentence_president)\n",
    "print(f\"Word Movers Distance is {distance} (lower means closer)\")\n"
   ]
  }
 ],
 "metadata": {
  "kernelspec": {
   "display_name": "Python 3",
   "language": "python",
   "name": "python3"
  },
  "language_info": {
   "codemirror_mode": {
    "name": "ipython",
    "version": 3
   },
   "file_extension": ".py",
   "mimetype": "text/x-python",
   "name": "python",
   "nbconvert_exporter": "python",
   "pygments_lexer": "ipython3",
   "version": "3.8.5"
  }
 },
 "nbformat": 4,
 "nbformat_minor": 4
}
