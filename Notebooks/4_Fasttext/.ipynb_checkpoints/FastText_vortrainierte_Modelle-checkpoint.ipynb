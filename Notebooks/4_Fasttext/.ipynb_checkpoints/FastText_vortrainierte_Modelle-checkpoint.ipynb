{
 "cells": [
  {
   "cell_type": "markdown",
   "metadata": {},
   "source": [
    "## Vortrainierte fastText-Modelle mit Gensim-Implementierung"
   ]
  },
  {
   "cell_type": "markdown",
   "metadata": {},
   "source": [
    "###  Trainieren von Modellen mit fastText (Extra)"
   ]
  },
  {
   "cell_type": "code",
   "execution_count": 1,
   "metadata": {},
   "outputs": [],
   "source": [
    "import logging\n",
    "logging.basicConfig(format='%(asctime)s : %(levelname)s : %(message)s', level=logging.INFO)"
   ]
  },
  {
   "cell_type": "code",
   "execution_count": 2,
   "metadata": {},
   "outputs": [
    {
     "name": "stderr",
     "output_type": "stream",
     "text": [
      "2021-05-04 14:19:43,915 : INFO : adding document #0 to Dictionary(0 unique tokens: [])\n",
      "2021-05-04 14:19:43,915 : INFO : built Dictionary(12 unique tokens: ['computer', 'human', 'interface', 'response', 'survey']...) from 9 documents (total 29 corpus positions)\n"
     ]
    }
   ],
   "source": [
    "from pprint import pprint as print\n",
    "from gensim.models.fasttext import FastText\n",
    "from gensim.test.utils import datapath\n",
    "import fasttext.util\n",
    "import tempfile\n",
    "import os\n",
    "import glob"
   ]
  },
  {
   "cell_type": "code",
   "execution_count": 4,
   "metadata": {},
   "outputs": [
    {
     "name": "stderr",
     "output_type": "stream",
     "text": [
      "2021-05-04 14:19:59,648 : INFO : resetting layer weights\n",
      "2021-05-04 14:20:06,667 : INFO : collecting all words and their counts\n",
      "2021-05-04 14:20:06,667 : INFO : PROGRESS: at sentence #0, processed 0 words, keeping 0 word types\n",
      "2021-05-04 14:20:06,727 : INFO : collected 10781 word types from a corpus of 59890 raw words and 300 sentences\n",
      "2021-05-04 14:20:06,729 : INFO : Loading a fresh vocabulary\n",
      "2021-05-04 14:20:06,754 : INFO : effective_min_count=5 retains 1762 unique words (16% of original 10781, drops 9019)\n",
      "2021-05-04 14:20:06,755 : INFO : effective_min_count=5 leaves 46084 word corpus (76% of original 59890, drops 13806)\n",
      "2021-05-04 14:20:06,772 : INFO : deleting the raw counts dictionary of 10781 items\n",
      "2021-05-04 14:20:06,773 : INFO : sample=0.001 downsamples 45 most-common words\n",
      "2021-05-04 14:20:06,774 : INFO : downsampling leaves estimated 32610 word corpus (70.8% of prior 46084)\n",
      "2021-05-04 14:20:06,847 : INFO : estimated required memory for 1762 words, 16936 buckets and 100 dimensions: 9411496 bytes\n",
      "2021-05-04 14:20:06,851 : INFO : resetting layer weights\n",
      "2021-05-04 14:20:10,899 : INFO : training model with 3 workers on 1762 vocabulary and 100 features, using sg=0 hs=0 sample=0.001 negative=5 window=5\n",
      "2021-05-04 14:20:11,103 : INFO : worker thread finished; awaiting finish of 2 more threads\n",
      "2021-05-04 14:20:11,120 : INFO : worker thread finished; awaiting finish of 1 more threads\n",
      "2021-05-04 14:20:11,166 : INFO : worker thread finished; awaiting finish of 0 more threads\n",
      "2021-05-04 14:20:11,167 : INFO : EPOCH - 1 : training on 60387 raw words (32958 effective words) took 0.2s, 132110 effective words/s\n",
      "2021-05-04 14:20:11,341 : INFO : worker thread finished; awaiting finish of 2 more threads\n",
      "2021-05-04 14:20:11,397 : INFO : worker thread finished; awaiting finish of 1 more threads\n",
      "2021-05-04 14:20:11,404 : INFO : worker thread finished; awaiting finish of 0 more threads\n",
      "2021-05-04 14:20:11,406 : INFO : EPOCH - 2 : training on 60387 raw words (32906 effective words) took 0.2s, 147210 effective words/s\n",
      "2021-05-04 14:20:11,573 : INFO : worker thread finished; awaiting finish of 2 more threads\n",
      "2021-05-04 14:20:11,623 : INFO : worker thread finished; awaiting finish of 1 more threads\n",
      "2021-05-04 14:20:11,629 : INFO : worker thread finished; awaiting finish of 0 more threads\n",
      "2021-05-04 14:20:11,631 : INFO : EPOCH - 3 : training on 60387 raw words (32863 effective words) took 0.2s, 151152 effective words/s\n",
      "2021-05-04 14:20:11,822 : INFO : worker thread finished; awaiting finish of 2 more threads\n",
      "2021-05-04 14:20:11,864 : INFO : worker thread finished; awaiting finish of 1 more threads\n",
      "2021-05-04 14:20:11,876 : INFO : worker thread finished; awaiting finish of 0 more threads\n",
      "2021-05-04 14:20:11,878 : INFO : EPOCH - 4 : training on 60387 raw words (32832 effective words) took 0.2s, 138092 effective words/s\n",
      "2021-05-04 14:20:12,073 : INFO : worker thread finished; awaiting finish of 2 more threads\n",
      "2021-05-04 14:20:12,095 : INFO : worker thread finished; awaiting finish of 1 more threads\n",
      "2021-05-04 14:20:12,106 : INFO : worker thread finished; awaiting finish of 0 more threads\n",
      "2021-05-04 14:20:12,107 : INFO : EPOCH - 5 : training on 60387 raw words (32827 effective words) took 0.2s, 153991 effective words/s\n",
      "2021-05-04 14:20:12,110 : INFO : training on a 301935 raw words (164386 effective words) took 1.2s, 136995 effective words/s\n",
      "2021-05-04 14:20:12,115 : WARNING : under 10 jobs per worker: consider setting a smaller `batch_words' for smoother alpha decay\n"
     ]
    },
    {
     "data": {
      "text/plain": [
       "<gensim.models.fasttext.FastText at 0x25840687e48>"
      ]
     },
     "execution_count": 4,
     "metadata": {},
     "output_type": "execute_result"
    }
   ],
   "source": [
    "# Quelle: https://radimrehurek.com/gensim/auto_examples/tutorials/run_fasttext.html#sphx-glr-auto-examples-tutorials-run-fasttext-py\n",
    "# Dateinamen für Trainings- und Test-Daten werden definiert\n",
    "\n",
    "# Das \"Lee\"-Korpus wird zusammen mit Gensim installiert.\n",
    "# Es besteht aus 314 Dokumenten, die aus dem \"Australian Broadcasting Corporation’s news mail service\" ausgewählt wurden.\n",
    "# Der Dienst bietet Text-E-Mails von Schlagzeilen an sowie eine Reihe allgemeiner Themen\n",
    "\n",
    "corpus_file = datapath('lee_background.cor')\n",
    "\n",
    "model = FastText(size=100)\n",
    "\n",
    "# Aufbau des Wörterbuchs\n",
    "model.build_vocab(corpus_file=corpus_file)\n",
    "\n",
    "# Trainieren des Modells\n",
    "model.train(\n",
    "    corpus_file=corpus_file, \n",
    "    epochs=model.epochs,\n",
    "    total_examples=model.corpus_count, \n",
    "    total_words=model.corpus_total_words,\n",
    ")\n",
    "\n",
    "model"
   ]
  },
  {
   "cell_type": "code",
   "execution_count": 5,
   "metadata": {},
   "outputs": [],
   "source": [
    "# Parameter"
   ]
  },
  {
   "cell_type": "markdown",
   "metadata": {},
   "source": [
    "### Speichern und Laden von Modellen"
   ]
  },
  {
   "cell_type": "code",
   "execution_count": 6,
   "metadata": {},
   "outputs": [
    {
     "name": "stderr",
     "output_type": "stream",
     "text": [
      "2021-05-04 14:20:25,005 : INFO : saving FastText object under C:\\Users\\Günther\\AppData\\Local\\Temp\\saved_model_gensim-9m7xycty, separately []\n",
      "2021-05-04 14:20:25,007 : INFO : storing np array 'vectors_ngrams' to C:\\Users\\Günther\\AppData\\Local\\Temp\\saved_model_gensim-9m7xycty.wv.vectors_ngrams.npy\n",
      "2021-05-04 14:20:27,658 : INFO : not storing attribute vectors_norm\n",
      "2021-05-04 14:20:27,658 : INFO : not storing attribute vectors_vocab_norm\n",
      "2021-05-04 14:20:27,658 : INFO : not storing attribute vectors_ngrams_norm\n",
      "2021-05-04 14:20:27,667 : INFO : not storing attribute buckets_word\n",
      "2021-05-04 14:20:27,672 : INFO : storing np array 'vectors_ngrams_lockf' to C:\\Users\\Günther\\AppData\\Local\\Temp\\saved_model_gensim-9m7xycty.trainables.vectors_ngrams_lockf.npy\n",
      "2021-05-04 14:20:30,400 : INFO : saved C:\\Users\\Günther\\AppData\\Local\\Temp\\saved_model_gensim-9m7xycty\n",
      "2021-05-04 14:20:30,400 : INFO : loading FastText object from C:\\Users\\Günther\\AppData\\Local\\Temp\\saved_model_gensim-9m7xycty\n",
      "2021-05-04 14:20:30,454 : INFO : loading wv recursively from C:\\Users\\Günther\\AppData\\Local\\Temp\\saved_model_gensim-9m7xycty.wv.* with mmap=None\n",
      "2021-05-04 14:20:30,455 : INFO : loading vectors_ngrams from C:\\Users\\Günther\\AppData\\Local\\Temp\\saved_model_gensim-9m7xycty.wv.vectors_ngrams.npy with mmap=None\n",
      "2021-05-04 14:20:30,842 : INFO : setting ignored attribute vectors_norm to None\n",
      "2021-05-04 14:20:30,842 : INFO : setting ignored attribute vectors_vocab_norm to None\n",
      "2021-05-04 14:20:30,842 : INFO : setting ignored attribute vectors_ngrams_norm to None\n",
      "2021-05-04 14:20:30,845 : INFO : setting ignored attribute buckets_word to None\n",
      "2021-05-04 14:20:30,846 : INFO : loading vocabulary recursively from C:\\Users\\Günther\\AppData\\Local\\Temp\\saved_model_gensim-9m7xycty.vocabulary.* with mmap=None\n",
      "2021-05-04 14:20:30,848 : INFO : loading trainables recursively from C:\\Users\\Günther\\AppData\\Local\\Temp\\saved_model_gensim-9m7xycty.trainables.* with mmap=None\n",
      "2021-05-04 14:20:30,849 : INFO : loading vectors_ngrams_lockf from C:\\Users\\Günther\\AppData\\Local\\Temp\\saved_model_gensim-9m7xycty.trainables.vectors_ngrams_lockf.npy with mmap=None\n",
      "2021-05-04 14:20:31,353 : INFO : loaded C:\\Users\\Günther\\AppData\\Local\\Temp\\saved_model_gensim-9m7xycty\n"
     ]
    },
    {
     "name": "stdout",
     "output_type": "stream",
     "text": [
      "<gensim.models.fasttext.FastText object at 0x00000258702A0288>\n"
     ]
    }
   ],
   "source": [
    "# Speichern des durch die Gensim-fastText-Implementation trainierten Modells als \"temp\"\n",
    "with tempfile.NamedTemporaryFile(prefix='saved_model_gensim-', delete=False) as tmp:\n",
    "    model.save(tmp.name, separately=[])\n",
    "\n",
    "# Dasselbe Modell wird geladen\n",
    "loaded_model = FastText.load(tmp.name)\n",
    "print(loaded_model)\n",
    "\n",
    "# Die \"temp\"-Datei wird nicht mehr gebraucht\n",
    "os.unlink(tmp.name)"
   ]
  },
  {
   "cell_type": "code",
   "execution_count": 7,
   "metadata": {},
   "outputs": [
    {
     "data": {
      "text/plain": [
       "'C:\\\\Users\\\\Günther\\\\Git\\\\word_embeddings_HP\\\\Notebooks\\\\4_Fasttext'"
      ]
     },
     "execution_count": 7,
     "metadata": {},
     "output_type": "execute_result"
    }
   ],
   "source": [
    "# Überprüfen, ob sich man bei dem richtigen Arbeitsverzeichnis befindet\n",
    "os.getcwd()"
   ]
  },
  {
   "cell_type": "code",
   "execution_count": 8,
   "metadata": {},
   "outputs": [
    {
     "name": "stdout",
     "output_type": "stream",
     "text": [
      "None\n"
     ]
    }
   ],
   "source": [
    "# Ändern des Arbeitsverzeichnisses\n",
    "print(os.chdir('../'))"
   ]
  },
  {
   "cell_type": "code",
   "execution_count": 13,
   "metadata": {},
   "outputs": [
    {
     "data": {
      "text/plain": [
       "['../Notebooks/3_Word2vec mit Gensim/trained_models\\\\hp1_7_w2v.bin']"
      ]
     },
     "execution_count": 13,
     "metadata": {},
     "output_type": "execute_result"
    }
   ],
   "source": [
    "# Suchen und Ausgeben der schon trainierten bzw. herunterladenen Modellen\n",
    "\n",
    "pretr_models = glob.glob(\"../Notebooks/3_Word2vec mit Gensim/trained_models/*.bin\")\n",
    "pretr_models"
   ]
  },
  {
   "cell_type": "markdown",
   "metadata": {},
   "source": [
    "### Auf Common Crawl und Wikipedia vortrainierte Wortvektoren - deutsche Sprache"
   ]
  },
  {
   "cell_type": "code",
   "execution_count": 31,
   "metadata": {},
   "outputs": [],
   "source": [
    "# Vortrainierte Wortvektoren für das Deutsch, aus den Modellen für 157 Sprachen ausgewählt,\n",
    "# die auf Common Crawl and Wikipedia mittels fastTexts trainiert wurden.\n",
    "# Das Modell wurde außerdem nach den folgenden Leitlinien trainiert: \"CBOW with position-weights, in dimension 300, \n",
    "# with character n-grams of length 5, a window of size 5 and 10 negatives\".\n",
    "# Die Datei 'wiki.de.bin' ist die alte Version für Multisprachenwortvektoren im Vergleich zu 'cc.de.300.bin'\n",
    "\n",
    "# Herunter- und Hochladen des Modells mittels \"import fasttext.util\"\n",
    "\n",
    "#from gensim.models.wrappers import FastText \n",
    "\n",
    "#fasttext.util.download_model('de', if_exists='ignore')\n",
    "#cc_de = FastText.load_fasttext_format('cc.de.300.bin')\n",
    "\n",
    "cc_de = fasttext.load_model(\"../Notebooks/3_Word2vec mit Gensim/trained_models/cc.de.300.bin\")"
   ]
  },
  {
   "cell_type": "code",
   "execution_count": 32,
   "metadata": {},
   "outputs": [
    {
     "data": {
      "text/plain": [
       "300"
      ]
     },
     "execution_count": 32,
     "metadata": {},
     "output_type": "execute_result"
    }
   ],
   "source": [
    "# Größe des Vektoren-Modells\n",
    "cc_de.get_dimension()"
   ]
  },
  {
   "cell_type": "markdown",
   "metadata": {},
   "source": [
    "#### Wortvektorenexploration"
   ]
  },
  {
   "cell_type": "code",
   "execution_count": 33,
   "metadata": {},
   "outputs": [
    {
     "ename": "AttributeError",
     "evalue": "'_FastText' object has no attribute 'wv'",
     "output_type": "error",
     "traceback": [
      "\u001b[1;31m---------------------------------------------------------------------------\u001b[0m",
      "\u001b[1;31mAttributeError\u001b[0m                            Traceback (most recent call last)",
      "\u001b[1;32m<ipython-input-33-b6518901c695>\u001b[0m in \u001b[0;36m<module>\u001b[1;34m\u001b[0m\n\u001b[0;32m      2\u001b[0m \u001b[1;31m# Um Speicherplatz und RAM zu sparen wird das \".wv\"-Attribut exportiert und gespeichert\u001b[0m\u001b[1;33m\u001b[0m\u001b[1;33m\u001b[0m\u001b[1;33m\u001b[0m\u001b[0m\n\u001b[0;32m      3\u001b[0m \u001b[1;33m\u001b[0m\u001b[0m\n\u001b[1;32m----> 4\u001b[1;33m \u001b[0mcc_wv\u001b[0m \u001b[1;33m=\u001b[0m \u001b[0mcc_de\u001b[0m\u001b[1;33m.\u001b[0m\u001b[0mwv\u001b[0m\u001b[1;33m\u001b[0m\u001b[1;33m\u001b[0m\u001b[0m\n\u001b[0m\u001b[0;32m      5\u001b[0m \u001b[0mcc_wv\u001b[0m\u001b[1;33m\u001b[0m\u001b[1;33m\u001b[0m\u001b[0m\n\u001b[0;32m      6\u001b[0m \u001b[1;33m\u001b[0m\u001b[0m\n",
      "\u001b[1;31mAttributeError\u001b[0m: '_FastText' object has no attribute 'wv'"
     ]
    }
   ],
   "source": [
    "# Das \".wv\"-Attribut enthält alle Informationen zur Exploration von fastText-Wörtern und sogar OOV-Wörtern.\n",
    "# Um Speicherplatz und RAM zu sparen wird das \".wv\"-Attribut exportiert und gespeichert\n",
    "\n",
    "cc_wv = cc_de.wv\n",
    "cc_wv\n",
    "\n",
    "'hexe' in cc_wv.key_to_index"
   ]
  },
  {
   "cell_type": "code",
   "execution_count": 34,
   "metadata": {},
   "outputs": [
    {
     "ename": "AttributeError",
     "evalue": "'_FastText' object has no attribute 'key_to_index'",
     "output_type": "error",
     "traceback": [
      "\u001b[1;31m---------------------------------------------------------------------------\u001b[0m",
      "\u001b[1;31mAttributeError\u001b[0m                            Traceback (most recent call last)",
      "\u001b[1;32m<ipython-input-34-c6f3da24de8e>\u001b[0m in \u001b[0;36m<module>\u001b[1;34m\u001b[0m\n\u001b[0;32m      1\u001b[0m \u001b[1;31m# Die \"out-of-vocabulary\"-Wörter werden durch die Summe ihrer \"character ngrams\" erfolgreich behandelt\u001b[0m\u001b[1;33m\u001b[0m\u001b[1;33m\u001b[0m\u001b[1;33m\u001b[0m\u001b[0m\n\u001b[1;32m----> 2\u001b[1;33m \u001b[1;34m'hexen'\u001b[0m \u001b[1;32min\u001b[0m \u001b[0mcc_wv\u001b[0m\u001b[1;33m.\u001b[0m\u001b[0mkey_to_index\u001b[0m\u001b[1;33m\u001b[0m\u001b[1;33m\u001b[0m\u001b[0m\n\u001b[0m",
      "\u001b[1;31mAttributeError\u001b[0m: '_FastText' object has no attribute 'key_to_index'"
     ]
    }
   ],
   "source": [
    "# Die \"out-of-vocabulary\"-Wörter werden durch die Summe ihrer \"character ngrams\" erfolgreich behandelt\n",
    "'hexen' in cc_wv.key_to_index"
   ]
  },
  {
   "cell_type": "code",
   "execution_count": 35,
   "metadata": {},
   "outputs": [
    {
     "data": {
      "text/plain": [
       "array([-0.16862874,  0.03880789, -0.02066349, -0.08137231, -0.05085985,\n",
       "        0.09661885, -0.05929545, -0.03607299, -0.08245327, -0.04446463,\n",
       "       -0.05854267,  0.0440863 ,  0.18290523,  0.16818658,  0.09620522,\n",
       "       -0.0956843 ,  0.04593589,  0.18849674, -0.08560952,  0.13140455,\n",
       "       -0.09100854, -0.02407046,  0.03619358, -0.04121159, -0.1161322 ,\n",
       "       -0.1472565 , -0.00700521,  0.02739989,  0.0025535 ,  0.03128995,\n",
       "       -0.02055371,  0.02392993,  0.0141704 , -0.00646967, -0.02832913,\n",
       "        0.04629813, -0.06795592, -0.07734299,  0.06499644, -0.10906009,\n",
       "        0.0033348 ,  0.09483881,  0.03266495, -0.02899434,  0.08091761,\n",
       "        0.19444744, -0.01362141, -0.21634778,  0.07684066,  0.01906198,\n",
       "        0.12719981,  0.0399101 , -0.02891294,  0.05832025,  0.05354452,\n",
       "       -0.04008894, -0.06969875,  0.06534776, -0.11746685, -0.01840615,\n",
       "        0.11874401,  0.0214612 ,  0.07114525, -0.00435895, -0.11281426,\n",
       "        0.00869412,  0.04933057,  0.03830669,  0.00541363,  0.07917333,\n",
       "        0.04555514,  0.00504398,  0.17769697, -0.12374192, -0.02698956,\n",
       "       -0.00614259, -0.05296468, -0.08207615, -0.03200602, -0.09693553,\n",
       "       -0.00597095, -0.02402569, -0.12025791,  0.04085606, -0.04273462,\n",
       "       -0.0155788 ,  0.15100423,  0.12067987,  0.04090402,  0.04379345,\n",
       "        0.10039912, -0.00750308,  0.03414003, -0.00704723, -0.08680445,\n",
       "        0.1638234 ,  0.13252062,  0.03299429, -0.00343802,  0.00479234,\n",
       "        0.00898252,  0.06346801,  0.11309949, -0.16068596, -0.09916262,\n",
       "       -0.3552621 ,  0.00993783, -0.02853518,  0.07123508,  0.0226904 ,\n",
       "       -0.05760887,  0.00930002,  0.01094102, -0.14808777, -0.05727094,\n",
       "       -0.15241903,  0.07134309, -0.10763885, -0.12804115, -0.0375566 ,\n",
       "       -0.01376813,  0.0616623 , -0.00098581,  0.06867637,  0.03439392,\n",
       "        0.26360768,  0.02194754, -0.03037877,  0.09875707, -0.10199308,\n",
       "       -0.1043103 , -0.00925479, -0.01639543,  0.12470005, -0.02473823,\n",
       "        0.05360046, -0.00420877,  0.02485483,  0.04799057, -0.07591139,\n",
       "       -0.01967776,  0.00958742,  0.08693409, -0.1532607 ,  0.06811383,\n",
       "       -0.05787815,  0.07323705,  0.05602568,  0.05691364,  0.05772803,\n",
       "       -0.03309849,  0.07991163, -0.03753539,  0.00455221,  0.18718824,\n",
       "        0.03171318, -0.01641584, -0.12849054,  0.1455111 ,  0.00175665,\n",
       "       -0.09509369, -0.09675269,  0.05579924,  0.20179096,  0.08722834,\n",
       "        0.11948161, -0.17999592, -0.09896778,  0.0355369 ,  0.08182454,\n",
       "       -0.09046064,  0.11818708, -0.1622105 ,  0.10737841,  0.09496525,\n",
       "       -0.06399864,  0.14301266, -0.04348974,  0.02658633, -0.11189475,\n",
       "        0.03054797, -0.01411459, -0.01662748, -0.0594153 ,  0.03991035,\n",
       "        0.1651522 ,  0.02869294, -0.0971489 , -0.1263322 ,  0.19156873,\n",
       "        0.03660961, -0.00691995,  0.00555953,  0.05234627,  0.01745469,\n",
       "        0.04119914,  0.01101957,  0.02318776, -0.15235698,  0.07241901,\n",
       "       -0.02861013,  0.08340191,  0.0631754 ,  0.00186841,  0.19473349,\n",
       "       -0.01987632, -0.10555597,  0.16570699,  0.06184104, -0.09174629,\n",
       "       -0.13981213,  0.02094008,  0.05915856,  0.0462162 , -0.06382188,\n",
       "       -0.20455   ,  0.02723006,  0.03125227,  0.07083621,  0.02033222,\n",
       "        0.05897629,  0.13515669,  0.03948685, -0.08053856, -0.06893276,\n",
       "        0.00823628, -0.08070089,  0.34360284, -0.04687114,  0.11144136,\n",
       "        0.10636475,  0.15828648, -0.04163474, -0.07500371,  0.01071701,\n",
       "        0.04734753,  0.07264635, -0.20235251,  0.00339304, -0.08787972,\n",
       "       -0.04544268, -0.07301264,  0.05566785, -0.0316231 ,  0.12079503,\n",
       "       -0.04808106, -0.0103381 , -0.10124511, -0.13088696, -0.08669116,\n",
       "       -0.0164951 , -0.02317099, -0.0056674 ,  0.11030018, -0.11561014,\n",
       "        0.04895845,  0.02434595,  0.02701557,  0.06657036,  0.1515226 ,\n",
       "        0.18070208,  0.05789722, -0.03922514,  0.00324231,  0.00652151,\n",
       "        0.02697494,  0.02684094, -0.01166142,  0.08330777,  0.18776485,\n",
       "        0.05963858,  0.01978757, -0.01620501,  0.01173984, -0.05736212,\n",
       "        0.04746244,  0.32546064, -0.08483462, -0.13664812, -0.02411368,\n",
       "       -0.14073145,  0.05928335, -0.03110286, -0.07290902, -0.04021298,\n",
       "       -0.07620403,  0.0923807 , -0.06002402,  0.11337185,  0.01454391,\n",
       "       -0.03117347, -0.01554339, -0.04350811, -0.01834788,  0.15108064,\n",
       "        0.01076645,  0.08037723,  0.09416523, -0.01092942, -0.08921769],\n",
       "      dtype=float32)"
      ]
     },
     "execution_count": 35,
     "metadata": {},
     "output_type": "execute_result"
    }
   ],
   "source": [
    "cc_wv['hexe']"
   ]
  },
  {
   "cell_type": "code",
   "execution_count": 36,
   "metadata": {},
   "outputs": [
    {
     "data": {
      "text/plain": [
       "array([-7.99211562e-02, -1.09453872e-02,  1.34368762e-02, -4.06263880e-02,\n",
       "       -5.45578077e-02, -5.34495488e-02,  4.03393731e-02, -2.81301932e-03,\n",
       "       -6.45713955e-02, -3.64194736e-02,  5.80927506e-02, -7.20283911e-02,\n",
       "       -2.19570100e-03,  7.89589286e-02,  1.25371918e-01, -6.55909777e-02,\n",
       "       -2.04499029e-02,  1.52959660e-01, -5.53460121e-02, -2.44713426e-02,\n",
       "        1.21414643e-02, -6.11900724e-03,  6.29135370e-02, -6.08203486e-02,\n",
       "       -6.81123137e-03,  2.53234021e-02, -7.67886788e-02, -4.95041758e-02,\n",
       "       -7.31205940e-02, -9.81050879e-02,  1.43648097e-02,  6.37544245e-02,\n",
       "       -1.44095674e-01, -1.56492945e-02,  6.12232648e-02,  7.39252418e-02,\n",
       "       -5.10340789e-03, -3.26422229e-02,  8.63327831e-02, -1.18379340e-01,\n",
       "        8.21135640e-02,  1.68602988e-01,  5.96041903e-02, -8.44180882e-02,\n",
       "       -6.21734113e-02,  1.07949235e-01,  2.41928594e-03, -1.11810863e-01,\n",
       "        5.52213527e-02, -3.84956226e-02,  6.67055175e-02, -5.48977852e-02,\n",
       "        3.66854295e-02,  1.93892084e-02,  1.17858276e-01, -7.34398365e-02,\n",
       "        5.02056144e-02, -2.71254610e-02, -4.06565256e-02, -6.82267100e-02,\n",
       "        1.04414254e-01,  5.44508547e-02,  8.05273280e-02, -3.57973762e-02,\n",
       "       -1.94379911e-01, -6.64275140e-02,  1.09248422e-01, -3.85770835e-02,\n",
       "        6.62072189e-03,  3.13099250e-02,  8.81015062e-02,  1.86486132e-02,\n",
       "        5.67024872e-02, -5.32767326e-02, -6.90125450e-02,  4.94676270e-02,\n",
       "       -5.49519919e-02, -4.73163091e-02, -1.24062430e-02,  7.94240832e-03,\n",
       "        9.86388996e-02,  2.77263019e-02, -5.72830513e-02,  5.98316714e-02,\n",
       "       -1.25722289e-01,  7.71213546e-02,  1.04578845e-01,  5.99707998e-02,\n",
       "        3.17013939e-03,  9.52033699e-02,  5.68679944e-02, -9.81390476e-04,\n",
       "        7.04423264e-02,  5.47164418e-02, -9.68964025e-03, -1.42634194e-03,\n",
       "       -1.41282342e-02, -8.51352960e-02, -7.52378628e-03,  1.86391640e-02,\n",
       "       -2.50004195e-02,  9.97824222e-02,  8.61136764e-02, -1.06712975e-01,\n",
       "        6.54629245e-02, -2.17784628e-01, -6.56476021e-02, -4.48521897e-02,\n",
       "        6.06346279e-02,  7.97499344e-03,  1.12134337e-01, -6.09842874e-03,\n",
       "       -4.18671295e-02, -1.41700149e-01, -6.72500506e-02,  5.04686758e-02,\n",
       "        2.43353681e-03,  7.51005951e-04, -4.17323411e-02, -1.87036153e-02,\n",
       "        1.70598663e-02,  9.83700156e-02,  8.15363377e-02,  1.21142874e-02,\n",
       "        2.63417792e-02,  2.22811148e-01, -3.73673029e-02, -4.79046330e-02,\n",
       "        8.09407905e-02, -7.59501010e-02, -5.16642220e-02,  4.78415154e-02,\n",
       "        4.62793745e-02,  1.58503979e-01,  1.44195380e-02,  5.41476198e-02,\n",
       "        3.27687003e-02, -2.13839114e-04, -8.86026919e-02, -3.83673012e-02,\n",
       "        4.11268547e-02, -1.96988881e-03,  1.73989981e-01, -5.37799746e-02,\n",
       "       -3.27722467e-02, -6.37914240e-02,  6.99255913e-02,  1.12981863e-01,\n",
       "        1.55244023e-01, -7.00229779e-04,  7.97743797e-02,  6.00524247e-03,\n",
       "        1.41678154e-02, -7.68465698e-02,  1.59053817e-01,  6.58693910e-03,\n",
       "        3.61318141e-02, -3.26429494e-02,  8.52034986e-02,  3.37043665e-02,\n",
       "        1.02369674e-03, -1.41750574e-01,  4.15247492e-02,  6.72790259e-02,\n",
       "        1.65849507e-01,  6.86170384e-02, -2.18255088e-01,  2.70267087e-03,\n",
       "        5.40011972e-02,  1.44823417e-01,  4.93575633e-02,  1.78997621e-01,\n",
       "       -7.96267949e-03,  9.99376923e-02,  2.72822529e-02,  3.88884172e-03,\n",
       "        5.97412325e-02, -7.10139722e-02, -3.66150290e-02, -9.44147408e-02,\n",
       "       -6.05743378e-03,  1.00270003e-01,  5.42058423e-03, -1.41768470e-01,\n",
       "        3.28743719e-02,  6.60659075e-02,  1.02687888e-02, -5.13965823e-02,\n",
       "       -1.37500614e-01,  1.90971553e-01, -8.03104602e-03, -5.08192293e-02,\n",
       "        3.46788168e-02,  6.41099513e-02, -7.20147640e-02,  5.65557331e-02,\n",
       "        5.25519438e-02, -3.11555713e-03, -1.98669285e-01,  4.44564708e-02,\n",
       "        4.27409373e-02,  6.47204462e-03, -1.63652301e-02,  5.64467860e-04,\n",
       "        6.71657696e-02, -2.69556399e-02, -3.15466225e-02,  6.95217401e-02,\n",
       "        7.75639638e-02, -6.86513484e-02, -3.26475948e-02,  1.02827258e-01,\n",
       "        1.51952431e-02,  1.03845671e-02, -2.21412629e-02, -1.63888842e-01,\n",
       "       -9.44822505e-02,  3.43744606e-02,  2.78814323e-02,  6.20328560e-02,\n",
       "        3.45907472e-02,  1.89432234e-01,  7.27090091e-02, -1.16795816e-01,\n",
       "       -5.20573854e-02,  1.22102629e-02, -5.82249835e-02,  2.53638417e-01,\n",
       "       -1.24610461e-01,  8.92849863e-02,  7.15626776e-02,  1.05633900e-01,\n",
       "       -1.80802625e-02,  1.28262460e-01,  6.70535415e-02,  3.08181848e-02,\n",
       "        8.54582638e-02, -1.04338370e-01, -6.64009824e-02, -2.00299844e-02,\n",
       "       -3.60419601e-02, -6.93348944e-02,  3.36235799e-02, -4.72739004e-02,\n",
       "        5.30953333e-02, -3.77328992e-02,  5.20534515e-02, -4.52020764e-03,\n",
       "        4.07207385e-02, -5.04416190e-02, -1.44749070e-02,  6.90186694e-02,\n",
       "        8.73384848e-02,  5.51412664e-02, -4.51599434e-02, -5.66676678e-03,\n",
       "        8.93750265e-02, -3.02077997e-02,  7.11842701e-02,  1.00449786e-01,\n",
       "        3.98549810e-02,  3.75683643e-02,  3.43606099e-02,  7.84802735e-02,\n",
       "        1.47955298e-01,  1.97856408e-02, -6.36737794e-02, -1.44356817e-01,\n",
       "        1.06331483e-02,  3.99006680e-02, -1.90359280e-02,  4.76932013e-03,\n",
       "       -1.39400452e-01,  4.40124869e-02, -7.15051815e-02,  2.70394236e-03,\n",
       "        2.46490061e-01, -6.80331439e-02, -3.41986492e-02, -6.22979365e-02,\n",
       "       -8.12811330e-02,  2.25330479e-02,  2.34341249e-03, -1.24029517e-01,\n",
       "       -7.72502273e-02, -1.91812366e-01,  1.21925801e-01,  6.47971928e-02,\n",
       "        8.58176202e-02,  2.07338203e-02, -2.71826796e-02, -1.44997779e-02,\n",
       "       -4.15962562e-02, -2.84029031e-03,  5.75088710e-02, -4.36361469e-02,\n",
       "        7.19162747e-02,  6.84998408e-02,  3.41466404e-02,  2.23936066e-02],\n",
       "      dtype=float32)"
      ]
     },
     "execution_count": 36,
     "metadata": {},
     "output_type": "execute_result"
    }
   ],
   "source": [
    "cc_wv['hexen']"
   ]
  },
  {
   "cell_type": "markdown",
   "metadata": {},
   "source": [
    "#### Ähnlichkeitsoperationen"
   ]
  },
  {
   "cell_type": "code",
   "execution_count": 37,
   "metadata": {},
   "outputs": [
    {
     "ename": "AttributeError",
     "evalue": "'_FastText' object has no attribute 'similarity'",
     "output_type": "error",
     "traceback": [
      "\u001b[1;31m---------------------------------------------------------------------------\u001b[0m",
      "\u001b[1;31mAttributeError\u001b[0m                            Traceback (most recent call last)",
      "\u001b[1;32m<ipython-input-37-692ebc33aa27>\u001b[0m in \u001b[0;36m<module>\u001b[1;34m\u001b[0m\n\u001b[0;32m      1\u001b[0m \u001b[1;31m# interesting! and they are OOV words!\u001b[0m\u001b[1;33m\u001b[0m\u001b[1;33m\u001b[0m\u001b[1;33m\u001b[0m\u001b[0m\n\u001b[1;32m----> 2\u001b[1;33m \u001b[0mcc_wv\u001b[0m\u001b[1;33m.\u001b[0m\u001b[0msimilarity\u001b[0m\u001b[1;33m(\u001b[0m\u001b[1;34m\"harry\"\u001b[0m\u001b[1;33m,\u001b[0m \u001b[1;34m\"potter\"\u001b[0m\u001b[1;33m)\u001b[0m\u001b[1;33m\u001b[0m\u001b[1;33m\u001b[0m\u001b[0m\n\u001b[0m",
      "\u001b[1;31mAttributeError\u001b[0m: '_FastText' object has no attribute 'similarity'"
     ]
    }
   ],
   "source": [
    "# interesting! and they are OOV words!\n",
    "cc_wv.similarity(\"harry\", \"potter\")"
   ]
  },
  {
   "cell_type": "code",
   "execution_count": null,
   "metadata": {},
   "outputs": [],
   "source": [
    "cc_wv.similarity(\"hexe\", \"hexen\")"
   ]
  },
  {
   "cell_type": "code",
   "execution_count": null,
   "metadata": {},
   "outputs": [],
   "source": [
    "cc_wv.most_similar(\"hexe\")"
   ]
  },
  {
   "cell_type": "code",
   "execution_count": 28,
   "metadata": {},
   "outputs": [
    {
     "ename": "AttributeError",
     "evalue": "'_FastText' object has no attribute 'n_similarity'",
     "output_type": "error",
     "traceback": [
      "\u001b[1;31m---------------------------------------------------------------------------\u001b[0m",
      "\u001b[1;31mAttributeError\u001b[0m                            Traceback (most recent call last)",
      "\u001b[1;32m<ipython-input-28-9a5239392e8a>\u001b[0m in \u001b[0;36m<module>\u001b[1;34m\u001b[0m\n\u001b[0;32m      1\u001b[0m \u001b[1;31m# bin im Himmel!\u001b[0m\u001b[1;33m\u001b[0m\u001b[1;33m\u001b[0m\u001b[1;33m\u001b[0m\u001b[0m\n\u001b[1;32m----> 2\u001b[1;33m \u001b[0mcc_wv\u001b[0m\u001b[1;33m.\u001b[0m\u001b[0mn_similarity\u001b[0m\u001b[1;33m(\u001b[0m\u001b[1;33m[\u001b[0m\u001b[1;34m'harry'\u001b[0m\u001b[1;33m,\u001b[0m \u001b[1;34m'wand'\u001b[0m\u001b[1;33m]\u001b[0m\u001b[1;33m,\u001b[0m \u001b[1;33m[\u001b[0m\u001b[1;34m'spiderman'\u001b[0m\u001b[1;33m,\u001b[0m \u001b[1;34m'cobweb'\u001b[0m\u001b[1;33m]\u001b[0m\u001b[1;33m)\u001b[0m\u001b[1;33m\u001b[0m\u001b[1;33m\u001b[0m\u001b[0m\n\u001b[0m",
      "\u001b[1;31mAttributeError\u001b[0m: '_FastText' object has no attribute 'n_similarity'"
     ]
    }
   ],
   "source": [
    "# bin im Himmel!\n",
    "cc_wv.n_similarity(['harry', 'wand'], ['spiderman', 'cobweb'])"
   ]
  },
  {
   "cell_type": "code",
   "execution_count": null,
   "metadata": {},
   "outputs": [],
   "source": [
    "# YESSSA!\n",
    "cc_wv.doesnt_match(\"harry ron hermione voldemort\".split())"
   ]
  },
  {
   "cell_type": "code",
   "execution_count": null,
   "metadata": {},
   "outputs": [],
   "source": [
    "cc_wv.most_similar(positive=['harry', 'ron'], negative=['malfoy'])"
   ]
  },
  {
   "cell_type": "code",
   "execution_count": null,
   "metadata": {},
   "outputs": [],
   "source": []
  },
  {
   "cell_type": "markdown",
   "metadata": {},
   "source": [
    "### Vortrainiertes Harry-Potter-Modell"
   ]
  },
  {
   "cell_type": "code",
   "execution_count": null,
   "metadata": {},
   "outputs": [],
   "source": [
    "pretr_hp = fasttext.load_model(./Notebooks/3_Word2vec mit Gensim/trained_models/hp1_7_w2v.bin')"
   ]
  },
  {
   "cell_type": "markdown",
   "metadata": {},
   "source": [
    "#### Wortvektorenexploration"
   ]
  },
  {
   "cell_type": "code",
   "execution_count": null,
   "metadata": {},
   "outputs": [],
   "source": [
    "# Das \".wv\"-Attribut enthält alle Informationen zur Exploration von fastText-Wörtern und sogar OOV-Wörtern.\n",
    "# Um Speicherplatz und RAM zu sparen wird das \".wv\"-Attribut exportiert und gespeichert\n",
    "\n",
    "hp_wv = pretr_hp.wv\n",
    "hp_wv\n",
    "\n",
    "'hexe' in hp_wv.key_to_index "
   ]
  },
  {
   "cell_type": "code",
   "execution_count": null,
   "metadata": {},
   "outputs": [],
   "source": [
    "# Die \"out-of-vocabulary\"-Wörter werden durch die Summe ihrer \"character ngrams\" erfolgreich behandelt\n",
    "'hexen' in hp_wv.key_to_index"
   ]
  },
  {
   "cell_type": "markdown",
   "metadata": {},
   "source": [
    "#### Ähnlichkeitsoperationen"
   ]
  },
  {
   "cell_type": "code",
   "execution_count": null,
   "metadata": {},
   "outputs": [],
   "source": [
    "# interesting! and they are OOV words!\n",
    "hp_wv.similarity(\"harry\", \"potter\")"
   ]
  },
  {
   "cell_type": "code",
   "execution_count": null,
   "metadata": {},
   "outputs": [],
   "source": [
    "hp_wv.most_similar(\"hexen\")"
   ]
  },
  {
   "cell_type": "code",
   "execution_count": null,
   "metadata": {},
   "outputs": [],
   "source": [
    "# bin im Himmel!\n",
    "hp_wv.n_similarity(['harry', 'wand'], ['spiderman', 'cobweb'])"
   ]
  },
  {
   "cell_type": "code",
   "execution_count": null,
   "metadata": {},
   "outputs": [],
   "source": [
    "# YESSSA!\n",
    "hp_wv.doesnt_match(\"harry ron hermione voldemort\".split())"
   ]
  },
  {
   "cell_type": "code",
   "execution_count": null,
   "metadata": {},
   "outputs": [],
   "source": [
    "hp_wv.most_similar(positive=['harry', 'ron'], negative=['malfoy'])"
   ]
  },
  {
   "cell_type": "markdown",
   "metadata": {},
   "source": [
    "### Vortrainiertes Fanfiction-Modell"
   ]
  },
  {
   "cell_type": "code",
   "execution_count": null,
   "metadata": {},
   "outputs": [],
   "source": [
    "pretr_ff = fasttext.load_model(./Notebooks/3_Word2vec mit Gensim/trained_models/___.bin')"
   ]
  },
  {
   "cell_type": "markdown",
   "metadata": {},
   "source": [
    "#### Wortvektorenexploration"
   ]
  },
  {
   "cell_type": "code",
   "execution_count": null,
   "metadata": {},
   "outputs": [],
   "source": [
    "# Das \".wv\"-Attribut enthält alle Informationen zur Exploration von fastText-Wörtern und sogar OOV-Wörtern.\n",
    "# Um Speicherplatz und RAM zu sparen wird das \".wv\"-Attribut exportiert und gespeichert\n",
    "\n",
    "ff_wv = pretr_ff.wv\n",
    "ff_wv\n",
    "\n",
    "'hexe' in ff_wv.key_to_index"
   ]
  },
  {
   "cell_type": "code",
   "execution_count": null,
   "metadata": {},
   "outputs": [],
   "source": [
    "# Die \"out-of-vocabulary\"-Wörter werden durch die Summe ihrer \"character ngrams\" erfolgreich behandelt\n",
    "'hexen' in ff_wv.key_to_index"
   ]
  },
  {
   "cell_type": "markdown",
   "metadata": {},
   "source": [
    "#### Ähnlichkeitsoperationen"
   ]
  },
  {
   "cell_type": "code",
   "execution_count": null,
   "metadata": {},
   "outputs": [],
   "source": [
    "# interesting! and they are OOV words!\n",
    "ff_wv.similarity(\"harry\", \"potter\")"
   ]
  },
  {
   "cell_type": "code",
   "execution_count": null,
   "metadata": {},
   "outputs": [],
   "source": [
    "ff_wv.most_similar(\"hexen\")"
   ]
  },
  {
   "cell_type": "code",
   "execution_count": null,
   "metadata": {},
   "outputs": [],
   "source": [
    "# bin im Himmel!\n",
    "ff_wv.n_similarity(['harry', 'wand'], ['spiderman', 'cobweb'])"
   ]
  },
  {
   "cell_type": "code",
   "execution_count": null,
   "metadata": {},
   "outputs": [],
   "source": [
    "# YESSSA!\n",
    "ff_wv.doesnt_match(\"harry ron hermione voldemort\".split())"
   ]
  },
  {
   "cell_type": "code",
   "execution_count": null,
   "metadata": {},
   "outputs": [],
   "source": [
    "ff_wv.most_similar(positive=['harry', 'ron'], negative=['malfoy'])"
   ]
  },
  {
   "cell_type": "code",
   "execution_count": null,
   "metadata": {},
   "outputs": [],
   "source": []
  },
  {
   "cell_type": "code",
   "execution_count": null,
   "metadata": {},
   "outputs": [],
   "source": [
    "# 'questions-words.txt' should be considered here as source\n",
    "wv.evaluate_word_analogies(datapath('questions-words.txt'))\n"
   ]
  },
  {
   "cell_type": "code",
   "execution_count": null,
   "metadata": {},
   "outputs": [],
   "source": [
    "sentence_obama = .lower().split()\n",
    "sentence_president = .lower().split()\n",
    "\n",
    "#from gensim.parsing.preprocessing import STOPWORDS\n",
    "sentence_obama = [w for w in sentence_obama if w not in stopwords]\n",
    "sentence_president = [w for w in sentence_president if w not in stopwords]\n",
    "\n",
    "distance = wv.wmdistance(sentence_obama, sentence_president)\n",
    "print(f\"Word Movers Distance is {distance} (lower means closer)\")\n"
   ]
  }
 ],
 "metadata": {
  "kernelspec": {
   "display_name": "Python 3",
   "language": "python",
   "name": "python3"
  },
  "language_info": {
   "codemirror_mode": {
    "name": "ipython",
    "version": 3
   },
   "file_extension": ".py",
   "mimetype": "text/x-python",
   "name": "python",
   "nbconvert_exporter": "python",
   "pygments_lexer": "ipython3",
   "version": "3.7.4"
  },
  "toc": {
   "base_numbering": 1,
   "nav_menu": {},
   "number_sections": true,
   "sideBar": true,
   "skip_h1_title": false,
   "title_cell": "Table of Contents",
   "title_sidebar": "Contents",
   "toc_cell": false,
   "toc_position": {},
   "toc_section_display": true,
   "toc_window_display": false
  }
 },
 "nbformat": 4,
 "nbformat_minor": 4
}
