{
 "cells": [
  {
   "cell_type": "markdown",
   "metadata": {},
   "source": [
    "<h1>Vortrainiertes FastText-Modell mit Gensim</h1>"
   ]
  },
  {
   "cell_type": "code",
   "execution_count": 1,
   "metadata": {},
   "outputs": [],
   "source": [
    "# Pre-trained fastText-Modell über Gensim erhältlich\n",
    "import gensim.downloader as api\n",
    "ft = api.load('fasttext-wiki-news-subwords-300')"
   ]
  },
  {
   "cell_type": "code",
   "execution_count": 2,
   "metadata": {},
   "outputs": [
    {
     "name": "stdout",
     "output_type": "stream",
     "text": [
      "('fruit', 'apple', 0.65969634)\n",
      "('fruit', 'pear', 0.6272378)\n",
      "('fruit', 'banana', 0.635579)\n",
      "('fruit', 'strawberry', 0.617207)\n",
      "('fruit', 'tomato', 0.5951181)\n"
     ]
    }
   ],
   "source": [
    "pairs_fruit = [\n",
    "    ('fruit', 'apple'),   \n",
    "    ('fruit', 'pear'),   \n",
    "    ('fruit', 'banana'),  \n",
    "    ('fruit', 'strawberry'),    \n",
    "    ('fruit', 'tomato'),\n",
    "]\n",
    "for w1, w2 in pairs_fruit:\n",
    "    print((w1, w2, ft.similarity(w1, w2)))"
   ]
  },
  {
   "cell_type": "code",
   "execution_count": 4,
   "metadata": {},
   "outputs": [
    {
     "data": {
      "text/plain": [
       "[('fruits', 0.8579899072647095),\n",
       " ('fruit-bearing', 0.7444858551025391),\n",
       " ('fruit-', 0.7373621463775635),\n",
       " ('starfruit', 0.7342027425765991),\n",
       " ('fresh-fruit', 0.7309085130691528)]"
      ]
     },
     "execution_count": 4,
     "metadata": {},
     "output_type": "execute_result"
    }
   ],
   "source": [
    "ft.most_similar(positive=['fruit'], topn=5)"
   ]
  },
  {
   "cell_type": "code",
   "execution_count": 5,
   "metadata": {},
   "outputs": [
    {
     "data": {
      "text/plain": [
       "0.7002144"
      ]
     },
     "execution_count": 5,
     "metadata": {},
     "output_type": "execute_result"
    }
   ],
   "source": [
    "ft.similarity('fruit', 'vegetable')"
   ]
  },
  {
   "cell_type": "code",
   "execution_count": 6,
   "metadata": {},
   "outputs": [
    {
     "data": {
      "text/plain": [
       "[('princess', 0.8643317818641663)]"
      ]
     },
     "execution_count": 6,
     "metadata": {},
     "output_type": "execute_result"
    }
   ],
   "source": [
    "ft.most_similar(positive=['prince', 'girl'], negative=['boy'], topn=1)"
   ]
  }
 ],
 "metadata": {
  "kernelspec": {
   "display_name": "Python 3",
   "language": "python",
   "name": "python3"
  },
  "language_info": {
   "codemirror_mode": {
    "name": "ipython",
    "version": 3
   },
   "file_extension": ".py",
   "mimetype": "text/x-python",
   "name": "python",
   "nbconvert_exporter": "python",
   "pygments_lexer": "ipython3",
   "version": "3.7.6"
  }
 },
 "nbformat": 4,
 "nbformat_minor": 4
}
