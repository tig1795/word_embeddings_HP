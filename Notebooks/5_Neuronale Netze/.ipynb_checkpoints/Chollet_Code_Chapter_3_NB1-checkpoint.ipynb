{
 "cells": [
  {
   "cell_type": "code",
   "execution_count": 34,
   "metadata": {},
   "outputs": [
    {
     "data": {
      "text/plain": [
       "'2.4.3'"
      ]
     },
     "execution_count": 34,
     "metadata": {},
     "output_type": "execute_result"
    }
   ],
   "source": [
    "import keras\n",
    "keras.__version__"
   ]
  },
  {
   "cell_type": "markdown",
   "metadata": {},
   "source": [
    "# Klassifizieren von Filmkritiken: ein Beispiel für binäre Klassifizierung\n",
    "\n",
    "Die Zwei-Klassen-Klassifikation, oder binäre Klassifikation, ist vielleicht die am häufigsten angewandte Art von maschinellem Lernproblem. In diesem Beispiel werden, Filmrezensionen in \"positive\" und \"negative\" Rezensionen klassifiziert, und zwar nur auf Basis des Textinhalts der Rezensionen."
   ]
  },
  {
   "cell_type": "markdown",
   "metadata": {},
   "source": [
    "# Der IMDB-Datensatz\n",
    "\n",
    "Wir werden mit dem \"IMDB-Datensatz\" arbeiten, einem Satz von 50.000 hochpolarisierenden Rezensionen aus der Internet Movie Database. Sie sind aufgeteilt in 25.000 Rezensionen für das Training und 25.000 Rezensionen für das Testen, wobei jedes Set aus 50% negativen und 50% positiven Rezensionen besteht.\n",
    "\n",
    "Warum haben wir diese zwei getrennten Trainings- und Test-Sets? Sie sollten ein Modell für maschinelles Lernen niemals mit denselben Daten testen, mit denen Sie es trainiert haben! Nur weil ein Modell bei seinen Trainingsdaten gut abschneidet, bedeutet das nicht, dass es auch bei Daten gut abschneidet, die es noch nie gesehen hat, und was Sie wirklich interessiert, ist die Leistung Ihres Modells bei neuen Daten (da Sie die Labels Ihrer Trainingsdaten bereits kennen - offensichtlich brauchen Sie Ihr Modell nicht, um diese vorherzusagen). Es ist z. B. möglich, dass Ihr Modell am Ende nur ein Mapping zwischen Ihren Trainingsproben und deren Zielen speichert - was für die Aufgabe der Vorhersage von Zielen für nie zuvor gesehene Daten völlig nutzlos wäre. \n",
    "\n",
    "Genau wie der MNIST-Datensatz wird auch der IMDB-Datensatz mit Keras ausgeliefert. Er wurde bereits vorverarbeitet: Die Bewertungen (Wortfolgen) wurden in Folgen von Ganzzahlen umgewandelt, wobei jede Ganzzahl für ein bestimmtes Wort in einem Wörterbuch steht.\n",
    "\n",
    "\n",
    "Der folgende Code lädt den Datensatz (wenn Sie ihn zum ersten Mal ausführen, werden etwa 80 MB an Daten auf Ihren Rechner heruntergeladen):"
   ]
  },
  {
   "cell_type": "code",
   "execution_count": 35,
   "metadata": {},
   "outputs": [
    {
     "name": "stderr",
     "output_type": "stream",
     "text": [
      "C:\\ProgramData\\Anaconda3\\lib\\site-packages\\tensorflow\\python\\keras\\datasets\\imdb.py:155: VisibleDeprecationWarning: Creating an ndarray from ragged nested sequences (which is a list-or-tuple of lists-or-tuples-or ndarrays with different lengths or shapes) is deprecated. If you meant to do this, you must specify 'dtype=object' when creating the ndarray\n",
      "  x_train, y_train = np.array(xs[:idx]), np.array(labels[:idx])\n",
      "C:\\ProgramData\\Anaconda3\\lib\\site-packages\\tensorflow\\python\\keras\\datasets\\imdb.py:156: VisibleDeprecationWarning: Creating an ndarray from ragged nested sequences (which is a list-or-tuple of lists-or-tuples-or ndarrays with different lengths or shapes) is deprecated. If you meant to do this, you must specify 'dtype=object' when creating the ndarray\n",
      "  x_test, y_test = np.array(xs[idx:]), np.array(labels[idx:])\n"
     ]
    }
   ],
   "source": [
    "from keras.datasets import imdb\n",
    "\n",
    "(train_data, train_labels), (test_data, test_labels) = imdb.load_data(num_words=10000)"
   ]
  },
  {
   "cell_type": "markdown",
   "metadata": {},
   "source": [
    "Das Argument num_words=10000 bedeutet, dass nur die obersten 10.000 am häufigsten vorkommenden Wörter in den Trainingsdaten behalten werden. Seltene Wörter werden verworfen. Dies ermöglicht es uns, mit Vektordaten von überschaubarer Größe zu arbeiten.\n",
    "\n",
    "Die Variablen train_data und test_data sind Listen von Bewertungen, wobei jede Bewertung eine Liste von Wortindizes ist (die eine Folge von Wörtern kodieren). train_labels und test_labels sind Listen von 0en und 1en, wobei 0 für \"negativ\" und 1 für \"positiv\" steht:"
   ]
  },
  {
   "cell_type": "code",
   "execution_count": 36,
   "metadata": {
    "scrolled": false
   },
   "outputs": [
    {
     "data": {
      "text/plain": [
       "[1,\n",
       " 14,\n",
       " 22,\n",
       " 16,\n",
       " 43,\n",
       " 530,\n",
       " 973,\n",
       " 1622,\n",
       " 1385,\n",
       " 65,\n",
       " 458,\n",
       " 4468,\n",
       " 66,\n",
       " 3941,\n",
       " 4,\n",
       " 173,\n",
       " 36,\n",
       " 256,\n",
       " 5,\n",
       " 25,\n",
       " 100,\n",
       " 43,\n",
       " 838,\n",
       " 112,\n",
       " 50,\n",
       " 670,\n",
       " 2,\n",
       " 9,\n",
       " 35,\n",
       " 480,\n",
       " 284,\n",
       " 5,\n",
       " 150,\n",
       " 4,\n",
       " 172,\n",
       " 112,\n",
       " 167,\n",
       " 2,\n",
       " 336,\n",
       " 385,\n",
       " 39,\n",
       " 4,\n",
       " 172,\n",
       " 4536,\n",
       " 1111,\n",
       " 17,\n",
       " 546,\n",
       " 38,\n",
       " 13,\n",
       " 447,\n",
       " 4,\n",
       " 192,\n",
       " 50,\n",
       " 16,\n",
       " 6,\n",
       " 147,\n",
       " 2025,\n",
       " 19,\n",
       " 14,\n",
       " 22,\n",
       " 4,\n",
       " 1920,\n",
       " 4613,\n",
       " 469,\n",
       " 4,\n",
       " 22,\n",
       " 71,\n",
       " 87,\n",
       " 12,\n",
       " 16,\n",
       " 43,\n",
       " 530,\n",
       " 38,\n",
       " 76,\n",
       " 15,\n",
       " 13,\n",
       " 1247,\n",
       " 4,\n",
       " 22,\n",
       " 17,\n",
       " 515,\n",
       " 17,\n",
       " 12,\n",
       " 16,\n",
       " 626,\n",
       " 18,\n",
       " 2,\n",
       " 5,\n",
       " 62,\n",
       " 386,\n",
       " 12,\n",
       " 8,\n",
       " 316,\n",
       " 8,\n",
       " 106,\n",
       " 5,\n",
       " 4,\n",
       " 2223,\n",
       " 5244,\n",
       " 16,\n",
       " 480,\n",
       " 66,\n",
       " 3785,\n",
       " 33,\n",
       " 4,\n",
       " 130,\n",
       " 12,\n",
       " 16,\n",
       " 38,\n",
       " 619,\n",
       " 5,\n",
       " 25,\n",
       " 124,\n",
       " 51,\n",
       " 36,\n",
       " 135,\n",
       " 48,\n",
       " 25,\n",
       " 1415,\n",
       " 33,\n",
       " 6,\n",
       " 22,\n",
       " 12,\n",
       " 215,\n",
       " 28,\n",
       " 77,\n",
       " 52,\n",
       " 5,\n",
       " 14,\n",
       " 407,\n",
       " 16,\n",
       " 82,\n",
       " 2,\n",
       " 8,\n",
       " 4,\n",
       " 107,\n",
       " 117,\n",
       " 5952,\n",
       " 15,\n",
       " 256,\n",
       " 4,\n",
       " 2,\n",
       " 7,\n",
       " 3766,\n",
       " 5,\n",
       " 723,\n",
       " 36,\n",
       " 71,\n",
       " 43,\n",
       " 530,\n",
       " 476,\n",
       " 26,\n",
       " 400,\n",
       " 317,\n",
       " 46,\n",
       " 7,\n",
       " 4,\n",
       " 2,\n",
       " 1029,\n",
       " 13,\n",
       " 104,\n",
       " 88,\n",
       " 4,\n",
       " 381,\n",
       " 15,\n",
       " 297,\n",
       " 98,\n",
       " 32,\n",
       " 2071,\n",
       " 56,\n",
       " 26,\n",
       " 141,\n",
       " 6,\n",
       " 194,\n",
       " 7486,\n",
       " 18,\n",
       " 4,\n",
       " 226,\n",
       " 22,\n",
       " 21,\n",
       " 134,\n",
       " 476,\n",
       " 26,\n",
       " 480,\n",
       " 5,\n",
       " 144,\n",
       " 30,\n",
       " 5535,\n",
       " 18,\n",
       " 51,\n",
       " 36,\n",
       " 28,\n",
       " 224,\n",
       " 92,\n",
       " 25,\n",
       " 104,\n",
       " 4,\n",
       " 226,\n",
       " 65,\n",
       " 16,\n",
       " 38,\n",
       " 1334,\n",
       " 88,\n",
       " 12,\n",
       " 16,\n",
       " 283,\n",
       " 5,\n",
       " 16,\n",
       " 4472,\n",
       " 113,\n",
       " 103,\n",
       " 32,\n",
       " 15,\n",
       " 16,\n",
       " 5345,\n",
       " 19,\n",
       " 178,\n",
       " 32]"
      ]
     },
     "execution_count": 36,
     "metadata": {},
     "output_type": "execute_result"
    }
   ],
   "source": [
    "train_data[0]"
   ]
  },
  {
   "cell_type": "code",
   "execution_count": 37,
   "metadata": {},
   "outputs": [
    {
     "data": {
      "text/plain": [
       "1"
      ]
     },
     "execution_count": 37,
     "metadata": {},
     "output_type": "execute_result"
    }
   ],
   "source": [
    "train_labels[0]"
   ]
  },
  {
   "cell_type": "markdown",
   "metadata": {},
   "source": [
    "Da wir uns auf die Top 10.000 häufigsten Wörter beschränkt haben, wird kein Wortindex 10.000 überschreiten:"
   ]
  },
  {
   "cell_type": "code",
   "execution_count": 38,
   "metadata": {},
   "outputs": [
    {
     "data": {
      "text/plain": [
       "9999"
      ]
     },
     "execution_count": 38,
     "metadata": {},
     "output_type": "execute_result"
    }
   ],
   "source": [
    "max([max(sequence) for sequence in train_data])"
   ]
  },
  {
   "cell_type": "markdown",
   "metadata": {},
   "source": [
    "Hier wird kurz gezeigt, wie eine dieser Rezensionen schnell in englische Wörter zurückdekodiert werden kann:"
   ]
  },
  {
   "cell_type": "code",
   "execution_count": 39,
   "metadata": {},
   "outputs": [],
   "source": [
    "# word_index ist ein Wörterbuch, das Wörter auf einen ganzzahligen Index abbildet\n",
    "word_index = imdb.get_word_index()\n",
    "# Hier wird es umgekehrt, indem Ganzzahl-Indizes auf Wörter abgebildet werden\n",
    "reverse_word_index = dict([(value, key) for (key, value) in word_index.items()])\n",
    "# Dekodieren der Überprüfung; Es ist zu beachten, dass unsere Indizes um 3 versetzt wurden, \n",
    "# da 0, 1 und 2 reservierte Indizes für \"padding\", \"start of sequence\" und \"unknown\" sind.\n",
    "decoded_review = ' '.join([reverse_word_index.get(i - 3, '?') for i in train_data[0]])"
   ]
  },
  {
   "cell_type": "code",
   "execution_count": 40,
   "metadata": {},
   "outputs": [
    {
     "data": {
      "text/plain": [
       "\"? this film was just brilliant casting location scenery story direction everyone's really suited the part they played and you could just imagine being there robert ? is an amazing actor and now the same being director ? father came from the same scottish island as myself so i loved the fact there was a real connection with this film the witty remarks throughout the film were great it was just brilliant so much that i bought the film as soon as it was released for ? and would recommend it to everyone to watch and the fly fishing was amazing really cried at the end it was so sad and you know what they say if you cry at a film it must have been good and this definitely was also ? to the two little boy's that played the ? of norman and paul they were just brilliant children are often left out of the ? list i think because the stars that play them all grown up are such a big profile for the whole film but these children are amazing and should be praised for what they have done don't you think the whole story was so lovely because it was true and was someone's life after all that was shared with us all\""
      ]
     },
     "execution_count": 40,
     "metadata": {},
     "output_type": "execute_result"
    }
   ],
   "source": [
    "decoded_review"
   ]
  },
  {
   "cell_type": "markdown",
   "metadata": {},
   "source": [
    "# Vorbereiten der Daten\n",
    "\n",
    "Wir können keine Listen mit ganzen Zahlen in ein neuronales Netzwerk einspeisen. Wir müssen unsere Listen in Tensoren umwandeln. Es gibt zwei Möglichkeiten, wie wir das tun können:\n",
    "\n",
    "Wir könnten unsere Listen auffüllen, so dass sie alle die gleiche Länge haben, und sie in einen Integer-Tensor der Form (samples, word_indices) umwandeln und dann als erste Schicht in unserem Netzwerk eine Schicht verwenden, die solche Integer-Tensoren verarbeiten kann (die Einbettungsschicht, die wir später im Buch im Detail behandeln werden). Wir könnten unsere Listen one-hot-codieren, um sie in Vektoren von 0en und 1en zu verwandeln. Konkret würde das zum Beispiel bedeuten, die Sequenz [3, 5] in einen 10.000-dimensionalen Vektor zu verwandeln, der bis auf die Indizes 3 und 5, die Einsen wären, nur aus Nullen besteht. Dann könnten wir als erste Schicht in unserem Netzwerk eine Dense-Schicht verwenden, die mit Fließkomma-Vektordaten umgehen kann. Wir werden uns für die letztere Lösung entscheiden. Lassen Sie uns unsere Daten vektorisieren, was wir aus Gründen der Übersichtlichkeit manuell tun werden:"
   ]
  },
  {
   "cell_type": "code",
   "execution_count": 41,
   "metadata": {},
   "outputs": [],
   "source": [
    "import numpy as np\n",
    "\n",
    "def vectorize_sequences(sequences, dimension=10000):\n",
    "    # Erzeugen einer All-Null-Matrix der Form (len(sequences), dimension)\n",
    "    results = np.zeros((len(sequences), dimension))\n",
    "    for i, sequence in enumerate(sequences):\n",
    "        results[i, sequence] = 1.  # bestimmte Indizes von results[i] auf 1s setzen\n",
    "    return results\n",
    "\n",
    "# Unsere vektorisierten Trainingsdaten\n",
    "x_train = vectorize_sequences(train_data)\n",
    "# Unsere vektorisierten Testdaten\n",
    "x_test = vectorize_sequences(test_data)"
   ]
  },
  {
   "cell_type": "markdown",
   "metadata": {},
   "source": [
    "So sehen unsere Samples jetzt aus:"
   ]
  },
  {
   "cell_type": "code",
   "execution_count": 42,
   "metadata": {},
   "outputs": [
    {
     "data": {
      "text/plain": [
       "array([0., 1., 1., ..., 0., 0., 0.])"
      ]
     },
     "execution_count": 42,
     "metadata": {},
     "output_type": "execute_result"
    }
   ],
   "source": [
    "x_train[0]"
   ]
  },
  {
   "cell_type": "markdown",
   "metadata": {},
   "source": [
    "Wir sollten auch unsere Beschriftungen vektorisieren, was ganz einfach ist"
   ]
  },
  {
   "cell_type": "code",
   "execution_count": 43,
   "metadata": {},
   "outputs": [],
   "source": [
    "# Unsere vektorisierten Labels\n",
    "y_train = np.asarray(train_labels).astype('float32')\n",
    "y_test = np.asarray(test_labels).astype('float32')"
   ]
  },
  {
   "cell_type": "markdown",
   "metadata": {},
   "source": [
    "Jetzt sind unsere Daten bereit, in ein neuronales Netzwerk eingespeist zu werden."
   ]
  },
  {
   "cell_type": "markdown",
   "metadata": {},
   "source": [
    "# Aufbau unseres Netzwerks\n",
    "\n",
    "Unsere Eingabedaten sind einfach Vektoren, und unsere Beschriftungen sind Skalare (1en und 0en): Dies ist die einfachste Konfiguration, die Sie jemals finden werden. Ein Netzwerktyp, der bei einem solchen Problem gut funktioniert, wäre ein einfacher Stapel voll verbundener (Dense) Schichten mit Relu-Aktivierungen: Dense(16, activation='relu')\n",
    "\n",
    "Das Argument, das an jede Dense-Schicht (16) übergeben wird, ist die Anzahl der \"versteckten Einheiten\" der Schicht. Was ist eine versteckte Einheit? Es ist eine Dimension im Repräsentationsraum der Schicht. Sie erinnern sich vielleicht aus dem vorherigen Kapitel, dass jede solche Dense-Schicht mit einer Relu-Aktivierung die folgende Kette von Tensoroperationen implementiert:\n",
    "\n",
    "output = relu(dot(W, input) + b)\n",
    "\n",
    "16 versteckte Einheiten zu haben bedeutet, dass die Gewichtsmatrix W die Form (input_dimension, 16) hat, d. h. das Punktprodukt mit W projiziert die Eingabedaten auf einen 16-dimensionalen Darstellungsraum (und dann würden wir den Bias-Vektor b hinzufügen und die Relu-Operation anwenden). Sie können die Dimensionalität Ihres Repräsentationsraums intuitiv als \"wie viel Freiheit Sie dem Netzwerk beim Lernen interner Repräsentationen zugestehen\" verstehen. Mit mehr versteckten Einheiten (einem höherdimensionalen Repräsentationsraum) kann Ihr Netzwerk komplexere Repräsentationen lernen, aber es macht Ihr Netzwerk rechenintensiver und kann zum Lernen unerwünschter Muster führen (Muster, die die Leistung bei den Trainingsdaten verbessern, aber nicht bei den Testdaten).\n",
    "\n",
    "Es gibt zwei wichtige Architekturentscheidungen, die für einen solchen Stapel dichter Schichten getroffen werden müssen:\n",
    "\n",
    "- Wie viele Schichten sollen verwendet werden.\n",
    "- Wie viele \"versteckte Einheiten\" sollen für jede Schicht gewählt werden.\n",
    "\n",
    "Im nächsten Kapitel werden Sie formale Prinzipien kennenlernen, die Sie bei diesen Entscheidungen unterstützen. Vorerst müssen Sie uns die folgende Architekturwahl anvertrauen: zwei Zwischenschichten mit je 16 versteckten Einheiten und eine dritte Schicht, die die skalare Vorhersage bezüglich der Stimmung der aktuellen Rezension ausgibt. Die Zwischenschichten verwenden relu als \"Aktivierungsfunktion\", und die letzte Schicht verwendet eine Sigmoid-Aktivierung, um eine Wahrscheinlichkeit auszugeben (einen Wert zwischen 0 und 1, der angibt, wie wahrscheinlich es ist, dass die Probe das Ziel \"1\" hat, d. h. wie wahrscheinlich es ist, dass die Rezension positiv ist). Eine Relu (rectified linear unit) ist eine Funktion, die negative Werte ausschließt, während ein Sigmoid beliebige Werte in das Intervall [0, 1] \"quetscht\" und so etwas ausgibt, das als Wahrscheinlichkeit interpretiert werden kann."
   ]
  },
  {
   "cell_type": "markdown",
   "metadata": {},
   "source": [
    "So sieht unser Netzwerk aus:"
   ]
  },
  {
   "attachments": {
    "image.png": {
     "image/png": "[encoded data removed]"
    }
   },
   "cell_type": "markdown",
   "metadata": {},
   "source": [
    "![image.png](attachment:image.png)"
   ]
  },
  {
   "cell_type": "markdown",
   "metadata": {},
   "source": [
    "Und hier ist die Keras-Implementierung, sehr ähnlich dem MNIST-Beispiel, das Sie zuvor gesehen haben:"
   ]
  },
  {
   "cell_type": "code",
   "execution_count": 44,
   "metadata": {},
   "outputs": [],
   "source": [
    "from keras import models\n",
    "from keras import layers\n",
    "\n",
    "model = models.Sequential()\n",
    "model.add(layers.Dense(16, activation='relu', input_shape=(10000,)))\n",
    "model.add(layers.Dense(16, activation='relu'))\n",
    "model.add(layers.Dense(1, activation='sigmoid'))"
   ]
  },
  {
   "cell_type": "markdown",
   "metadata": {},
   "source": [
    "Als Letztes müssen wir eine Verlustfunktion und einen Optimierer auswählen. Da wir es mit einem binären Klassifikationsproblem zu tun haben und die Ausgabe unseres Netzwerks eine Wahrscheinlichkeit ist (wir beenden unser Netzwerk mit einer Einheitsschicht mit einer Sigmoid-Aktivierung), ist es am besten, den binary_crossentropy-Verlust zu verwenden. Es ist nicht die einzige praktikable Wahl: Sie könnten z. B. mean_squared_error verwenden. Aber die Kreuzentropie ist in der Regel die beste Wahl, wenn Sie mit Modellen zu tun haben, die Wahrscheinlichkeiten ausgeben. Die Kreuzentropie ist eine Größe aus dem Bereich der Informationstheorie, die den \"Abstand\" zwischen Wahrscheinlichkeitsverteilungen misst, oder in unserem Fall zwischen der Grundwahrscheinlichkeitsverteilung und unseren Vorhersagen.\n",
    "\n",
    "In diesem Schritt konfigurieren wir unser Modell mit dem Optimierer rmsprop und der Verlustfunktion binary_crossentropy. Beachten Sie, dass wir die Genauigkeit auch während des Trainings überwachen werden."
   ]
  },
  {
   "cell_type": "code",
   "execution_count": 45,
   "metadata": {},
   "outputs": [],
   "source": [
    "model.compile(optimizer='rmsprop',\n",
    "              loss='binary_crossentropy',\n",
    "              metrics=['accuracy'])"
   ]
  },
  {
   "cell_type": "markdown",
   "metadata": {},
   "source": [
    "Wir übergeben unseren Optimierer, die Verlustfunktion und die Metriken als Strings, was möglich ist, weil rmsprop, binary_crossentropy und accuracy als Teil von Keras gepackt sind. Manchmal möchten Sie vielleicht die Parameter Ihres Optimierers konfigurieren oder eine benutzerdefinierte Verlustfunktion oder metrische Funktion übergeben. Ersteres können Sie tun, indem Sie eine Instanz der Optimizer-Klasse als Optimizer-Argument übergeben:"
   ]
  },
  {
   "cell_type": "code",
   "execution_count": 46,
   "metadata": {},
   "outputs": [],
   "source": [
    "from keras import optimizers\n",
    "\n",
    "model.compile(optimizer=optimizers.RMSprop(lr=0.001),\n",
    "              loss='binary_crossentropy',\n",
    "              metrics=['accuracy'])"
   ]
  },
  {
   "cell_type": "markdown",
   "metadata": {},
   "source": [
    "Letzteres kann durch Übergabe von Funktionsobjekten als Verlust- oder Metrik-Argumente erfolgen:"
   ]
  },
  {
   "cell_type": "code",
   "execution_count": 47,
   "metadata": {},
   "outputs": [],
   "source": [
    "from keras import losses\n",
    "from keras import metrics\n",
    "\n",
    "model.compile(optimizer=optimizers.RMSprop(lr=0.001),\n",
    "              loss=losses.binary_crossentropy,\n",
    "              metrics=[metrics.binary_accuracy])"
   ]
  },
  {
   "cell_type": "markdown",
   "metadata": {},
   "source": [
    "# Validierung unseres Ansatzes:\n",
    "\n",
    "Um während des Trainings die Genauigkeit des Modells auf Daten zu überprüfen, die es noch nie gesehen hat, werden wir ein \"Validierungsset\" erstellen, indem wir 10.000 Stichproben von den ursprünglichen Trainingsdaten absondern:"
   ]
  },
  {
   "cell_type": "code",
   "execution_count": 48,
   "metadata": {},
   "outputs": [],
   "source": [
    "x_val = x_train[:10000]\n",
    "partial_x_train = x_train[10000:]\n",
    "\n",
    "y_val = y_train[:10000]\n",
    "partial_y_train = y_train[10000:]"
   ]
  },
  {
   "cell_type": "markdown",
   "metadata": {},
   "source": [
    "Wir werden nun unser Modell für 20 Epochen (20 Iterationen über alle Samples in den x_train- und y_train-Tensoren) trainieren, in Mini-Batches von 512 Samples. Gleichzeitig werden wir den Verlust und die Genauigkeit auf den 10.000 Stichproben überwachen, die wir beiseite gelegt haben. Dies geschieht durch Übergabe der Validierungsdaten als Argument validation_data:"
   ]
  },
  {
   "cell_type": "code",
   "execution_count": 52,
   "metadata": {},
   "outputs": [
    {
     "name": "stdout",
     "output_type": "stream",
     "text": [
      "Epoch 1/20\n",
      "30/30 [==============================] - 1s 28ms/step - loss: 0.0011 - binary_accuracy: 1.0000 - val_loss: 0.7348 - val_binary_accuracy: 0.8703\n",
      "Epoch 2/20\n",
      "30/30 [==============================] - 1s 28ms/step - loss: 8.6245e-04 - binary_accuracy: 1.0000 - val_loss: 0.7728 - val_binary_accuracy: 0.8669\n",
      "Epoch 3/20\n",
      "30/30 [==============================] - 1s 39ms/step - loss: 0.0022 - binary_accuracy: 0.9996 - val_loss: 0.8081 - val_binary_accuracy: 0.8689\n",
      "Epoch 4/20\n",
      "30/30 [==============================] - 1s 40ms/step - loss: 4.0537e-04 - binary_accuracy: 1.0000 - val_loss: 0.8407 - val_binary_accuracy: 0.8665\n",
      "Epoch 5/20\n",
      "30/30 [==============================] - 1s 40ms/step - loss: 3.0739e-04 - binary_accuracy: 1.0000 - val_loss: 0.8881 - val_binary_accuracy: 0.8664\n",
      "Epoch 6/20\n",
      "30/30 [==============================] - 1s 32ms/step - loss: 0.0018 - binary_accuracy: 0.9997 - val_loss: 0.9357 - val_binary_accuracy: 0.8641\n",
      "Epoch 7/20\n",
      "30/30 [==============================] - 1s 34ms/step - loss: 1.4289e-04 - binary_accuracy: 1.0000 - val_loss: 0.9542 - val_binary_accuracy: 0.8658\n",
      "Epoch 8/20\n",
      "30/30 [==============================] - 1s 46ms/step - loss: 1.1056e-04 - binary_accuracy: 1.0000 - val_loss: 0.9791 - val_binary_accuracy: 0.8643\n",
      "Epoch 9/20\n",
      "30/30 [==============================] - 1s 31ms/step - loss: 8.5000e-05 - binary_accuracy: 1.0000 - val_loss: 1.0379 - val_binary_accuracy: 0.8635\n",
      "Epoch 10/20\n",
      "30/30 [==============================] - 1s 30ms/step - loss: 0.0017 - binary_accuracy: 0.9993 - val_loss: 1.0670 - val_binary_accuracy: 0.8633\n",
      "Epoch 11/20\n",
      "30/30 [==============================] - 1s 30ms/step - loss: 4.1395e-05 - binary_accuracy: 1.0000 - val_loss: 1.0889 - val_binary_accuracy: 0.8630\n",
      "Epoch 12/20\n",
      "30/30 [==============================] - 1s 30ms/step - loss: 3.3880e-05 - binary_accuracy: 1.0000 - val_loss: 1.1117 - val_binary_accuracy: 0.8631\n",
      "Epoch 13/20\n",
      "30/30 [==============================] - 1s 30ms/step - loss: 2.7059e-05 - binary_accuracy: 1.0000 - val_loss: 1.1473 - val_binary_accuracy: 0.8634\n",
      "Epoch 14/20\n",
      "30/30 [==============================] - 1s 30ms/step - loss: 0.0016 - binary_accuracy: 0.9997 - val_loss: 1.2236 - val_binary_accuracy: 0.8573\n",
      "Epoch 15/20\n",
      "30/30 [==============================] - 1s 36ms/step - loss: 3.3256e-05 - binary_accuracy: 1.0000 - val_loss: 1.2005 - val_binary_accuracy: 0.8612\n",
      "Epoch 16/20\n",
      "30/30 [==============================] - 2s 59ms/step - loss: 1.6945e-05 - binary_accuracy: 1.0000 - val_loss: 1.2111 - val_binary_accuracy: 0.8614\n",
      "Epoch 17/20\n",
      "30/30 [==============================] - 2s 53ms/step - loss: 1.2095e-05 - binary_accuracy: 1.0000 - val_loss: 1.2279 - val_binary_accuracy: 0.8610\n",
      "Epoch 18/20\n",
      "30/30 [==============================] - 1s 36ms/step - loss: 9.2207e-06 - binary_accuracy: 1.0000 - val_loss: 1.2641 - val_binary_accuracy: 0.8606\n",
      "Epoch 19/20\n",
      "30/30 [==============================] - 1s 31ms/step - loss: 9.4184e-04 - binary_accuracy: 0.9998 - val_loss: 1.2970 - val_binary_accuracy: 0.8620\n",
      "Epoch 20/20\n",
      "30/30 [==============================] - 1s 37ms/step - loss: 9.7813e-06 - binary_accuracy: 1.0000 - val_loss: 1.2997 - val_binary_accuracy: 0.8627\n"
     ]
    }
   ],
   "source": [
    "history = model.fit(partial_x_train,\n",
    "                    partial_y_train,\n",
    "                    epochs=20,\n",
    "                    batch_size=512,\n",
    "                    validation_data=(x_val, y_val))"
   ]
  },
  {
   "cell_type": "markdown",
   "metadata": {},
   "source": [
    "Auf der CPU dauert dies weniger als zwei Sekunden pro Epoche - das Training ist in 20 Sekunden beendet. Am Ende jeder Epoche gibt es eine kleine Pause, während das Modell seinen Verlust und seine Genauigkeit für die 10.000 Stichproben der Validierungsdaten berechnet.\n",
    "\n",
    "Beachten Sie, dass der Aufruf von model.fit() ein History-Objekt zurückgibt. Dieses Objekt hat ein Mitglied history, das ein Wörterbuch ist, das Daten über alles enthält, was während des Trainings passiert ist. Schauen wir uns das mal an:"
   ]
  },
  {
   "cell_type": "code",
   "execution_count": 53,
   "metadata": {},
   "outputs": [
    {
     "data": {
      "text/plain": [
       "dict_keys(['loss', 'binary_accuracy', 'val_loss', 'val_binary_accuracy'])"
      ]
     },
     "execution_count": 53,
     "metadata": {},
     "output_type": "execute_result"
    }
   ],
   "source": [
    "history_dict = history.history\n",
    "history_dict.keys()"
   ]
  },
  {
   "cell_type": "markdown",
   "metadata": {},
   "source": [
    "Sie enthält 4 Einträge: einen pro Metrik, die überwacht wurde, während des Trainings und während der Validierung. Verwenden wir Matplotlib, um den Trainings- und Validierungsverlust nebeneinander darzustellen, sowie die Trainings- und Validierungsgenauigkeit:"
   ]
  },
  {
   "cell_type": "code",
   "execution_count": 54,
   "metadata": {},
   "outputs": [
    {
     "data": {
      "image/png": "[encoded data removed]",
      "text/plain": [
       "<Figure size 432x288 with 1 Axes>"
      ]
     },
     "metadata": {
      "needs_background": "light"
     },
     "output_type": "display_data"
    }
   ],
   "source": [
    "import matplotlib.pyplot as plt\n",
    "\n",
    "acc = history.history['binary_accuracy']\n",
    "val_acc = history.history['val_binary_accuracy']\n",
    "loss = history.history['loss']\n",
    "val_loss = history.history['val_loss']\n",
    "\n",
    "epochs = range(1, len(acc) + 1)\n",
    "\n",
    "# bo steht für \"blauer Punkt\"\n",
    "plt.plot(epochs, loss, 'bo', label='Training loss')\n",
    "# b steht für \"solid blue line\"\n",
    "plt.plot(epochs, val_loss, 'b', label='Validation loss')\n",
    "plt.title('Training and validation loss')\n",
    "plt.xlabel('Epochs')\n",
    "plt.ylabel('Loss')\n",
    "plt.legend()\n",
    "\n",
    "plt.show()"
   ]
  },
  {
   "cell_type": "code",
   "execution_count": 55,
   "metadata": {},
   "outputs": [
    {
     "data": {
      "image/png": "[encoded data removed]",
      "text/plain": [
       "<Figure size 432x288 with 1 Axes>"
      ]
     },
     "metadata": {
      "needs_background": "light"
     },
     "output_type": "display_data"
    }
   ],
   "source": [
    "\n",
    "plt.clf()   # clear figure\n",
    "acc_values = history_dict['binary_accuracy']\n",
    "val_acc_values = history_dict['val_binary_accuracy']\n",
    "\n",
    "plt.plot(epochs, acc, 'bo', label='Training acc')\n",
    "plt.plot(epochs, val_acc, 'b', label='Validation acc')\n",
    "plt.title('Training and validation accuracy')\n",
    "plt.xlabel('Epochs')\n",
    "plt.ylabel('Loss')\n",
    "plt.legend()\n",
    "\n",
    "plt.show()"
   ]
  },
  {
   "cell_type": "markdown",
   "metadata": {},
   "source": [
    "Die Punkte sind der Trainingsverlust und die Genauigkeit, während die durchgezogenen Linien den Validierungsverlust und die Genauigkeit darstellen. Beachten Sie, dass Ihre eigenen Ergebnisse aufgrund einer anderen zufälligen Initialisierung Ihres Netzwerks leicht abweichen können.\n",
    "\n",
    "Wie Sie sehen können, nimmt der Trainingsverlust mit jeder Epoche ab und die Trainingsgenauigkeit steigt mit jeder Epoche. Das ist das, was Sie erwarten würden, wenn Sie eine Gradientenabstiegsoptimierung durchführen -- die Größe, die Sie zu minimieren versuchen, sollte mit jeder Iteration kleiner werden. Aber das ist nicht der Fall für den Validierungsverlust und die Genauigkeit: Sie scheinen ihren Höhepunkt bei der vierten Epoche zu erreichen. Dies ist ein Beispiel für das, wovor wir zuvor gewarnt haben: ein Modell, das bei den Trainingsdaten besser abschneidet, ist nicht unbedingt ein Modell, das bei Daten besser abschneidet, die es noch nie gesehen hat. Genauer gesagt ist das, was Sie sehen, \"Overfitting\": Nach der zweiten Epoche haben wir die Trainingsdaten überoptimiert und haben schließlich Repräsentationen gelernt, die spezifisch für die Trainingsdaten sind und sich nicht auf Daten außerhalb des Trainingssatzes übertragen lassen.\n",
    "\n",
    "Um eine Überanpassung zu verhindern, könnten wir in diesem Fall einfach das Training nach drei Epochen beenden. Im Allgemeinen gibt es eine Reihe von Techniken, die Sie einsetzen können, um Überanpassung zu vermeiden, die wir im nächsten Kapitel behandeln werden.\n",
    "\n",
    "Lassen Sie uns ein neues Netzwerk von Grund auf für vier Epochen trainieren und es dann auf unseren Testdaten auswerten:"
   ]
  },
  {
   "cell_type": "code",
   "execution_count": 56,
   "metadata": {},
   "outputs": [
    {
     "name": "stdout",
     "output_type": "stream",
     "text": [
      "Epoch 1/4\n",
      "49/49 [==============================] - 1s 19ms/step - loss: 0.4587 - accuracy: 0.8204\n",
      "Epoch 2/4\n",
      "49/49 [==============================] - 1s 19ms/step - loss: 0.2583 - accuracy: 0.9120\n",
      "Epoch 3/4\n",
      "49/49 [==============================] - 1s 18ms/step - loss: 0.2013 - accuracy: 0.9293\n",
      "Epoch 4/4\n",
      "49/49 [==============================] - 1s 18ms/step - loss: 0.1693 - accuracy: 0.9398\n",
      "782/782 [==============================] - 2s 2ms/step - loss: 0.3168 - accuracy: 0.8758\n"
     ]
    }
   ],
   "source": [
    "model = models.Sequential()\n",
    "model.add(layers.Dense(16, activation='relu', input_shape=(10000,)))\n",
    "model.add(layers.Dense(16, activation='relu'))\n",
    "model.add(layers.Dense(1, activation='sigmoid'))\n",
    "\n",
    "model.compile(optimizer='rmsprop',\n",
    "              loss='binary_crossentropy',\n",
    "              metrics=['accuracy'])\n",
    "\n",
    "model.fit(x_train, y_train, epochs=4, batch_size=512)\n",
    "results = model.evaluate(x_test, y_test)"
   ]
  },
  {
   "cell_type": "code",
   "execution_count": 57,
   "metadata": {},
   "outputs": [
    {
     "data": {
      "text/plain": [
       "[0.3167763650417328, 0.8758000135421753]"
      ]
     },
     "execution_count": 57,
     "metadata": {},
     "output_type": "execute_result"
    }
   ],
   "source": [
    "results"
   ]
  },
  {
   "cell_type": "markdown",
   "metadata": {},
   "source": [
    "Unser recht naiver Ansatz erreicht eine Genauigkeit von 88 %. Mit State-of-the-Art-Ansätzen sollte man in der Lage sein, nahe an 95 % heranzukommen."
   ]
  },
  {
   "cell_type": "markdown",
   "metadata": {},
   "source": [
    "# Verwendung eines trainierten Netzwerks zur Erstellung von Vorhersagen für neue Daten \n",
    "\n",
    "Nachdem Sie ein Netzwerk trainiert haben, werden Sie es in einer praktischen Umgebung verwenden wollen. Sie können die Wahrscheinlichkeit positiver Bewertungen mithilfe der Vorhersagemethode generieren:"
   ]
  },
  {
   "cell_type": "code",
   "execution_count": 58,
   "metadata": {},
   "outputs": [
    {
     "data": {
      "text/plain": [
       "array([[0.12715131],\n",
       "       [0.9993566 ],\n",
       "       [0.7746353 ],\n",
       "       ...,\n",
       "       [0.06522113],\n",
       "       [0.04415277],\n",
       "       [0.48610276]], dtype=float32)"
      ]
     },
     "execution_count": 58,
     "metadata": {},
     "output_type": "execute_result"
    }
   ],
   "source": [
    "model.predict(x_test)"
   ]
  },
  {
   "cell_type": "markdown",
   "metadata": {},
   "source": [
    "Wie Sie sehen können, ist das Netzwerk für einige Stichproben sehr zuversichtlich (0,99 oder mehr bzw. 0,01 oder weniger), für andere jedoch weniger zuversichtlich (0,6, 0,4)."
   ]
  },
  {
   "cell_type": "markdown",
   "metadata": {},
   "source": [
    "# Weitere Experimente\n",
    "\n",
    "Wir haben 2 versteckte Schichten verwendet.\n",
    "\n",
    "- Versuchen Sie, 1 oder 3 versteckte Schichten zu verwenden und sehen Sie, wie sich dies auf die Validierungs- und Testgenauigkeit auswirkt. \n",
    "- Versuchen Sie, Schichten mit mehr oder weniger versteckten Einheiten zu verwenden: 32 Einheiten, 64 Einheiten... \n",
    "- Versuchen Sie, die Verlustfunktion mse anstelle von binary_crossentropy zu verwenden.\n",
    "- Versuchen Sie, die tanh-Aktivierung (eine Aktivierung, die in den frühen Tagen der neuronalen Netze beliebt war) anstelle von relu zu verwenden.\n",
    "\n",
    "Diese Experimente werden Ihnen helfen, sich davon zu überzeugen, dass die von uns getroffenen Architekturentscheidungen alle ziemlich vernünftig sind, obwohl sie noch verbessert werden können!"
   ]
  },
  {
   "cell_type": "markdown",
   "metadata": {},
   "source": [
    "# Schlussfolgerungen\n",
    "\n",
    "Hier ist, was Sie aus diesem Beispiel mitnehmen sollten:\n",
    "\n",
    "- Normalerweise müssen Sie Ihre Rohdaten ein wenig vorverarbeiten, um sie - als Tensoren - in ein neuronales Netzwerk einspeisen zu können. Im Falle von Wortfolgen können diese als binäre Vektoren kodiert werden - aber es gibt auch andere Kodierungsoptionen.\n",
    "- Stapel von Dense-Schichten mit Relu-Aktivierungen können eine Vielzahl von Problemen lösen (einschließlich Sentiment-Klassifizierung), und Sie werden sie wahrscheinlich häufig verwenden.\n",
    "- Bei einem binären Klassifikationsproblem (zwei Ausgabeklassen) sollte Ihr Netz mit einer Dense-Schicht mit 1 Einheit und einer Sigmoid-Aktivierung enden, d. h. die Ausgabe Ihres Netzes sollte ein Skalar zwischen 0 und 1 sein, das eine Wahrscheinlichkeit kodiert.\n",
    "- Mit einer solchen skalaren sigmoiden Ausgabe, bei einem binären Klassifikationsproblem, sollte die Verlustfunktion binary_crossentropy verwendet werden.\n",
    "- Der rmsprop-Optimierer ist im Allgemeinen eine gute Wahl, unabhängig von Ihrem Problem. Das ist eine Sache weniger, um die Sie sich kümmern müssen.\n",
    "- Während sie auf ihren Trainingsdaten immer besser werden, beginnen neuronale Netze schließlich mit einer Überanpassung und erzielen auf Daten, die sie nie zuvor gesehen haben, immer schlechtere Ergebnisse. Stellen Sie sicher, dass Sie immer die Leistung auf Daten überwachen, die außerhalb des Trainingssatzes liegen."
   ]
  },
  {
   "cell_type": "code",
   "execution_count": null,
   "metadata": {},
   "outputs": [],
   "source": []
  }
 ],
 "metadata": {
  "kernelspec": {
   "display_name": "Python 3",
   "language": "python",
   "name": "python3"
  },
  "language_info": {
   "codemirror_mode": {
    "name": "ipython",
    "version": 3
   },
   "file_extension": ".py",
   "mimetype": "text/x-python",
   "name": "python",
   "nbconvert_exporter": "python",
   "pygments_lexer": "ipython3",
   "version": "3.7.4"
  },
  "toc": {
   "base_numbering": 1,
   "nav_menu": {},
   "number_sections": true,
   "sideBar": true,
   "skip_h1_title": false,
   "title_cell": "Table of Contents",
   "title_sidebar": "Contents",
   "toc_cell": false,
   "toc_position": {},
   "toc_section_display": true,
   "toc_window_display": false
  }
 },
 "nbformat": 4,
 "nbformat_minor": 2
}
