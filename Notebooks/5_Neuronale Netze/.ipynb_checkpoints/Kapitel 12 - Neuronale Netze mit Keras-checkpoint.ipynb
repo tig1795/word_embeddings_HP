{
 "cells": [
  {
   "cell_type": "markdown",
   "metadata": {},
   "source": [
    "# Kapitel 12 - Neuronale Netze mit Keras"
   ]
  },
  {
   "cell_type": "code",
   "execution_count": 1,
   "metadata": {
    "collapsed": true
   },
   "outputs": [
    {
     "name": "stderr",
     "output_type": "stream",
     "text": [
      "Using TensorFlow backend.\n"
     ]
    },
    {
     "ename": "AttributeError",
     "evalue": "module 'tensorflow_core._api.v2.config' has no attribute 'experimental_list_devices'",
     "output_type": "error",
     "traceback": [
      "\u001b[0;31m---------------------------------------------------------------------------\u001b[0m",
      "\u001b[0;31mAttributeError\u001b[0m                            Traceback (most recent call last)",
      "\u001b[0;32m<ipython-input-1-6a148c9268f5>\u001b[0m in \u001b[0;36m<module>\u001b[0;34m\u001b[0m\n\u001b[1;32m      1\u001b[0m \u001b[0;31m#check if gpu is available\u001b[0m\u001b[0;34m\u001b[0m\u001b[0;34m\u001b[0m\u001b[0;34m\u001b[0m\u001b[0m\n\u001b[1;32m      2\u001b[0m \u001b[0;32mfrom\u001b[0m \u001b[0mkeras\u001b[0m \u001b[0;32mimport\u001b[0m \u001b[0mbackend\u001b[0m \u001b[0;32mas\u001b[0m \u001b[0mK\u001b[0m\u001b[0;34m\u001b[0m\u001b[0;34m\u001b[0m\u001b[0m\n\u001b[0;32m----> 3\u001b[0;31m \u001b[0mK\u001b[0m\u001b[0;34m.\u001b[0m\u001b[0mtensorflow_backend\u001b[0m\u001b[0;34m.\u001b[0m\u001b[0m_get_available_gpus\u001b[0m\u001b[0;34m(\u001b[0m\u001b[0;34m)\u001b[0m\u001b[0;34m\u001b[0m\u001b[0;34m\u001b[0m\u001b[0m\n\u001b[0m",
      "\u001b[0;32m~/anaconda3/lib/python3.7/site-packages/keras/backend/tensorflow_backend.py\u001b[0m in \u001b[0;36m_get_available_gpus\u001b[0;34m()\u001b[0m\n\u001b[1;32m    504\u001b[0m             \u001b[0m_LOCAL_DEVICES\u001b[0m \u001b[0;34m=\u001b[0m \u001b[0;34m[\u001b[0m\u001b[0mx\u001b[0m\u001b[0;34m.\u001b[0m\u001b[0mname\u001b[0m \u001b[0;32mfor\u001b[0m \u001b[0mx\u001b[0m \u001b[0;32min\u001b[0m \u001b[0mdevices\u001b[0m\u001b[0;34m]\u001b[0m\u001b[0;34m\u001b[0m\u001b[0;34m\u001b[0m\u001b[0m\n\u001b[1;32m    505\u001b[0m         \u001b[0;32melse\u001b[0m\u001b[0;34m:\u001b[0m\u001b[0;34m\u001b[0m\u001b[0;34m\u001b[0m\u001b[0m\n\u001b[0;32m--> 506\u001b[0;31m             \u001b[0m_LOCAL_DEVICES\u001b[0m \u001b[0;34m=\u001b[0m \u001b[0mtf\u001b[0m\u001b[0;34m.\u001b[0m\u001b[0mconfig\u001b[0m\u001b[0;34m.\u001b[0m\u001b[0mexperimental_list_devices\u001b[0m\u001b[0;34m(\u001b[0m\u001b[0;34m)\u001b[0m\u001b[0;34m\u001b[0m\u001b[0;34m\u001b[0m\u001b[0m\n\u001b[0m\u001b[1;32m    507\u001b[0m     \u001b[0;32mreturn\u001b[0m \u001b[0;34m[\u001b[0m\u001b[0mx\u001b[0m \u001b[0;32mfor\u001b[0m \u001b[0mx\u001b[0m \u001b[0;32min\u001b[0m \u001b[0m_LOCAL_DEVICES\u001b[0m \u001b[0;32mif\u001b[0m \u001b[0;34m'device:gpu'\u001b[0m \u001b[0;32min\u001b[0m \u001b[0mx\u001b[0m\u001b[0;34m.\u001b[0m\u001b[0mlower\u001b[0m\u001b[0;34m(\u001b[0m\u001b[0;34m)\u001b[0m\u001b[0;34m]\u001b[0m\u001b[0;34m\u001b[0m\u001b[0;34m\u001b[0m\u001b[0m\n\u001b[1;32m    508\u001b[0m \u001b[0;34m\u001b[0m\u001b[0m\n",
      "\u001b[0;31mAttributeError\u001b[0m: module 'tensorflow_core._api.v2.config' has no attribute 'experimental_list_devices'"
     ]
    }
   ],
   "source": [
    "#check if gpu is available\n",
    "from keras import backend as K\n",
    "K.tensorflow_backend._get_available_gpus()"
   ]
  },
  {
   "cell_type": "markdown",
   "metadata": {},
   "source": [
    "## 12.1. Kapitelübersicht <a class=\"anchor\" id=\"12-1\"/>"
   ]
  },
  {
   "cell_type": "markdown",
   "metadata": {},
   "source": [
    "In diesem Kapitel implementieren wir Neuronale Netze mithilfe der Deep-Learning-Bibliothek <b>Keras</b>. Zusätzlich werden wir uns Evaluierungsmethoden und Methoden gegen das Overfitting anschauen. Zuletzt werden wir uns mit dem Wrapper <b>hyperas</b> beschäftigen, mit dem wir Hyperparameter bei Keras optimieren können.\n",
    "\n",
    "<b>Abschnittsübersicht</b><br>\n",
    "\n",
    "[12.1. Kapitelübersicht](#12-1)<br>\n",
    "[12.2. Implementierung in Keras](#12-2)<br>\n",
    "[12.3. Evaluierung eines Keras Modells](#12-3)<br>\n",
    "[12.4. Methoden gegen das Overfitting](#12-4)<br>\n",
    "[12.4.1. Das Neuronale Netz verkleinern](#12-4-1)<br>\n",
    "[12.4.2. Regularisierung der Gewichtungen](#12-4-2)<br>\n",
    "[12.4.3. Dropout](#12-4-3)<br>\n",
    "[12.4.4. Early Stopping](#12-4-4)<br>\n",
    "[12.4.5. Kombination aller Overfitting-Methoden](#12-4-5)<br>\n",
    "[12.5. Hyperparameteroptimierung mit hyperas](#12-5)<br>\n",
    "[12.6. Mögliche Fehler](#12-6)<br>\n",
    "\n",
    "Am Ende dieses Kapitel werden wir folgende Themen behandelt und/oder vertieft haben:\n",
    "- Implementierung eines Neuronalen Netzes in Keras\n",
    "- One-Hot-Encoding\n",
    "- F1-score als Evaluierungsmaß für Keras\n",
    "- Funktion zur Visualisierung von Trainingsergebnissen\n",
    "- Methoden gegen Overfitting\n",
    "    - Netzwerkverkleinerung\n",
    "    - Regularisierung\n",
    "    - Dropout\n",
    "    - Early Stopping\n",
    "- Kombination der Overfitting Methoden zum Training eines finalen Modells\n",
    "- Einführung in hyperas für Hyperparameteroptimierung\n",
    "- OOM-Problem und Lösungsvorschläge für hyperas"
   ]
  },
  {
   "cell_type": "markdown",
   "metadata": {},
   "source": [
    "## Kapitel 12.2. Implementierung in Keras <a class=\"anchor\" id=\"12-2\"/>"
   ]
  },
  {
   "cell_type": "markdown",
   "metadata": {},
   "source": [
    "<div class=\"alert alert-warning\">\n",
    "<b>Aufgabe:</b> Kapitel 3 - Einführung in Neuronale Netze<br>\n",
    "    \n",
    "Lesen Sie Kapitel 3 und implementieren Sie die Beispiele in einem Jupyter Notebook. Besonderer Fokus sollte auf Kapitel 3.5 gelegt werden. Kapitel 3.6 sollten Sie zwar lesen, Regression wird in dieser Tutorialreihe jedoch nicht weiter behandelt.<br><br>\n",
    "\n",
    "<b>Hinweise</b>:<br>\n",
    "<ul>\n",
    "    <li>Wenn eine NVIDIA Grafikkarte mit GPU vorhanden ist, sollten die Modelle am besten auf der GPU trainiert werden.</li>\n",
    "    <li><b>Achtung</b>: Der Installationsprozess kann teilweise sehr frustrierend sein. Achten Sie auf die richtigen Versionen der verschiedenen Module. Onlineguides sollten Ihnen dabei helfen.</li>\n",
    "    <li><b>Tipp</b>: Installieren Sie Cuda und tensorflow-gpu in einer eigenen Environment, da es oft Probleme mit Numpy- und anderen Modul-Versionen gibt.</li>\n",
    "    <li>Sollte keine GPU vorhanden sein oder die Installation nicht funktionieren, empfehle ich, <a href=\"https://colab.research.google.com/notebooks/welcome.ipynb#recent=true\"><b>Google Colab</b></a> zu nutzen. Google Colab funktioniert ähnlich wie Jupyter Notebooks und bietet kostenlosen GPU-Speicher. Unter `File/Open Notebook` können Jupyter Notebooks hochgeladen werden. Unter `Runtime/Change runtime type` kann als Hardware accelerator die GPU ausgewählt werden. </li>\n",
    "    <li>Am Anfang jedes der folgenden Tutorial-Notebooks stelle ich zwei Zeilen Code zur Verfügung, mit denen getestet werden kann, ob die GPU verfügbar ist. Dies sollte immer vor dem eigentlichen Training getestet werden.</li>\n",
    "    <li>Chollet benutzt die <b>One-Hot-Codierung</b> nicht immer richtig. Verwenden Sie am besten immer `to_categorical` von `from keras.utils.np_utils import to_categorical` anstatt den Code, den Chollet selbst erstellt hat.</li>\n",
    "</ul><br>\n",
    "\n",
    "\n",
    "<b>Weitere Aufgaben</b>:<br>\n",
    "<ul>\n",
    "    <li>Führen Sie einige der Experimente aus den Kapiteln 3.4.6. und 3.5.8. aus.</li>\n",
    "</ul>\n",
    "</div>"
   ]
  },
  {
   "cell_type": "markdown",
   "metadata": {},
   "source": [
    "#### Importe"
   ]
  },
  {
   "cell_type": "code",
   "execution_count": 4,
   "metadata": {},
   "outputs": [],
   "source": [
    "from keras import models\n",
    "from keras import layers\n",
    "from keras.utils.np_utils import to_categorical\n",
    "\n",
    "from sklearn.feature_extraction.text import CountVectorizer, TfidfVectorizer\n",
    "from sklearn.preprocessing import LabelEncoder, OneHotEncoder\n",
    "from sklearn.model_selection import train_test_split\n",
    "\n",
    "import pandas as pd\n",
    "import numpy as np\n",
    "import matplotlib.pyplot as plt"
   ]
  },
  {
   "cell_type": "markdown",
   "metadata": {},
   "source": [
    "#### Korpus laden"
   ]
  },
  {
   "cell_type": "code",
   "execution_count": 5,
   "metadata": {},
   "outputs": [],
   "source": [
    "corpus = pd.read_csv(\"tutorialdata/corpora/wikicorpus_v2.csv\")"
   ]
  },
  {
   "cell_type": "markdown",
   "metadata": {},
   "source": [
    "#### Vektorisierung der Daten"
   ]
  },
  {
   "cell_type": "markdown",
   "metadata": {},
   "source": [
    "Die Trainings- und Testdatensätze teilen wir nicht wie sonst üblich 80/20, sondern 60/40. Der Grund dafür ist, dass wir im Anschluss einen Validierungdatensatz aus den Testdatensätzen erzeugen, indem wir die Testdatensätze halbieren. Am Ende haben wir die Aufteilung 60/20/20 (Trainingsdatensatz/Validierungsdatensatz/Testdatensatz). Zudem erstellen wir ein Dictionary mit dem Namen `vocab`, in welchem die Häufigkeit aller in unseren Texten vorkommenden Wörter gespeichert wird. Dieses benötigen wir für unser Modell."
   ]
  },
  {
   "cell_type": "code",
   "execution_count": 6,
   "metadata": {},
   "outputs": [],
   "source": [
    "vectorizer = TfidfVectorizer()\n",
    "vector = vectorizer.fit_transform(corpus[\"text\"])\n",
    "labels = LabelEncoder().fit_transform(corpus[\"category\"])\n",
    "vocab = vectorizer.vocabulary_\n",
    "\n",
    "\n",
    "X_train, X_test, y_train, y_test = train_test_split(vector, \n",
    "                                                    labels, \n",
    "                                                    test_size=0.4, \n",
    "                                                    train_size=0.6,\n",
    "                                                    random_state=42)\n",
    "X_val = X_test[:1200]\n",
    "X_test = X_test[1200:]\n",
    "\n",
    "y_val = y_test[:1200]\n",
    "y_test = y_test[1200:]"
   ]
  },
  {
   "cell_type": "markdown",
   "metadata": {},
   "source": [
    "#### One-Hot-Encoding der Daten"
   ]
  },
  {
   "cell_type": "markdown",
   "metadata": {},
   "source": [
    "<div class=\"alert alert-info\">\n",
    "<b>Exkurs:</b> One-Hot-Encoding <br>\n",
    "    \n",
    "Mithilfe von <b>One-Hot-Encoding</b> werden Features als binäre Vektoren repräsentiert. Ein Vektor eines Features besteht dabei nur aus Nullen, bis auf die Stelle des Features, die 1 ist.\n",
    "\n",
    "<u>Beispiel</u>:\n",
    "\n",
    "Wir haben den Text \"Die Hauptstadt ist Berlin\" vorliegen. Die Features, die wir aus diesem Text extrahieren, sind die einzelnen Wörter. Bei dem sogenannten <b>Integer Encoding</b> würden wir jedem Wort einen eindeutigen Integerwert zuordnen. Das könnten folgendermaßen aussehen:<br>\n",
    "\"Die\": 1<br>\n",
    "\"Hauptstadt\": 2<br>\n",
    "\"ist\": 3<br>\n",
    "\"Berlin\": 4<br><br>\n",
    "\n",
    "Beim <b>One-Hot-Encoding</b> würde der Text folgendermaßen repräsentiert werden:<br>\n",
    "\"Die\": [1, 0, 0, 0]<br>\n",
    "\"Hauptstadt\": [0, 1, 0, 0]<br>\n",
    "\"ist\": [0, 0, 1, 0]<br>\n",
    "\"Berlin\": [0, 0, 0, 1]<br>\n",
    "\n",
    "Die Länge der Vektoren wird durch die Anzahl der Features bestimmt.<br><br>\n",
    "\n",
    "Zum Vergleich: Beim <b>Bag-of-Words-Modell</b> würde der Text folgendermaßen repräsentiert werden:<br>\n",
    "\"Die\": 1<br>\n",
    "\"Hauptstadt\": 1<br>\n",
    "\"ist\": 1<br>\n",
    "\"Berlin\": 1<br>\n",
    "Da jedes Wort nur ein einziges Mal vorkommt, ist jeder Eintrag \"1\".\n",
    "</div>"
   ]
  },
  {
   "cell_type": "code",
   "execution_count": 7,
   "metadata": {},
   "outputs": [],
   "source": [
    "y_val = to_categorical(y_val)\n",
    "y_test = to_categorical(y_test)\n",
    "y_train = to_categorical(y_train)"
   ]
  },
  {
   "cell_type": "markdown",
   "metadata": {},
   "source": [
    "#### Ein Neuronales Netz für Multiclass Klassifizierung"
   ]
  },
  {
   "cell_type": "markdown",
   "metadata": {},
   "source": [
    "Unser Modell besteht aus einem Input-Layer, einem Hidden-Layer und einem Output-Layer. Wir haben hier ein 2-layer Netz vorliegen (der Input-Layer wird nicht mitgezählt). Als Aktivierungsfunktion benutzen wir die RELU-Funktion (siehe Kapitel 3.4.3). Als <i>hidden units</i> (deutsch: verdeckte Einheit, siehe Kapitel 3.4.3 in Chollets Buch) haben wir `64` gewählt.<br>\n",
    "\n",
    "Im Input-Layer gibt es den Parameter `input_shape`. Dieser gibt an, welche Dimension die Daten haben. Hier können wir die Länge unseres Vokabulars angeben, d.h. die Anzahl der verschiedenen Wörter unseres Korpus. Im Output-Layer müssen wir die Dimension des Vektors angeben, die das Neuronale Netz für jede Eingabe ausgibt. Da unser Korpus 30 verschiedene Kategorien besitzt, muss hier `30` stehen. Um sicher zu gehen, dass die Dimension auch wirklich passt, geben wir `len(np.unique(labels))` an, also die Anzahl aller einzigarten Labelbezeichnungen. Als Optimizer haben wir <b>rmsprop</b> verwendet. Auf die Wahl der Optimizer werden wir im nächsten Kapitel noch eingehen. Als Loss Function wählen wir <b>categorical_crossentropy</b>, die Umsetzung der cross entropy für mehr als 2 Klassen. Als Metrik nehmen wir die Classification accuracy (`accuracy`). In Kapitel 5 hatten wir eigentlich den <b>F1-score</b> als Evaluationsmaß festgelegt. Keras bietet jedoch seit der <a href=\"https://github.com/keras-team/keras/wiki/Keras-2.0-release-notes\">Version 2.0</a> keinen F1-score mehr an (der <a href=\"https://github.com/keras-team/keras/issues/5794\">Grund</a>). Wir werden zunächst ebenfalls nur die Classification Accuracy nutzen und den F1-score erst nach dem Training des Modells verwenden."
   ]
  },
  {
   "cell_type": "code",
   "execution_count": 23,
   "metadata": {},
   "outputs": [],
   "source": [
    "model = models.Sequential()\n",
    "# Input Layer\n",
    "model.add(layers.Dense(64, activation=\"relu\", input_shape=(len(vocab),)))\n",
    "# Hidden Layer\n",
    "model.add(layers.Dense(64, activation=\"relu\"))\n",
    "# Output Layer\n",
    "model.add(layers.Dense(len(np.unique(labels)), activation=\"softmax\"))\n",
    "\n",
    "\n",
    "model.compile(optimizer=\"rmsprop\",\n",
    "              loss=\"categorical_crossentropy\",\n",
    "              metrics=[\"accuracy\"])"
   ]
  },
  {
   "cell_type": "markdown",
   "metadata": {},
   "source": [
    "Hier trainieren wir unser Modell für 10 Epochen mit einer `batch_size` von `64`. Wenn kein Fortschrittsbalken erwünscht ist, muss `verbose = 0` gesetzt werden. Das Modell speichern wir im `history`-Objekt, welches uns Auskunft über die verschiedensten beim Training vorgefallenen Ereignisse liefert.<br>\n",
    "Bei der Ausführung auf einer CPU dauert das Training etwa drei Minuten, auf einer GPU nur wenige Sekunden."
   ]
  },
  {
   "cell_type": "code",
   "execution_count": 24,
   "metadata": {
    "collapsed": true
   },
   "outputs": [
    {
     "name": "stdout",
     "output_type": "stream",
     "text": [
      "Train on 3600 samples, validate on 1200 samples\n",
      "Epoch 1/10\n",
      "3600/3600 [==============================] - 19s 5ms/step - loss: 3.1747 - acc: 0.3892 - val_loss: 2.8297 - val_acc: 0.4875\n",
      "Epoch 2/10\n",
      "3600/3600 [==============================] - 18s 5ms/step - loss: 2.2051 - acc: 0.7417 - val_loss: 1.8900 - val_acc: 0.7425\n",
      "Epoch 3/10\n",
      "3600/3600 [==============================] - 18s 5ms/step - loss: 1.1091 - acc: 0.9711 - val_loss: 1.1182 - val_acc: 0.8917\n",
      "Epoch 4/10\n",
      "3600/3600 [==============================] - 18s 5ms/step - loss: 0.4364 - acc: 0.9939 - val_loss: 0.6855 - val_acc: 0.9200\n",
      "Epoch 5/10\n",
      "3600/3600 [==============================] - 19s 5ms/step - loss: 0.1481 - acc: 0.9986 - val_loss: 0.4823 - val_acc: 0.9208\n",
      "Epoch 6/10\n",
      "3600/3600 [==============================] - 18s 5ms/step - loss: 0.0474 - acc: 0.9997 - val_loss: 0.3644 - val_acc: 0.9300\n",
      "Epoch 7/10\n",
      "3600/3600 [==============================] - 18s 5ms/step - loss: 0.0147 - acc: 1.0000 - val_loss: 0.3141 - val_acc: 0.9342\n",
      "Epoch 8/10\n",
      "3600/3600 [==============================] - 18s 5ms/step - loss: 0.0043 - acc: 1.0000 - val_loss: 0.2837 - val_acc: 0.9275\n",
      "Epoch 9/10\n",
      "3600/3600 [==============================] - 19s 5ms/step - loss: 0.0012 - acc: 1.0000 - val_loss: 0.2510 - val_acc: 0.9408\n",
      "Epoch 10/10\n",
      "3600/3600 [==============================] - 19s 5ms/step - loss: 3.0557e-04 - acc: 1.0000 - val_loss: 0.2482 - val_acc: 0.9358\n"
     ]
    }
   ],
   "source": [
    "history = model.fit(X_train,\n",
    "                   y_train,\n",
    "                   epochs=10,\n",
    "                   batch_size=64,\n",
    "                   validation_data=(X_test, y_test),\n",
    "                   verbose=1)"
   ]
  },
  {
   "cell_type": "markdown",
   "metadata": {},
   "source": [
    "#### Visualisieren der Ergebnisse"
   ]
  },
  {
   "cell_type": "markdown",
   "metadata": {},
   "source": [
    "Für die Visualisierung der Ergebnisse fassen wir die Visualisierungsmethode aus dem Buch in einer Funktion `plot_results` zusammen. Im weiteren Verlauf der Tutorialreihe werden wir diese Visualisierungen nutzen, um unsere Ergebnisse zu interpretieren."
   ]
  },
  {
   "cell_type": "code",
   "execution_count": 9,
   "metadata": {},
   "outputs": [],
   "source": [
    "def plot_results(history):\n",
    "    loss = history.history[\"loss\"]\n",
    "    val_loss = history.history[\"val_loss\"]\n",
    "\n",
    "    epochs = range(1, len(loss) + 1)\n",
    "\n",
    "    plt.plot(epochs, loss, \"b\", label=\"Training loss\")\n",
    "    plt.plot(epochs, val_loss, \"ro\", label=\"Validation loss\")\n",
    "    plt.title(\"Training and validation loss\")\n",
    "    plt.xlabel(\"Epochs\")\n",
    "    plt.ylabel(\"Loss\")\n",
    "    plt.legend()\n",
    "\n",
    "    plt.show()\n",
    "\n",
    "    plt.clf() #clears the figure\n",
    "\n",
    "    acc = history.history[\"acc\"]\n",
    "    val_acc = history.history[\"val_acc\"]\n",
    "\n",
    "    plt.plot(epochs, acc, \"b\", label=\"Training acc\")\n",
    "    plt.plot(epochs, val_acc, \"ro\", label=\"Validation acc\")\n",
    "    plt.title(\"Training and validation accuracy\")\n",
    "    plt.xlabel(\"Epochs\")\n",
    "    plt.ylabel(\"Acc\")\n",
    "    plt.legend()\n",
    "\n",
    "    plt.show()"
   ]
  },
  {
   "cell_type": "code",
   "execution_count": 26,
   "metadata": {},
   "outputs": [
    {
     "data": {
      "image/png": "[encoded data removed]",
      "text/plain": [
       "<Figure size 432x288 with 1 Axes>"
      ]
     },
     "metadata": {
      "needs_background": "light"
     },
     "output_type": "display_data"
    },
    {
     "data": {
      "image/png": "[encoded data removed]",
      "text/plain": [
       "<Figure size 432x288 with 1 Axes>"
      ]
     },
     "metadata": {
      "needs_background": "light"
     },
     "output_type": "display_data"
    }
   ],
   "source": [
    "plot_results(history)"
   ]
  },
  {
   "cell_type": "markdown",
   "metadata": {},
   "source": [
    "<u>Interpretation</u>:<br>\n",
    "Die Loss Function verhält sich so, wie sie sollte, d.h. die Loss scores nehmen stetig ab und tendieren gegen Null. Die Trainings accuracy erreicht ab Epoche 3 beinahe 100%, ein Wert, der uns eigentlich zeigen sollte, dass unser Modell perfekt auf unsere Daten trainiert hat. Jedoch messen wir während des Trainingsvorgangs auch unsere Validation accuracy, die ab Epoche 4 etwa bei 92% liegt. Der Unterschied zwischen diesen beiden Werten ist sehr hoch. Unser Modell <b>overfittet</b>, d.h. es passt sich zu stark an die Trainingsdaten an. In einem späteren Abschnitt werden wir uns dem Overfitting widmen. "
   ]
  },
  {
   "cell_type": "markdown",
   "metadata": {},
   "source": [
    "## 12.3. Evaluierung eines Keras Modells <a class=\"anchor\" id=\"12-3\"/>"
   ]
  },
  {
   "cell_type": "markdown",
   "metadata": {},
   "source": [
    "#### Berechnung des F1-scores"
   ]
  },
  {
   "cell_type": "markdown",
   "metadata": {},
   "source": [
    "Wir können den F1-score nun berechnen, da unser Modell fertig trainiert ist. Anders als bei Scikit learn müssen wir hier jedoch zuvor `np.argmax` anwenden, welches den Index des größten Wertes jeder Zeile zurückgibt."
   ]
  },
  {
   "cell_type": "code",
   "execution_count": 28,
   "metadata": {},
   "outputs": [
    {
     "name": "stdout",
     "output_type": "stream",
     "text": [
      "Der F1-score für die Klassifizierung mit Keras ist 0.936.\n"
     ]
    }
   ],
   "source": [
    "from sklearn.metrics import f1_score\n",
    "\n",
    "y_pred = model.predict(X_test)\n",
    "f1_keras = f1_score(np.argmax(y_test, axis=1), np.argmax(y_pred, axis=1), average=\"micro\")\n",
    "print(\"Der F1-score für die Klassifizierung mit Keras ist \"\n",
    "      + f\"{str(np.around(f1_keras, decimals=3))}.\")"
   ]
  },
  {
   "cell_type": "markdown",
   "metadata": {},
   "source": [
    "#### Evaluation"
   ]
  },
  {
   "cell_type": "markdown",
   "metadata": {},
   "source": [
    "Nun schauen wir uns die verschiedenen Scores an. Die Test accuracy und der F1-score haben beide etwa den Wert 0.936. Die Validation accuracy ist 0.863 und somit niedriger als die Training accuracy. Wie bereits erwähnt bedeutet dies, dass unser Modell <b>overfittet</b>."
   ]
  },
  {
   "cell_type": "code",
   "execution_count": 30,
   "metadata": {},
   "outputs": [
    {
     "name": "stdout",
     "output_type": "stream",
     "text": [
      "1200/1200 [==============================] - 2s 2ms/step\n",
      "\n",
      "Results:\n",
      "Train_acc: 0.909\n",
      "Val_acc: 0.863\n",
      "Test_acc: 0.936\n",
      "F1-score: 0.936\n"
     ]
    }
   ],
   "source": [
    "test_loss, test_acc = model.evaluate(X_test, y_test)\n",
    "print(f\"\\nResults:\")\n",
    "print(f\"Train_acc: {np.around(np.mean(history.history['acc']), decimals=3)}\")\n",
    "print(f\"Val_acc: {np.around(np.mean(history.history['val_acc']), decimals=3)}\")\n",
    "print(f\"Test_acc: {np.around(test_acc, decimals=3)}\") \n",
    "print(f\"F1-score: {str(np.around(f1_keras, decimals=3))}\")"
   ]
  },
  {
   "cell_type": "markdown",
   "metadata": {},
   "source": [
    "#### Cross validation mit Keras"
   ]
  },
  {
   "cell_type": "markdown",
   "metadata": {},
   "source": [
    "Für eine Evaluierung von Keras Modellen könnten wir theoretisch auch Cross Validation nutzen. Während es im Bereich des Machine Learning ein Gold-Standard für die Evaluierung von Klassifikationsverfahren ist, wird es im Bereich des Deep Learning nur selten eingesetzt. Deep Learning Modelle sind meist komplexer als die meisten Machine Learning Klassifikationsverfahren und können selbst auf einer GPU mehrere Stunde dauern. Eine Cross Validation würde deshalb sehr viel Rechenzeit benötigen. Bei kleineren Modellen kann es ein gutes Performance-Maß sein, wir werden Cross Validation jedoch in diesem Tutorial nicht als Evaluierungsmethode wählen."
   ]
  },
  {
   "cell_type": "markdown",
   "metadata": {},
   "source": [
    "## 12.4. Methoden gegen das Overfitting <a class=\"anchor\" id=\"12-4\"/>"
   ]
  },
  {
   "cell_type": "markdown",
   "metadata": {},
   "source": [
    "<div class=\"alert alert-warning\">\n",
    "<b>Aufgabe:</b> Kapitel 4 - Grundlagen des Machine Learning <br>\n",
    "    \n",
    "Lesen Sie das Kapitel 4.4 \"Überanpassung und Unteranpassung\".<br><br>\n",
    "\n",
    "<b>Optional</b>:\n",
    "- Kapitel 4.1: Kurze Beschreibung der Teilgebiete des Machine Learning. Einige Dinge wie die Unterscheidung von binary, Multiclass und Multilabel Klassifizierung sind schon bekannt.\n",
    "- Kapitel 4.2: Bewertungsmethoden für Machine Learning Modelle hatten wir bereits ausführlich in Kapitel 5 besprochen, die Implementierung der Cross Validation könnte jedoch interessant sein.\n",
    "- Kapitel 4.3: Hier geht es allgemeiner um das Feature Engineering.\n",
    "- Kapitel 4.5: Ein sehr wichtiges Kapitel für die allgemeine Nutzung von Machine Learning und Deep Learning für Nicht-Textklassifikation.\n",
    "\n",
    "</div>"
   ]
  },
  {
   "cell_type": "markdown",
   "metadata": {},
   "source": [
    "### 12.4.1. Das Neuronale Netz verkleinern <a class=\"anchor\" id=\"12-4-1\"/>"
   ]
  },
  {
   "cell_type": "markdown",
   "metadata": {},
   "source": [
    "Der erste Vorschlag von Chollet zur Vermeidung von Overfitting ist die <b>Verkleinerung von Neuronalen Netzen</b>. Dazu kann man entweder die Größe der einzelnen Layer verändern oder Layer entfernen. Da wir nur einen Hidden Layer haben, versuchen wir zunächst, die Größe der Layer zu verkleinern (`64` → `16`). "
   ]
  },
  {
   "cell_type": "code",
   "execution_count": 237,
   "metadata": {
    "collapsed": true
   },
   "outputs": [
    {
     "name": "stdout",
     "output_type": "stream",
     "text": [
      "Train on 3600 samples, validate on 1200 samples\n",
      "Epoch 1/10\n",
      "3600/3600 [==============================] - 11s 3ms/step - loss: 3.3715 - acc: 0.1700 - val_loss: 3.3211 - val_acc: 0.3375\n",
      "Epoch 2/10\n",
      "3600/3600 [==============================] - 11s 3ms/step - loss: 3.2172 - acc: 0.3603 - val_loss: 3.1468 - val_acc: 0.3367\n",
      "Epoch 3/10\n",
      "3600/3600 [==============================] - 11s 3ms/step - loss: 2.9430 - acc: 0.4633 - val_loss: 2.8976 - val_acc: 0.3742\n",
      "Epoch 4/10\n",
      "3600/3600 [==============================] - 11s 3ms/step - loss: 2.5780 - acc: 0.5869 - val_loss: 2.5762 - val_acc: 0.5158\n",
      "Epoch 5/10\n",
      "3600/3600 [==============================] - 10s 3ms/step - loss: 2.1496 - acc: 0.7353 - val_loss: 2.2258 - val_acc: 0.6275\n",
      "Epoch 6/10\n",
      "3600/3600 [==============================] - 11s 3ms/step - loss: 1.7015 - acc: 0.8503 - val_loss: 1.8654 - val_acc: 0.7783\n",
      "Epoch 7/10\n",
      "3600/3600 [==============================] - 11s 3ms/step - loss: 1.2682 - acc: 0.9525 - val_loss: 1.5280 - val_acc: 0.8583\n",
      "Epoch 8/10\n",
      "3600/3600 [==============================] - 11s 3ms/step - loss: 0.8920 - acc: 0.9903 - val_loss: 1.2391 - val_acc: 0.8658\n",
      "Epoch 9/10\n",
      "3600/3600 [==============================] - 11s 3ms/step - loss: 0.5955 - acc: 0.9939 - val_loss: 1.0052 - val_acc: 0.8742\n",
      "Epoch 10/10\n",
      "3600/3600 [==============================] - 11s 3ms/step - loss: 0.3811 - acc: 0.9967 - val_loss: 0.8295 - val_acc: 0.8800\n"
     ]
    }
   ],
   "source": [
    "model = models.Sequential()\n",
    "model.add(layers.Dense(16, activation=\"relu\", input_shape=(len(vocab),)))\n",
    "model.add(layers.Dense(16, activation=\"relu\"))\n",
    "model.add(layers.Dense(len(np.unique(labels)), activation=\"softmax\"))\n",
    "\n",
    "\n",
    "model.compile(optimizer=\"rmsprop\",\n",
    "              loss=\"categorical_crossentropy\",\n",
    "              metrics=[\"accuracy\"])\n",
    "\n",
    "history = model.fit(X_train,\n",
    "                   y_train,\n",
    "                   epochs=10,\n",
    "                   batch_size=64,\n",
    "                   validation_data=(X_test, y_test),\n",
    "                   verbose=1)"
   ]
  },
  {
   "cell_type": "code",
   "execution_count": 238,
   "metadata": {},
   "outputs": [
    {
     "data": {
      "image/png": "[encoded data removed]",
      "text/plain": [
       "<Figure size 432x288 with 1 Axes>"
      ]
     },
     "metadata": {
      "needs_background": "light"
     },
     "output_type": "display_data"
    },
    {
     "data": {
      "image/png": "[encoded data removed]",
      "text/plain": [
       "<Figure size 432x288 with 1 Axes>"
      ]
     },
     "metadata": {
      "needs_background": "light"
     },
     "output_type": "display_data"
    }
   ],
   "source": [
    "plot_results(history)"
   ]
  },
  {
   "cell_type": "markdown",
   "metadata": {},
   "source": [
    "Da wir im weiteren Verlauf uns neben der Trainingskurve auch die verschiedenen Scores anschauen wollen, wird dies hier in einer Funktion `evaluation` zusammengefasst."
   ]
  },
  {
   "cell_type": "code",
   "execution_count": 10,
   "metadata": {},
   "outputs": [],
   "source": [
    "def evaluation():\n",
    "    y_pred = model.predict(X_test)\n",
    "    f1_keras = f1_score(np.argmax(y_test, axis=1), np.argmax(y_pred, axis=1), average=\"micro\")\n",
    "    test_loss, test_acc = model.evaluate(X_test, y_test)\n",
    "    print(f\"\\nResults:\")\n",
    "    print(f\"Train_acc: {np.around(np.mean(history.history['acc']), decimals=3)}\")\n",
    "    print(f\"Val_acc: {np.around(np.mean(history.history['val_acc']), decimals=3)}\")\n",
    "    print(f\"Test_acc: {np.around(test_acc, decimals=3)}\") \n",
    "    print(f\"F1-score: {str(np.around(f1_keras, decimals=3))}\")"
   ]
  },
  {
   "cell_type": "code",
   "execution_count": 240,
   "metadata": {},
   "outputs": [
    {
     "name": "stdout",
     "output_type": "stream",
     "text": [
      "1200/1200 [==============================] - 1s 1ms/step\n",
      "\n",
      "Results:\n",
      "Train_acc: 0.71\n",
      "Val_acc: 0.645\n",
      "Test_acc: 0.88\n",
      "F1-score: 0.88\n"
     ]
    }
   ],
   "source": [
    "evaluation()"
   ]
  },
  {
   "cell_type": "markdown",
   "metadata": {},
   "source": [
    "Das Modell hat sich immens verschlechtert. Die Lernkurve steigt nur sehr langsam und der Anstieg stagniert bei Epoche 10. Versuchen wir es nun einmal mit doppelt so großen Layern wie zu Beginn (`16` → `128`)."
   ]
  },
  {
   "cell_type": "code",
   "execution_count": 241,
   "metadata": {
    "collapsed": true
   },
   "outputs": [
    {
     "name": "stdout",
     "output_type": "stream",
     "text": [
      "Train on 3600 samples, validate on 1200 samples\n",
      "Epoch 1/10\n",
      "3600/3600 [==============================] - 30s 8ms/step - loss: 2.9507 - acc: 0.5397 - val_loss: 2.2405 - val_acc: 0.7583\n",
      "Epoch 2/10\n",
      "3600/3600 [==============================] - 30s 8ms/step - loss: 1.2587 - acc: 0.9558 - val_loss: 0.9728 - val_acc: 0.9025\n",
      "Epoch 3/10\n",
      "3600/3600 [==============================] - 31s 9ms/step - loss: 0.2992 - acc: 0.9956 - val_loss: 0.5121 - val_acc: 0.9100\n",
      "Epoch 4/10\n",
      "3600/3600 [==============================] - 29s 8ms/step - loss: 0.0578 - acc: 0.9992 - val_loss: 0.3363 - val_acc: 0.9325\n",
      "Epoch 5/10\n",
      "3600/3600 [==============================] - 29s 8ms/step - loss: 0.0098 - acc: 1.0000 - val_loss: 0.2828 - val_acc: 0.9258\n",
      "Epoch 6/10\n",
      "3600/3600 [==============================] - 30s 8ms/step - loss: 0.0015 - acc: 1.0000 - val_loss: 0.2393 - val_acc: 0.9383\n",
      "Epoch 7/10\n",
      "3600/3600 [==============================] - 30s 8ms/step - loss: 2.4288e-04 - acc: 1.0000 - val_loss: 0.2248 - val_acc: 0.9392\n",
      "Epoch 8/10\n",
      "3600/3600 [==============================] - 29s 8ms/step - loss: 3.8728e-05 - acc: 1.0000 - val_loss: 0.2212 - val_acc: 0.9408\n",
      "Epoch 9/10\n",
      "3600/3600 [==============================] - 29s 8ms/step - loss: 7.2082e-06 - acc: 1.0000 - val_loss: 0.2312 - val_acc: 0.9350\n",
      "Epoch 10/10\n",
      "3600/3600 [==============================] - 29s 8ms/step - loss: 1.9573e-06 - acc: 1.0000 - val_loss: 0.2305 - val_acc: 0.9358\n"
     ]
    }
   ],
   "source": [
    "model = models.Sequential()\n",
    "model.add(layers.Dense(128, activation=\"relu\", input_shape=(len(vocab),)))\n",
    "model.add(layers.Dense(128, activation=\"relu\"))\n",
    "model.add(layers.Dense(len(np.unique(labels)), activation=\"softmax\"))\n",
    "\n",
    "\n",
    "model.compile(optimizer=\"rmsprop\",\n",
    "              loss=\"categorical_crossentropy\",\n",
    "              metrics=[\"accuracy\"])\n",
    "\n",
    "history = model.fit(X_train,\n",
    "                   y_train,\n",
    "                   epochs=10,\n",
    "                   batch_size=64,\n",
    "                   validation_data=(X_test, y_test),\n",
    "                   verbose=1)"
   ]
  },
  {
   "cell_type": "code",
   "execution_count": 242,
   "metadata": {},
   "outputs": [
    {
     "data": {
      "image/png": "[encoded data removed]",
      "text/plain": [
       "<Figure size 432x288 with 1 Axes>"
      ]
     },
     "metadata": {
      "needs_background": "light"
     },
     "output_type": "display_data"
    },
    {
     "data": {
      "image/png": "[encoded data removed]",
      "text/plain": [
       "<Figure size 432x288 with 1 Axes>"
      ]
     },
     "metadata": {
      "needs_background": "light"
     },
     "output_type": "display_data"
    },
    {
     "name": "stdout",
     "output_type": "stream",
     "text": [
      "1200/1200 [==============================] - 2s 2ms/step\n",
      "\n",
      "Results:\n",
      "Train_acc: 0.949\n",
      "Val_acc: 0.912\n",
      "Test_acc: 0.936\n",
      "F1-score: 0.936\n"
     ]
    }
   ],
   "source": [
    "plot_results(history)\n",
    "evaluation()"
   ]
  },
  {
   "cell_type": "markdown",
   "metadata": {},
   "source": [
    "Das Overfitting ist immer noch präsent, die Werte sind nun insgesamt besser als beim Modell mit 64 units."
   ]
  },
  {
   "cell_type": "markdown",
   "metadata": {},
   "source": [
    "### 12.4.2. Regularisierung der Gewichtungen <a class=\"anchor\" id=\"12-4-2\"/>"
   ]
  },
  {
   "cell_type": "markdown",
   "metadata": {},
   "source": [
    "Nun wenden wir die <b>Regularisierung</b> auf unser ursprüngliches Modell mit 64 units an. Wir wählen hier den Wert `0.001`. "
   ]
  },
  {
   "cell_type": "code",
   "execution_count": 253,
   "metadata": {
    "collapsed": true
   },
   "outputs": [
    {
     "name": "stdout",
     "output_type": "stream",
     "text": [
      "Train on 3600 samples, validate on 1200 samples\n",
      "Epoch 1/10\n",
      "3600/3600 [==============================] - 25s 7ms/step - loss: 3.3620 - acc: 0.2236 - val_loss: 3.2183 - val_acc: 0.2767\n",
      "Epoch 2/10\n",
      "3600/3600 [==============================] - 24s 7ms/step - loss: 2.9996 - acc: 0.4539 - val_loss: 2.8075 - val_acc: 0.5167\n",
      "Epoch 3/10\n",
      "3600/3600 [==============================] - 24s 7ms/step - loss: 2.5144 - acc: 0.6650 - val_loss: 2.3402 - val_acc: 0.7083\n",
      "Epoch 4/10\n",
      "3600/3600 [==============================] - 24s 7ms/step - loss: 2.0568 - acc: 0.8297 - val_loss: 1.9687 - val_acc: 0.8375\n",
      "Epoch 5/10\n",
      "3600/3600 [==============================] - 24s 7ms/step - loss: 1.7222 - acc: 0.9075 - val_loss: 1.7156 - val_acc: 0.8700\n",
      "Epoch 6/10\n",
      "3600/3600 [==============================] - 24s 7ms/step - loss: 1.4810 - acc: 0.9358 - val_loss: 1.5423 - val_acc: 0.8800\n",
      "Epoch 7/10\n",
      "3600/3600 [==============================] - 25s 7ms/step - loss: 1.3065 - acc: 0.9472 - val_loss: 1.4154 - val_acc: 0.8825\n",
      "Epoch 8/10\n",
      "3600/3600 [==============================] - 24s 7ms/step - loss: 1.1794 - acc: 0.9594 - val_loss: 1.3276 - val_acc: 0.8933\n",
      "Epoch 9/10\n",
      "3600/3600 [==============================] - 24s 7ms/step - loss: 1.0757 - acc: 0.9672 - val_loss: 1.2566 - val_acc: 0.8925\n",
      "Epoch 10/10\n",
      "3600/3600 [==============================] - 24s 7ms/step - loss: 1.0014 - acc: 0.9728 - val_loss: 1.2135 - val_acc: 0.8817\n"
     ]
    }
   ],
   "source": [
    "from keras import regularizers\n",
    "\n",
    "model = models.Sequential()\n",
    "model.add(layers.Dense(64, kernel_regularizer=regularizers.l2(0.001), activation=\"relu\", input_shape=(len(vocab),)))\n",
    "model.add(layers.Dense(64, kernel_regularizer=regularizers.l2(0.001), activation=\"relu\"))\n",
    "model.add(layers.Dense(len(np.unique(labels)), activation=\"softmax\"))\n",
    "\n",
    "\n",
    "model.compile(optimizer=\"rmsprop\",\n",
    "              loss=\"categorical_crossentropy\",\n",
    "              metrics=[\"accuracy\"])\n",
    "\n",
    "history = model.fit(X_train,\n",
    "                   y_train,\n",
    "                   epochs=10,\n",
    "                   batch_size=64,\n",
    "                   validation_data=(X_test, y_test),\n",
    "                   verbose=1)"
   ]
  },
  {
   "cell_type": "code",
   "execution_count": 254,
   "metadata": {},
   "outputs": [
    {
     "data": {
      "image/png": "[encoded data removed]",
      "text/plain": [
       "<Figure size 432x288 with 1 Axes>"
      ]
     },
     "metadata": {
      "needs_background": "light"
     },
     "output_type": "display_data"
    },
    {
     "data": {
      "image/png": "[encoded data removed]",
      "text/plain": [
       "<Figure size 432x288 with 1 Axes>"
      ]
     },
     "metadata": {
      "needs_background": "light"
     },
     "output_type": "display_data"
    },
    {
     "name": "stdout",
     "output_type": "stream",
     "text": [
      "1200/1200 [==============================] - 3s 2ms/step\n",
      "\n",
      "Results:\n",
      "Train_acc: 0.786\n",
      "Val_acc: 0.764\n",
      "Test_acc: 0.882\n",
      "F1-score: 0.882\n"
     ]
    }
   ],
   "source": [
    "plot_results(history)\n",
    "evaluation()"
   ]
  },
  {
   "cell_type": "markdown",
   "metadata": {},
   "source": [
    "Mit der L2-Regularisierung sind die Werte insgesamt schlechter geworden, die Training accuracy und die Validation accuracy nähern sich jedoch an. Wir testen nun den gleichen Wert mit unserem Modell mit 128 units."
   ]
  },
  {
   "cell_type": "code",
   "execution_count": 259,
   "metadata": {
    "collapsed": true
   },
   "outputs": [
    {
     "name": "stdout",
     "output_type": "stream",
     "text": [
      "Train on 3600 samples, validate on 1200 samples\n",
      "Epoch 1/10\n",
      "3600/3600 [==============================] - 36s 10ms/step - loss: 3.3182 - acc: 0.3217 - val_loss: 3.0161 - val_acc: 0.4300\n",
      "Epoch 2/10\n",
      "3600/3600 [==============================] - 35s 10ms/step - loss: 2.6337 - acc: 0.6042 - val_loss: 2.3199 - val_acc: 0.7400\n",
      "Epoch 3/10\n",
      "3600/3600 [==============================] - 34s 9ms/step - loss: 2.0036 - acc: 0.8433 - val_loss: 1.8557 - val_acc: 0.8467\n",
      "Epoch 4/10\n",
      "3600/3600 [==============================] - 34s 9ms/step - loss: 1.5858 - acc: 0.9161 - val_loss: 1.5691 - val_acc: 0.8708\n",
      "Epoch 5/10\n",
      "3600/3600 [==============================] - 34s 10ms/step - loss: 1.3361 - acc: 0.9403 - val_loss: 1.4048 - val_acc: 0.8983\n",
      "Epoch 6/10\n",
      "3600/3600 [==============================] - 35s 10ms/step - loss: 1.1775 - acc: 0.9561 - val_loss: 1.3040 - val_acc: 0.9042\n",
      "Epoch 7/10\n",
      "3600/3600 [==============================] - 38s 10ms/step - loss: 1.0689 - acc: 0.9639 - val_loss: 1.2402 - val_acc: 0.9008\n",
      "Epoch 8/10\n",
      "3600/3600 [==============================] - 40s 11ms/step - loss: 0.9903 - acc: 0.9725 - val_loss: 1.1728 - val_acc: 0.9167\n",
      "Epoch 9/10\n",
      "3600/3600 [==============================] - 40s 11ms/step - loss: 0.9301 - acc: 0.9781 - val_loss: 1.1565 - val_acc: 0.8933\n",
      "Epoch 10/10\n",
      "3600/3600 [==============================] - 40s 11ms/step - loss: 0.8792 - acc: 0.9836 - val_loss: 1.1029 - val_acc: 0.9075\n"
     ]
    }
   ],
   "source": [
    "model = models.Sequential()\n",
    "model.add(layers.Dense(128, kernel_regularizer=regularizers.l2(0.001), activation=\"relu\", input_shape=(len(vocab),)))\n",
    "model.add(layers.Dense(128, kernel_regularizer=regularizers.l2(0.001), activation=\"relu\"))\n",
    "model.add(layers.Dense(len(np.unique(labels)), activation=\"softmax\"))\n",
    "\n",
    "\n",
    "model.compile(optimizer=\"rmsprop\",\n",
    "              loss=\"categorical_crossentropy\",\n",
    "              metrics=[\"accuracy\"])\n",
    "\n",
    "history = model.fit(X_train,\n",
    "                   y_train,\n",
    "                   epochs=10,\n",
    "                   batch_size=64,\n",
    "                   validation_data=(X_test, y_test),\n",
    "                   verbose=1)"
   ]
  },
  {
   "cell_type": "code",
   "execution_count": 260,
   "metadata": {},
   "outputs": [
    {
     "data": {
      "image/png": "[encoded data removed]",
      "text/plain": [
       "<Figure size 432x288 with 1 Axes>"
      ]
     },
     "metadata": {
      "needs_background": "light"
     },
     "output_type": "display_data"
    },
    {
     "data": {
      "image/png": "[encoded data removed]",
      "text/plain": [
       "<Figure size 432x288 with 1 Axes>"
      ]
     },
     "metadata": {
      "needs_background": "light"
     },
     "output_type": "display_data"
    },
    {
     "name": "stdout",
     "output_type": "stream",
     "text": [
      "1200/1200 [==============================] - 4s 3ms/step\n",
      "\n",
      "Results:\n",
      "Train_acc: 0.848\n",
      "Val_acc: 0.831\n",
      "Test_acc: 0.908\n",
      "F1-score: 0.908\n"
     ]
    }
   ],
   "source": [
    "plot_results(history)\n",
    "evaluation()"
   ]
  },
  {
   "cell_type": "markdown",
   "metadata": {},
   "source": [
    "Die Werte verbessern sich wieder, während der Unterschied zwischen Trainings und Validation Accuracy sogar geringer geworden ist. "
   ]
  },
  {
   "cell_type": "markdown",
   "metadata": {},
   "source": [
    "### 12.4.3. Dropout <a class=\"anchor\" id=\"12-4-3\"/>"
   ]
  },
  {
   "cell_type": "markdown",
   "metadata": {},
   "source": [
    "Zuletzt implementieren wir Dropout. Dazu benutzen wir das ursprüngliche Modell von 64 units und fügen nach dem Hidden Layer einen Dropout-Layer mit der Dropout-Quote `0.3` hinzu."
   ]
  },
  {
   "cell_type": "code",
   "execution_count": 265,
   "metadata": {},
   "outputs": [
    {
     "name": "stdout",
     "output_type": "stream",
     "text": [
      "Train on 3600 samples, validate on 1200 samples\n",
      "Epoch 1/10\n",
      "3600/3600 [==============================] - 19s 5ms/step - loss: 3.2101 - acc: 0.3056 - val_loss: 2.9177 - val_acc: 0.6108\n",
      "Epoch 2/10\n",
      "3600/3600 [==============================] - 18s 5ms/step - loss: 2.4061 - acc: 0.7044 - val_loss: 2.0740 - val_acc: 0.8283\n",
      "Epoch 3/10\n",
      "3600/3600 [==============================] - 18s 5ms/step - loss: 1.4190 - acc: 0.8719 - val_loss: 1.2796 - val_acc: 0.8908\n",
      "Epoch 4/10\n",
      "3600/3600 [==============================] - 18s 5ms/step - loss: 0.7297 - acc: 0.9361 - val_loss: 0.8000 - val_acc: 0.9158\n",
      "Epoch 5/10\n",
      "3600/3600 [==============================] - 18s 5ms/step - loss: 0.3596 - acc: 0.9700 - val_loss: 0.5533 - val_acc: 0.9183\n",
      "Epoch 6/10\n",
      "3600/3600 [==============================] - 18s 5ms/step - loss: 0.1713 - acc: 0.9922 - val_loss: 0.4178 - val_acc: 0.9250\n",
      "Epoch 7/10\n",
      "3600/3600 [==============================] - 18s 5ms/step - loss: 0.0802 - acc: 0.9972 - val_loss: 0.3375 - val_acc: 0.9333\n",
      "Epoch 8/10\n",
      "3600/3600 [==============================] - 18s 5ms/step - loss: 0.0435 - acc: 0.9972 - val_loss: 0.2953 - val_acc: 0.9367\n",
      "Epoch 9/10\n",
      "3600/3600 [==============================] - 19s 5ms/step - loss: 0.0219 - acc: 0.9989 - val_loss: 0.2728 - val_acc: 0.9342\n",
      "Epoch 10/10\n",
      "3600/3600 [==============================] - 18s 5ms/step - loss: 0.0102 - acc: 1.0000 - val_loss: 0.2674 - val_acc: 0.9317\n"
     ]
    }
   ],
   "source": [
    "from keras.layers import Dropout\n",
    "model = models.Sequential()\n",
    "model.add(layers.Dense(64, activation=\"relu\", input_shape=(len(vocab),)))\n",
    "model.add(layers.Dense(64, activation=\"relu\"))\n",
    "model.add(layers.Dropout(0.3))\n",
    "model.add(layers.Dense(len(np.unique(labels)), activation=\"softmax\"))\n",
    "\n",
    "\n",
    "model.compile(optimizer=\"rmsprop\",\n",
    "              loss=\"categorical_crossentropy\",\n",
    "              metrics=[\"accuracy\"])\n",
    "\n",
    "history = model.fit(X_train,\n",
    "                   y_train,\n",
    "                   epochs=10,\n",
    "                   batch_size=64,\n",
    "                   validation_data=(X_test, y_test),\n",
    "                   verbose=1)"
   ]
  },
  {
   "cell_type": "code",
   "execution_count": 263,
   "metadata": {},
   "outputs": [
    {
     "data": {
      "image/png": "[encoded data removed]",
      "text/plain": [
       "<Figure size 432x288 with 1 Axes>"
      ]
     },
     "metadata": {
      "needs_background": "light"
     },
     "output_type": "display_data"
    },
    {
     "data": {
      "image/png": "[encoded data removed]",
      "text/plain": [
       "<Figure size 432x288 with 1 Axes>"
      ]
     },
     "metadata": {
      "needs_background": "light"
     },
     "output_type": "display_data"
    },
    {
     "name": "stdout",
     "output_type": "stream",
     "text": [
      "1200/1200 [==============================] - 2s 1ms/step\n",
      "\n",
      "Results:\n",
      "Train_acc: 0.759\n",
      "Val_acc: 0.84\n",
      "Test_acc: 0.933\n",
      "F1-score: 0.933\n"
     ]
    }
   ],
   "source": [
    "plot_results(history)\n",
    "evaluation()"
   ]
  },
  {
   "cell_type": "markdown",
   "metadata": {},
   "source": [
    "Hier kommt es zu <b>Underfitting</b>, unsere Validation-Accuracy ist besser als unsere Trainings-Accuracy. Die Kurve der Trainings accuracy scheint jedoch noch anzusteigen, weshalb wir unser Modell länger trainieren (10 Epochen → 20 Epochen)."
   ]
  },
  {
   "cell_type": "code",
   "execution_count": 266,
   "metadata": {
    "collapsed": true
   },
   "outputs": [
    {
     "name": "stdout",
     "output_type": "stream",
     "text": [
      "Train on 3600 samples, validate on 1200 samples\n",
      "Epoch 1/20\n",
      "3600/3600 [==============================] - 20s 6ms/step - loss: 3.2632 - acc: 0.3158 - val_loss: 3.0410 - val_acc: 0.6317\n",
      "Epoch 2/20\n",
      "3600/3600 [==============================] - 18s 5ms/step - loss: 2.5938 - acc: 0.6697 - val_loss: 2.2644 - val_acc: 0.7825\n",
      "Epoch 3/20\n",
      "3600/3600 [==============================] - 18s 5ms/step - loss: 1.6200 - acc: 0.8589 - val_loss: 1.4226 - val_acc: 0.8892\n",
      "Epoch 4/20\n",
      "3600/3600 [==============================] - 18s 5ms/step - loss: 0.8390 - acc: 0.9433 - val_loss: 0.8784 - val_acc: 0.9267\n",
      "Epoch 5/20\n",
      "3600/3600 [==============================] - 18s 5ms/step - loss: 0.4163 - acc: 0.9711 - val_loss: 0.5871 - val_acc: 0.9308\n",
      "Epoch 6/20\n",
      "3600/3600 [==============================] - 19s 5ms/step - loss: 0.1927 - acc: 0.9886 - val_loss: 0.4335 - val_acc: 0.9300\n",
      "Epoch 7/20\n",
      "3600/3600 [==============================] - 18s 5ms/step - loss: 0.0937 - acc: 0.9947 - val_loss: 0.3383 - val_acc: 0.9342\n",
      "Epoch 8/20\n",
      "3600/3600 [==============================] - 18s 5ms/step - loss: 0.0499 - acc: 0.9978 - val_loss: 0.2972 - val_acc: 0.9292\n",
      "Epoch 9/20\n",
      "3600/3600 [==============================] - 18s 5ms/step - loss: 0.0238 - acc: 0.9994 - val_loss: 0.2668 - val_acc: 0.9350\n",
      "Epoch 10/20\n",
      "3600/3600 [==============================] - 18s 5ms/step - loss: 0.0146 - acc: 0.9986 - val_loss: 0.2480 - val_acc: 0.9342\n",
      "Epoch 11/20\n",
      "3600/3600 [==============================] - 18s 5ms/step - loss: 0.0094 - acc: 0.9994 - val_loss: 0.2509 - val_acc: 0.9358\n",
      "Epoch 12/20\n",
      "3600/3600 [==============================] - 20s 5ms/step - loss: 0.0053 - acc: 1.0000 - val_loss: 0.2439 - val_acc: 0.9342\n",
      "Epoch 13/20\n",
      "3600/3600 [==============================] - 20s 6ms/step - loss: 0.0050 - acc: 0.9986 - val_loss: 0.2339 - val_acc: 0.9325\n",
      "Epoch 14/20\n",
      "3600/3600 [==============================] - 21s 6ms/step - loss: 0.0027 - acc: 1.0000 - val_loss: 0.2400 - val_acc: 0.9333\n",
      "Epoch 15/20\n",
      "3600/3600 [==============================] - 21s 6ms/step - loss: 0.0016 - acc: 1.0000 - val_loss: 0.2454 - val_acc: 0.9317\n",
      "Epoch 16/20\n",
      "3600/3600 [==============================] - 21s 6ms/step - loss: 0.0019 - acc: 0.9997 - val_loss: 0.2309 - val_acc: 0.9367\n",
      "Epoch 17/20\n",
      "3600/3600 [==============================] - 21s 6ms/step - loss: 8.3424e-04 - acc: 1.0000 - val_loss: 0.2371 - val_acc: 0.9367\n",
      "Epoch 18/20\n",
      "3600/3600 [==============================] - 21s 6ms/step - loss: 0.0011 - acc: 1.0000 - val_loss: 0.2384 - val_acc: 0.9383\n",
      "Epoch 19/20\n",
      "3600/3600 [==============================] - 20s 6ms/step - loss: 7.2319e-04 - acc: 1.0000 - val_loss: 0.2430 - val_acc: 0.9342\n",
      "Epoch 20/20\n",
      "3600/3600 [==============================] - 20s 6ms/step - loss: 0.0011 - acc: 0.9997 - val_loss: 0.2365 - val_acc: 0.9358\n"
     ]
    }
   ],
   "source": [
    "model = models.Sequential()\n",
    "model.add(layers.Dense(64, activation=\"relu\", input_shape=(len(vocab),)))\n",
    "model.add(layers.Dense(64, activation=\"relu\"))\n",
    "model.add(layers.Dropout(0.3))\n",
    "model.add(layers.Dense(len(np.unique(labels)), activation=\"softmax\"))\n",
    "\n",
    "\n",
    "model.compile(optimizer=\"rmsprop\",\n",
    "              loss=\"categorical_crossentropy\",\n",
    "              metrics=[\"accuracy\"])\n",
    "\n",
    "history = model.fit(X_train,\n",
    "                   y_train,\n",
    "                   epochs=20,\n",
    "                   batch_size=64,\n",
    "                   validation_data=(X_test, y_test),\n",
    "                   verbose=1)"
   ]
  },
  {
   "cell_type": "code",
   "execution_count": 267,
   "metadata": {},
   "outputs": [
    {
     "data": {
      "image/png": "[encoded data removed]",
      "text/plain": [
       "<Figure size 432x288 with 1 Axes>"
      ]
     },
     "metadata": {
      "needs_background": "light"
     },
     "output_type": "display_data"
    },
    {
     "data": {
      "image/png": "[encoded data removed]",
      "text/plain": [
       "<Figure size 432x288 with 1 Axes>"
      ]
     },
     "metadata": {
      "needs_background": "light"
     },
     "output_type": "display_data"
    },
    {
     "name": "stdout",
     "output_type": "stream",
     "text": [
      "1200/1200 [==============================] - 2s 1ms/step\n",
      "\n",
      "Results:\n",
      "Train_acc: 0.937\n",
      "Val_acc: 0.909\n",
      "Test_acc: 0.936\n",
      "F1-score: 0.936\n"
     ]
    }
   ],
   "source": [
    "plot_results(history)\n",
    "evaluation()"
   ]
  },
  {
   "cell_type": "markdown",
   "metadata": {},
   "source": [
    "Hier erkennen wir wieder unser altes Problem des Overfitting. Durch ein längeres Training konnten die Training Accuracy und die Validatian Accuracy verbessert werden."
   ]
  },
  {
   "cell_type": "markdown",
   "metadata": {},
   "source": [
    "### 12.4.4. Early Stopping <a class=\"anchor\" id=\"12-4-4\"/>"
   ]
  },
  {
   "cell_type": "markdown",
   "metadata": {},
   "source": [
    "Eine weitere wichtige Technik gegen Overfitting, die von Chollet nicht erläutert wird, ist <b>Early Stopping</b>. Dies basiert auf der Erkenntnis, dass sich ein Neuronales Netz nach einer gewissen Zeit wieder verschlechtert. Early Stopping versucht, den Trainingsvorgang bei dem Punkt, an dem die Leistungsfähigkeit des Neuronalen Netzes maximal ist, zu stoppen. Early Stopping bei Keras funktioniert hier ähnlich wie bei XGBoost (siehe Kapitel 9.5.3).<br>\n",
    "\n",
    "In der `fit`-Methode fügen wir unserem Modell ein <b>Callback</b> hinzu. Dem EarlyStopping-Callback übergeben wir drei Parameter. Mit `monitor` wird das Evaluierungsmaß festgelegt, welches die Grundlage für das Early Stopping sein soll. Bei `patience` wird der Wert festgelegt, wie lange das Modell wartet, bis es den Lernprozess abbricht, weil sich die Werte nicht mehr verbessert haben. Dies funktioniert wie bei Early Stopping bei XGBoost (siehe Kapitel 9.5.3). Mit `restore_best_weights = True` legen wir fest, dass das Modell die Epoche mit den besten Werten zurückgibt und nicht die letzte Epoche vor dem Abbruch.<br>\n",
    "\n",
    "Um einen Effekt bei unserem Modell sehen zu können, erhöhen wir die Epochenanzahl auf 30."
   ]
  },
  {
   "cell_type": "code",
   "execution_count": 7,
   "metadata": {},
   "outputs": [
    {
     "name": "stdout",
     "output_type": "stream",
     "text": [
      "Train on 3600 samples, validate on 1200 samples\n",
      "Epoch 1/30\n",
      "3600/3600 [==============================] - 19s 5ms/step - loss: 3.1681 - acc: 0.5358 - val_loss: 2.8154 - val_acc: 0.7425\n",
      "Epoch 2/30\n",
      "3600/3600 [==============================] - 10s 3ms/step - loss: 2.1475 - acc: 0.8936 - val_loss: 1.8176 - val_acc: 0.8333\n",
      "Epoch 3/30\n",
      "3600/3600 [==============================] - 10s 3ms/step - loss: 1.0043 - acc: 0.9822 - val_loss: 1.0325 - val_acc: 0.9075\n",
      "Epoch 4/30\n",
      "3600/3600 [==============================] - 10s 3ms/step - loss: 0.3603 - acc: 0.9972 - val_loss: 0.6333 - val_acc: 0.9200\n",
      "Epoch 5/30\n",
      "3600/3600 [==============================] - 10s 3ms/step - loss: 0.1150 - acc: 0.9994 - val_loss: 0.4418 - val_acc: 0.9283\n",
      "Epoch 6/30\n",
      "3600/3600 [==============================] - 10s 3ms/step - loss: 0.0344 - acc: 0.9997 - val_loss: 0.3538 - val_acc: 0.9308\n",
      "Epoch 7/30\n",
      "3600/3600 [==============================] - 10s 3ms/step - loss: 0.0095 - acc: 1.0000 - val_loss: 0.2995 - val_acc: 0.9325\n",
      "Epoch 8/30\n",
      "3600/3600 [==============================] - 10s 3ms/step - loss: 0.0025 - acc: 1.0000 - val_loss: 0.2734 - val_acc: 0.9325\n",
      "Epoch 9/30\n",
      "3600/3600 [==============================] - 10s 3ms/step - loss: 6.6899e-04 - acc: 1.0000 - val_loss: 0.2633 - val_acc: 0.9325\n",
      "Epoch 10/30\n",
      "3600/3600 [==============================] - 10s 3ms/step - loss: 1.7219e-04 - acc: 1.0000 - val_loss: 0.2552 - val_acc: 0.9325\n",
      "Epoch 11/30\n",
      "3600/3600 [==============================] - 10s 3ms/step - loss: 4.5768e-05 - acc: 1.0000 - val_loss: 0.2559 - val_acc: 0.9367\n",
      "Epoch 12/30\n",
      "3600/3600 [==============================] - 10s 3ms/step - loss: 1.2950e-05 - acc: 1.0000 - val_loss: 0.2563 - val_acc: 0.9350\n",
      "Epoch 13/30\n",
      "3600/3600 [==============================] - 10s 3ms/step - loss: 4.0730e-06 - acc: 1.0000 - val_loss: 0.2629 - val_acc: 0.9367\n"
     ]
    }
   ],
   "source": [
    "from keras.callbacks import EarlyStopping\n",
    "\n",
    "model = models.Sequential()\n",
    "model.add(layers.Dense(64, activation=\"relu\", input_shape=(len(vocab),)))\n",
    "model.add(layers.Dense(64, activation=\"relu\"))\n",
    "model.add(layers.Dense(len(np.unique(labels)), activation=\"softmax\"))\n",
    "\n",
    "\n",
    "model.compile(optimizer=\"rmsprop\",\n",
    "              loss=\"categorical_crossentropy\",\n",
    "              metrics=[\"accuracy\"])\n",
    "\n",
    "history = model.fit(X_train,\n",
    "                   y_train,\n",
    "                   epochs=30,\n",
    "                   batch_size=64,\n",
    "                   validation_data=(X_test, y_test),\n",
    "                   verbose=1,\n",
    "                   callbacks = [EarlyStopping(monitor='val_loss', \n",
    "                                               patience=2,\n",
    "                                               restore_best_weights=True)])"
   ]
  },
  {
   "cell_type": "code",
   "execution_count": 10,
   "metadata": {},
   "outputs": [
    {
     "data": {
      "image/png": "[encoded data removed]",
      "text/plain": [
       "<Figure size 432x288 with 1 Axes>"
      ]
     },
     "metadata": {
      "needs_background": "light"
     },
     "output_type": "display_data"
    },
    {
     "data": {
      "image/png": "[encoded data removed]",
      "text/plain": [
       "<Figure size 432x288 with 1 Axes>"
      ]
     },
     "metadata": {
      "needs_background": "light"
     },
     "output_type": "display_data"
    },
    {
     "name": "stdout",
     "output_type": "stream",
     "text": [
      "1200/1200 [==============================] - 2s 2ms/step\n",
      "\n",
      "Results:\n",
      "Train_acc: 0.954\n",
      "Val_acc: 0.908\n",
      "Test_acc: 0.932\n",
      "F1-score: 0.932\n"
     ]
    }
   ],
   "source": [
    "plot_results(history)\n",
    "evaluation()"
   ]
  },
  {
   "cell_type": "markdown",
   "metadata": {},
   "source": [
    "EarlyStopping bricht das Training bei Epoche 13 ab. Leider haben wir immer noch Overfitting."
   ]
  },
  {
   "cell_type": "markdown",
   "metadata": {},
   "source": [
    "### 12.4.5. Kombination aller Overfitting-Methoden <a class=\"anchor\" id=\"12-4-5\"/>"
   ]
  },
  {
   "cell_type": "markdown",
   "metadata": {},
   "source": [
    "#### Daten vorbereiten und Implementierung der Methoden `plot_results` und `evaluation`"
   ]
  },
  {
   "cell_type": "code",
   "execution_count": 2,
   "metadata": {},
   "outputs": [
    {
     "name": "stderr",
     "output_type": "stream",
     "text": [
      "Using TensorFlow backend.\n"
     ]
    }
   ],
   "source": [
    "from keras import models\n",
    "from keras import layers\n",
    "from keras.utils.np_utils import to_categorical\n",
    "from keras.callbacks import EarlyStopping\n",
    "from keras import regularizers\n",
    "from keras.layers import Dropout\n",
    "\n",
    "from sklearn.metrics import f1_score\n",
    "from sklearn.feature_extraction.text import CountVectorizer, TfidfVectorizer\n",
    "from sklearn.preprocessing import LabelEncoder, OneHotEncoder\n",
    "from sklearn.model_selection import train_test_split\n",
    "\n",
    "import pandas as pd\n",
    "import numpy as np\n",
    "import matplotlib.pyplot as plt\n",
    "\n",
    "corpus = pd.read_csv(\"tutorialdata/corpora/wikicorpus_v2.csv\")\n",
    "\n",
    "vectorizer = TfidfVectorizer()\n",
    "vector = vectorizer.fit_transform(corpus[\"text\"])\n",
    "labels = LabelEncoder().fit_transform(corpus[\"category\"])\n",
    "vocab = vectorizer.vocabulary_\n",
    "\n",
    "\n",
    "\n",
    "\n",
    "X_train, X_test, y_train, y_test = train_test_split(vector, \n",
    "                                                    labels, \n",
    "                                                    test_size=0.4, \n",
    "                                                    train_size=0.6,\n",
    "                                                    random_state=42)\n",
    "X_val = X_test[:1200]\n",
    "X_test = X_test[1200:]\n",
    "\n",
    "y_val = y_test[:1200]\n",
    "y_test = y_test[1200:]\n",
    "\n",
    "y_val = to_categorical(y_val)\n",
    "y_test = to_categorical(y_test)\n",
    "y_train = to_categorical(y_train)\n",
    "\n",
    "def plot_results(history):\n",
    "    loss = history.history[\"loss\"]\n",
    "    val_loss = history.history[\"val_loss\"]\n",
    "\n",
    "    epochs = range(1, len(loss) + 1)\n",
    "\n",
    "    plt.plot(epochs, loss, \"b\", label=\"Training loss\")\n",
    "    plt.plot(epochs, val_loss, \"ro\", label=\"Validation loss\")\n",
    "    plt.title(\"Training and validation loss\")\n",
    "    plt.xlabel(\"Epochs\")\n",
    "    plt.ylabel(\"Loss\")\n",
    "    plt.legend()\n",
    "\n",
    "    plt.show()\n",
    "\n",
    "    plt.clf() #clears the figure\n",
    "\n",
    "    acc = history.history[\"acc\"]\n",
    "    val_acc = history.history[\"val_acc\"]\n",
    "\n",
    "    plt.plot(epochs, acc, \"b\", label=\"Training acc\")\n",
    "    plt.plot(epochs, val_acc, \"ro\", label=\"Validation acc\")\n",
    "    plt.title(\"Training and validation accuracy\")\n",
    "    plt.xlabel(\"Epochs\")\n",
    "    plt.ylabel(\"Acc\")\n",
    "    plt.legend()\n",
    "\n",
    "    plt.show()\n",
    "    \n",
    "    \n",
    "def evaluation():\n",
    "    y_pred = model.predict(X_test)\n",
    "    f1_keras = f1_score(np.argmax(y_test, axis=1), np.argmax(y_pred, axis=1), average=\"micro\")\n",
    "    test_loss, test_acc = model.evaluate(X_test, y_test)\n",
    "    print(f\"\\nResults:\")\n",
    "    print(f\"Train_acc: {np.around(np.mean(history.history['acc']), decimals=3)}\")\n",
    "    print(f\"Val_acc: {np.around(np.mean(history.history['val_acc']), decimals=3)}\")\n",
    "    print(f\"Test_acc: {np.around(test_acc, decimals=3)}\") \n",
    "    print(f\"F1-score: {str(np.around(f1_keras, decimals=3))}\")"
   ]
  },
  {
   "cell_type": "markdown",
   "metadata": {},
   "source": [
    "#### Das finale Modell"
   ]
  },
  {
   "cell_type": "markdown",
   "metadata": {},
   "source": [
    "Overfitting ist das größte Problem beim Trainieren von Neuronalen Netzen. Wir hatten hier nur wenige Versuche gestartet, das Overfitting zu umgehen. Für weitere Techniken und Methodiken gegen Overfitting siehe den <a href=\"https://machinelearningmastery.com/introduction-to-regularization-to-reduce-overfitting-and-improve-generalization-error/\">Blog-Eintrag</a> von Jason Brownlee. In der Praxis ist die Suche nach den richtigen Techniken zur Reduzierung des Overfittings ein langwieriger Prozess. Die Handhabung dieses Prozess kann nicht wirklich gesteuert werden, d.h. man kann nicht vor dem Training genau vorhersagen, welche Techniken funktionieren und welche nicht. Dies ist einer der Gründe, warum Deep Learning und das Trainieren der Modelle mehr als Kunst denn als Wissenschaft angesehen wird. Im Folgenden habe ich einmal alle Overfitting-Methoden aus den vorherigen Abschnitten kombiniert und ein stabiles Modell erhalten, welches nicht overfittet."
   ]
  },
  {
   "cell_type": "code",
   "execution_count": 3,
   "metadata": {},
   "outputs": [],
   "source": [
    "# für GPU-Probleme, siehe Abschnitt 12.6. \"Mögliche Fehler\"\n",
    "from keras import backend as K\n",
    "if K.backend() == 'tensorflow':\n",
    "    K.clear_session()"
   ]
  },
  {
   "cell_type": "code",
   "execution_count": 7,
   "metadata": {
    "collapsed": true
   },
   "outputs": [
    {
     "name": "stdout",
     "output_type": "stream",
     "text": [
      "Train on 3600 samples, validate on 1200 samples\n",
      "Epoch 1/100\n",
      "3600/3600 [==============================] - 14s 4ms/step - loss: 3.4913 - acc: 0.1144 - val_loss: 3.3617 - val_acc: 0.1867\n",
      "Epoch 2/100\n",
      "3600/3600 [==============================] - 13s 4ms/step - loss: 3.1064 - acc: 0.2564 - val_loss: 2.7164 - val_acc: 0.5292\n",
      "Epoch 3/100\n",
      "3600/3600 [==============================] - 13s 4ms/step - loss: 2.4538 - acc: 0.4806 - val_loss: 2.0777 - val_acc: 0.7917\n",
      "Epoch 4/100\n",
      "3600/3600 [==============================] - 13s 4ms/step - loss: 1.9590 - acc: 0.6664 - val_loss: 1.7829 - val_acc: 0.8625\n",
      "Epoch 5/100\n",
      "3600/3600 [==============================] - 13s 4ms/step - loss: 1.7211 - acc: 0.7550 - val_loss: 1.6017 - val_acc: 0.8717\n",
      "Epoch 6/100\n",
      "3600/3600 [==============================] - 13s 4ms/step - loss: 1.5555 - acc: 0.8106 - val_loss: 1.4914 - val_acc: 0.8892\n",
      "Epoch 7/100\n",
      "3600/3600 [==============================] - 13s 4ms/step - loss: 1.4427 - acc: 0.8494 - val_loss: 1.4312 - val_acc: 0.8967\n",
      "Epoch 8/100\n",
      "3600/3600 [==============================] - 13s 4ms/step - loss: 1.3556 - acc: 0.8844 - val_loss: 1.3818 - val_acc: 0.9075\n",
      "Epoch 9/100\n",
      "3600/3600 [==============================] - 13s 4ms/step - loss: 1.2856 - acc: 0.9028 - val_loss: 1.3547 - val_acc: 0.9025\n",
      "Epoch 10/100\n",
      "3600/3600 [==============================] - 13s 4ms/step - loss: 1.2564 - acc: 0.9069 - val_loss: 1.3130 - val_acc: 0.9075\n",
      "Epoch 11/100\n",
      "3600/3600 [==============================] - 13s 4ms/step - loss: 1.2123 - acc: 0.9222 - val_loss: 1.3102 - val_acc: 0.9067\n",
      "Epoch 12/100\n",
      "3600/3600 [==============================] - 13s 4ms/step - loss: 1.2045 - acc: 0.9181 - val_loss: 1.2951 - val_acc: 0.8992\n",
      "Epoch 13/100\n",
      "3600/3600 [==============================] - 13s 4ms/step - loss: 1.1635 - acc: 0.9264 - val_loss: 1.2717 - val_acc: 0.9067\n",
      "Epoch 14/100\n",
      "3600/3600 [==============================] - 13s 4ms/step - loss: 1.1454 - acc: 0.9347 - val_loss: 1.2455 - val_acc: 0.9033\n",
      "Epoch 15/100\n",
      "3600/3600 [==============================] - 13s 4ms/step - loss: 1.1300 - acc: 0.9314 - val_loss: 1.2530 - val_acc: 0.9125\n",
      "Epoch 16/100\n",
      "3600/3600 [==============================] - 13s 4ms/step - loss: 1.1080 - acc: 0.9353 - val_loss: 1.2386 - val_acc: 0.9058\n",
      "Epoch 17/100\n",
      "3600/3600 [==============================] - 13s 4ms/step - loss: 1.0867 - acc: 0.9389 - val_loss: 1.2466 - val_acc: 0.9000\n",
      "Epoch 18/100\n",
      "3600/3600 [==============================] - 13s 4ms/step - loss: 1.0886 - acc: 0.9428 - val_loss: 1.2266 - val_acc: 0.9033\n",
      "Epoch 19/100\n",
      "3600/3600 [==============================] - 13s 4ms/step - loss: 1.0671 - acc: 0.9456 - val_loss: 1.2200 - val_acc: 0.9117\n",
      "Epoch 20/100\n",
      "3600/3600 [==============================] - 13s 4ms/step - loss: 1.0496 - acc: 0.9469 - val_loss: 1.1958 - val_acc: 0.9075\n",
      "Epoch 21/100\n",
      "3600/3600 [==============================] - 13s 4ms/step - loss: 1.0313 - acc: 0.9494 - val_loss: 1.1993 - val_acc: 0.9067\n",
      "Epoch 22/100\n",
      "3600/3600 [==============================] - 13s 4ms/step - loss: 1.0373 - acc: 0.9536 - val_loss: 1.2012 - val_acc: 0.9067\n",
      "Epoch 23/100\n",
      "3600/3600 [==============================] - 13s 4ms/step - loss: 1.0141 - acc: 0.9550 - val_loss: 1.1871 - val_acc: 0.9108\n",
      "Epoch 24/100\n",
      "3600/3600 [==============================] - 13s 4ms/step - loss: 1.0131 - acc: 0.9558 - val_loss: 1.1879 - val_acc: 0.9058\n",
      "Epoch 25/100\n",
      "3600/3600 [==============================] - 13s 4ms/step - loss: 0.9871 - acc: 0.9531 - val_loss: 1.1465 - val_acc: 0.9050\n",
      "Epoch 26/100\n",
      "3600/3600 [==============================] - 13s 4ms/step - loss: 0.9983 - acc: 0.9539 - val_loss: 1.1811 - val_acc: 0.9142\n",
      "Epoch 27/100\n",
      "3600/3600 [==============================] - 13s 4ms/step - loss: 0.9748 - acc: 0.9644 - val_loss: 1.1562 - val_acc: 0.9050\n",
      "Epoch 28/100\n",
      "3600/3600 [==============================] - 13s 4ms/step - loss: 0.9449 - acc: 0.9631 - val_loss: 1.1425 - val_acc: 0.9058\n",
      "Epoch 29/100\n",
      "3600/3600 [==============================] - 13s 4ms/step - loss: 0.9586 - acc: 0.9608 - val_loss: 1.1193 - val_acc: 0.9175\n",
      "Epoch 30/100\n",
      "3600/3600 [==============================] - 14s 4ms/step - loss: 0.9318 - acc: 0.9633 - val_loss: 1.1341 - val_acc: 0.9075\n",
      "Epoch 31/100\n",
      "3600/3600 [==============================] - 13s 4ms/step - loss: 0.9384 - acc: 0.9639 - val_loss: 1.1386 - val_acc: 0.9117\n",
      "Epoch 32/100\n",
      "3600/3600 [==============================] - 13s 4ms/step - loss: 0.9452 - acc: 0.9653 - val_loss: 1.1221 - val_acc: 0.9117\n"
     ]
    }
   ],
   "source": [
    "model = models.Sequential()\n",
    "model.add(layers.Dense(128, kernel_regularizer=regularizers.l2(0.001), activation=\"relu\", input_shape=(len(vocab),)))\n",
    "model.add(layers.Dropout(0.2))\n",
    "model.add(layers.Dense(64, kernel_regularizer=regularizers.l2(0.001), activation=\"relu\"))\n",
    "model.add(layers.Dropout(0.2))\n",
    "model.add(layers.Dense(32, kernel_regularizer=regularizers.l2(0.001), activation=\"relu\"))\n",
    "model.add(layers.Dropout(0.2))\n",
    "model.add(layers.Dense(len(np.unique(labels)), activation=\"softmax\"))\n",
    "\n",
    "model.compile(optimizer=\"adam\",\n",
    "              loss=\"categorical_crossentropy\",\n",
    "              metrics=[\"accuracy\"])\n",
    "\n",
    "history = model.fit(X_train,\n",
    "                   y_train,\n",
    "                   epochs=100,\n",
    "                   batch_size=64,\n",
    "                   validation_data=(X_test, y_test),\n",
    "                   verbose=1,\n",
    "                   callbacks = [EarlyStopping(monitor='val_loss', \n",
    "                                               patience=3,\n",
    "                                               restore_best_weights=True)])"
   ]
  },
  {
   "cell_type": "code",
   "execution_count": 9,
   "metadata": {},
   "outputs": [
    {
     "data": {
      "image/png": "[encoded data removed]",
      "text/plain": [
       "<Figure size 432x288 with 1 Axes>"
      ]
     },
     "metadata": {
      "needs_background": "light"
     },
     "output_type": "display_data"
    },
    {
     "data": {
      "image/png": "[encoded data removed]",
      "text/plain": [
       "<Figure size 432x288 with 1 Axes>"
      ]
     },
     "metadata": {
      "needs_background": "light"
     },
     "output_type": "display_data"
    },
    {
     "name": "stdout",
     "output_type": "stream",
     "text": [
      "1200/1200 [==============================] - 2s 2ms/step\n",
      "\n",
      "Results:\n",
      "Train_acc: 0.858\n",
      "Val_acc: 0.866\n",
      "Test_acc: 0.918\n",
      "F1-score: 0.918\n"
     ]
    }
   ],
   "source": [
    "plot_results(history)\n",
    "evaluation()"
   ]
  },
  {
   "cell_type": "markdown",
   "metadata": {},
   "source": [
    "## 12.5. Hyperparameteroptimierung mit hyperas <a class=\"anchor\" id=\"12-5\"/>"
   ]
  },
  {
   "cell_type": "markdown",
   "metadata": {},
   "source": [
    "In diesem Kapitel schauen wir uns die Hyperparameteroptimierung bei Keras an. Dafür verwenden wir den Wrapper <a href=\"https://github.com/maxpumperla/hyperas\">hyperas</a>.<br>\n",
    "\n",
    "<b>Hinweis vorweg</b>: Der hier dargestellte Code wurde nicht vollends ausgeführt. Ein großes Problem beim Trainieren von Neuronalen Netzen ist der OOM-Fehler (= <i>out-of-memory</i>), bei dem die GPU oder CPU, je nachdem vorauf man trainiert, keinen Speicher mehr zur Verfügung stellen kann. Wie anfangs bereits erwähnt, kann man anstatt der lokalen GPU auch die GPU von <b>Google Colab</b> verwenden. Die letzte Lösung ist bei mir aufgrund von einer langsamen Internet-Verbindung nur bedingt möglich gewesen. Ich konnt das OOM-Problem bei meiner lokalen GPU innerhalb des Notebooks nicht beheben, welches ich mir nicht ganz erklären kann, vor allem da es zu Beginn funktioniert hatte. Dies mag an lokalen Problemen mit CUDA oder ähnlichem liegen oder auch an Juypter Notebook. Trotzdem werde ich im Folgenden zeigen, wie hyperas genutzt werden kann und zeige auch einige Techniken, um das OOM-Problem (theoretisch) lösen zu können. Teile des zu erwartenden Outputs habe ich aus dem Output eines Shell-Skripts kopiert, dazu gleich mehr. Am Ende des Abschnittes zeige ich eine Zusammenfassung verschiedener möglicher Lösungen für das OOM-Problem."
   ]
  },
  {
   "cell_type": "code",
   "execution_count": 1,
   "metadata": {},
   "outputs": [
    {
     "name": "stderr",
     "output_type": "stream",
     "text": [
      "Using TensorFlow backend.\n"
     ]
    }
   ],
   "source": [
    "from keras import models\n",
    "from keras import layers\n",
    "from keras.optimizers import Adam, RMSprop, SGD\n",
    "from keras.utils.np_utils import to_categorical\n",
    "from keras.callbacks import EarlyStopping\n",
    "from keras import regularizers\n",
    "from keras.layers import Dropout\n",
    "from keras.layers.core import Dense, Dropout, Activation\n",
    "from keras import backend as K\n",
    "\n",
    "from sklearn.metrics import f1_score\n",
    "from sklearn.feature_extraction.text import CountVectorizer, TfidfVectorizer\n",
    "from sklearn.preprocessing import LabelEncoder, OneHotEncoder\n",
    "from sklearn.model_selection import train_test_split\n",
    "\n",
    "from hyperas.distributions import uniform\n",
    "from hyperopt import Trials, STATUS_OK, tpe\n",
    "from hyperas import optim\n",
    "from hyperas.distributions import choice, uniform\n",
    "\n",
    "import pandas as pd\n",
    "import numpy as np\n",
    "import matplotlib.pyplot as plt"
   ]
  },
  {
   "cell_type": "markdown",
   "metadata": {},
   "source": [
    "Für die Hyperparameteroptimierung mit hyperas orientieren wir uns am Beispiel der <a href=\"https://github.com/maxpumperla/hyperas\">Github-Seite</a>, indem wir das Laden des Korpus, das Encoding der Kategorien, die Vektorisierung der Artikel und die Aufteilung in Training-, Validierungs- und Testdatensätze in einer Funktion `data` speichern."
   ]
  },
  {
   "cell_type": "code",
   "execution_count": 2,
   "metadata": {},
   "outputs": [],
   "source": [
    "def data():\n",
    "    \n",
    "    corpus = pd.read_csv(\"tutorialdata/corpora/wikicorpus_v2.csv\")\n",
    "\n",
    "    vectorizer = TfidfVectorizer()\n",
    "    vector = vectorizer.fit_transform(corpus[\"text\"])\n",
    "    labels = LabelEncoder().fit_transform(corpus[\"category\"])\n",
    "    vocab = vectorizer.vocabulary_\n",
    "\n",
    "    X_train, X_test, y_train, y_test = train_test_split(vector, \n",
    "                                                            labels, \n",
    "                                                            test_size=0.4, \n",
    "                                                            train_size=0.6,\n",
    "                                                            random_state=42)\n",
    "    X_val = X_test[:1200]\n",
    "    X_test = X_test[1200:]\n",
    "\n",
    "    y_val = y_test[:1200]\n",
    "    y_test = y_test[1200:]\n",
    "\n",
    "    y_val = to_categorical(y_val)\n",
    "    y_test = to_categorical(y_test)\n",
    "    y_train = to_categorical(y_train)\n",
    "    \n",
    "    return X_train, y_train, X_val, y_val, X_test, y_test"
   ]
  },
  {
   "cell_type": "markdown",
   "metadata": {},
   "source": [
    "Nun definieren wir eine Funktion `create_model()`, in der unser Neuronales Netz erstellt wird. Der Aufbau dieses Netzes unterscheidet sich vom Aufbau, den wir im letzten Kapitel gesehen hatten. Die Aktivierungsfunktion definieren wir hier in einer eigenen Zeile, um den Code übersichtlicher zu gestalten. \n",
    "\n",
    "Die Werte der verschiedenen Parameter, die wir optimieren wollen, werden hier in einer Liste gespeichert, die `{{choice()}}` übergeben wird. Hier wählen wir zunächst nur die Dense Layer und ihre Units-Größe sowie die Dropout-Layer und ihre Dropout-Quoten. Für den ersten Test verwenden wir eine Epochenzahl von 10.<br>\n",
    "\n",
    "<b>Hinweis</b>: \n",
    "\n",
    "Ich habe das Dictionary, welches zurückgegeben werden soll, im Vergleich zum Codebeispiel der hyperas-Githubseite verändert, indem ich den `model`-key entfernt habe:<br>\n",
    "```\n",
    "     {'loss': -validation_acc, 'status': STATUS_OK, 'model': model}\n",
    "→    {'loss': -validation_acc, 'status': STATUS_OK}\n",
    "```\n",
    "\n",
    "Laut <a href=\"https://github.com/maxpumperla/hyperas/issues/16\">Angaben</a> des hyperas-Entwickler kann dies beim OOM-Problem helfen. Ein weitere Maßnahme gegen das OOM-Problem ist die reduzierte Batchsize auf 16, anstatt wie im vorherigen Abschnitt auf 64. "
   ]
  },
  {
   "cell_type": "code",
   "execution_count": 3,
   "metadata": {},
   "outputs": [],
   "source": [
    "def create_model(X_train, y_train, X_val, y_val, X_test, y_test, vocab, labels):\n",
    "    \n",
    "    model = models.Sequential()\n",
    "    model.add(Dense({{choice([16, 32, 64])}}, input_shape=(len(vocab),)))\n",
    "    model.add(Activation('relu'))\n",
    "    model.add(Dropout({{choice([0.2, 0.3])}}))\n",
    "    model.add(Dense({{choice([16, 32, 64])}}))\n",
    "    model.add(Activation('relu'))\n",
    "    model.add(Dropout({{choice([0.2, 0.3])}})) \n",
    "    model.add(Dense(len(np.unique(labels))))\n",
    "    model.add(Activation('softmax'))\n",
    "\n",
    "    model.compile(optimizer='rmsprop',\n",
    "                  loss=\"categorical_crossentropy\",\n",
    "                  metrics=[\"accuracy\"])\n",
    "    \n",
    "    history = model.fit(X_train,\n",
    "                        y_train,\n",
    "                        epochs=10,\n",
    "                        batch_size=16,\n",
    "                        validation_data=(X_val, y_val),\n",
    "                        verbose=2)\n",
    "              \n",
    "    score = model.evaluate(X_test, y_test, verbose=0)\n",
    "    validation_acc = np.mean(history.history['val_acc']) \n",
    "    if K.backend() == 'tensorflow':\n",
    "        K.clear_session()\n",
    "    return {'loss': -validation_acc, 'status': STATUS_OK}"
   ]
  },
  {
   "cell_type": "markdown",
   "metadata": {},
   "source": [
    "Nun rufen wir die eigentliche Optimierungsfunktion ein. Dieser übergeben wir unsere Funktion `create_model`, unser Funktion `data`, die Optimierunfsfunktion <b>Tree Parzen Estimator</b> (kurz: TPE), die maximale Anzahl der der Optimierungsdurchgänge mit `max_eval`, die Funktion `Trials` und der Name des Notebooks. Letzteres ist sehr wichtig, wenn man mit einem Jupyter Notebook arbeitet.<br>\n",
    "\n",
    "<b>Hinweis</b>:<br>\n",
    "Es ist nicht unbedingt empfehlenswert, den Optimierungs-Code in Jupyter Notebooks auszuführen, da der Fehler `The kernel appears to have died. It will restart automatically.`[<sup>1</sup>](#fn1) relativ oft erscheinen wird. Zu diesem Zweck habe ich im `tutorialdata`-Ordner ein Python-Skript `optimization_nn.py` gespeichert, welches über die Shell aufgerufen werden kann. Vor der Ausführung sollten jedoch die Parameter im Skript nach Belieben angepasst werden.\n",
    "\n",
    "<hr style=\"border: 0.1px solid black;\"/>\n",
    "<span id=\"fn1\" style=\"font-size:8pt; line-height:1\"><sup style=\"font-size:5pt\">1</sup> &nbsp; Sollte dies geschehen, müssen alle Code-Zellen ab Beginn des Abschnittes neu ausgeführt werden.</span>"
   ]
  },
  {
   "cell_type": "code",
   "execution_count": null,
   "metadata": {
    "collapsed": true
   },
   "outputs": [
    {
     "name": "stdout",
     "output_type": "stream",
     "text": [
      ">>> Imports:\n",
      "#coding=utf-8\n",
      "\n",
      "try:\n",
      "    from keras import backend as K\n",
      "except:\n",
      "    pass\n",
      "\n",
      "try:\n",
      "    from keras import models\n",
      "except:\n",
      "    pass\n",
      "\n",
      "try:\n",
      "    from keras import layers\n",
      "except:\n",
      "    pass\n",
      "\n",
      "try:\n",
      "    from keras.utils.np_utils import to_categorical\n",
      "except:\n",
      "    pass\n",
      "\n",
      "try:\n",
      "    from sklearn.feature_extraction.text import CountVectorizer, TfidfVectorizer\n",
      "except:\n",
      "    pass\n",
      "\n",
      "try:\n",
      "    from sklearn.preprocessing import LabelEncoder, OneHotEncoder\n",
      "except:\n",
      "    pass\n",
      "\n",
      "try:\n",
      "    from sklearn.model_selection import train_test_split\n",
      "except:\n",
      "    pass\n",
      "\n",
      "try:\n",
      "    import pandas as pd\n",
      "except:\n",
      "    pass\n",
      "\n",
      "try:\n",
      "    import numpy as np\n",
      "except:\n",
      "    pass\n",
      "\n",
      "try:\n",
      "    import matplotlib.pyplot as plt\n",
      "except:\n",
      "    pass\n",
      "\n",
      "try:\n",
      "    from sklearn.metrics import f1_score\n",
      "except:\n",
      "    pass\n",
      "\n",
      "try:\n",
      "    from keras import regularizers\n",
      "except:\n",
      "    pass\n",
      "\n",
      "try:\n",
      "    from keras.layers import Dropout\n",
      "except:\n",
      "    pass\n",
      "\n",
      "try:\n",
      "    from keras.callbacks import EarlyStopping\n",
      "except:\n",
      "    pass\n",
      "\n",
      "try:\n",
      "    from keras import models\n",
      "except:\n",
      "    pass\n",
      "\n",
      "try:\n",
      "    from keras import layers\n",
      "except:\n",
      "    pass\n",
      "\n",
      "try:\n",
      "    from keras.utils.np_utils import to_categorical\n",
      "except:\n",
      "    pass\n",
      "\n",
      "try:\n",
      "    from keras.callbacks import EarlyStopping\n",
      "except:\n",
      "    pass\n",
      "\n",
      "try:\n",
      "    from keras import regularizers\n",
      "except:\n",
      "    pass\n",
      "\n",
      "try:\n",
      "    from keras.layers import Dropout\n",
      "except:\n",
      "    pass\n",
      "\n",
      "try:\n",
      "    from sklearn.metrics import f1_score\n",
      "except:\n",
      "    pass\n",
      "\n",
      "try:\n",
      "    from sklearn.feature_extraction.text import CountVectorizer, TfidfVectorizer\n",
      "except:\n",
      "    pass\n",
      "\n",
      "try:\n",
      "    from sklearn.preprocessing import LabelEncoder, OneHotEncoder\n",
      "except:\n",
      "    pass\n",
      "\n",
      "try:\n",
      "    from sklearn.model_selection import train_test_split\n",
      "except:\n",
      "    pass\n",
      "\n",
      "try:\n",
      "    import pandas as pd\n",
      "except:\n",
      "    pass\n",
      "\n",
      "try:\n",
      "    import numpy as np\n",
      "except:\n",
      "    pass\n",
      "\n",
      "try:\n",
      "    import matplotlib.pyplot as plt\n",
      "except:\n",
      "    pass\n",
      "\n",
      "try:\n",
      "    from keras import backend as K\n",
      "except:\n",
      "    pass\n",
      "\n",
      "try:\n",
      "    from keras import models\n",
      "except:\n",
      "    pass\n",
      "\n",
      "try:\n",
      "    from keras import layers\n",
      "except:\n",
      "    pass\n",
      "\n",
      "try:\n",
      "    from keras.optimizers import Adam, RMSprop, SGD\n",
      "except:\n",
      "    pass\n",
      "\n",
      "try:\n",
      "    from keras.utils.np_utils import to_categorical\n",
      "except:\n",
      "    pass\n",
      "\n",
      "try:\n",
      "    from keras.callbacks import EarlyStopping\n",
      "except:\n",
      "    pass\n",
      "\n",
      "try:\n",
      "    from keras import regularizers\n",
      "except:\n",
      "    pass\n",
      "\n",
      "try:\n",
      "    from keras.layers import Dropout\n",
      "except:\n",
      "    pass\n",
      "\n",
      "try:\n",
      "    from keras.layers.core import Dense, Dropout, Activation\n",
      "except:\n",
      "    pass\n",
      "\n",
      "try:\n",
      "    from keras import backend as K\n",
      "except:\n",
      "    pass\n",
      "\n",
      "try:\n",
      "    from sklearn.metrics import f1_score\n",
      "except:\n",
      "    pass\n",
      "\n",
      "try:\n",
      "    from sklearn.feature_extraction.text import CountVectorizer, TfidfVectorizer\n",
      "except:\n",
      "    pass\n",
      "\n",
      "try:\n",
      "    from sklearn.preprocessing import LabelEncoder, OneHotEncoder\n",
      "except:\n",
      "    pass\n",
      "\n",
      "try:\n",
      "    from sklearn.model_selection import train_test_split\n",
      "except:\n",
      "    pass\n",
      "\n",
      "try:\n",
      "    from hyperas.distributions import uniform\n",
      "except:\n",
      "    pass\n",
      "\n",
      "try:\n",
      "    from hyperopt import Trials, STATUS_OK, tpe\n",
      "except:\n",
      "    pass\n",
      "\n",
      "try:\n",
      "    from hyperas import optim\n",
      "except:\n",
      "    pass\n",
      "\n",
      "try:\n",
      "    from hyperas.distributions import choice, uniform\n",
      "except:\n",
      "    pass\n",
      "\n",
      "try:\n",
      "    import pandas as pd\n",
      "except:\n",
      "    pass\n",
      "\n",
      "try:\n",
      "    import numpy as np\n",
      "except:\n",
      "    pass\n",
      "\n",
      "try:\n",
      "    import matplotlib.pyplot as plt\n",
      "except:\n",
      "    pass\n",
      "\n",
      ">>> Hyperas search space:\n",
      "\n",
      "def get_space():\n",
      "    return {\n",
      "        'Dense': hp.choice('Dense', [16, 32, 64]),\n",
      "        'Dropout': hp.choice('Dropout', [0.2, 0.3]),\n",
      "        'Dense_1': hp.choice('Dense_1', [16, 32, 64]),\n",
      "        'Dropout_1': hp.choice('Dropout_1', [0.2, 0.3]),\n",
      "    }\n",
      "\n",
      ">>> Data\n",
      "  1: \n",
      "  2: \n",
      "  3: corpus = pd.read_csv(\"tutorialdata/corpora/wikicorpus_v2.csv\")\n",
      "  4: \n",
      "  5: vectorizer = TfidfVectorizer()\n",
      "  6: vector = vectorizer.fit_transform(corpus[\"text\"])\n",
      "  7: labels = LabelEncoder().fit_transform(corpus[\"category\"])\n",
      "  8: vocab = vectorizer.vocabulary_\n",
      "  9: \n",
      " 10: X_train, X_test, y_train, y_test = train_test_split(vector, \n",
      " 11:                                                         labels, \n",
      " 12:                                                         test_size=0.4, \n",
      " 13:                                                         train_size=0.6,\n",
      " 14:                                                         random_state=42)\n",
      " 15: X_val = X_test[:1200]\n",
      " 16: X_test = X_test[1200:]\n",
      " 17: \n",
      " 18: y_val = y_test[:1200]\n",
      " 19: y_test = y_test[1200:]\n",
      " 20: \n",
      " 21: y_val = to_categorical(y_val)\n",
      " 22: y_test = to_categorical(y_test)\n",
      " 23: y_train = to_categorical(y_train)\n",
      " 24: \n",
      " 25: \n",
      " 26: \n",
      " 27: \n",
      ">>> Resulting replaced keras model:\n",
      "\n",
      "   1: def keras_fmin_fnct(space):\n",
      "   2: \n",
      "   3:     \n",
      "   4: \n",
      "   5:     \n",
      "   6:     model = models.Sequential()\n",
      "   7:     model.add(Dense(space['Dense'], input_shape=(len(vocab),)))\n",
      "   8:     model.add(Activation('relu'))\n",
      "   9:     model.add(Dropout(space['Dropout']))\n",
      "  10:     model.add(Dense(space['Dense_1']))\n",
      "  11:     model.add(Activation('relu'))\n",
      "  12:     model.add(Dropout(space['Dropout_1'])) \n",
      "  13:     model.add(Dense(len(np.unique(labels))))\n",
      "  14:     model.add(Activation('softmax'))\n",
      "  15:     \n",
      "  16: \n",
      "  17:     model.compile(optimizer='rmsprop',\n",
      "  18:                   loss=\"categorical_crossentropy\",\n",
      "  19:                   metrics=[\"accuracy\"])\n",
      "  20:     \n",
      "  21:     history = model.fit(X_train,\n",
      "  22:                         y_train,\n",
      "  23:                         epochs=10,\n",
      "  24:                         batch_size=16,\n",
      "  25:                         validation_data=(X_val, y_val),\n",
      "  26:                         verbose=2)\n",
      "  27:               \n",
      "  28:     score = model.evaluate(X_test, y_test, verbose=0)\n",
      "  29:     validation_acc = np.mean(history.history['val_acc']) \n",
      "  30:     if K.backend() == 'tensorflow':\n",
      "  31:         K.clear_session()\n",
      "  32:     return {'loss': -validation_acc, 'status': STATUS_OK}\n",
      "  33: \n",
      "Train on 3600 samples, validate on 1200 samples    \n",
      "Epoch 1/10                                         \n",
      " - 14s - loss: 3.2211 - acc: 0.2039 - val_loss: 2.9101 - val_acc: 0.4392\n",
      "\n",
      "Epoch 2/10                                         \n",
      " - 13s - loss: 2.4650 - acc: 0.4342 - val_loss: 2.0218 - val_acc: 0.7675\n",
      "\n",
      "Epoch 3/10                                         \n",
      " - 13s - loss: 1.7078 - acc: 0.5983 - val_loss: 1.3003 - val_acc: 0.8700\n",
      "\n",
      "Epoch 4/10                                         \n",
      " - 13s - loss: 1.1700 - acc: 0.7075 - val_loss: 0.8652 - val_acc: 0.9042\n",
      "\n",
      "Epoch 5/10                                         \n",
      " - 13s - loss: 0.8443 - acc: 0.7919 - val_loss: 0.6289 - val_acc: 0.9083\n",
      "\n",
      "Epoch 6/10                                         \n",
      " - 13s - loss: 0.6559 - acc: 0.8303 - val_loss: 0.4851 - val_acc: 0.9192\n",
      "\n",
      "Epoch 7/10                                         \n",
      " - 13s - loss: 0.5075 - acc: 0.8644 - val_loss: 0.4036 - val_acc: 0.9242\n",
      "\n",
      "Epoch 8/10                                         \n",
      " - 13s - loss: 0.4100 - acc: 0.8836 - val_loss: 0.3531 - val_acc: 0.9275\n",
      "\n",
      "Epoch 9/10                                         \n",
      " - 13s - loss: 0.3764 - acc: 0.8931 - val_loss: 0.3191 - val_acc: 0.9292\n",
      "\n",
      "Epoch 10/10                                        \n",
      " - 13s - loss: 0.3117 - acc: 0.9108 - val_loss: 0.2925 - val_acc: 0.9317\n",
      "\n",
      " 20%|██        | 1/5 [02:15<09:00, 135.14s/it, best loss: -0.8520833333333334]"
     ]
    }
   ],
   "source": [
    "%%time\n",
    "best_run, best_model = optim.minimize(model=create_model,\n",
    "                                      data=data,\n",
    "                                      algo=tpe.suggest,\n",
    "                                      max_evals=5,\n",
    "                                      trials=Trials(),\n",
    "                                      notebook_name='Kapitel 12 - Neuronale Netze mit Keras')"
   ]
  },
  {
   "cell_type": "code",
   "execution_count": null,
   "metadata": {},
   "outputs": [],
   "source": [
    "X_train, y_train, X_val, y_val, X_test, y_test = data()\n",
    "print(\"Evalutation of best performing model:\" )\n",
    "print(best_model.evaluate(X_test, y_test))\n",
    "print(\"Best performing model chosen hyper-parameters:\")\n",
    "print(best_run)"
   ]
  },
  {
   "cell_type": "markdown",
   "metadata": {},
   "source": [
    "Eine mögliche Ausgabe von `best_run` und `best_model`:<br>\n",
    "\n",
    "`best_run` → `[0.22213956201202656, 0.9351851848698167]`<br>\n",
    "`best_model` → `{'Dense': 2, 'Dense_1': 2, 'Dropout': 0, 'Dropout_1': 1}`\n",
    "<br>\n",
    "\n",
    "Die Dense- und Dropout-Layer von `best_model` werden nummeriert. Die Layer ohne Nummerierung sind die Input-Layer oder der erste Dropout-Layer. Die Zahlen geben die Position der Parameter in der Parameterliste an. So gibt hyperas hier an, dass wir als Units für die Dense-Layer 32 wählen sollen, für den ersten Dropout-Layer 0.2 und für den zweiten Dropout-Layer 0.3.<br>\n",
    "\n",
    "Für die Dropout-Layer können wir anstatt `{{choice()}}` auch `{{uniform(0,1}}` wählen. Dabei werden zufällig Werte zwischen 0 und 1 ausgewählt.<br>\n",
    "```\n",
    "    model.add(Dense({{choice([16, 32, 64])}}, input_shape=(len(vocab),)))\n",
    "    model.add(Activation('relu'))\n",
    "    model.add(Dropout({{uniform(0, 1)}}))\n",
    "    model.add(Dense({{choice([16, 32, 64])}}))\n",
    "    model.add(Activation('relu'))\n",
    "    model.add(Dropout({{uniform(0, 1)}}))\n",
    "```"
   ]
  },
  {
   "cell_type": "markdown",
   "metadata": {},
   "source": [
    "In der folgenden `create_model()`-Funktion werden weitere Optimierungsmöglichkeiten gezeigt. So ist es mithilfe von `if` möglich, Hidden Layer zufällig auswählen zu lassen (siehe # 1 #). Zudem kann man mit `if` zufällig vordefinierte Variablen auswählen lassen wie in diesem Fall die Wahl des Optimizers (siehe # 2 #). Dies kann nützlich sein, wenn wie hier bei den Optimizern die möglichen Parameter selbst wieder Parameter zur Verfügung stellen."
   ]
  },
  {
   "cell_type": "code",
   "execution_count": null,
   "metadata": {},
   "outputs": [],
   "source": [
    "def create_model(X_train, y_train, X_val, y_val, X_test, y_test, vocab, labels):\n",
    "    \n",
    "    model = models.Sequential()\n",
    "    model.add(Dense({{choice([16, 32, 64])}}, input_shape=(len(vocab),)))\n",
    "    model.add(Activation('relu'))\n",
    "    model.add(Dropout({{uniform(0, 1)}}))\n",
    "    model.add(Dense({{choice([16, 32, 64])}}))\n",
    "    model.add(Activation('relu'))\n",
    "    model.add(Dropout({{uniform(0, 1)}}))\n",
    "           \n",
    "    # 1 #\n",
    "    if {{choice(['three', 'four'])}} == 'four':\n",
    "        model.add(Dense({{choice([16, 32, 64])}}))\n",
    "        model.add(Dropout({{uniform(0, 1)}}))\n",
    "        model.add(Activation('relu'))          \n",
    "              \n",
    "    model.add(Dense(len(np.unique(labels))))\n",
    "    model.add(Activation('softmax'))\n",
    "    \n",
    "    # 2 #\n",
    "    adam = Adam(lr={{choice([10**-3, 10**-2, 10**-1])}})\n",
    "    rmsprop = RMSprop(lr={{choice([10**-3, 10**-2, 10**-1])}})\n",
    "    sgd = SGD(lr={{choice([10**-3, 10**-2, 10**-1])}})\n",
    "   \n",
    "    choiceval = {{choice(['adam', 'sgd', 'rmsprop'])}}\n",
    "    \n",
    "    # 2 #\n",
    "    if choiceval == 'adam':\n",
    "        optim = adam\n",
    "    elif choiceval == 'rmsprop':\n",
    "        optim = rmsprop\n",
    "    else:\n",
    "        optim = sgd\n",
    "    \n",
    "\n",
    "    model.compile(optimizer=optim,\n",
    "                  loss=\"categorical_crossentropy\",\n",
    "                  metrics=[\"accuracy\"])\n",
    "    \n",
    "    history = model.fit(X_train,\n",
    "                        y_train,\n",
    "                        epochs=10,\n",
    "                        batch_size=16,\n",
    "                        validation_data=(X_val, y_val),\n",
    "                        verbose=2)\n",
    "              \n",
    "    score = model.evaluate(X_test, y_test, verbose=0)\n",
    "    validation_acc = np.mean(history.history['val_acc']) \n",
    "    if K.backend() == 'tensorflow':\n",
    "        K.clear_session()\n",
    "    return {'loss': -validation_acc, 'status': STATUS_OK}"
   ]
  },
  {
   "cell_type": "markdown",
   "metadata": {},
   "source": [
    "#### Fazit zu hyperas\n",
    "\n",
    "<b>Hyperas</b> ist ein simples und nützliches Tool zur Hyperoptimierung in Keras. Leider ist die Optimierung aufgrund des OOM-Problems nicht immer ganz frustfrei. Die eigentliche Benutzung ist jedoch sehr simpel und intuitiv. Bei einer wirklichen Optimierung sollte anders als in den Beispielen `max_evals` höher als 5 gesetzt werden."
   ]
  },
  {
   "cell_type": "markdown",
   "metadata": {},
   "source": [
    "#### Liste der möglichen Lösungen gegen das OOM-Problem\n",
    "\n",
    "- Ausführung im Notebook (<b>nicht empfohlen</b>)\n",
    "    - `'model': model` aus der Funktion `create_model()` entfernen\n",
    "    - batchsize reduzieren\n",
    "    - Neustart des Notebookservers\n",
    "    - folgenden Code hinzufügen, um das vorherige Modell zu löschen und Speicher freizugeben:\n",
    "    \n",
    "    ``` \n",
    "    if K.backend() == 'tensorflow':\n",
    "        K.clear_session()\n",
    "    ```\n",
    "- Ausführung als Python-Skript (<b>empfohlen</b>)\n",
    "    - Alle Kommentare entfernen (siehe <a href=\"https://stackoverflow.com/questions/43533610/how-to-use-hyperopt-for-hyperparameter-optimization-of-keras-deep-learning-netwo\">StackOverflow-Antwort</a>)\n",
    "    - `'model': model` wieder hinzufügen → hat bei mir in Verbindung mit den entfernten Kommentaren funktioniert\n",
    "    - Batchsize reduzieren\n",
    "    - folgenden Code hinzufügen, um das vorherige Modell zu löschen und Speicher freizugeben:\n",
    "    \n",
    "    ``` \n",
    "    if K.backend() == 'tensorflow':\n",
    "        K.clear_session()\n",
    "    ```"
   ]
  },
  {
   "cell_type": "markdown",
   "metadata": {},
   "source": [
    "## 12.6. Mögliche Fehler <a class=\"anchor\" id=\"12-6\"/>"
   ]
  },
  {
   "cell_type": "markdown",
   "metadata": {},
   "source": [
    "- \"OOM when allocating tensor...\" → GPU ist <i>out of memory</i> (= OOM). Folgendes kann dabei helfen:\n",
    "    - Reduzierung der batch size\n",
    "    - Neustart des Notebookservers\n",
    "    - Ausführung als Python-Skript (siehe Abschnitt 12.5)\n",
    "    - 'model': model aus der Funktion create_model() entfernen\n",
    "    - Ausführen der folgenden Code-Zeile vor jedem Trainingsdurchlauf\n",
    "    \n",
    "    ```\n",
    "    from keras import backend as K\n",
    "    \n",
    "    if K.backend() == 'tensorflow':\n",
    "        K.clear_session()\n",
    "    ```\n",
    "- \"Error when checking target: expected dense_7 to have shape (30,) but got array with shape (1,)\" oder ähnlicher Fehler mit anderen Werten → Die encodeten Label wurden nicht in eine One-Hot-Codierung überführt und haben die falsche Dimension. Der folgende Teil fehlt oder wurde nicht ausgeführt:\n",
    "\n",
    "    ```\n",
    "    y_val = to_categorical(y_val)\n",
    "    y_test = to_categorical(y_test)\n",
    "    y_train = to_categorical(y_train)\n",
    "    ```"
   ]
  },
  {
   "cell_type": "code",
   "execution_count": null,
   "metadata": {},
   "outputs": [],
   "source": []
  }
 ],
 "metadata": {
  "kernelspec": {
   "display_name": "Python 3",
   "language": "python",
   "name": "python3"
  },
  "language_info": {
   "codemirror_mode": {
    "name": "ipython",
    "version": 3
   },
   "file_extension": ".py",
   "mimetype": "text/x-python",
   "name": "python",
   "nbconvert_exporter": "python",
   "pygments_lexer": "ipython3",
   "version": "3.7.6"
  },
  "toc": {
   "base_numbering": 1,
   "nav_menu": {},
   "number_sections": true,
   "sideBar": true,
   "skip_h1_title": false,
   "title_cell": "Table of Contents",
   "title_sidebar": "Contents",
   "toc_cell": false,
   "toc_position": {},
   "toc_section_display": true,
   "toc_window_display": false
  }
 },
 "nbformat": 4,
 "nbformat_minor": 2
}
