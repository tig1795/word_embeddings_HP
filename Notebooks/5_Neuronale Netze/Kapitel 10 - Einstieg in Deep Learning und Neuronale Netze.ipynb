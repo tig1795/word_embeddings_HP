{
 "cells": [
  {
   "cell_type": "markdown",
   "metadata": {},
   "source": [
    "# Kapitel 10 - Einstieg in Deep Learning und Neuronale Netze"
   ]
  },
  {
   "cell_type": "markdown",
   "metadata": {},
   "source": [
    "### Informationen zu Beginn"
   ]
  },
  {
   "cell_type": "markdown",
   "metadata": {},
   "source": [
    "Ab diesem Kapitel verlassen wir den Bereich des Machine Learning und widmen uns einem speziellen Teilgebiet des Machine Learning, dem <b>Deep Learning</b>. Die Software-Bibliothek Scikit learn wird uns nun immer seltener begegnen. Es ist möglich, ab diesem Punkt die Tutorialreihe zu beenden, wenn nur ein Einstieg in die Textklassifikation gewünscht ist. Die wichtigsten Klassifizierungsverfahren der probabilistischen und nicht-probabilistischen Klassifizierungsmethoden wurden erläutert, wichtige Evaluationsmethoden und der Umgang mit Korpora ist bekannt. Deep Learning ist im Vergleich zum Machine Learning ein relativ neues Gebiet, was vor allem in den letzten paar Jahren intensiv erforscht wurde und große Durchbrüche erlangen konnte. In vielen Bereich wird oder hat Deep Learning schon klassische Machine Learning Verfahren abgelöst. Im Bereich der einfachen Textklassifikation ist die Nutzung eines Deep Learning Modells jedoch nur bedingt von Vorteil, der Unterschied zu Machine Learning Verfahren ist nicht so groß wie in anderen NLP-Bereichen. Ich persönlich empfehle trotzdem, die folgenden Kapitel zu lesen, um einen Einblick in Deep Learning zu erhalten. Dieses Wissen ist nicht nur für die Textklassifikation hilfreich, sondern kann auch in vielen anderen Bereichen des NLP nützlich sein.<br>\n",
    "\n",
    "Für die Deep Learning Kapitel habe ich mich dazu entschieden, begleitend das Buch von Francois Chollet \"Deep Learning with Python\" zu lesen. Chollet bietet dort einen sehr guten Einstieg in die Grundlagen von Deep Learning und das Deep-Learning-Framework <b>Keras</b>, mit welchem wir in den folgenden Kapiteln arbeiten wollen. Deshalb werden wir verteilt auf mehrere Aufgaben das Buch von Chollet lesen und versuchen, das Wissen auf unser Korpus anzuwenden. Der Code dazu wird immer noch in dieser Tutorialreihe stehen, detaillierte Erklärungen von Methoden und Modulen befinden sich jedoch nur im Buch. Ich werde versuchen, nur die nötigsten Teile des Buches als verpflichtende Aufgaben anzugeben, um die Menge des Stoffes zu reduzieren. In den Aufgabenbeschreibungen werde ich jedoch noch optionale Leseaufgaben bereitstellen, die einen besseren Einblick oder Hintergründe zu Themen vermitteln. Die gründlichste Lösung wäre es, dass gesamte Buch bis einschließlich Kapitel 6 neben dieser Tutorialreihe zu lesen.\n",
    "\n",
    "<u>Das Buch</u>:<br>\n",
    "- englische Ausgabe: CHOLLET, Francois, Deep Learning with Python, New York 2018.\n",
    "- deutsche Ausgabe: CHOLLET, Francois, Deep Learning mit Python und Keras. Das Praxis-Handbuch, übers. v. Knut LORENZEN, Frechen 2018.<br>\n",
    "\n",
    "Sollte es keine Möglichkeit geben, Zugang zum Buch zu erhalten, müssten Methoden, Algorithmen etc., die unklar oder unbekannt sind, selbst nachgeschlagen werden. Für den Programmieraspekt hilft der <a href=\"https://machinelearningmastery.com/tutorial-first-neural-network-python-keras/\">Blog-Eintrag</a> von Jason Brownlee weiter."
   ]
  },
  {
   "cell_type": "markdown",
   "metadata": {},
   "source": [
    "## 10.1. Kapitelübersicht <a class=\"anchor\" id=\"10-1\"/>"
   ]
  },
  {
   "cell_type": "markdown",
   "metadata": {},
   "source": [
    "In diesem Kapitel werden wir uns mit der Frage beschäftigen, was Deep Learning überhaupt ist und wie Neuronale Netze funktioneren. Für die erste Frage werden wir ausschließlich das Buch von Chollet als Informationsgrundlage benutzen, der m.E. zu Beginn alle wichtige Informationen zu Deep Learning sehr gut und kompakt vermittelt. Im Anschluss werden wir uns Neuronalen Netzen widmen, dem Herzstück von Deep Learning.\n",
    "\n",
    "<b>Abschnittsübersicht</b><br>\n",
    "\n",
    "[10.1. Kapitelübersicht](#10-1)<br>\n",
    "[10.2. Was ist Deep Learning?](#10-2)<br>\n",
    "[10.3. Neuronale Netze](#10-3)<br>\n",
    "\n",
    "\n",
    "Am Ende dieses Kapitel werden wir folgende Themen behandelt und/oder vertieft haben:\n",
    "- Definition von Deep Learning\n",
    "- Unterschied von Deep Learning und Machine Learning\n",
    "- Der Aufstieg von Deep Learning\n",
    "- Datenrepräsentationen für Deep Learning (speziell Tensoren)\n",
    "- Tensoroperationen\n",
    "- gradientbasierte Optimierung\n",
    "- verschiedene Darstellung von Neuronalen Netzen"
   ]
  },
  {
   "cell_type": "markdown",
   "metadata": {},
   "source": [
    "## 10.2. Was ist Deep Learning? <a class=\"anchor\" id=\"10-2\"/>"
   ]
  },
  {
   "cell_type": "markdown",
   "metadata": {},
   "source": [
    "<div class=\"alert alert-warning\">\n",
    "<b>Aufgabe:</b> Kapitel 1 - Was ist Deep Learning? <br>\n",
    "    \n",
    "Lesen Sie die folgenden Unterkapitel und versuchen Sie, Antworten auf die bereitgestellen Fragen zu finden:\n",
    "- Kapitel 1.1.4. Das \"Deep\" in Deep Learning\n",
    "- Kapitel 1.1.5. Deep Learning in drei Diagrammen erklärt\n",
    "- Kapitel 1.2.6. Das Besondere an Deep Learning\n",
    "\n",
    "\n",
    "\n",
    "<b>Fragen</b>:\n",
    "- Was unterscheidet Deep Learning von Machine Learning?\n",
    "- Was sind Aspekte und Funktionen, welches ein Deep Learning Modell besitzt und was einem Machine Learning Modell fehlt?\n",
    "- Wie funktioniert \"Feature Engineering\" bei Deep Learning Modellen?\n",
    "\n",
    "\n",
    "<b>Optional</b>:<br>\n",
    "- Kapitel 1.1.1 - 1.1.3: Kurze Erklärung, was Machine Learning ist. Wurde in kürzerer Form in Kapitel 1 dieser Tutorialreihe erläutert. \n",
    "- Kapitel 1.1.6 - 1.1.8: Interessantes Wissen zur Geschichte und Zukunft der KI und was die Rolle von Deep Learning ist oder sein kann.\n",
    "- Kapitel 1.2.1 - 1.2.5: Eine Zusammenfassung der wichtigsten Machine Learning Verfahren. Diese wurden in dieser Tutorialreihe ausführlicher besprochen und sollten bekannt sein. Neu sind die ersten Neuronalen Netze.\n",
    "- Kapitel 1.2.7: Die Tragweite von XGBoost (siehe Kapitel 9).\n",
    "- Kapitel 1.3: Durchbruch von Deep Learning.\n",
    "</div>"
   ]
  },
  {
   "cell_type": "markdown",
   "metadata": {},
   "source": [
    "## 10.3. Erster Einblick in Neuronale Netze <a class=\"anchor\" id=\"10-3\"/>"
   ]
  },
  {
   "cell_type": "markdown",
   "metadata": {},
   "source": [
    "<div class=\"alert alert-warning\">\n",
    "<b>Aufgabe:</b> Kapitel 2 - Bevor es losgeht: die mathematischen Bausteine eines NNs <br>\n",
    "    \n",
    "Lesen Sie Kapitel 2 des Buches. Kapitel 2.4 kann etwas schwierig sein, vor allem wenn das mathematische Wissen nicht so präsent ist. Die Intuition dieses Kapitels ist jedoch sehr wichtig, ziehen Sie bei Fragen auf jeden Fall weitere Wissensquellen zu Rate.<br>\n",
    "\n",
    "\n",
    "<b>Fragen</b>:\n",
    "- In Kapitel 2.1 werden zu Beginn die Daten mit dem Befehl `load_data()` geladen. Sie liegen schon als vektorisierte Daten vor. Wie können Sie unser Wikipedia-Korpus so vorverarbeiten, dass es für ein Deep Learning Modell verwendet werden kann?\n",
    "- Wie muss der Parameter `input_shape` für unsere Daten festgelegt werden?\n",
    "- In Kapitel 2.3 wird die Funktion `output = relu(dot(W, input) + b)` genutzt. Welche Teile müsste man verändern, um diesen Ausdruck in die Formel für Logistic Regression umzuwandeln? Die Formel für Logistic Regression: $ P(x) = \\frac{e^{(B0\\ +\\ B1 \\cdot x)}}{1\\ +\\ e^{(B0\\ +\\ B1 \\cdot x)}}$. Schauen Sie sich dabei vor allem die Formel für Linear Regression in Kapitel 6 an und versuchen Sie nachzuvollziehen, was der Unterschied zwischen der Formel für Linear Regression und Logistic Regression ist und wie dieser Unterschied formuliert werden kann.\n",
    "\n",
    "Antworten auf die Fragen finden sich in den nächsten beiden Kapiteln.\n",
    "</div>"
   ]
  },
  {
   "cell_type": "markdown",
   "metadata": {},
   "source": [
    "Die häufigste Darstellung von Neuronalen Netzen sehen wir auf dem folgenden Bild. Die vertikale Darstellung in Chollets Buch ist seltener, beide Darstellungen werden jedoch genutzt.\n",
    "<img src=\"tutorialdata/img/nn4_2.svg\" alt=\"Neuronal network 4 input, 2 hidden layer\" align=\"center\" width=\"600px;\">\n",
    "\n",
    "Das folgende NN (= Neuronale Netz) ist ein 2-Layer Netz. Die <b>Tiefe</b> (englisch: depth) eines NN wird durch die Anzahl der zu einem Modell beitragenden Layer bestimmt. Konkret bedeutet dies, dass der Input Layer nie mitgezählt wird. Der Input Layer besteht aus vier <b>Neuronen</b> (oder Knoten), der Hidden Layer aus zwei Neuronen und der Output Layer aus einem Neuron.<br>\n",
    "\n",
    "Doch was passiert in einem Neuronalen Netz? Wie klassifiziert es? Auf dem folgenden GIF sehen wir ein 2-Layer Netz. Daten, hier das Bild eines Hundes, werden dem <b>Input Layer</b> übergeben. In diesem Layer wird keine Berechnung durchgeführt, hier werden die (vektorisierten) Daten an das erste Hidden Layer weitergegeben. Im <b>Hidden Layer</b> führen die Neuronen/Knoten Berechnungen durch und geben in diesem Beispiel Informationen vom Input Layer zum Output Layer weiter. Ein Neuronales Netz hat oft mehr als einen Hidden Layer. Es kann also auch sein, dass ein Hidden Layer Informationen von dem vorherigen Hidden Layer zum nächsten Hidden Layer weitergibt. Der <b>Output Layer</b> nimmt Informationen des letzten Hidden Layers entgegen und übergibt sie einer Funktion. Bei einer Klassifikation ist die Ausgabe der Output Layer eine vorhergesagte Klasse $\\hat{Y}$, die dann im Training mit der tatsächlichen Klasse verglichen wird. In dieser Grafik haben wir zwei Klassen: Hund und Katze. Das Bild des Hundes wird dem Neuronalen Netz übergeben, welches am Ende die Klasse voraussagt. Diese Klasse wird mit der tatsächlichen Klasse verglichen. Stimmen sie nicht überein, wird ein <b>Loss score</b> (deutsch: Verlustscore) berechnet, mit welchem das Neuronale Netz optimiert wird."
   ]
  },
  {
   "cell_type": "markdown",
   "metadata": {},
   "source": [
    "![SegmentLocal](tutorialdata/img/nn_dog.gif \"Dog Prediction\")"
   ]
  },
  {
   "cell_type": "markdown",
   "metadata": {},
   "source": [
    "Ein Neuronales Netz ist im Grunde nichts anderes als eine Aneinanderreihung von mathematischen Operationen. Die Darstellung als Netz mit Neuronen dient nur der Anschauung. Wie diese mathematischen Operationen und die eigentlichen Schritte eines Trainignsalgorithmus im Einzelnen funktionieren, sehen wir anhand eines Beispiels im nächsten Kapitel."
   ]
  }
 ],
 "metadata": {
  "kernelspec": {
   "display_name": "Python 3",
   "language": "python",
   "name": "python3"
  },
  "language_info": {
   "codemirror_mode": {
    "name": "ipython",
    "version": 3
   },
   "file_extension": ".py",
   "mimetype": "text/x-python",
   "name": "python",
   "nbconvert_exporter": "python",
   "pygments_lexer": "ipython3",
   "version": "3.7.7"
  }
 },
 "nbformat": 4,
 "nbformat_minor": 2
}
