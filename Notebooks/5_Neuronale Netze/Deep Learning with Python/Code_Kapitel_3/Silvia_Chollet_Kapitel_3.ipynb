{
 "cells": [
  {
   "cell_type": "markdown",
   "id": "55ebc648",
   "metadata": {},
   "source": [
    "### First steps with TensorFlow"
   ]
  },
  {
   "cell_type": "code",
   "execution_count": 1,
   "id": "7e1c9f72",
   "metadata": {},
   "outputs": [
    {
     "name": "stdout",
     "output_type": "stream",
     "text": [
      "tf.Tensor(\n",
      "[[1.]\n",
      " [1.]], shape=(2, 1), dtype=float32)\n",
      "tf.Tensor(\n",
      "[[0.]\n",
      " [0.]], shape=(2, 1), dtype=float32)\n"
     ]
    }
   ],
   "source": [
    "# all-ones and all-zeros tensors\n",
    "import tensorflow as tf\n",
    "x = tf.ones(shape=(2, 1))\n",
    "print(x)\n",
    "\n",
    "x = tf.zeros(shape=(2, 1))\n",
    "print(x)"
   ]
  },
  {
   "cell_type": "code",
   "execution_count": 2,
   "id": "92a46563",
   "metadata": {},
   "outputs": [
    {
     "name": "stdout",
     "output_type": "stream",
     "text": [
      "tf.Tensor(\n",
      "[[-0.20412128]\n",
      " [ 0.50185245]\n",
      " [ 0.69164133]], shape=(3, 1), dtype=float32)\n",
      "tf.Tensor(\n",
      "[[0.18317437]\n",
      " [0.15483332]\n",
      " [0.69025147]], shape=(3, 1), dtype=float32)\n"
     ]
    }
   ],
   "source": [
    "# random tensors\n",
    "x = tf.random.normal(shape=(3, 1), mean=0., stddev=1.)\n",
    "print(x)\n",
    "\n",
    "x = tf.random.uniform(shape=(3, 1), minval=0., maxval=1.)\n",
    "print(x)"
   ]
  },
  {
   "cell_type": "code",
   "execution_count": 3,
   "id": "4539125e",
   "metadata": {},
   "outputs": [],
   "source": [
    "# numpy arrays are assignable...\n",
    "import numpy as np\n",
    "x = np.ones(shape=(2, 2))\n",
    "x[0, 0] = 0."
   ]
  },
  {
   "cell_type": "code",
   "execution_count": 4,
   "id": "9e1298f3",
   "metadata": {},
   "outputs": [
    {
     "ename": "TypeError",
     "evalue": "'tensorflow.python.framework.ops.EagerTensor' object does not support item assignment",
     "output_type": "error",
     "traceback": [
      "\u001b[0;31m--------------------------------------------------------------------------\u001b[0m",
      "\u001b[0;31mTypeError\u001b[0m                                Traceback (most recent call last)",
      "\u001b[0;32m<ipython-input-4-427126ab86c9>\u001b[0m in \u001b[0;36m<module>\u001b[0;34m\u001b[0m\n\u001b[1;32m      1\u001b[0m \u001b[0;31m# ... not TF-tensors, because they are constant (see the error message)\u001b[0m\u001b[0;34m\u001b[0m\u001b[0;34m\u001b[0m\u001b[0;34m\u001b[0m\u001b[0m\n\u001b[1;32m      2\u001b[0m \u001b[0mx\u001b[0m \u001b[0;34m=\u001b[0m \u001b[0mtf\u001b[0m\u001b[0;34m.\u001b[0m\u001b[0mones\u001b[0m\u001b[0;34m(\u001b[0m\u001b[0mshape\u001b[0m\u001b[0;34m=\u001b[0m\u001b[0;34m(\u001b[0m\u001b[0;36m2\u001b[0m\u001b[0;34m,\u001b[0m \u001b[0;36m2\u001b[0m\u001b[0;34m)\u001b[0m\u001b[0;34m)\u001b[0m\u001b[0;34m\u001b[0m\u001b[0;34m\u001b[0m\u001b[0m\n\u001b[0;32m----> 3\u001b[0;31m \u001b[0mx\u001b[0m\u001b[0;34m[\u001b[0m\u001b[0;36m0\u001b[0m\u001b[0;34m,\u001b[0m \u001b[0;36m0\u001b[0m\u001b[0;34m]\u001b[0m \u001b[0;34m=\u001b[0m \u001b[0;36m0.\u001b[0m\u001b[0;34m\u001b[0m\u001b[0;34m\u001b[0m\u001b[0m\n\u001b[0m",
      "\u001b[0;31mTypeError\u001b[0m: 'tensorflow.python.framework.ops.EagerTensor' object does not support item assignment"
     ]
    }
   ],
   "source": [
    "# ... not TF-tensors, because they are constant (see the error message)\n",
    "x = tf.ones(shape=(2, 2))\n",
    "x[0, 0] = 0."
   ]
  },
  {
   "cell_type": "code",
   "execution_count": 5,
   "id": "f1cd9874",
   "metadata": {},
   "outputs": [
    {
     "name": "stdout",
     "output_type": "stream",
     "text": [
      "<tf.Variable 'Variable:0' shape=(3, 1) dtype=float32, numpy=\n",
      "array([[-0.3539406],\n",
      "       [ 0.6795845],\n",
      "       [ 1.111889 ]], dtype=float32)>\n"
     ]
    }
   ],
   "source": [
    "# creating a variable\n",
    "v = tf.Variable(initial_value=tf.random.normal(shape=(3, 1)))\n",
    "print(v)"
   ]
  },
  {
   "cell_type": "code",
   "execution_count": 6,
   "id": "06b808e5",
   "metadata": {},
   "outputs": [
    {
     "data": {
      "text/plain": [
       "<tf.Variable 'UnreadVariable' shape=(3, 1) dtype=float32, numpy=\n",
       "array([[1.],\n",
       "       [1.],\n",
       "       [1.]], dtype=float32)>"
      ]
     },
     "execution_count": 6,
     "metadata": {},
     "output_type": "execute_result"
    }
   ],
   "source": [
    "# modifying the state of the variable with 'assign' method\n",
    "v.assign(tf.ones((3, 1)))"
   ]
  },
  {
   "cell_type": "code",
   "execution_count": 7,
   "id": "f43d1517",
   "metadata": {},
   "outputs": [
    {
     "data": {
      "text/plain": [
       "<tf.Variable 'UnreadVariable' shape=(3, 1) dtype=float32, numpy=\n",
       "array([[3.],\n",
       "       [1.],\n",
       "       [1.]], dtype=float32)>"
      ]
     },
     "execution_count": 7,
     "metadata": {},
     "output_type": "execute_result"
    }
   ],
   "source": [
    "# modifying the state of the subset of a variable with 'assign' method\n",
    "v[0, 0].assign(3.)"
   ]
  },
  {
   "cell_type": "code",
   "execution_count": 8,
   "id": "b7905018",
   "metadata": {},
   "outputs": [
    {
     "data": {
      "text/plain": [
       "<tf.Variable 'UnreadVariable' shape=(3, 1) dtype=float32, numpy=\n",
       "array([[4.],\n",
       "       [2.],\n",
       "       [2.]], dtype=float32)>"
      ]
     },
     "execution_count": 8,
     "metadata": {},
     "output_type": "execute_result"
    }
   ],
   "source": [
    "# 'assign_add' is equal to +=\n",
    "v.assign_add(tf.ones((3, 1)))"
   ]
  },
  {
   "cell_type": "code",
   "execution_count": null,
   "id": "f30271c9",
   "metadata": {},
   "outputs": [],
   "source": [
    "# basic math operations for TF-tensors\n",
    "a = tf.ones((2, 2))\n",
    "b = tf.square(a)\n",
    "c = tf.sqrt(a)\n",
    "d = b + c\n",
    "e = tf.matmul(a, b)\n",
    "e *= d"
   ]
  },
  {
   "cell_type": "code",
   "execution_count": 9,
   "id": "6698b7c6",
   "metadata": {},
   "outputs": [],
   "source": [
    "# Difference with Nunpy:\n",
    "# use of GradientTape to retrieve the gradient of any differential expression with respect to any of its inputs -\n",
    "# e.g. retrieve the gradients of the weights of a model with respect to its loss -\n",
    "input_var = tf.Variable(initial_value=3.)\n",
    "with tf.GradientTape() as tape:\n",
    "    result = tf.square(input_var)\n",
    "gradient = tape.gradient(result, input_var)"
   ]
  },
  {
   "cell_type": "code",
   "execution_count": 10,
   "id": "c0e39e54",
   "metadata": {},
   "outputs": [],
   "source": [
    "# GradientTape with constant tensor inputs\n",
    "input_const = tf.constant(3.)\n",
    "with tf.GradientTape() as tape:\n",
    "    tape.watch(input_const)\n",
    "    result = tf.square(input_const)\n",
    "gradient = tape.gradient(result, input_const)"
   ]
  },
  {
   "cell_type": "code",
   "execution_count": 11,
   "id": "11efb1cf",
   "metadata": {},
   "outputs": [],
   "source": [
    "# using nested gradient tapes to compute second-order gradients\n",
    "time = tf.Variable(0.)\n",
    "with tf.GradientTape() as outer_tape:\n",
    "    with tf.GradientTape() as inner_tape:\n",
    "        position = 4.9 * time ** 2\n",
    "    speed = inner_tape.gradient(position, time)\n",
    "acceleration = outer_tape.gradient(speed, time)"
   ]
  },
  {
   "cell_type": "markdown",
   "id": "137d2f4b",
   "metadata": {},
   "source": [
    "### Linear classifier in pure TensorFlow"
   ]
  },
  {
   "cell_type": "code",
   "execution_count": 12,
   "id": "4c78708f",
   "metadata": {},
   "outputs": [],
   "source": [
    "# generating 2 classes of random points in a 2D plane\n",
    "num_samples_per_class = 1000\n",
    "negative_samples = np.random.multivariate_normal(\n",
    "    mean=[0, 3], cov=[[1, 0.5],[0.5, 1]], size=num_samples_per_class)\n",
    "positive_samples = np.random.multivariate_normal(\n",
    "    mean=[3, 0], cov=[[1, 0.5],[0.5, 1]], size=num_samples_per_class)"
   ]
  },
  {
   "cell_type": "code",
   "execution_count": 13,
   "id": "3a572cd2",
   "metadata": {},
   "outputs": [],
   "source": [
    "# stacking the 2 classes into an array with shape (2000,2)\n",
    "inputs = np.vstack((negative_samples, positive_samples)).astype(np.float32)"
   ]
  },
  {
   "cell_type": "code",
   "execution_count": 16,
   "id": "125116d6",
   "metadata": {},
   "outputs": [],
   "source": [
    "# generating the corresponding targets (0 and 1)\n",
    "targets = np.vstack((np.zeros((num_samples_per_class, 1), dtype='float32'),\n",
    "                    np.ones((num_samples_per_class, 1), dtype='float32')))"
   ]
  },
  {
   "cell_type": "code",
   "execution_count": 17,
   "id": "1d18365b",
   "metadata": {},
   "outputs": [
    {
     "data": {
      "image/png": "[encoded data removed]",
      "text/plain": [
       "<Figure size 432x288 with 1 Axes>"
      ]
     },
     "metadata": {
      "needs_background": "light"
     },
     "output_type": "display_data"
    }
   ],
   "source": [
    "# plotting the 2 point classes\n",
    "import matplotlib.pyplot as plt\n",
    "plt.scatter(inputs[:, 0], inputs[:, 1], c=targets[:, 0])\n",
    "plt.show()"
   ]
  },
  {
   "cell_type": "code",
   "execution_count": 18,
   "id": "fb20ac17",
   "metadata": {},
   "outputs": [],
   "source": [
    "# creating the linear classifier variables\n",
    "input_dim = 2\n",
    "output_dim = 1\n",
    "W = tf.Variable(initial_value=tf.random.uniform(shape=(input_dim, output_dim)))\n",
    "b = tf.Variable(initial_value=tf.zeros(shape=(output_dim,)))"
   ]
  },
  {
   "cell_type": "code",
   "execution_count": 19,
   "id": "1bb7c569",
   "metadata": {},
   "outputs": [],
   "source": [
    "# forward pass function\n",
    "def model(inputs):\n",
    "    return tf.matmul(inputs, W) + b"
   ]
  },
  {
   "cell_type": "code",
   "execution_count": 20,
   "id": "6562d535",
   "metadata": {},
   "outputs": [],
   "source": [
    "# mean squared error loss function\n",
    "def square_loss(targets, predictions):\n",
    "    per_sample_losses = tf.square(targets - predictions)\n",
    "    return tf.reduce_mean(per_sample_losses)"
   ]
  },
  {
   "cell_type": "code",
   "execution_count": 21,
   "id": "a87672fc",
   "metadata": {},
   "outputs": [],
   "source": [
    "# training step function\n",
    "learning_rate = 0.1\n",
    "\n",
    "def training_step(inputs, targets):\n",
    "    with tf.GradientTape() as tape:\n",
    "        predictions = model(inputs)\n",
    "        loss = square_loss(predictions, targets)\n",
    "    grad_loss_wrt_W, grad_loss_wrt_b = tape.gradient(loss, [W, b])\n",
    "    W.assign_sub(grad_loss_wrt_W * learning_rate)\n",
    "    b.assign_sub(grad_loss_wrt_b * learning_rate)\n",
    "    return loss"
   ]
  },
  {
   "cell_type": "code",
   "execution_count": 22,
   "id": "3e64964a",
   "metadata": {},
   "outputs": [
    {
     "name": "stdout",
     "output_type": "stream",
     "text": [
      "Loss at step 0: 0.2073\n",
      "Loss at step 1: 0.1082\n",
      "Loss at step 2: 0.0908\n",
      "Loss at step 3: 0.0835\n",
      "Loss at step 4: 0.0781\n",
      "Loss at step 5: 0.0733\n",
      "Loss at step 6: 0.0689\n",
      "Loss at step 7: 0.0649\n",
      "Loss at step 8: 0.0613\n",
      "Loss at step 9: 0.0580\n",
      "Loss at step 10: 0.0550\n",
      "Loss at step 11: 0.0523\n",
      "Loss at step 12: 0.0498\n",
      "Loss at step 13: 0.0475\n",
      "Loss at step 14: 0.0455\n",
      "Loss at step 15: 0.0436\n",
      "Loss at step 16: 0.0419\n",
      "Loss at step 17: 0.0403\n",
      "Loss at step 18: 0.0389\n",
      "Loss at step 19: 0.0376\n"
     ]
    }
   ],
   "source": [
    "# batch trsining loop\n",
    "for step in range(20):\n",
    "    loss = training_step(inputs, targets)\n",
    "    print('Loss at step %d: %.4f' % (step, loss))"
   ]
  },
  {
   "cell_type": "code",
   "execution_count": 23,
   "id": "5aaee2bc",
   "metadata": {},
   "outputs": [
    {
     "data": {
      "image/png": "[encoded data removed]",
      "text/plain": [
       "<Figure size 432x288 with 1 Axes>"
      ]
     },
     "metadata": {
      "needs_background": "light"
     },
     "output_type": "display_data"
    }
   ],
   "source": [
    "predictions = model(inputs)\n",
    "plt.scatter(inputs[:, 0], inputs[:, 1], c=predictions[:, 0] > 0.5)\n",
    "plt.show()"
   ]
  },
  {
   "cell_type": "code",
   "execution_count": 24,
   "id": "90172dc6",
   "metadata": {},
   "outputs": [
    {
     "data": {
      "text/plain": [
       "<matplotlib.collections.PathCollection at 0x7f6ee8a679a0>"
      ]
     },
     "execution_count": 24,
     "metadata": {},
     "output_type": "execute_result"
    },
    {
     "data": {
      "image/png": "[encoded data removed]",
      "text/plain": [
       "<Figure size 432x288 with 1 Axes>"
      ]
     },
     "metadata": {
      "needs_background": "light"
     },
     "output_type": "display_data"
    }
   ],
   "source": [
    "# plotting the line, for which the classifier finds the parameters\n",
    "x = np.linspace(-1, 4, 100)\n",
    "y = - W[0] / W[1] * x + (0.5 - b) / W[1]\n",
    "plt.plot(x, y, '-r')\n",
    "plt.scatter(inputs[:, 0], inputs[:, 1], c=predictions[:, 0] > 0.5)"
   ]
  },
  {
   "cell_type": "markdown",
   "id": "be023bd7",
   "metadata": {},
   "source": [
    "### Anatomy of a neural network: understanding core Keras API"
   ]
  },
  {
   "cell_type": "code",
   "execution_count": 25,
   "id": "8e66c2f7",
   "metadata": {},
   "outputs": [],
   "source": [
    "# the base 'layer' class in Keras: an object that incapsulates weights and a forward pass \n",
    "import numpy as np\n",
    "import tensorflow as tf\n",
    "from tensorflow import keras\n",
    "\n",
    "class SimpleDense(keras.layers.Layer):\n",
    "    \n",
    "    def __init__(self, units, activation=None):\n",
    "        super(SimpleDense, self).__init__()\n",
    "        self.units = units\n",
    "        self.activation = activation\n",
    "        \n",
    "    def build(self, input_shape):\n",
    "        input_dim = input_shape[-1]\n",
    "        self.W = self.add_weight(shape=(input_dim, self.units),\n",
    "                                initializer='random_normal')\n",
    "        self.b = self.add_weight(shape=(self.units,),\n",
    "                                initializer='zeros')\n",
    "\n",
    "    def call(self, inputs):\n",
    "        y = tf.matmul(inputs, self.W) + self.b\n",
    "        if self.activation is not None:\n",
    "            y = self.activation(y)\n",
    "        return y"
   ]
  },
  {
   "cell_type": "code",
   "execution_count": 26,
   "id": "c9f39598",
   "metadata": {},
   "outputs": [
    {
     "name": "stdout",
     "output_type": "stream",
     "text": [
      "(2, 32)\n"
     ]
    }
   ],
   "source": [
    "my_dense = SimpleDense(units=32, activation=tf.nn.relu)\n",
    "input_tensor = tf.ones(shape=(2, 784))\n",
    "output_tensor = my_dense(input_tensor)\n",
    "print(output_tensor.shape)"
   ]
  },
  {
   "cell_type": "code",
   "execution_count": 27,
   "id": "8766d92f",
   "metadata": {},
   "outputs": [],
   "source": [
    "# automatic shape inference: building layers on the fly\n",
    "from tensorflow.keras import layers\n",
    "layer = layers.Dense(32, activation='relu')"
   ]
  },
  {
   "cell_type": "code",
   "execution_count": 28,
   "id": "77df362e",
   "metadata": {},
   "outputs": [],
   "source": [
    "# the added layers are dynamically built to match the shape of the incoming layer\n",
    "from tensorflow.keras import models\n",
    "from tensorflow.keras import layers\n",
    "model = models.Sequential([\n",
    "layers.Dense(32, activation='relu'),\n",
    "layers.Dense(32)\n",
    "])"
   ]
  },
  {
   "cell_type": "code",
   "execution_count": null,
   "id": "da40dc13",
   "metadata": {},
   "outputs": [],
   "source": [
    "# with a NaiveDense layer - chapter 2 - you have to pass the layer's input size explicitly to the constructor,\n",
    "# in order to get its weights\n",
    "model = NaiveSequential([\n",
    "NaiveDense(input_size=784, output_size=32, activation='relu'),\n",
    "NaiveDense(input_size=32, output_size=64, activation='relu'),\n",
    "NaiveDense(input_size=64, output_size=32, activation='relu'),\n",
    "NaiveDense(input_size=32, output_size=10, activation='softmax')\n",
    "])"
   ]
  },
  {
   "cell_type": "code",
   "execution_count": 29,
   "id": "f31fa6ee",
   "metadata": {},
   "outputs": [],
   "source": [
    "# applies automatic shape inference\n",
    "model = keras.Sequential([\n",
    "SimpleDense(32, activation='relu'),\n",
    "SimpleDense(64, activation='relu'),\n",
    "SimpleDense(32, activation='relu'),\n",
    "SimpleDense(10, activation='softmax')\n",
    "])"
   ]
  },
  {
   "cell_type": "markdown",
   "id": "194d8a9a",
   "metadata": {},
   "source": [
    "### From layers to models"
   ]
  },
  {
   "cell_type": "code",
   "execution_count": 30,
   "id": "51ac8851",
   "metadata": {},
   "outputs": [],
   "source": [
    "# the \"compile\" step: configuring the learning process\n",
    "model = keras.Sequential([keras.layers.Dense(1)])\n",
    "model.compile(optimizer='rmsprop',\n",
    "loss='mean_squared_error',\n",
    "metrics=['accuracy'])"
   ]
  },
  {
   "cell_type": "code",
   "execution_count": 31,
   "id": "563261b8",
   "metadata": {},
   "outputs": [],
   "source": [
    "model.compile(optimizer=keras.optimizers.RMSprop(),\n",
    "            loss=keras.losses.MeanSquaredError(),\n",
    "            metrics=[keras.metrics.BinaryAccuracy()])"
   ]
  },
  {
   "cell_type": "code",
   "execution_count": null,
   "id": "14b523a9",
   "metadata": {},
   "outputs": [],
   "source": [
    "# sample showing the use of 'learning_rate' argument\n",
    "model.compile(optimizer=keras.optimizers.RMSprop(learning_rate=1e-4),\n",
    "            loss=my_custom_loss,\n",
    "            metrics=[my_custom_metric_1, my_custom_metric_2])"
   ]
  },
  {
   "cell_type": "code",
   "execution_count": 32,
   "id": "d79d3a2a",
   "metadata": {},
   "outputs": [
    {
     "name": "stdout",
     "output_type": "stream",
     "text": [
      "Epoch 1/5\n",
      "16/16 [==============================] - 0s 637us/step - loss: 13.0237 - binary_accuracy: 0.0390\n",
      "Epoch 2/5\n",
      "16/16 [==============================] - 0s 586us/step - loss: 12.5931 - binary_accuracy: 0.0400\n",
      "Epoch 3/5\n",
      "16/16 [==============================] - 0s 584us/step - loss: 12.2277 - binary_accuracy: 0.0405\n",
      "Epoch 4/5\n",
      "16/16 [==============================] - 0s 601us/step - loss: 11.8734 - binary_accuracy: 0.0415\n",
      "Epoch 5/5\n",
      "16/16 [==============================] - 0s 537us/step - loss: 11.5255 - binary_accuracy: 0.0415\n"
     ]
    }
   ],
   "source": [
    "# calling 'fit' with NumPy data\n",
    "history = model.fit(\n",
    "    inputs,\n",
    "    targets,\n",
    "    epochs=5,\n",
    "    batch_size=128\n",
    ")"
   ]
  },
  {
   "cell_type": "code",
   "execution_count": 33,
   "id": "70bcdb89",
   "metadata": {},
   "outputs": [
    {
     "data": {
      "text/plain": [
       "{'loss': [13.023746490478516,\n",
       "  12.593077659606934,\n",
       "  12.22769832611084,\n",
       "  11.87337589263916,\n",
       "  11.525514602661133],\n",
       " 'binary_accuracy': [0.039000000804662704,\n",
       "  0.03999999910593033,\n",
       "  0.04050000011920929,\n",
       "  0.04149999842047691,\n",
       "  0.04149999842047691]}"
      ]
     },
     "execution_count": 33,
     "metadata": {},
     "output_type": "execute_result"
    }
   ],
   "source": [
    "# 'History' object contains  dictionary mapping keys to the list of their per-epoch values\n",
    "history.history"
   ]
  },
  {
   "cell_type": "code",
   "execution_count": 34,
   "id": "27bd79c7",
   "metadata": {},
   "outputs": [
    {
     "name": "stdout",
     "output_type": "stream",
     "text": [
      "Epoch 1/5\n",
      "38/38 [==============================] - 0s 3ms/step - loss: 0.1772 - binary_accuracy: 0.9400 - val_loss: 0.0442 - val_binary_accuracy: 0.9850\n",
      "Epoch 2/5\n",
      "38/38 [==============================] - 0s 1ms/step - loss: 0.0602 - binary_accuracy: 0.9700 - val_loss: 0.0261 - val_binary_accuracy: 0.9983\n",
      "Epoch 3/5\n",
      "38/38 [==============================] - 0s 1ms/step - loss: 0.0742 - binary_accuracy: 0.9583 - val_loss: 0.0315 - val_binary_accuracy: 0.9983\n",
      "Epoch 4/5\n",
      "38/38 [==============================] - 0s 1ms/step - loss: 0.0639 - binary_accuracy: 0.9633 - val_loss: 0.0288 - val_binary_accuracy: 0.9983\n",
      "Epoch 5/5\n",
      "38/38 [==============================] - 0s 1ms/step - loss: 0.0657 - binary_accuracy: 0.9617 - val_loss: 0.0569 - val_binary_accuracy: 0.9883\n"
     ]
    },
    {
     "data": {
      "text/plain": [
       "<tensorflow.python.keras.callbacks.History at 0x7f6edc1ba310>"
      ]
     },
     "execution_count": 34,
     "metadata": {},
     "output_type": "execute_result"
    }
   ],
   "source": [
    "# using the validation data argument\n",
    "model = keras.Sequential([keras.layers.Dense(1)])\n",
    "model.compile(optimizer=keras.optimizers.RMSprop(learning_rate=0.1),\n",
    "            loss=keras.losses.MeanSquaredError(),\n",
    "            metrics=[keras.metrics.BinaryAccuracy()])\n",
    "\n",
    "indices_permutation = np.random.permutation(len(inputs))\n",
    "shuffled_inputs = inputs[indices_permutation]\n",
    "shuffled_targets = targets[indices_permutation]\n",
    "\n",
    "num_validation_samples = int(0.3 * len(inputs))\n",
    "val_inputs = shuffled_inputs[-num_validation_samples:]\n",
    "val_targets = shuffled_targets[-num_validation_samples:]\n",
    "training_inputs = shuffled_inputs[:num_validation_samples]\n",
    "training_targets = shuffled_targets[:num_validation_samples]\n",
    "model.fit(\n",
    "    training_inputs,\n",
    "    training_targets,\n",
    "    epochs=5,\n",
    "    batch_size=16,\n",
    "    validation_data=(val_inputs, val_targets)\n",
    ")"
   ]
  },
  {
   "cell_type": "code",
   "execution_count": 35,
   "id": "57bc08d4",
   "metadata": {},
   "outputs": [],
   "source": [
    "# New inputs are generated randomly as in the example above (cells 12-16)\n",
    "# generating 2 classes of random points in a 2D plane\n",
    "num_samples_per_class = 1000\n",
    "negative_samples1 = np.random.multivariate_normal(\n",
    "    mean=[0, 3], cov=[[1, 0.5],[0.5, 1]], size=num_samples_per_class)\n",
    "positive_samples1 = np.random.multivariate_normal(\n",
    "    mean=[3, 0], cov=[[1, 0.5],[0.5, 1]], size=num_samples_per_class)"
   ]
  },
  {
   "cell_type": "code",
   "execution_count": 36,
   "id": "5c2de7ea",
   "metadata": {},
   "outputs": [],
   "source": [
    "# stacking the 2 classes into an array with shape (2000,2)\n",
    "inputs1 = np.vstack((negative_samples, positive_samples)).astype(np.float32)"
   ]
  },
  {
   "cell_type": "code",
   "execution_count": 37,
   "id": "ca0977a3",
   "metadata": {},
   "outputs": [],
   "source": [
    "# generating the corresponding targets (0 and 1)\n",
    "targets1 = np.vstack((np.zeros((num_samples_per_class, 1), dtype='float32'),\n",
    "                    np.ones((num_samples_per_class, 1), dtype='float32')))"
   ]
  },
  {
   "cell_type": "code",
   "execution_count": null,
   "id": "9e4baee7",
   "metadata": {},
   "outputs": [],
   "source": [
    "###"
   ]
  },
  {
   "cell_type": "code",
   "execution_count": 38,
   "id": "1870fbc2",
   "metadata": {},
   "outputs": [],
   "source": [
    "# Inference, i.e. using a model after training to make predictions on new data\n",
    "# naive approach, calling the the model\n",
    "predictions = model(inputs1)"
   ]
  },
  {
   "cell_type": "code",
   "execution_count": 39,
   "id": "65a27b60",
   "metadata": {},
   "outputs": [
    {
     "name": "stdout",
     "output_type": "stream",
     "text": [
      "[[ 0.37093207]\n",
      " [ 0.02768368]\n",
      " [ 0.21935695]\n",
      " [ 0.06769729]\n",
      " [ 0.0637866 ]\n",
      " [-0.02186275]\n",
      " [ 0.10061923]\n",
      " [ 0.1237433 ]\n",
      " [ 0.06748474]\n",
      " [ 0.16049993]]\n"
     ]
    }
   ],
   "source": [
    "# predict() method iterates ove the data in small batches and returns a NumPy array of predictions\n",
    "predictions = model.predict(inputs1, batch_size=128)\n",
    "print(predictions[:10])"
   ]
  },
  {
   "cell_type": "code",
   "execution_count": null,
   "id": "4d72717b",
   "metadata": {},
   "outputs": [],
   "source": []
  }
 ],
 "metadata": {
  "kernelspec": {
   "display_name": "Python 3",
   "language": "python",
   "name": "python3"
  },
  "language_info": {
   "codemirror_mode": {
    "name": "ipython",
    "version": 3
   },
   "file_extension": ".py",
   "mimetype": "text/x-python",
   "name": "python",
   "nbconvert_exporter": "python",
   "pygments_lexer": "ipython3",
   "version": "3.8.5"
  }
 },
 "nbformat": 4,
 "nbformat_minor": 5
}
