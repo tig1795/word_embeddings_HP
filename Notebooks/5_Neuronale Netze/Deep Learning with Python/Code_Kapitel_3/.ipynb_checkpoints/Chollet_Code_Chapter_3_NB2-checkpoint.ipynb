{
 "cells": [
  {
   "cell_type": "code",
   "execution_count": 1,
   "metadata": {},
   "outputs": [
    {
     "data": {
      "text/plain": [
       "'2.4.3'"
      ]
     },
     "execution_count": 1,
     "metadata": {},
     "output_type": "execute_result"
    }
   ],
   "source": [
    "import keras\n",
    "keras.__version__"
   ]
  },
  {
   "cell_type": "markdown",
   "metadata": {},
   "source": [
    "# Klassifizierung von Nachrichtensendungen: ein Beispiel für die Klassifizierung mehrerer Klassen\n",
    "\n",
    "Dieses Notizbuch enthält die Codebeispiele aus Kapitel 3, Abschnitt 5 von Deep Learning mit Python. Beachten Sie, dass der Originaltext weitaus mehr Inhalt aufweist, insbesondere weitere Erklärungen und Abbildungen: In diesem Notizbuch finden Sie nur Quellcode und zugehörige Kommentare.\n",
    "\n",
    "Im vorigen Abschnitt haben wir gesehen, wie Vektoreingaben mithilfe eines dicht verknüpften neuronalen Netzes in zwei sich gegenseitig ausschließende Klassen klassifiziert werden können. Aber was passiert, wenn Sie mehr als zwei Klassen haben?\n",
    "\n",
    "In diesem Abschnitt werden wir ein Netzwerk erstellen, um Reuters-Nachrichten in 46 verschiedene, sich gegenseitig ausschließende Themen zu klassifizieren. Da wir viele Klassen haben, ist dieses Problem ein Fall von \"Mehrklassen-Klassifikation\", und da jeder Datenpunkt nur einer Kategorie zugeordnet werden sollte, ist das Problem genauer gesagt ein Fall von \"Ein-Label-Mehrklassen-Klassifikation\". Wenn jeder Datenpunkt zu mehreren Kategorien (in unserem Fall Themen) gehören könnte, hätten wir es mit einem \"Multi-Label, Multi-Class-Klassifikation\"-Problem zu tun."
   ]
  },
  {
   "cell_type": "markdown",
   "metadata": {},
   "source": [
    "# Der Reuters-Datensatz\n",
    "\n",
    "Wir werden mit dem Reuters-Datensatz arbeiten, einem Satz von Kurznachrichten und deren Themen, der 1986 von Reuters veröffentlicht wurde. Es ist ein sehr einfacher, weit verbreiteter Spielzeugdatensatz für die Textklassifikation. Es gibt 46 verschiedene Themen; einige Themen sind stärker vertreten als andere, aber jedes Thema hat mindestens 10 Beispiele in der Trainingsmenge.\n",
    "\n",
    "Wie IMDB und MNIST wird auch der Reuters-Datensatz als Teil von Keras ausgeliefert. Werfen wir gleich einen Blick darauf:"
   ]
  },
  {
   "cell_type": "code",
   "execution_count": 2,
   "metadata": {},
   "outputs": [
    {
     "name": "stdout",
     "output_type": "stream",
     "text": [
      "Downloading data from https://storage.googleapis.com/tensorflow/tf-keras-datasets/reuters.npz\n",
      "2113536/2110848 [==============================] - 0s 0us/step\n"
     ]
    },
    {
     "name": "stderr",
     "output_type": "stream",
     "text": [
      "C:\\ProgramData\\Anaconda3\\lib\\site-packages\\tensorflow\\python\\keras\\datasets\\reuters.py:148: VisibleDeprecationWarning: Creating an ndarray from ragged nested sequences (which is a list-or-tuple of lists-or-tuples-or ndarrays with different lengths or shapes) is deprecated. If you meant to do this, you must specify 'dtype=object' when creating the ndarray\n",
      "  x_train, y_train = np.array(xs[:idx]), np.array(labels[:idx])\n",
      "C:\\ProgramData\\Anaconda3\\lib\\site-packages\\tensorflow\\python\\keras\\datasets\\reuters.py:149: VisibleDeprecationWarning: Creating an ndarray from ragged nested sequences (which is a list-or-tuple of lists-or-tuples-or ndarrays with different lengths or shapes) is deprecated. If you meant to do this, you must specify 'dtype=object' when creating the ndarray\n",
      "  x_test, y_test = np.array(xs[idx:]), np.array(labels[idx:])\n"
     ]
    }
   ],
   "source": [
    "from keras.datasets import reuters\n",
    "\n",
    "(train_data, train_labels), (test_data, test_labels) = reuters.load_data(num_words=10000)"
   ]
  },
  {
   "cell_type": "markdown",
   "metadata": {},
   "source": [
    "Wie beim IMDB-Datensatz schränkt das Argument num_words=10000 die Daten auf die 10.000 am häufigsten vorkommenden Wörter ein, die in den Daten gefunden wurden.\n",
    "\n",
    "Wir haben 8.982 Trainingsbeispiele und 2.246 Testbeispiele:"
   ]
  },
  {
   "cell_type": "code",
   "execution_count": 3,
   "metadata": {},
   "outputs": [
    {
     "data": {
      "text/plain": [
       "8982"
      ]
     },
     "execution_count": 3,
     "metadata": {},
     "output_type": "execute_result"
    }
   ],
   "source": [
    "len(train_data)"
   ]
  },
  {
   "cell_type": "code",
   "execution_count": 4,
   "metadata": {},
   "outputs": [
    {
     "data": {
      "text/plain": [
       "2246"
      ]
     },
     "execution_count": 4,
     "metadata": {},
     "output_type": "execute_result"
    }
   ],
   "source": [
    "len(test_data)"
   ]
  },
  {
   "cell_type": "markdown",
   "metadata": {},
   "source": [
    "Wie bei den IMDB-Reviews ist jedes Beispiel eine Liste von Ganzzahlen (Wortindizes):"
   ]
  },
  {
   "cell_type": "code",
   "execution_count": 5,
   "metadata": {},
   "outputs": [
    {
     "data": {
      "text/plain": [
       "[1,\n",
       " 245,\n",
       " 273,\n",
       " 207,\n",
       " 156,\n",
       " 53,\n",
       " 74,\n",
       " 160,\n",
       " 26,\n",
       " 14,\n",
       " 46,\n",
       " 296,\n",
       " 26,\n",
       " 39,\n",
       " 74,\n",
       " 2979,\n",
       " 3554,\n",
       " 14,\n",
       " 46,\n",
       " 4689,\n",
       " 4329,\n",
       " 86,\n",
       " 61,\n",
       " 3499,\n",
       " 4795,\n",
       " 14,\n",
       " 61,\n",
       " 451,\n",
       " 4329,\n",
       " 17,\n",
       " 12]"
      ]
     },
     "execution_count": 5,
     "metadata": {},
     "output_type": "execute_result"
    }
   ],
   "source": [
    "train_data[10]"
   ]
  },
  {
   "cell_type": "markdown",
   "metadata": {},
   "source": [
    "Falls Sie neugierig sind, hier ist, wie Sie es wieder in Worte entschlüsseln können:"
   ]
  },
  {
   "cell_type": "code",
   "execution_count": 6,
   "metadata": {},
   "outputs": [
    {
     "name": "stdout",
     "output_type": "stream",
     "text": [
      "Downloading data from https://storage.googleapis.com/tensorflow/tf-keras-datasets/reuters_word_index.json\n",
      "557056/550378 [==============================] - 0s 0us/step\n"
     ]
    }
   ],
   "source": [
    "word_index = reuters.get_word_index()\n",
    "reverse_word_index = dict([(value, key) for (key, value) in word_index.items()])\n",
    "# Beachten Sie, dass unsere Indizes um 3 versetzt wurden\n",
    "# weil 0, 1 und 2 reservierte Indizes für \"padding\", \"start of sequence\" und \"unknown\" sind.\n",
    "decoded_newswire = ' '.join([reverse_word_index.get(i - 3, '?') for i in train_data[0]])"
   ]
  },
  {
   "cell_type": "code",
   "execution_count": 7,
   "metadata": {},
   "outputs": [
    {
     "data": {
      "text/plain": [
       "'? ? ? said as a result of its december acquisition of space co it expects earnings per share in 1987 of 1 15 to 1 30 dlrs per share up from 70 cts in 1986 the company said pretax net should rise to nine to 10 mln dlrs from six mln dlrs in 1986 and rental operation revenues to 19 to 22 mln dlrs from 12 5 mln dlrs it said cash flow per share this year should be 2 50 to three dlrs reuter 3'"
      ]
     },
     "execution_count": 7,
     "metadata": {},
     "output_type": "execute_result"
    }
   ],
   "source": [
    "decoded_newswire"
   ]
  },
  {
   "cell_type": "markdown",
   "metadata": {},
   "source": [
    "Die einem Beispiel zugeordnete Bezeichnung ist eine ganze Zahl zwischen 0 und 45: ein Themenindex."
   ]
  },
  {
   "cell_type": "code",
   "execution_count": 8,
   "metadata": {},
   "outputs": [
    {
     "data": {
      "text/plain": [
       "3"
      ]
     },
     "execution_count": 8,
     "metadata": {},
     "output_type": "execute_result"
    }
   ],
   "source": [
    "train_labels[10]"
   ]
  },
  {
   "cell_type": "markdown",
   "metadata": {},
   "source": [
    "# Vorbereiten der Daten\n",
    "\n",
    "Wir können die Daten mit genau demselben Code wie in unserem vorherigen Beispiel vektorisieren:"
   ]
  },
  {
   "cell_type": "code",
   "execution_count": 9,
   "metadata": {},
   "outputs": [],
   "source": [
    "import numpy as np\n",
    "\n",
    "def vectorize_sequences(sequences, dimension=10000):\n",
    "    results = np.zeros((len(sequences), dimension))\n",
    "    for i, sequence in enumerate(sequences):\n",
    "        results[i, sequence] = 1.\n",
    "    return results\n",
    "\n",
    "# Unsere vektorisierten Trainingsdaten\n",
    "x_train = vectorize_sequences(train_data)\n",
    "# Unsere vektorisierten Testdaten\n",
    "x_test = vectorize_sequences(test_data)"
   ]
  },
  {
   "cell_type": "markdown",
   "metadata": {},
   "source": [
    "Um die Beschriftungen zu vektorisieren, gibt es zwei Möglichkeiten: Wir könnten die Beschriftungsliste einfach als Integer-Tensor darstellen, oder wir könnten eine \"One-Hot\"-Kodierung verwenden. Die One-Hot-Kodierung ist ein weit verbreitetes Format für kategoriale Daten, auch \"kategoriale Kodierung\" genannt. Eine genauere Erklärung der One-Hot-Kodierung finden Sie in Kapitel 6, Abschnitt 1. In unserem Fall besteht die One-Hot-Kodierung unserer Labels darin, dass jedes Label als All-Null-Vektor mit einer 1 an der Stelle des Label-Index eingebettet wird, z. B:"
   ]
  },
  {
   "cell_type": "code",
   "execution_count": 10,
   "metadata": {},
   "outputs": [],
   "source": [
    "def to_one_hot(labels, dimension=46):\n",
    "    results = np.zeros((len(labels), dimension))\n",
    "    for i, label in enumerate(labels):\n",
    "        results[i, label] = 1.\n",
    "    return results\n",
    "\n",
    "# Unsere vektorisierten Trainingsetiketten\n",
    "one_hot_train_labels = to_one_hot(train_labels)\n",
    "# Unsere vektorisierten Testetiketten\n",
    "one_hot_test_labels = to_one_hot(test_labels)"
   ]
  },
  {
   "cell_type": "markdown",
   "metadata": {},
   "source": [
    "Beachten Sie, dass es eine eingebaute Möglichkeit gibt, dies in Keras zu tun, die Sie bereits in unserem MNIST-Beispiel in Aktion gesehen haben:"
   ]
  },
  {
   "cell_type": "code",
   "execution_count": 11,
   "metadata": {},
   "outputs": [],
   "source": [
    "from keras.utils.np_utils import to_categorical\n",
    "\n",
    "one_hot_train_labels = to_categorical(train_labels)\n",
    "one_hot_test_labels = to_categorical(test_labels)"
   ]
  },
  {
   "cell_type": "markdown",
   "metadata": {},
   "source": [
    "# Aufbau unseres Netzwerks\n",
    "\n",
    "Dieses Problem der Themenklassifikation sieht unserem vorherigen Problem der Filmkritik-Klassifikation sehr ähnlich: In beiden Fällen versuchen wir, kurze Textabschnitte zu klassifizieren. Allerdings gibt es hier eine neue Einschränkung: Die Anzahl der Ausgabeklassen ist von 2 auf 46 gestiegen, d. h. die Dimensionalität des Ausgaberaums ist viel größer.\n",
    "\n",
    "In einem Stapel von Dense-Schichten, wie wir ihn verwendet haben, kann jede Schicht nur auf Informationen zugreifen, die in der Ausgabe der vorherigen Schicht vorhanden sind. Wenn eine Schicht einige für das Klassifizierungsproblem relevante Informationen auslässt, können diese Informationen von späteren Schichten nie wiederhergestellt werden: Jede Schicht kann potenziell zu einem \"Informationsengpass\" werden. In unserem vorherigen Beispiel haben wir 16-dimensionale Zwischenschichten verwendet, aber ein 16-dimensionaler Raum kann zu begrenzt sein, um die Trennung von 46 verschiedenen Klassen zu lernen: solche kleinen Schichten können als Informationsengpässe wirken, da sie permanent relevante Informationen fallen lassen.\n",
    "\n",
    "Aus diesem Grund werden wir größere Schichten verwenden. Versuchen wir es mit 64 Einheiten:"
   ]
  },
  {
   "cell_type": "code",
   "execution_count": 12,
   "metadata": {},
   "outputs": [],
   "source": [
    "from keras import models\n",
    "from keras import layers\n",
    "\n",
    "model = models.Sequential()\n",
    "model.add(layers.Dense(64, activation='relu', input_shape=(10000,)))\n",
    "model.add(layers.Dense(64, activation='relu'))\n",
    "model.add(layers.Dense(46, activation='softmax'))"
   ]
  },
  {
   "cell_type": "markdown",
   "metadata": {},
   "source": [
    "Es gibt zwei weitere Dinge, die Sie bei dieser Architektur beachten sollten:\n",
    "\n",
    "- Wir beenden das Netzwerk mit einer Dense-Schicht der Größe 46. Das bedeutet, dass unser Netzwerk für jede Eingabeprobe einen 46-dimensionalen Vektor ausgibt. Jeder Eintrag in diesem Vektor (jede Dimension) wird eine andere Ausgabeklasse kodieren.\n",
    "\n",
    "- Die letzte Schicht verwendet eine Softmax-Aktivierung. Dieses Muster haben Sie bereits im MNIST-Beispiel gesehen. Es bedeutet, dass das Netzwerk eine Wahrscheinlichkeitsverteilung über die 46 verschiedenen Ausgabeklassen ausgibt, d. h. für jede Eingabeprobe erzeugt das Netzwerk einen 46-dimensionalen Ausgabevektor, wobei output[i] die Wahrscheinlichkeit ist, dass die Probe zur Klasse i gehört. Die 46 Werte summieren sich zu 1.\n",
    "\n",
    "Die beste Verlustfunktion, die in diesem Fall verwendet werden kann, ist categorical_crossentropy. Sie misst den Abstand zwischen zwei Wahrscheinlichkeitsverteilungen: in unserem Fall zwischen der Wahrscheinlichkeitsverteilung, die von unserem Netzwerk ausgegeben wird, und der wahren Verteilung der Labels. Indem wir den Abstand zwischen diesen beiden Verteilungen minimieren, trainieren wir unser Netzwerk so, dass es etwas ausgibt, das den wahren Bezeichnungen so nahe wie möglich kommt."
   ]
  },
  {
   "cell_type": "code",
   "execution_count": 13,
   "metadata": {},
   "outputs": [],
   "source": [
    "model.compile(optimizer='rmsprop',\n",
    "              loss='categorical_crossentropy',\n",
    "              metrics=['accuracy'])"
   ]
  },
  {
   "cell_type": "markdown",
   "metadata": {},
   "source": [
    "# Validierung unseres Ansatzes\n",
    "\n",
    "Lassen Sie uns 1.000 Samples von unseren Trainingsdaten absondern, um sie als Validierungsset zu verwenden:"
   ]
  },
  {
   "cell_type": "code",
   "execution_count": 14,
   "metadata": {},
   "outputs": [],
   "source": [
    "x_val = x_train[:1000]\n",
    "partial_x_train = x_train[1000:]\n",
    "\n",
    "y_val = one_hot_train_labels[:1000]\n",
    "partial_y_train = one_hot_train_labels[1000:]"
   ]
  },
  {
   "cell_type": "markdown",
   "metadata": {},
   "source": [
    "Lassen Sie uns nun unser Netzwerk für 20 Epochen trainieren:"
   ]
  },
  {
   "cell_type": "code",
   "execution_count": 15,
   "metadata": {},
   "outputs": [
    {
     "name": "stdout",
     "output_type": "stream",
     "text": [
      "Epoch 1/20\n",
      "16/16 [==============================] - 1s 48ms/step - loss: 2.6804 - accuracy: 0.5109 - val_loss: 1.7610 - val_accuracy: 0.6470\n",
      "Epoch 2/20\n",
      "16/16 [==============================] - 1s 36ms/step - loss: 1.4459 - accuracy: 0.7023 - val_loss: 1.3241 - val_accuracy: 0.7180\n",
      "Epoch 3/20\n",
      "16/16 [==============================] - 1s 38ms/step - loss: 1.0810 - accuracy: 0.7711 - val_loss: 1.1842 - val_accuracy: 0.7410\n",
      "Epoch 4/20\n",
      "16/16 [==============================] - 1s 36ms/step - loss: 0.8630 - accuracy: 0.8156 - val_loss: 1.0830 - val_accuracy: 0.7710\n",
      "Epoch 5/20\n",
      "16/16 [==============================] - 1s 37ms/step - loss: 0.6947 - accuracy: 0.8568 - val_loss: 0.9974 - val_accuracy: 0.7970\n",
      "Epoch 6/20\n",
      "16/16 [==============================] - 1s 37ms/step - loss: 0.5610 - accuracy: 0.8822 - val_loss: 0.9411 - val_accuracy: 0.8100\n",
      "Epoch 7/20\n",
      "16/16 [==============================] - 1s 36ms/step - loss: 0.4529 - accuracy: 0.9058 - val_loss: 0.9390 - val_accuracy: 0.8090\n",
      "Epoch 8/20\n",
      "16/16 [==============================] - 1s 35ms/step - loss: 0.3705 - accuracy: 0.9219 - val_loss: 0.9057 - val_accuracy: 0.8240\n",
      "Epoch 9/20\n",
      "16/16 [==============================] - 1s 35ms/step - loss: 0.3032 - accuracy: 0.9347 - val_loss: 0.9097 - val_accuracy: 0.8160\n",
      "Epoch 10/20\n",
      "16/16 [==============================] - 1s 38ms/step - loss: 0.2591 - accuracy: 0.9424 - val_loss: 0.9091 - val_accuracy: 0.8150\n",
      "Epoch 11/20\n",
      "16/16 [==============================] - 1s 37ms/step - loss: 0.2156 - accuracy: 0.9469 - val_loss: 0.9333 - val_accuracy: 0.8150\n",
      "Epoch 12/20\n",
      "16/16 [==============================] - 1s 35ms/step - loss: 0.1952 - accuracy: 0.9511 - val_loss: 0.9497 - val_accuracy: 0.8190\n",
      "Epoch 13/20\n",
      "16/16 [==============================] - 1s 36ms/step - loss: 0.1711 - accuracy: 0.9515 - val_loss: 0.9375 - val_accuracy: 0.8160\n",
      "Epoch 14/20\n",
      "16/16 [==============================] - 1s 36ms/step - loss: 0.1579 - accuracy: 0.9536 - val_loss: 1.0121 - val_accuracy: 0.8100\n",
      "Epoch 15/20\n",
      "16/16 [==============================] - 1s 34ms/step - loss: 0.1427 - accuracy: 0.9569 - val_loss: 0.9869 - val_accuracy: 0.8180\n",
      "Epoch 16/20\n",
      "16/16 [==============================] - 1s 38ms/step - loss: 0.1340 - accuracy: 0.9569 - val_loss: 0.9898 - val_accuracy: 0.8150\n",
      "Epoch 17/20\n",
      "16/16 [==============================] - 1s 36ms/step - loss: 0.1282 - accuracy: 0.9551 - val_loss: 1.0107 - val_accuracy: 0.8130\n",
      "Epoch 18/20\n",
      "16/16 [==============================] - 1s 36ms/step - loss: 0.1197 - accuracy: 0.9585 - val_loss: 1.0923 - val_accuracy: 0.8050\n",
      "Epoch 19/20\n",
      "16/16 [==============================] - 1s 35ms/step - loss: 0.1173 - accuracy: 0.9562 - val_loss: 1.0597 - val_accuracy: 0.8130\n",
      "Epoch 20/20\n",
      "16/16 [==============================] - 1s 36ms/step - loss: 0.1100 - accuracy: 0.9588 - val_loss: 1.1197 - val_accuracy: 0.8100\n"
     ]
    }
   ],
   "source": [
    "history = model.fit(partial_x_train,\n",
    "                    partial_y_train,\n",
    "                    epochs=20,\n",
    "                    batch_size=512,\n",
    "                    validation_data=(x_val, y_val))"
   ]
  },
  {
   "cell_type": "code",
   "execution_count": 20,
   "metadata": {},
   "outputs": [
    {
     "data": {
      "text/plain": [
       "dict_keys(['loss', 'accuracy', 'val_loss', 'val_accuracy'])"
      ]
     },
     "execution_count": 20,
     "metadata": {},
     "output_type": "execute_result"
    }
   ],
   "source": [
    "history_dict = history.history\n",
    "history_dict.keys()"
   ]
  },
  {
   "cell_type": "markdown",
   "metadata": {},
   "source": [
    "Lassen Sie sich seine Verlust- und Genauigkeitskurven anzeigen:"
   ]
  },
  {
   "cell_type": "code",
   "execution_count": 17,
   "metadata": {},
   "outputs": [
    {
     "data": {
      "image/png": "[encoded data removed]",
      "text/plain": [
       "<Figure size 432x288 with 1 Axes>"
      ]
     },
     "metadata": {
      "needs_background": "light"
     },
     "output_type": "display_data"
    }
   ],
   "source": [
    "import matplotlib.pyplot as plt\n",
    "\n",
    "loss = history.history['loss']\n",
    "val_loss = history.history['val_loss']\n",
    "\n",
    "epochs = range(1, len(loss) + 1)\n",
    "\n",
    "plt.plot(epochs, loss, 'bo', label='Training loss')\n",
    "plt.plot(epochs, val_loss, 'b', label='Validation loss')\n",
    "plt.title('Training and validation loss')\n",
    "plt.xlabel('Epochs')\n",
    "plt.ylabel('Loss')\n",
    "plt.legend()\n",
    "\n",
    "plt.show()"
   ]
  },
  {
   "cell_type": "code",
   "execution_count": 21,
   "metadata": {},
   "outputs": [
    {
     "data": {
      "image/png": "[encoded data removed]",
      "text/plain": [
       "<Figure size 432x288 with 1 Axes>"
      ]
     },
     "metadata": {
      "needs_background": "light"
     },
     "output_type": "display_data"
    }
   ],
   "source": [
    "plt.clf()\n",
    "\n",
    "acc = history.history['accuracy']\n",
    "val_acc = history.history['val_accuracy']\n",
    "\n",
    "plt.plot(epochs, acc, 'bo', label='Training acc')\n",
    "plt.plot(epochs, val_acc, 'b', label='Validation acc')\n",
    "plt.title('Training and validation accuracy')\n",
    "plt.xlabel('Epochs')\n",
    "plt.ylabel('Loss')\n",
    "plt.legend()\n",
    "\n",
    "plt.show()"
   ]
  },
  {
   "cell_type": "markdown",
   "metadata": {},
   "source": [
    "Es scheint, dass das Netzwerk nach 8 Epochen zu overfitten beginnt. Lassen Sie uns ein neues Netzwerk von Grund auf für 8 Epochen trainieren und es dann auf dem Testset auswerten:"
   ]
  },
  {
   "cell_type": "code",
   "execution_count": 22,
   "metadata": {},
   "outputs": [
    {
     "name": "stdout",
     "output_type": "stream",
     "text": [
      "Epoch 1/8\n",
      "16/16 [==============================] - 1s 49ms/step - loss: 2.6768 - accuracy: 0.5396 - val_loss: 1.7884 - val_accuracy: 0.6460\n",
      "Epoch 2/8\n",
      "16/16 [==============================] - 1s 54ms/step - loss: 1.4402 - accuracy: 0.7081 - val_loss: 1.3162 - val_accuracy: 0.7220\n",
      "Epoch 3/8\n",
      "16/16 [==============================] - 1s 52ms/step - loss: 1.0661 - accuracy: 0.7775 - val_loss: 1.1744 - val_accuracy: 0.7380\n",
      "Epoch 4/8\n",
      "16/16 [==============================] - 1s 43ms/step - loss: 0.8451 - accuracy: 0.8222 - val_loss: 1.0454 - val_accuracy: 0.7930\n",
      "Epoch 5/8\n",
      "16/16 [==============================] - 1s 43ms/step - loss: 0.6780 - accuracy: 0.8594 - val_loss: 0.9652 - val_accuracy: 0.7990\n",
      "Epoch 6/8\n",
      "16/16 [==============================] - 1s 39ms/step - loss: 0.5493 - accuracy: 0.8866 - val_loss: 0.9554 - val_accuracy: 0.8100\n",
      "Epoch 7/8\n",
      "16/16 [==============================] - 1s 37ms/step - loss: 0.4432 - accuracy: 0.9093 - val_loss: 0.8977 - val_accuracy: 0.8170\n",
      "Epoch 8/8\n",
      "16/16 [==============================] - 1s 49ms/step - loss: 0.3594 - accuracy: 0.9248 - val_loss: 0.8967 - val_accuracy: 0.8180\n",
      "71/71 [==============================] - 0s 4ms/step - loss: 0.9745 - accuracy: 0.7898\n"
     ]
    }
   ],
   "source": [
    "model = models.Sequential()\n",
    "model.add(layers.Dense(64, activation='relu', input_shape=(10000,)))\n",
    "model.add(layers.Dense(64, activation='relu'))\n",
    "model.add(layers.Dense(46, activation='softmax'))\n",
    "\n",
    "model.compile(optimizer='rmsprop',\n",
    "              loss='categorical_crossentropy',\n",
    "              metrics=['accuracy'])\n",
    "model.fit(partial_x_train,\n",
    "          partial_y_train,\n",
    "          epochs=8,\n",
    "          batch_size=512,\n",
    "          validation_data=(x_val, y_val))\n",
    "results = model.evaluate(x_test, one_hot_test_labels)"
   ]
  },
  {
   "cell_type": "code",
   "execution_count": 23,
   "metadata": {},
   "outputs": [
    {
     "data": {
      "text/plain": [
       "[0.9745488166809082, 0.7898486256599426]"
      ]
     },
     "execution_count": 23,
     "metadata": {},
     "output_type": "execute_result"
    }
   ],
   "source": [
    "results"
   ]
  },
  {
   "cell_type": "markdown",
   "metadata": {},
   "source": [
    "Unser Ansatz erreicht eine Genauigkeit von ~78%. Bei einem ausgeglichenen binären Klassifikationsproblem würde die Genauigkeit, die ein rein zufälliger Klassifikator erreicht, 50 % betragen, aber in unserem Fall liegt sie näher bei 19 %, sodass unsere Ergebnisse ziemlich gut erscheinen, zumindest im Vergleich zu einer zufälligen Basislinie:"
   ]
  },
  {
   "cell_type": "code",
   "execution_count": 25,
   "metadata": {},
   "outputs": [
    {
     "data": {
      "text/plain": [
       "0.18432769367764915"
      ]
     },
     "execution_count": 25,
     "metadata": {},
     "output_type": "execute_result"
    }
   ],
   "source": [
    "import copy\n",
    "\n",
    "test_labels_copy = copy.copy(test_labels)\n",
    "np.random.shuffle(test_labels_copy)\n",
    "float(np.sum(np.array(test_labels) == np.array(test_labels_copy))) / len(test_labels)"
   ]
  },
  {
   "cell_type": "markdown",
   "metadata": {},
   "source": [
    "# Erzeugen von Vorhersagen für neue Daten\n",
    "\n",
    "Wir können überprüfen, dass die Vorhersagemethode unserer Modellinstanz eine Wahrscheinlichkeitsverteilung über alle 46 Themen liefert. Lassen Sie uns nun Themenvorhersagen für alle Testdaten generieren:"
   ]
  },
  {
   "cell_type": "code",
   "execution_count": 26,
   "metadata": {},
   "outputs": [],
   "source": [
    "predictions = model.predict(x_test)"
   ]
  },
  {
   "cell_type": "markdown",
   "metadata": {},
   "source": [
    "Jeder Eintrag in predictions ist ein Vektor der Länge 46:"
   ]
  },
  {
   "cell_type": "code",
   "execution_count": 27,
   "metadata": {},
   "outputs": [
    {
     "data": {
      "text/plain": [
       "(46,)"
      ]
     },
     "execution_count": 27,
     "metadata": {},
     "output_type": "execute_result"
    }
   ],
   "source": [
    "predictions[0].shape"
   ]
  },
  {
   "cell_type": "markdown",
   "metadata": {},
   "source": [
    "Die Koeffizienten in diesem Vektor summieren sich zu 1:"
   ]
  },
  {
   "cell_type": "code",
   "execution_count": 28,
   "metadata": {},
   "outputs": [
    {
     "data": {
      "text/plain": [
       "1.0000001"
      ]
     },
     "execution_count": 28,
     "metadata": {},
     "output_type": "execute_result"
    }
   ],
   "source": [
    "np.sum(predictions[0])"
   ]
  },
  {
   "cell_type": "markdown",
   "metadata": {},
   "source": [
    "Der größte Eintrag ist die vorhergesagte Klasse, d. h. die Klasse mit der höchsten Wahrscheinlichkeit:"
   ]
  },
  {
   "cell_type": "code",
   "execution_count": 30,
   "metadata": {},
   "outputs": [
    {
     "data": {
      "text/plain": [
       "3"
      ]
     },
     "execution_count": 30,
     "metadata": {},
     "output_type": "execute_result"
    }
   ],
   "source": [
    "np.argmax(predictions[0])"
   ]
  },
  {
   "cell_type": "markdown",
   "metadata": {},
   "source": [
    "# Eine andere Art, die Beschriftungen und den Verlust zu behandeln\n",
    "\n",
    "Wir haben bereits erwähnt, dass eine andere Möglichkeit, die Beschriftungen zu kodieren, darin bestünde, sie als Integer-Tensor zu kodieren, etwa so:"
   ]
  },
  {
   "cell_type": "code",
   "execution_count": 31,
   "metadata": {},
   "outputs": [],
   "source": [
    "y_train = np.array(train_labels)\n",
    "y_test = np.array(test_labels)"
   ]
  },
  {
   "cell_type": "markdown",
   "metadata": {},
   "source": [
    "Das Einzige, was sich dadurch ändern würde, ist die Wahl der Verlustfunktion. Unsere bisherige Verlustfunktion, categorical_crossentropy, erwartet, dass die Beschriftungen einer kategorialen Kodierung folgen. Bei ganzzahligen Beschriftungen sollten wir sparse_categorical_crossentropy verwenden:"
   ]
  },
  {
   "cell_type": "code",
   "execution_count": 32,
   "metadata": {},
   "outputs": [],
   "source": [
    "model.compile(optimizer='rmsprop', loss='sparse_categorical_crossentropy', metrics=['acc'])"
   ]
  },
  {
   "cell_type": "markdown",
   "metadata": {},
   "source": [
    "Diese neue Verlustfunktion ist mathematisch immer noch die gleiche wie categorical_crossentropy; sie hat nur eine andere Schnittstelle."
   ]
  },
  {
   "cell_type": "markdown",
   "metadata": {},
   "source": [
    "# Über die Bedeutung ausreichend großer Zwischenschichten\n",
    "\n",
    "Wir haben bereits erwähnt, dass wir, da unsere endgültigen Ausgaben 46-dimensional sind, Zwischenschichten mit viel weniger als 46 versteckten Einheiten vermeiden sollten. Nun wollen wir versuchen zu sehen, was passiert, wenn wir einen Informationsengpass einführen, indem wir Zwischenschichten mit deutlich weniger als 46-dimensionalen, z. B. 4-dimensionalen, haben."
   ]
  },
  {
   "cell_type": "code",
   "execution_count": 34,
   "metadata": {},
   "outputs": [
    {
     "name": "stdout",
     "output_type": "stream",
     "text": [
      "Epoch 1/20\n",
      "63/63 [==============================] - 1s 17ms/step - loss: 2.7669 - accuracy: 0.3449 - val_loss: 2.0567 - val_accuracy: 0.5630\n",
      "Epoch 2/20\n",
      "63/63 [==============================] - 1s 17ms/step - loss: 1.7791 - accuracy: 0.5778 - val_loss: 1.6294 - val_accuracy: 0.5870\n",
      "Epoch 3/20\n",
      "63/63 [==============================] - 1s 20ms/step - loss: 1.4524 - accuracy: 0.6086 - val_loss: 1.4514 - val_accuracy: 0.6130\n",
      "Epoch 4/20\n",
      "63/63 [==============================] - 1s 18ms/step - loss: 1.2433 - accuracy: 0.6547 - val_loss: 1.3792 - val_accuracy: 0.6400\n",
      "Epoch 5/20\n",
      "63/63 [==============================] - 1s 20ms/step - loss: 1.0901 - accuracy: 0.7001 - val_loss: 1.3293 - val_accuracy: 0.6690\n",
      "Epoch 6/20\n",
      "63/63 [==============================] - 1s 20ms/step - loss: 0.9769 - accuracy: 0.7414 - val_loss: 1.3054 - val_accuracy: 0.6860\n",
      "Epoch 7/20\n",
      "63/63 [==============================] - 1s 20ms/step - loss: 0.8855 - accuracy: 0.7730 - val_loss: 1.2765 - val_accuracy: 0.7000\n",
      "Epoch 8/20\n",
      "63/63 [==============================] - 1s 18ms/step - loss: 0.8095 - accuracy: 0.7925 - val_loss: 1.3033 - val_accuracy: 0.7050\n",
      "Epoch 9/20\n",
      "63/63 [==============================] - 1s 16ms/step - loss: 0.7434 - accuracy: 0.8106 - val_loss: 1.3077 - val_accuracy: 0.7000\n",
      "Epoch 10/20\n",
      "63/63 [==============================] - 1s 16ms/step - loss: 0.6876 - accuracy: 0.8245 - val_loss: 1.3171 - val_accuracy: 0.7080\n",
      "Epoch 11/20\n",
      "63/63 [==============================] - 1s 18ms/step - loss: 0.6358 - accuracy: 0.8408 - val_loss: 1.3717 - val_accuracy: 0.7090\n",
      "Epoch 12/20\n",
      "63/63 [==============================] - 1s 22ms/step - loss: 0.5936 - accuracy: 0.8508 - val_loss: 1.3874 - val_accuracy: 0.7120\n",
      "Epoch 13/20\n",
      "63/63 [==============================] - 1s 22ms/step - loss: 0.5543 - accuracy: 0.8584 - val_loss: 1.4378 - val_accuracy: 0.7140\n",
      "Epoch 14/20\n",
      "63/63 [==============================] - 1s 18ms/step - loss: 0.5246 - accuracy: 0.8675 - val_loss: 1.4550 - val_accuracy: 0.7210\n",
      "Epoch 15/20\n",
      "63/63 [==============================] - 1s 16ms/step - loss: 0.4923 - accuracy: 0.8720 - val_loss: 1.5413 - val_accuracy: 0.7180\n",
      "Epoch 16/20\n",
      "63/63 [==============================] - 1s 16ms/step - loss: 0.4692 - accuracy: 0.8775 - val_loss: 1.5489 - val_accuracy: 0.7200\n",
      "Epoch 17/20\n",
      "63/63 [==============================] - 1s 17ms/step - loss: 0.4456 - accuracy: 0.8835 - val_loss: 1.6163 - val_accuracy: 0.7280\n",
      "Epoch 18/20\n",
      "63/63 [==============================] - 1s 18ms/step - loss: 0.4273 - accuracy: 0.8891 - val_loss: 1.6177 - val_accuracy: 0.7250\n",
      "Epoch 19/20\n",
      "63/63 [==============================] - 1s 17ms/step - loss: 0.4099 - accuracy: 0.8916 - val_loss: 1.6976 - val_accuracy: 0.7210\n",
      "Epoch 20/20\n",
      "63/63 [==============================] - 1s 16ms/step - loss: 0.3938 - accuracy: 0.8938 - val_loss: 1.7551 - val_accuracy: 0.7270\n"
     ]
    },
    {
     "data": {
      "text/plain": [
       "<tensorflow.python.keras.callbacks.History at 0x1fcad8e0648>"
      ]
     },
     "execution_count": 34,
     "metadata": {},
     "output_type": "execute_result"
    }
   ],
   "source": [
    "model = models.Sequential()\n",
    "model.add(layers.Dense(64, activation='relu', input_shape=(10000,)))\n",
    "model.add(layers.Dense(4, activation='relu'))\n",
    "model.add(layers.Dense(46, activation='softmax'))\n",
    "\n",
    "model.compile(optimizer='rmsprop',\n",
    "              loss='categorical_crossentropy',\n",
    "              metrics=['accuracy'])\n",
    "model.fit(partial_x_train,\n",
    "          partial_y_train,\n",
    "          epochs=20,\n",
    "          batch_size=128,\n",
    "          validation_data=(x_val, y_val))"
   ]
  },
  {
   "cell_type": "markdown",
   "metadata": {},
   "source": [
    "Unser Netzwerk scheint jetzt bei ~71% Testgenauigkeit zu liegen, ein absoluter Abfall von 8%. Dieser Rückgang ist hauptsächlich darauf zurückzuführen, dass wir jetzt versuchen, eine Menge Informationen (genug Informationen, um die Trennungshyperflächen von 46 Klassen wiederherzustellen) in einen Zwischenraum zu komprimieren, der zu niedrig-dimensional ist. Das Netzwerk ist in der Lage, die meisten der notwendigen Informationen in diese 8-dimensionalen Repräsentationen zu packen, aber nicht alle."
   ]
  },
  {
   "cell_type": "markdown",
   "metadata": {},
   "source": [
    "# Weitere Experimente\n",
    "\n",
    "- Versuchen Sie, größere oder kleinere Layer zu verwenden: 32 Einheiten, 128 Einheiten...\n",
    "- Wir haben zwei versteckte Schichten verwendet. Versuchen Sie nun, eine einzelne versteckte Schicht oder drei versteckte Schichten zu verwenden."
   ]
  },
  {
   "cell_type": "markdown",
   "metadata": {},
   "source": [
    "# Abschließende Betrachtung\n",
    "\n",
    "Folgendes sollten Sie aus diesem Beispiel mitnehmen:\n",
    "\n",
    "- Wenn Sie versuchen, Datenpunkte zwischen N Klassen zu klassifizieren, sollte Ihr Netzwerk mit einer Dense-Schicht der Größe N enden.\n",
    "\n",
    "- Bei einem Ein-Label-Mehrklassen-Klassifikationsproblem sollte Ihr Netzwerk mit einer Softmax-Aktivierung enden, so dass es eine Wahrscheinlichkeitsverteilung über die N Ausgabeklassen ausgibt.\n",
    "- Die kategoriale Kreuzentropie ist fast immer die Verlustfunktion, die Sie für solche Probleme verwenden sollten. Sie minimiert den Abstand zwischen den Wahrscheinlichkeitsverteilungen, die vom Netz ausgegeben werden, und der wahren Verteilung der Ziele.\n",
    "- Es gibt zwei Möglichkeiten, Beschriftungen in der Mehrklassen-Klassifikation zu behandeln: Kodierung der Beschriftungen über \"kategorische Kodierung\" (auch als \"One-Hot-Kodierung\" bekannt) und Verwendung von \"categorical_crossentropy\" als Ihre Verlustfunktion. Kodierung der Beschriftungen als Ganzzahlen und Verwendung der Verlustfunktion \"sparse_categorical_crossentropy\".\n",
    "- Wenn Sie Daten in eine große Anzahl von Kategorien klassifizieren müssen, dann sollten Sie es vermeiden, durch zu kleine Zwischenschichten Informationsengpässe in Ihrem Netzwerk zu erzeugen."
   ]
  },
  {
   "cell_type": "code",
   "execution_count": null,
   "metadata": {},
   "outputs": [],
   "source": []
  }
 ],
 "metadata": {
  "kernelspec": {
   "display_name": "Python 3",
   "language": "python",
   "name": "python3"
  },
  "language_info": {
   "codemirror_mode": {
    "name": "ipython",
    "version": 3
   },
   "file_extension": ".py",
   "mimetype": "text/x-python",
   "name": "python",
   "nbconvert_exporter": "python",
   "pygments_lexer": "ipython3",
   "version": "3.7.4"
  },
  "toc": {
   "base_numbering": 1,
   "nav_menu": {},
   "number_sections": true,
   "sideBar": true,
   "skip_h1_title": false,
   "title_cell": "Table of Contents",
   "title_sidebar": "Contents",
   "toc_cell": false,
   "toc_position": {},
   "toc_section_display": true,
   "toc_window_display": false
  }
 },
 "nbformat": 4,
 "nbformat_minor": 2
}
