{
 "cells": [
  {
   "cell_type": "code",
   "execution_count": 1,
   "metadata": {},
   "outputs": [
    {
     "data": {
      "text/plain": [
       "'2.4.3'"
      ]
     },
     "execution_count": 1,
     "metadata": {},
     "output_type": "execute_result"
    }
   ],
   "source": [
    "import keras\n",
    "keras.__version__"
   ]
  },
  {
   "cell_type": "markdown",
   "metadata": {},
   "source": [
    "# Vorhersage von Hauspreisen: ein Regressionsbeispiel\n",
    "\n",
    "Dieses Notizbuch enthält die Codebeispiele aus Kapitel 3, Abschnitt 6 von Deep Learning mit Python.\n",
    "\n",
    "In unseren beiden vorherigen Beispielen haben wir Klassifizierungsprobleme betrachtet, bei denen das Ziel darin bestand, ein einzelnes diskretes Label eines Eingabedatenpunkts vorherzusagen. Eine andere häufige Art von maschinellen Lernproblemen ist die \"Regression\", bei der es darum geht, einen kontinuierlichen Wert anstelle einer diskreten Kennzeichnung vorherzusagen. Zum Beispiel die Vorhersage der morgigen Temperatur bei gegebenen meteorologischen Daten oder die Vorhersage der Zeit, die ein Softwareprojekt bei gegebenen Spezifikationen benötigen wird.\n",
    "\n",
    "Verwechseln Sie \"Regression\" nicht mit dem Algorithmus \"logistische Regression\": Verwirrenderweise ist \"logistische Regression\" kein Regressionsalgorithmus, sondern ein Klassifikationsalgorithmus."
   ]
  },
  {
   "cell_type": "markdown",
   "metadata": {},
   "source": [
    "# Der Datensatz für die Hauspreise in Boston\n",
    "\n",
    "Wir werden versuchen, den Medianpreis von Häusern in einem bestimmten Vorort von Boston Mitte der 1970er Jahre vorherzusagen, wenn wir einige Daten über den Vorort zu dieser Zeit haben, wie z. B. die Kriminalitätsrate, den lokalen Grundsteuersatz usw.\n",
    "\n",
    "Der Datensatz, den wir verwenden werden, hat einen weiteren interessanten Unterschied zu unseren beiden vorherigen Beispielen: Er hat nur sehr wenige Datenpunkte, insgesamt nur 506, aufgeteilt in 404 Trainingsmuster und 102 Testmuster, und jedes \"Merkmal\" in den Eingabedaten (z. B. die Kriminalitätsrate ist ein Merkmal) hat eine andere Skala. Zum Beispiel sind einige Werte Proportionen, die einen Wert zwischen 0 und 1 annehmen, andere nehmen Werte zwischen 1 und 12 an, wieder andere zwischen 0 und 100...\n",
    "\n",
    "Lassen Sie uns einen Blick auf die Daten werfen:"
   ]
  },
  {
   "cell_type": "code",
   "execution_count": 2,
   "metadata": {},
   "outputs": [
    {
     "name": "stdout",
     "output_type": "stream",
     "text": [
      "Downloading data from https://storage.googleapis.com/tensorflow/tf-keras-datasets/boston_housing.npz\n",
      "57344/57026 [==============================] - 0s 0us/step\n"
     ]
    }
   ],
   "source": [
    "from keras.datasets import boston_housing\n",
    "\n",
    "(train_data, train_targets), (test_data, test_targets) =  boston_housing.load_data()"
   ]
  },
  {
   "cell_type": "code",
   "execution_count": 3,
   "metadata": {},
   "outputs": [
    {
     "data": {
      "text/plain": [
       "(404, 13)"
      ]
     },
     "execution_count": 3,
     "metadata": {},
     "output_type": "execute_result"
    }
   ],
   "source": [
    "train_data.shape"
   ]
  },
  {
   "cell_type": "code",
   "execution_count": 4,
   "metadata": {},
   "outputs": [
    {
     "data": {
      "text/plain": [
       "(102, 13)"
      ]
     },
     "execution_count": 4,
     "metadata": {},
     "output_type": "execute_result"
    }
   ],
   "source": [
    "test_data.shape"
   ]
  },
  {
   "cell_type": "markdown",
   "metadata": {},
   "source": [
    "Wie Sie sehen können, haben wir 404 Trainingsmuster und 102 Testmuster. Die Daten umfassen 13 Merkmale. Die 13 Merkmale in den Eingabedaten sind wie folgt:\n",
    "\n",
    "1. Pro-Kopf-Verbrechensrate.\n",
    "2. Anteil des Wohngrundstücks, das für Grundstücke über 25.000 Quadratfuß ausgewiesen ist.\n",
    "3. Anteil der Flächen für Nicht-Einzelhandelsgeschäfte pro Stadt.\n",
    "4. Charles River Dummy-Variable (= 1, wenn der Trakt an den Fluss grenzt; sonst 0).\n",
    "5. Stickstoffoxid-Konzentration (Teile pro 10 Millionen).\n",
    "6. Durchschnittliche Anzahl der Zimmer pro Wohnung.\n",
    "7. Anteil der Eigentumswohnungen, die vor 1940 gebaut wurden.\n",
    "8. Gewichtete Entfernungen zu fünf Bostoner Beschäftigungszentren.\n",
    "9. Index der Erreichbarkeit von Radialautobahnen.\n",
    "10. Vollwertiger Grundsteuersatz pro 10.000 Dollar.\n",
    "11. Schüler-Lehrer-Verhältnis nach Stadt.\n",
    "12. 1000 * (Bk - 0,63) ** 2, wobei Bk der Anteil der schwarzen Bevölkerung in der Stadt ist.\n",
    "13. % unterer Status der Bevölkerung.\n",
    "\n",
    "Die Zielwerte sind die Medianwerte von Eigenheimen, in Tausend Dollar:"
   ]
  },
  {
   "cell_type": "code",
   "execution_count": 5,
   "metadata": {},
   "outputs": [
    {
     "data": {
      "text/plain": [
       "array([15.2, 42.3, 50. , 21.1, 17.7, 18.5, 11.3, 15.6, 15.6, 14.4, 12.1,\n",
       "       17.9, 23.1, 19.9, 15.7,  8.8, 50. , 22.5, 24.1, 27.5, 10.9, 30.8,\n",
       "       32.9, 24. , 18.5, 13.3, 22.9, 34.7, 16.6, 17.5, 22.3, 16.1, 14.9,\n",
       "       23.1, 34.9, 25. , 13.9, 13.1, 20.4, 20. , 15.2, 24.7, 22.2, 16.7,\n",
       "       12.7, 15.6, 18.4, 21. , 30.1, 15.1, 18.7,  9.6, 31.5, 24.8, 19.1,\n",
       "       22. , 14.5, 11. , 32. , 29.4, 20.3, 24.4, 14.6, 19.5, 14.1, 14.3,\n",
       "       15.6, 10.5,  6.3, 19.3, 19.3, 13.4, 36.4, 17.8, 13.5, 16.5,  8.3,\n",
       "       14.3, 16. , 13.4, 28.6, 43.5, 20.2, 22. , 23. , 20.7, 12.5, 48.5,\n",
       "       14.6, 13.4, 23.7, 50. , 21.7, 39.8, 38.7, 22.2, 34.9, 22.5, 31.1,\n",
       "       28.7, 46. , 41.7, 21. , 26.6, 15. , 24.4, 13.3, 21.2, 11.7, 21.7,\n",
       "       19.4, 50. , 22.8, 19.7, 24.7, 36.2, 14.2, 18.9, 18.3, 20.6, 24.6,\n",
       "       18.2,  8.7, 44. , 10.4, 13.2, 21.2, 37. , 30.7, 22.9, 20. , 19.3,\n",
       "       31.7, 32. , 23.1, 18.8, 10.9, 50. , 19.6,  5. , 14.4, 19.8, 13.8,\n",
       "       19.6, 23.9, 24.5, 25. , 19.9, 17.2, 24.6, 13.5, 26.6, 21.4, 11.9,\n",
       "       22.6, 19.6,  8.5, 23.7, 23.1, 22.4, 20.5, 23.6, 18.4, 35.2, 23.1,\n",
       "       27.9, 20.6, 23.7, 28. , 13.6, 27.1, 23.6, 20.6, 18.2, 21.7, 17.1,\n",
       "        8.4, 25.3, 13.8, 22.2, 18.4, 20.7, 31.6, 30.5, 20.3,  8.8, 19.2,\n",
       "       19.4, 23.1, 23. , 14.8, 48.8, 22.6, 33.4, 21.1, 13.6, 32.2, 13.1,\n",
       "       23.4, 18.9, 23.9, 11.8, 23.3, 22.8, 19.6, 16.7, 13.4, 22.2, 20.4,\n",
       "       21.8, 26.4, 14.9, 24.1, 23.8, 12.3, 29.1, 21. , 19.5, 23.3, 23.8,\n",
       "       17.8, 11.5, 21.7, 19.9, 25. , 33.4, 28.5, 21.4, 24.3, 27.5, 33.1,\n",
       "       16.2, 23.3, 48.3, 22.9, 22.8, 13.1, 12.7, 22.6, 15. , 15.3, 10.5,\n",
       "       24. , 18.5, 21.7, 19.5, 33.2, 23.2,  5. , 19.1, 12.7, 22.3, 10.2,\n",
       "       13.9, 16.3, 17. , 20.1, 29.9, 17.2, 37.3, 45.4, 17.8, 23.2, 29. ,\n",
       "       22. , 18. , 17.4, 34.6, 20.1, 25. , 15.6, 24.8, 28.2, 21.2, 21.4,\n",
       "       23.8, 31. , 26.2, 17.4, 37.9, 17.5, 20. ,  8.3, 23.9,  8.4, 13.8,\n",
       "        7.2, 11.7, 17.1, 21.6, 50. , 16.1, 20.4, 20.6, 21.4, 20.6, 36.5,\n",
       "        8.5, 24.8, 10.8, 21.9, 17.3, 18.9, 36.2, 14.9, 18.2, 33.3, 21.8,\n",
       "       19.7, 31.6, 24.8, 19.4, 22.8,  7.5, 44.8, 16.8, 18.7, 50. , 50. ,\n",
       "       19.5, 20.1, 50. , 17.2, 20.8, 19.3, 41.3, 20.4, 20.5, 13.8, 16.5,\n",
       "       23.9, 20.6, 31.5, 23.3, 16.8, 14. , 33.8, 36.1, 12.8, 18.3, 18.7,\n",
       "       19.1, 29. , 30.1, 50. , 50. , 22. , 11.9, 37.6, 50. , 22.7, 20.8,\n",
       "       23.5, 27.9, 50. , 19.3, 23.9, 22.6, 15.2, 21.7, 19.2, 43.8, 20.3,\n",
       "       33.2, 19.9, 22.5, 32.7, 22. , 17.1, 19. , 15. , 16.1, 25.1, 23.7,\n",
       "       28.7, 37.2, 22.6, 16.4, 25. , 29.8, 22.1, 17.4, 18.1, 30.3, 17.5,\n",
       "       24.7, 12.6, 26.5, 28.7, 13.3, 10.4, 24.4, 23. , 20. , 17.8,  7. ,\n",
       "       11.8, 24.4, 13.8, 19.4, 25.2, 19.4, 19.4, 29.1])"
      ]
     },
     "execution_count": 5,
     "metadata": {},
     "output_type": "execute_result"
    }
   ],
   "source": [
    "train_targets"
   ]
  },
  {
   "cell_type": "markdown",
   "metadata": {},
   "source": [
    "Die Preise liegen typischerweise zwischen 10.000 und 50.000 Dollar. Wenn das billig klingt, denken Sie daran, dass dies Mitte der 1970er Jahre war und diese Preise nicht inflationsbereinigt sind."
   ]
  },
  {
   "cell_type": "markdown",
   "metadata": {},
   "source": [
    "# Aufbereitung der Daten\n",
    "\n",
    "Es wäre problematisch, ein neuronales Netzwerk mit Werten zu füttern, die alle sehr unterschiedliche Bereiche einnehmen. Das Netzwerk könnte sich zwar automatisch an solche heterogenen Daten anpassen, aber es würde das Lernen definitiv erschweren. Eine weit verbreitete bewährte Methode, um mit solchen Daten umzugehen, ist die merkmalsweise Normalisierung: Für jedes Merkmal in den Eingabedaten (eine Spalte in der Eingabedatenmatrix) wird der Mittelwert des Merkmals subtrahiert und durch die Standardabweichung dividiert, so dass das Merkmal um 0 zentriert wird und eine Einheitsstandardabweichung hat. Dies ist in Numpy leicht zu bewerkstelligen:"
   ]
  },
  {
   "cell_type": "code",
   "execution_count": 6,
   "metadata": {},
   "outputs": [],
   "source": [
    "mean = train_data.mean(axis=0)\n",
    "train_data -= mean\n",
    "std = train_data.std(axis=0)\n",
    "train_data /= std\n",
    "\n",
    "test_data -= mean\n",
    "test_data /= std"
   ]
  },
  {
   "cell_type": "markdown",
   "metadata": {},
   "source": [
    "Beachten Sie, dass die Größen, die wir zur Normalisierung der Testdaten verwenden, anhand der Trainingsdaten berechnet wurden. Wir sollten in unserem Arbeitsablauf niemals irgendeine Größe verwenden, die mit den Testdaten berechnet wurde, auch nicht für etwas so Einfaches wie die Datennormalisierung."
   ]
  },
  {
   "cell_type": "markdown",
   "metadata": {},
   "source": [
    "# Aufbau unseres Netzwerks\n",
    "\n",
    "Da so wenige Proben zur Verfügung stehen, werden wir ein sehr kleines Netzwerk mit zwei versteckten Schichten mit jeweils 64 Einheiten verwenden. Im Allgemeinen gilt: Je weniger Trainingsdaten Sie haben, desto schlimmer ist die Überanpassung, und die Verwendung eines kleinen Netzwerks ist eine Möglichkeit, die Überanpassung abzuschwächen."
   ]
  },
  {
   "cell_type": "code",
   "execution_count": 7,
   "metadata": {},
   "outputs": [],
   "source": [
    "from keras import models\n",
    "from keras import layers\n",
    "\n",
    "def build_model():\n",
    "    # Da wir das gleiche Modell mehrmals instanziieren müssen, \n",
    "    # verwenden wir eine Funktion, \n",
    "    # um es zu konstruieren.\n",
    "    model = models.Sequential()\n",
    "    model.add(layers.Dense(64, activation='relu',\n",
    "                           input_shape=(train_data.shape[1],)))\n",
    "    model.add(layers.Dense(64, activation='relu'))\n",
    "    model.add(layers.Dense(1))\n",
    "    model.compile(optimizer='rmsprop', loss='mse', metrics=['mae'])\n",
    "    return model"
   ]
  },
  {
   "cell_type": "markdown",
   "metadata": {},
   "source": [
    "Unser Netzwerk endet mit einer einzigen Einheit und keiner Aktivierung (d. h. es wird eine lineare Schicht). Dies ist ein typischer Aufbau für eine skalare Regression (d. h. eine Regression, bei der wir versuchen, einen einzelnen kontinuierlichen Wert vorherzusagen). Das Anwenden einer Aktivierungsfunktion würde den Bereich einschränken, den die Ausgabe annehmen kann; wenn wir z. B. eine Sigmoid-Aktivierungsfunktion auf unsere letzte Schicht anwenden würden, könnte das Netzwerk nur lernen, Werte zwischen 0 und 1 vorherzusagen. Hier, da die letzte Schicht rein linear ist, kann das Netzwerk lernen, Werte in jedem Bereich vorherzusagen."
   ]
  },
  {
   "cell_type": "markdown",
   "metadata": {},
   "source": [
    "Beachten Sie, dass wir das Netzwerk mit der Verlustfunktion mse kompilieren - Mean Squared Error, das Quadrat der Differenz zwischen den Vorhersagen und den Zielen, eine weit verbreitete Verlustfunktion für Regressionsprobleme."
   ]
  },
  {
   "cell_type": "markdown",
   "metadata": {},
   "source": [
    "Wir überwachen während des Trainings auch eine neue Metrik: mae. Dies steht für Mean Absolute Error (mittlerer absoluter Fehler). Es ist einfach der absolute Wert der Differenz zwischen den Vorhersagen und den Zielen. Zum Beispiel würde ein MAE von 0,5 bei diesem Problem bedeuten, dass unsere Vorhersagen im Durchschnitt um 500$ daneben liegen."
   ]
  },
  {
   "cell_type": "markdown",
   "metadata": {},
   "source": [
    "# Validierung unseres Ansatzes mit K-facher Validierung\n",
    "\n",
    "Um unser Netzwerk zu evaluieren, während wir seine Parameter (z. B. die Anzahl der Epochen, die für das Training verwendet werden) anpassen, könnten wir die Daten einfach in einen Trainings- und einen Validierungssatz aufteilen, wie wir es in unseren vorherigen Beispielen getan haben. Da wir aber nur so wenige Datenpunkte haben, wäre der Validierungssatz am Ende sehr klein (z. B. etwa 100 Beispiele). Eine Folge davon ist, dass sich unsere Validierungsergebnisse stark ändern können, je nachdem, welche Datenpunkte wir für die Validierung und welche wir für das Training wählen, d. h. die Validierungsergebnisse können eine hohe Varianz in Bezug auf die Validierungsaufteilung haben. Dies würde uns daran hindern, unser Modell zuverlässig zu evaluieren."
   ]
  },
  {
   "cell_type": "markdown",
   "metadata": {},
   "source": [
    "Die beste Praxis in solchen Situationen ist die Verwendung der K-fachen Kreuzvalidierung. Sie besteht darin, die verfügbaren Daten in K Partitionen (typischerweise K=4 oder 5) aufzuteilen, dann K identische Modelle zu instanziieren und jedes Modell auf K-1 Partitionen zu trainieren, während es auf der verbleibenden Partition evaluiert wird. Der Validierungsscore für das verwendete Modell wäre dann der Durchschnitt der K erhaltenen Validierungsscores."
   ]
  },
  {
   "cell_type": "markdown",
   "metadata": {},
   "source": [
    "In terms of code, this is straightforward:"
   ]
  },
  {
   "cell_type": "code",
   "execution_count": 8,
   "metadata": {},
   "outputs": [
    {
     "name": "stdout",
     "output_type": "stream",
     "text": [
      "processing fold # 0\n",
      "processing fold # 1\n",
      "processing fold # 2\n",
      "processing fold # 3\n"
     ]
    }
   ],
   "source": [
    "import numpy as np\n",
    "\n",
    "k = 4\n",
    "num_val_samples = len(train_data) // k\n",
    "num_epochs = 100\n",
    "all_scores = []\n",
    "for i in range(k):\n",
    "    print('processing fold #', i)\n",
    "    # Bereiten Sie die Validierungsdaten vor: Daten aus Partition # k\n",
    "    val_data = train_data[i * num_val_samples: (i + 1) * num_val_samples]\n",
    "    val_targets = train_targets[i * num_val_samples: (i + 1) * num_val_samples]\n",
    "\n",
    "    # Bereiten Sie die Trainingsdaten vor: Daten aus allen anderen Partitionen\n",
    "    partial_train_data = np.concatenate(\n",
    "        [train_data[:i * num_val_samples],\n",
    "         train_data[(i + 1) * num_val_samples:]],\n",
    "        axis=0)\n",
    "    partial_train_targets = np.concatenate(\n",
    "        [train_targets[:i * num_val_samples],\n",
    "         train_targets[(i + 1) * num_val_samples:]],\n",
    "        axis=0)\n",
    "\n",
    "    # Erstellen Sie das Keras-Modell (bereits kompiliert)\n",
    "    model = build_model()\n",
    "    # Das Modell trainieren (im stillen Modus, verbose=0)\n",
    "    model.fit(partial_train_data, partial_train_targets,\n",
    "              epochs=num_epochs, batch_size=1, verbose=0)\n",
    "    # Bewerten Sie das Modell anhand der Validierungsdaten\n",
    "    val_mse, val_mae = model.evaluate(val_data, val_targets, verbose=0)\n",
    "    all_scores.append(val_mae)"
   ]
  },
  {
   "cell_type": "code",
   "execution_count": 9,
   "metadata": {},
   "outputs": [
    {
     "data": {
      "text/plain": [
       "[2.026884078979492, 2.6393632888793945, 2.6158156394958496, 2.743428945541382]"
      ]
     },
     "execution_count": 9,
     "metadata": {},
     "output_type": "execute_result"
    }
   ],
   "source": [
    "all_scores"
   ]
  },
  {
   "cell_type": "code",
   "execution_count": 10,
   "metadata": {},
   "outputs": [
    {
     "data": {
      "text/plain": [
       "2.5063729882240295"
      ]
     },
     "execution_count": 10,
     "metadata": {},
     "output_type": "execute_result"
    }
   ],
   "source": [
    "np.mean(all_scores)"
   ]
  },
  {
   "cell_type": "markdown",
   "metadata": {},
   "source": [
    "Wie Sie sehen können, zeigen die verschiedenen Läufe in der Tat recht unterschiedliche Validierungswerte, von 2,1 bis 2,9. Ihr Durchschnitt (2,4) ist eine viel zuverlässigere Metrik als jeder einzelne dieser Werte - das ist der ganze Sinn der K-fachen Kreuzvalidierung. In diesem Fall liegen wir im Durchschnitt um 2.400 Dollar daneben, was immer noch signifikant ist, wenn man bedenkt, dass die Preise zwischen 10.000 Dollar und 50.000 Dollar liegen."
   ]
  },
  {
   "cell_type": "markdown",
   "metadata": {},
   "source": [
    "Versuchen wir nun, das Netzwerk etwas länger zu trainieren: 500 Epochen. Um aufzuzeichnen, wie gut das Modell bei jeder Epoche abgeschnitten hat, werden wir unsere Trainingsschleife ändern, um das Protokoll der Validierungsergebnisse pro Epoche zu speichern:"
   ]
  },
  {
   "cell_type": "code",
   "execution_count": 11,
   "metadata": {},
   "outputs": [],
   "source": [
    "from keras import backend as K\n",
    "\n",
    "K.clear_session()"
   ]
  },
  {
   "cell_type": "code",
   "execution_count": 15,
   "metadata": {},
   "outputs": [
    {
     "name": "stdout",
     "output_type": "stream",
     "text": [
      "processing fold # 0\n",
      "processing fold # 1\n",
      "processing fold # 2\n",
      "processing fold # 3\n"
     ]
    }
   ],
   "source": [
    "num_epochs = 500\n",
    "all_mae_histories = []\n",
    "for i in range(k):\n",
    "    print('processing fold #', i)\n",
    "    # Bereiten Sie die Validierungsdaten vor: Daten aus Partition # k\n",
    "    val_data = train_data[i * num_val_samples: (i + 1) * num_val_samples]\n",
    "    val_targets = train_targets[i * num_val_samples: (i + 1) * num_val_samples]\n",
    "\n",
    "    # Bereiten Sie die Trainingsdaten vor: Daten aus allen anderen Partitionen\n",
    "    partial_train_data = np.concatenate(\n",
    "        [train_data[:i * num_val_samples],\n",
    "         train_data[(i + 1) * num_val_samples:]],\n",
    "        axis=0)\n",
    "    partial_train_targets = np.concatenate(\n",
    "        [train_targets[:i * num_val_samples],\n",
    "         train_targets[(i + 1) * num_val_samples:]],\n",
    "        axis=0)\n",
    "\n",
    "    # Erstellen Sie das Keras-Modell (bereits kompiliert)\n",
    "    model = build_model()\n",
    "    # Das Modell trainieren (im stillen Modus, verbose=0)\n",
    "    history = model.fit(partial_train_data, partial_train_targets,\n",
    "                        validation_data=(val_data, val_targets),\n",
    "                        epochs=num_epochs, batch_size=1, verbose=0)\n",
    "    mae_history = history.history['val_mae']\n",
    "    all_mae_histories.append(mae_history)"
   ]
  },
  {
   "cell_type": "code",
   "execution_count": 13,
   "metadata": {},
   "outputs": [
    {
     "data": {
      "text/plain": [
       "dict_keys(['loss', 'mae', 'val_loss', 'val_mae'])"
      ]
     },
     "execution_count": 13,
     "metadata": {},
     "output_type": "execute_result"
    }
   ],
   "source": [
    "history_dict = history.history\n",
    "history_dict.keys()"
   ]
  },
  {
   "cell_type": "markdown",
   "metadata": {},
   "source": [
    "Wir können dann den Durchschnitt der MAE-Werte pro Epoche für alle Foldings berechnen:"
   ]
  },
  {
   "cell_type": "code",
   "execution_count": 18,
   "metadata": {},
   "outputs": [],
   "source": [
    "average_mae_history = [\n",
    "    np.mean([x[i] for x in all_mae_histories]) for i in range(num_epochs)]"
   ]
  },
  {
   "cell_type": "markdown",
   "metadata": {},
   "source": [
    "Zeichnen wir das:"
   ]
  },
  {
   "cell_type": "code",
   "execution_count": 20,
   "metadata": {},
   "outputs": [
    {
     "data": {
      "image/png": "[encoded data removed]",
      "text/plain": [
       "<Figure size 432x288 with 1 Axes>"
      ]
     },
     "metadata": {
      "needs_background": "light"
     },
     "output_type": "display_data"
    }
   ],
   "source": [
    "import matplotlib.pyplot as plt\n",
    "\n",
    "plt.plot(range(1, len(average_mae_history) + 1), average_mae_history)\n",
    "plt.xlabel('Epochs')\n",
    "plt.ylabel('Validation MAE')\n",
    "plt.show()"
   ]
  },
  {
   "cell_type": "markdown",
   "metadata": {},
   "source": [
    "Aufgrund von Skalierungsproblemen und einer relativ hohen Varianz kann es etwas schwierig sein, die Darstellung zu erkennen:\n",
    "\n",
    "- Lassen Sie die ersten 10 Datenpunkte weg, die auf einer anderen Skala als der Rest der Kurve liegen.\n",
    "\n",
    "- Ersetzen Sie jeden Punkt durch einen exponentiellen gleitenden Durchschnitt der vorherigen Punkte, um eine glatte Kurve zu erhalten."
   ]
  },
  {
   "cell_type": "code",
   "execution_count": 26,
   "metadata": {},
   "outputs": [
    {
     "data": {
      "image/png": "[encoded data removed]",
      "text/plain": [
       "<Figure size 432x288 with 1 Axes>"
      ]
     },
     "metadata": {
      "needs_background": "light"
     },
     "output_type": "display_data"
    }
   ],
   "source": [
    "def smooth_curve(points, factor=0.9):\n",
    "  smoothed_points = []\n",
    "  for point in points:\n",
    "    if smoothed_points:\n",
    "      previous = smoothed_points[-1]\n",
    "      smoothed_points.append(previous * factor + point * (1 - factor))\n",
    "    else:\n",
    "      smoothed_points.append(point)\n",
    "  return smoothed_points\n",
    "\n",
    "smooth_mae_history = smooth_curve(average_mae_history[10:])\n",
    "\n",
    "plt.plot(range(1, len(smooth_mae_history) + 1), smooth_mae_history)\n",
    "plt.xlabel('Epochs')\n",
    "plt.ylabel('Validation MAE')\n",
    "plt.show()"
   ]
  },
  {
   "cell_type": "markdown",
   "metadata": {},
   "source": [
    "Nach dieser Darstellung scheint es, dass sich die MAE der Validierung nach 80 Epochen nicht mehr signifikant verbessert. Nach diesem Punkt beginnen wir mit dem Overfitting.\n",
    "\n",
    "Sobald wir andere Parameter unseres Modells abgestimmt haben (neben der Anzahl der Epochen könnten wir auch die Größe der versteckten Schichten anpassen), können wir ein endgültiges \"Produktions\"-Modell mit allen Trainingsdaten und den besten Parametern trainieren und dann seine Leistung bei den Testdaten betrachten:"
   ]
  },
  {
   "cell_type": "code",
   "execution_count": 27,
   "metadata": {},
   "outputs": [
    {
     "name": "stdout",
     "output_type": "stream",
     "text": [
      "4/4 [==============================] - 0s 2ms/step - loss: 17.0768 - mae: 2.6310\n"
     ]
    }
   ],
   "source": [
    "# Erhalten Sie ein frisches, kompiliertes Modell.\n",
    "model = build_model()\n",
    "# Trainieren Sie es auf die Gesamtheit der Daten.\n",
    "model.fit(train_data, train_targets,\n",
    "          epochs=80, batch_size=16, verbose=0)\n",
    "test_mse_score, test_mae_score = model.evaluate(test_data, test_targets)"
   ]
  },
  {
   "cell_type": "code",
   "execution_count": 28,
   "metadata": {},
   "outputs": [
    {
     "data": {
      "text/plain": [
       "2.631018877029419"
      ]
     },
     "execution_count": 28,
     "metadata": {},
     "output_type": "execute_result"
    }
   ],
   "source": [
    "test_mae_score"
   ]
  },
  {
   "cell_type": "markdown",
   "metadata": {},
   "source": [
    "Wir liegen immer noch um etwa 2.630 $ daneben."
   ]
  },
  {
   "cell_type": "markdown",
   "metadata": {},
   "source": [
    "# Abschließende Betrachtung\n",
    "\n",
    "Das sollten Sie aus diesem Beispiel mitnehmen:\n",
    "\n",
    "- Bei der Regression werden andere Verlustfunktionen als bei der Klassifizierung verwendet; der mittlere quadratische Fehler (MSE) ist eine häufig verwendete Verlustfunktion für die Regression.\n",
    "\n",
    "- Ebenso unterscheiden sich die für die Regression zu verwendenden Bewertungsmetriken von denen, die für die Klassifizierung verwendet werden; natürlich gilt das Konzept der \"Genauigkeit\" nicht für die Regression. Eine übliche Regressionsmetrik ist der Mittlere Absolute Fehler (MAE).\n",
    "\n",
    "- Wenn die Features in den Eingabedaten Werte in verschiedenen Bereichen haben, sollte jedes Feature unabhängig als Vorverarbeitungsschritt skaliert werden.\n",
    "\n",
    "- Wenn nur wenige Daten verfügbar sind, ist die Verwendung der K-Fold-Validierung eine gute Möglichkeit, ein Modell zuverlässig zu bewerten.\n",
    "\n",
    "- Wenn nur wenige Trainingsdaten zur Verfügung stehen, ist es besser, ein kleines Netzwerk mit sehr wenigen versteckten Schichten (typischerweise nur eine oder zwei) zu verwenden, um ein starkes Overfitting zu vermeiden.\n",
    "\n",
    "Mit diesem Beispiel schließen wir unsere Serie von drei einführenden Praxisbeispielen ab. Sie sind nun in der Lage, gängige Problemtypen mit Vektordateneingabe zu behandeln:\n",
    "\n",
    "- Binäre (2-Klassen-)Klassifikation.\n",
    "- Mehrklassen-Klassifikation mit einem Label.\n",
    "- Skalare Regression."
   ]
  },
  {
   "cell_type": "markdown",
   "metadata": {},
   "source": [
    "Im nächsten Kapitel werden Sie ein formaleres Verständnis für einige der Konzepte erwerben, die Sie in diesen ersten Beispielen kennengelernt haben, wie z. B. Datenvorverarbeitung, Modellevaluation und Overfitting."
   ]
  },
  {
   "cell_type": "code",
   "execution_count": null,
   "metadata": {},
   "outputs": [],
   "source": []
  }
 ],
 "metadata": {
  "kernelspec": {
   "display_name": "Python 3",
   "language": "python",
   "name": "python3"
  },
  "language_info": {
   "codemirror_mode": {
    "name": "ipython",
    "version": 3
   },
   "file_extension": ".py",
   "mimetype": "text/x-python",
   "name": "python",
   "nbconvert_exporter": "python",
   "pygments_lexer": "ipython3",
   "version": "3.7.4"
  },
  "toc": {
   "base_numbering": 1,
   "nav_menu": {},
   "number_sections": true,
   "sideBar": true,
   "skip_h1_title": false,
   "title_cell": "Table of Contents",
   "title_sidebar": "Contents",
   "toc_cell": false,
   "toc_position": {},
   "toc_section_display": true,
   "toc_window_display": false
  }
 },
 "nbformat": 4,
 "nbformat_minor": 2
}
