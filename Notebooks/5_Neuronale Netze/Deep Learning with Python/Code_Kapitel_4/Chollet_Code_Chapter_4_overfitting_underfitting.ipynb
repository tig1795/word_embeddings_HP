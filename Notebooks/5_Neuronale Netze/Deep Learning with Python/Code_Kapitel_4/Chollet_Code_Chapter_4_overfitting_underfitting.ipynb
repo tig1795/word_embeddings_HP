{
 "cells": [
  {
   "cell_type": "code",
   "execution_count": 1,
   "metadata": {},
   "outputs": [
    {
     "data": {
      "text/plain": [
       "'2.4.3'"
      ]
     },
     "execution_count": 1,
     "metadata": {},
     "output_type": "execute_result"
    }
   ],
   "source": [
    "import keras\n",
    "keras.__version__"
   ]
  },
  {
   "cell_type": "markdown",
   "metadata": {},
   "source": [
    "# Overfitting und Underfitting\n",
    "\n",
    "Bei allen Beispielen, die wir im vorigen Kapitel gesehen haben - Vorhersage der Stimmung in Filmkritiken, Themenklassifizierung und Hauspreisregression - konnten wir feststellen, dass die Leistung unseres Modells auf den ausgehaltenen Validierungsdaten immer nach ein paar Epochen ihren Höhepunkt erreichte und dann anfing, sich zu verschlechtern, d. h. unser Modell begann schnell, sich an die Trainingsdaten überanzupassen. Überanpassung kommt bei jedem einzelnen Problem des maschinellen Lernens vor. Zu lernen, wie man mit Überanpassung umgeht, ist wesentlich für das Beherrschen des maschinellen Lernens.\n",
    "\n",
    "Das grundlegende Problem beim maschinellen Lernen ist die Spannung zwischen Optimierung und Generalisierung. \"Optimierung\" bezieht sich auf den Prozess der Anpassung eines Modells, um die bestmögliche Leistung auf den Trainingsdaten zu erhalten (das \"Lernen\" in \"maschinelles Lernen\"), während sich \"Generalisierung\" darauf bezieht, wie gut das trainierte Modell auf Daten funktionieren würde, die es noch nie zuvor gesehen hat. Das Ziel des Spiels ist es natürlich, eine gute Generalisierung zu erhalten, aber Sie haben keine Kontrolle über die Generalisierung; Sie können das Modell nur auf der Basis seiner Trainingsdaten anpassen.\n",
    "\n",
    "Zu Beginn des Trainings sind Optimierung und Generalisierung korreliert: Je geringer der Verlust bei den Trainingsdaten, desto geringer ist der Verlust bei den Testdaten. Während dies der Fall ist, wird Ihr Modell als \"under-fit\" bezeichnet: Es sind noch Fortschritte zu machen; das Netzwerk hat noch nicht alle relevanten Muster in den Trainingsdaten modelliert. Aber nach einer bestimmten Anzahl von Iterationen auf den Trainingsdaten hört die Generalisierung auf, sich zu verbessern, und die Validierungsmetriken beginnen, sich zu verschlechtern: Das Modell beginnt dann, sich zu überanpassen, d. h. es beginnt, Muster zu lernen, die für die Trainingsdaten spezifisch sind, die aber irreführend oder irrelevant sind, wenn es um neue Daten geht.\n",
    "\n",
    "Um zu verhindern, dass ein Modell irreführende oder irrelevante Muster aus den Trainingsdaten lernt, ist die beste Lösung natürlich, mehr Trainingsdaten zu erhalten. Ein Modell, das auf mehr Daten trainiert wurde, wird natürlich besser generalisieren. Wenn das nicht mehr möglich ist, besteht die nächstbeste Lösung darin, die Menge der Informationen, die Ihr Modell speichern darf, zu modulieren oder Beschränkungen für die Informationen, die es speichern darf, hinzuzufügen. Wenn es sich ein Netzwerk nur leisten kann, eine kleine Anzahl von Mustern zu speichern, wird es durch den Optimierungsprozess gezwungen, sich auf die auffälligsten Muster zu konzentrieren, die eine bessere Chance auf eine gute Generalisierung haben.\n",
    "\n",
    "Die Verarbeitung der Bekämpfung von Overfitting auf diese Weise wird als Regularisierung bezeichnet. Sehen wir uns einige der gängigsten Regularisierungsverfahren an und wenden wir sie in der Praxis an, um unser Filmklassifizierungsmodell aus dem vorherigen Kapitel zu verbessern.\n",
    "\n",
    "\n",
    "Hinweis: In diesem Notizbuch werden wir das IMDB-Test-Set als Validierungsset verwenden. Das spielt in diesem Zusammenhang keine Rolle.\n",
    "\n",
    "Lassen Sie uns die Daten mit dem Code aus Kapitel 3, Abschnitt 5 vorbereiten:"
   ]
  },
  {
   "cell_type": "code",
   "execution_count": 2,
   "metadata": {},
   "outputs": [
    {
     "name": "stderr",
     "output_type": "stream",
     "text": [
      "C:\\ProgramData\\Anaconda3\\lib\\site-packages\\tensorflow\\python\\keras\\datasets\\imdb.py:155: VisibleDeprecationWarning: Creating an ndarray from ragged nested sequences (which is a list-or-tuple of lists-or-tuples-or ndarrays with different lengths or shapes) is deprecated. If you meant to do this, you must specify 'dtype=object' when creating the ndarray\n",
      "  x_train, y_train = np.array(xs[:idx]), np.array(labels[:idx])\n",
      "C:\\ProgramData\\Anaconda3\\lib\\site-packages\\tensorflow\\python\\keras\\datasets\\imdb.py:156: VisibleDeprecationWarning: Creating an ndarray from ragged nested sequences (which is a list-or-tuple of lists-or-tuples-or ndarrays with different lengths or shapes) is deprecated. If you meant to do this, you must specify 'dtype=object' when creating the ndarray\n",
      "  x_test, y_test = np.array(xs[idx:]), np.array(labels[idx:])\n"
     ]
    }
   ],
   "source": [
    "from keras.datasets import imdb\n",
    "import numpy as np\n",
    "\n",
    "(train_data, train_labels), (test_data, test_labels) = imdb.load_data(num_words=10000)\n",
    "\n",
    "def vectorize_sequences(sequences, dimension=10000):\n",
    "    # Erzeugen einer All-Zero-Matrix der Form (len(sequences), dimension)\n",
    "    results = np.zeros((len(sequences), dimension))\n",
    "    for i, sequence in enumerate(sequences):\n",
    "        results[i, sequence] = 1.  # bestimmte Indizes von results[i] auf 1s setzen\n",
    "    return results\n",
    "\n",
    "# Unsere vektorisierten Trainingsdaten\n",
    "x_train = vectorize_sequences(train_data)\n",
    "# Unsere vektorisierten Testdaten\n",
    "x_test = vectorize_sequences(test_data)\n",
    "# Unsere vektorisierten Label\n",
    "y_train = np.asarray(train_labels).astype('float32')\n",
    "y_test = np.asarray(test_labels).astype('float32')"
   ]
  },
  {
   "cell_type": "markdown",
   "metadata": {},
   "source": [
    "# Overfitting bekämpfen"
   ]
  },
  {
   "cell_type": "markdown",
   "metadata": {},
   "source": [
    "## Verkleinern des Netzwerks"
   ]
  },
  {
   "cell_type": "markdown",
   "metadata": {},
   "source": [
    "Die einfachste Möglichkeit, Overfitting zu verhindern, besteht darin, die Größe des Modells zu reduzieren, d. h. die Anzahl der lernbaren Parameter im Modell (die durch die Anzahl der Schichten und die Anzahl der Einheiten pro Schicht bestimmt wird). Beim Deep Learning wird die Anzahl der lernbaren Parameter in einem Modell oft als die \"Kapazität\" des Modells bezeichnet. Intuitiv hat ein Modell mit mehr Parametern mehr \"Speicherkapazität\" und kann daher leicht eine perfekte wörterbuchartige Abbildung zwischen Trainingsmustern und ihren Zielen lernen, eine Abbildung ohne jegliche Generalisierungskraft. Zum Beispiel könnte ein Modell mit 500.000 binären Parametern leicht dazu gebracht werden, die Klasse jeder Ziffer in der MNIST-Trainingsmenge zu lernen: Wir würden nur 10 binäre Parameter für jede der 50.000 Ziffern benötigen. Ein solches Modell wäre für die Klassifizierung neuer Ziffernproben unbrauchbar. Behalten Sie dies immer im Hinterkopf: Deep-Learning-Modelle neigen dazu, sich gut an die Trainingsdaten anzupassen, aber die eigentliche Herausforderung ist die Generalisierung, nicht die Anpassung.\n",
    "\n",
    "Wenn das Netzwerk andererseits über begrenzte Speicherressourcen verfügt, kann es diese Zuordnung nicht so leicht erlernen. Um den Verlust zu minimieren, muss es daher auf das Erlernen komprimierter Repräsentationen zurückgreifen, die eine Vorhersagekraft in Bezug auf die Ziele haben - genau die Art von Repräsentationen, an denen wir interessiert sind. Gleichzeitig sollten Sie bedenken, dass Sie Modelle verwenden sollten, die genügend Parameter haben, damit sie nicht underfitten: Ihr Modell sollte nicht an Speicherressourcen verhungern. Es muss ein Kompromiss zwischen \"zu viel Kapazität\" und \"nicht genug Kapazität\" gefunden werden.\n",
    "\n",
    "Leider gibt es keine magische Formel, um die richtige Anzahl von Schichten oder die richtige Größe für jede Schicht zu bestimmen. Sie müssen eine Reihe von verschiedenen Architekturen evaluieren (auf Ihrem Validierungssatz, nicht auf Ihrem Testsatz, natürlich), um die richtige Modellgröße für Ihre Daten zu finden. Der allgemeine Arbeitsablauf, um eine geeignete Modellgröße zu finden, besteht darin, mit relativ wenigen Schichten und Parametern zu beginnen und die Größe der Schichten zu erhöhen oder neue Schichten hinzuzufügen, bis Sie abnehmende Erträge in Bezug auf den Validierungsverlust sehen.\n",
    "\n",
    "Let's try this on our movie review classification network. Our original network was as such:"
   ]
  },
  {
   "cell_type": "code",
   "execution_count": 3,
   "metadata": {},
   "outputs": [],
   "source": [
    "from keras import models\n",
    "from keras import layers\n",
    "\n",
    "original_model = models.Sequential()\n",
    "original_model.add(layers.Dense(16, activation='relu', input_shape=(10000,)))\n",
    "original_model.add(layers.Dense(16, activation='relu'))\n",
    "original_model.add(layers.Dense(1, activation='sigmoid'))\n",
    "\n",
    "original_model.compile(optimizer='rmsprop',\n",
    "                       loss='binary_crossentropy',\n",
    "                       metrics=['acc'])"
   ]
  },
  {
   "cell_type": "markdown",
   "metadata": {},
   "source": [
    "Versuchen wir nun, es durch dieses kleinere Netzwerk zu ersetzen:"
   ]
  },
  {
   "cell_type": "code",
   "execution_count": 4,
   "metadata": {},
   "outputs": [],
   "source": [
    "smaller_model = models.Sequential()\n",
    "smaller_model.add(layers.Dense(4, activation='relu', input_shape=(10000,)))\n",
    "smaller_model.add(layers.Dense(4, activation='relu'))\n",
    "smaller_model.add(layers.Dense(1, activation='sigmoid'))\n",
    "\n",
    "smaller_model.compile(optimizer='rmsprop',\n",
    "                      loss='binary_crossentropy',\n",
    "                      metrics=['acc'])"
   ]
  },
  {
   "cell_type": "markdown",
   "metadata": {},
   "source": [
    "Hier ist ein Vergleich der Validierungsverluste des ursprünglichen Netzwerks und des kleineren Netzwerks. Die Punkte sind die Validierungsverluste des kleineren Netzes, und die Kreuze sind das ursprüngliche Netz (zur Erinnerung: ein geringerer Validierungsverlust signalisiert ein besseres Modell)."
   ]
  },
  {
   "cell_type": "code",
   "execution_count": 5,
   "metadata": {},
   "outputs": [
    {
     "name": "stdout",
     "output_type": "stream",
     "text": [
      "Epoch 1/20\n",
      "49/49 [==============================] - 2s 48ms/step - loss: 0.4787 - acc: 0.8136 - val_loss: 0.3548 - val_acc: 0.8787\n",
      "Epoch 2/20\n",
      "49/49 [==============================] - 2s 39ms/step - loss: 0.2735 - acc: 0.9059 - val_loss: 0.2867 - val_acc: 0.8901\n",
      "Epoch 3/20\n",
      "49/49 [==============================] - 2s 38ms/step - loss: 0.2071 - acc: 0.9268 - val_loss: 0.2930 - val_acc: 0.8827\n",
      "Epoch 4/20\n",
      "49/49 [==============================] - 2s 40ms/step - loss: 0.1742 - acc: 0.9388 - val_loss: 0.2928 - val_acc: 0.8838\n",
      "Epoch 5/20\n",
      "49/49 [==============================] - 2s 46ms/step - loss: 0.1486 - acc: 0.9487 - val_loss: 0.3034 - val_acc: 0.8812\n",
      "Epoch 6/20\n",
      "49/49 [==============================] - 2s 35ms/step - loss: 0.1288 - acc: 0.9572 - val_loss: 0.3219 - val_acc: 0.8779\n",
      "Epoch 7/20\n",
      "49/49 [==============================] - 2s 35ms/step - loss: 0.1112 - acc: 0.9634 - val_loss: 0.3447 - val_acc: 0.8754\n",
      "Epoch 8/20\n",
      "49/49 [==============================] - 2s 39ms/step - loss: 0.0989 - acc: 0.9672 - val_loss: 0.3698 - val_acc: 0.8717\n",
      "Epoch 9/20\n",
      "49/49 [==============================] - 5s 98ms/step - loss: 0.0858 - acc: 0.9733 - val_loss: 0.3959 - val_acc: 0.8702\n",
      "Epoch 10/20\n",
      "49/49 [==============================] - 12s 241ms/step - loss: 0.0724 - acc: 0.9785 - val_loss: 0.4264 - val_acc: 0.8650\n",
      "Epoch 11/20\n",
      "49/49 [==============================] - 10s 199ms/step - loss: 0.0637 - acc: 0.9806 - val_loss: 0.4524 - val_acc: 0.8636\n",
      "Epoch 12/20\n",
      "49/49 [==============================] - 4s 83ms/step - loss: 0.0535 - acc: 0.9842 - val_loss: 0.4925 - val_acc: 0.8598\n",
      "Epoch 13/20\n",
      "49/49 [==============================] - 5s 96ms/step - loss: 0.0454 - acc: 0.9870 - val_loss: 0.5299 - val_acc: 0.8570\n",
      "Epoch 14/20\n",
      "49/49 [==============================] - 2s 43ms/step - loss: 0.0363 - acc: 0.9904 - val_loss: 0.5524 - val_acc: 0.8569\n",
      "Epoch 15/20\n",
      "49/49 [==============================] - 2s 37ms/step - loss: 0.0311 - acc: 0.9917 - val_loss: 0.5851 - val_acc: 0.8566\n",
      "Epoch 16/20\n",
      "49/49 [==============================] - 2s 35ms/step - loss: 0.0236 - acc: 0.9942 - val_loss: 0.7394 - val_acc: 0.8410\n",
      "Epoch 17/20\n",
      "49/49 [==============================] - 2s 36ms/step - loss: 0.0206 - acc: 0.9952 - val_loss: 0.8771 - val_acc: 0.8286\n",
      "Epoch 18/20\n",
      "49/49 [==============================] - 2s 36ms/step - loss: 0.0160 - acc: 0.9968 - val_loss: 0.7029 - val_acc: 0.8518\n",
      "Epoch 19/20\n",
      "49/49 [==============================] - 2s 37ms/step - loss: 0.0127 - acc: 0.9972 - val_loss: 0.8431 - val_acc: 0.8378\n",
      "Epoch 20/20\n",
      "49/49 [==============================] - 2s 38ms/step - loss: 0.0118 - acc: 0.9973 - val_loss: 0.7879 - val_acc: 0.8520\n"
     ]
    }
   ],
   "source": [
    "original_hist = original_model.fit(x_train, y_train,\n",
    "                                   epochs=20,\n",
    "                                   batch_size=512,\n",
    "                                   validation_data=(x_test, y_test))"
   ]
  },
  {
   "cell_type": "code",
   "execution_count": 6,
   "metadata": {},
   "outputs": [
    {
     "name": "stdout",
     "output_type": "stream",
     "text": [
      "Epoch 1/20\n",
      "49/49 [==============================] - 2s 51ms/step - loss: 0.6003 - acc: 0.6397 - val_loss: 0.5452 - val_acc: 0.6898\n",
      "Epoch 2/20\n",
      "49/49 [==============================] - 2s 44ms/step - loss: 0.4997 - acc: 0.7980 - val_loss: 0.4936 - val_acc: 0.8337\n",
      "Epoch 3/20\n",
      "49/49 [==============================] - 2s 48ms/step - loss: 0.4473 - acc: 0.8853 - val_loss: 0.4668 - val_acc: 0.8693\n",
      "Epoch 4/20\n",
      "49/49 [==============================] - 3s 54ms/step - loss: 0.4139 - acc: 0.9123 - val_loss: 0.4646 - val_acc: 0.8465\n",
      "Epoch 5/20\n",
      "49/49 [==============================] - 2s 43ms/step - loss: 0.3824 - acc: 0.9303 - val_loss: 0.4343 - val_acc: 0.8629\n",
      "Epoch 6/20\n",
      "49/49 [==============================] - 2s 51ms/step - loss: 0.3377 - acc: 0.9420 - val_loss: 0.3882 - val_acc: 0.8760\n",
      "Epoch 7/20\n",
      "49/49 [==============================] - 2s 39ms/step - loss: 0.2749 - acc: 0.9500 - val_loss: 0.3324 - val_acc: 0.8838\n",
      "Epoch 8/20\n",
      "49/49 [==============================] - 2s 38ms/step - loss: 0.2161 - acc: 0.9536 - val_loss: 0.3081 - val_acc: 0.8805\n",
      "Epoch 9/20\n",
      "49/49 [==============================] - 4s 84ms/step - loss: 0.1790 - acc: 0.9552 - val_loss: 0.2952 - val_acc: 0.8832\n",
      "Epoch 10/20\n",
      "49/49 [==============================] - 5s 105ms/step - loss: 0.1554 - acc: 0.9580 - val_loss: 0.3011 - val_acc: 0.8824\n",
      "Epoch 11/20\n",
      "49/49 [==============================] - 2s 46ms/step - loss: 0.1369 - acc: 0.9607 - val_loss: 0.3215 - val_acc: 0.8810\n",
      "Epoch 12/20\n",
      "49/49 [==============================] - 2s 46ms/step - loss: 0.1223 - acc: 0.9634 - val_loss: 0.3412 - val_acc: 0.8778\n",
      "Epoch 13/20\n",
      "49/49 [==============================] - 2s 37ms/step - loss: 0.1120 - acc: 0.9668 - val_loss: 0.3539 - val_acc: 0.8753\n",
      "Epoch 14/20\n",
      "49/49 [==============================] - 2s 36ms/step - loss: 0.1037 - acc: 0.9708 - val_loss: 0.3851 - val_acc: 0.8708\n",
      "Epoch 15/20\n",
      "49/49 [==============================] - 2s 44ms/step - loss: 0.0960 - acc: 0.9737 - val_loss: 0.3847 - val_acc: 0.8708\n",
      "Epoch 16/20\n",
      "49/49 [==============================] - 2s 35ms/step - loss: 0.0898 - acc: 0.9756 - val_loss: 0.3957 - val_acc: 0.8695\n",
      "Epoch 17/20\n",
      "49/49 [==============================] - 2s 40ms/step - loss: 0.0840 - acc: 0.9781 - val_loss: 0.4098 - val_acc: 0.8676\n",
      "Epoch 18/20\n",
      "49/49 [==============================] - 2s 38ms/step - loss: 0.0778 - acc: 0.9798 - val_loss: 0.4334 - val_acc: 0.8645\n",
      "Epoch 19/20\n",
      "49/49 [==============================] - 4s 77ms/step - loss: 0.0731 - acc: 0.9821 - val_loss: 0.4492 - val_acc: 0.8630\n",
      "Epoch 20/20\n",
      "49/49 [==============================] - 3s 57ms/step - loss: 0.0678 - acc: 0.9832 - val_loss: 0.4612 - val_acc: 0.8614\n"
     ]
    }
   ],
   "source": [
    "smaller_model_hist = smaller_model.fit(x_train, y_train,\n",
    "                                       epochs=20,\n",
    "                                       batch_size=512,\n",
    "                                       validation_data=(x_test, y_test))"
   ]
  },
  {
   "cell_type": "code",
   "execution_count": 7,
   "metadata": {},
   "outputs": [],
   "source": [
    "epochs = range(1, 21)\n",
    "original_val_loss = original_hist.history['val_loss']\n",
    "smaller_model_val_loss = smaller_model_hist.history['val_loss']"
   ]
  },
  {
   "cell_type": "code",
   "execution_count": 9,
   "metadata": {},
   "outputs": [
    {
     "data": {
      "image/png": "[encoded data removed]",
      "text/plain": [
       "<Figure size 432x288 with 1 Axes>"
      ]
     },
     "metadata": {
      "needs_background": "light"
     },
     "output_type": "display_data"
    }
   ],
   "source": [
    "import matplotlib.pyplot as plt\n",
    "\n",
    "# b+ steht für \"Blaues Kreuz\"\n",
    "plt.plot(epochs, original_val_loss, 'b+', label='Original model')\n",
    "# \"bo\" steht für \"blauer Punkt\"\n",
    "plt.plot(epochs, smaller_model_val_loss, 'bo', label='Smaller model')\n",
    "plt.xlabel('Epochs')\n",
    "plt.ylabel('Validation loss')\n",
    "plt.legend()\n",
    "\n",
    "plt.show()"
   ]
  },
  {
   "cell_type": "markdown",
   "metadata": {},
   "source": [
    "Wie Sie sehen können, beginnt das kleinere Netzwerk später mit dem Overfitting als das Referenznetzwerk (nach 6 Epochen anstatt 4) und seine Leistung verschlechtert sich viel langsamer, sobald es mit dem Overfitting beginnt.\n",
    "\n",
    "Jetzt fügen wir dieser Benchmark zur Abwechslung ein Netzwerk hinzu, das viel mehr Kapazität hat, weit mehr als das Problem rechtfertigen würde:"
   ]
  },
  {
   "cell_type": "code",
   "execution_count": 10,
   "metadata": {},
   "outputs": [],
   "source": [
    "bigger_model = models.Sequential()\n",
    "bigger_model.add(layers.Dense(512, activation='relu', input_shape=(10000,)))\n",
    "bigger_model.add(layers.Dense(512, activation='relu'))\n",
    "bigger_model.add(layers.Dense(1, activation='sigmoid'))\n",
    "\n",
    "bigger_model.compile(optimizer='rmsprop',\n",
    "                     loss='binary_crossentropy',\n",
    "                     metrics=['acc'])"
   ]
  },
  {
   "cell_type": "code",
   "execution_count": 11,
   "metadata": {},
   "outputs": [
    {
     "name": "stdout",
     "output_type": "stream",
     "text": [
      "Epoch 1/20\n",
      "49/49 [==============================] - 12s 236ms/step - loss: 0.4612 - acc: 0.7976 - val_loss: 0.3675 - val_acc: 0.8410\n",
      "Epoch 2/20\n",
      "49/49 [==============================] - 12s 237ms/step - loss: 0.2212 - acc: 0.9119 - val_loss: 0.2830 - val_acc: 0.8859\n",
      "Epoch 3/20\n",
      "49/49 [==============================] - 11s 228ms/step - loss: 0.1310 - acc: 0.9541 - val_loss: 0.3769 - val_acc: 0.8736\n",
      "Epoch 4/20\n",
      "49/49 [==============================] - 13s 271ms/step - loss: 0.0608 - acc: 0.9824 - val_loss: 0.4516 - val_acc: 0.8821\n",
      "Epoch 5/20\n",
      "49/49 [==============================] - 14s 291ms/step - loss: 0.0643 - acc: 0.9859 - val_loss: 0.5209 - val_acc: 0.8807\n",
      "Epoch 6/20\n",
      "49/49 [==============================] - 16s 327ms/step - loss: 0.0828 - acc: 0.9870 - val_loss: 0.4563 - val_acc: 0.8817\n",
      "Epoch 7/20\n",
      "49/49 [==============================] - 12s 249ms/step - loss: 0.0016 - acc: 0.9998 - val_loss: 0.6658 - val_acc: 0.8817\n",
      "Epoch 8/20\n",
      "49/49 [==============================] - 11s 233ms/step - loss: 2.3170e-04 - acc: 1.0000 - val_loss: 0.8626 - val_acc: 0.8796\n",
      "Epoch 9/20\n",
      "49/49 [==============================] - 12s 251ms/step - loss: 1.1778e-04 - acc: 1.0000 - val_loss: 4.3507 - val_acc: 0.6944\n",
      "Epoch 10/20\n",
      "49/49 [==============================] - 11s 232ms/step - loss: 0.1686 - acc: 0.9876 - val_loss: 0.8062 - val_acc: 0.8758\n",
      "Epoch 11/20\n",
      "49/49 [==============================] - 12s 244ms/step - loss: 7.4884e-05 - acc: 1.0000 - val_loss: 0.8534 - val_acc: 0.8792\n",
      "Epoch 12/20\n",
      "49/49 [==============================] - 14s 293ms/step - loss: 9.9953e-06 - acc: 1.0000 - val_loss: 0.9988 - val_acc: 0.8793\n",
      "Epoch 13/20\n",
      "49/49 [==============================] - 16s 336ms/step - loss: 1.6427e-06 - acc: 1.0000 - val_loss: 1.1561 - val_acc: 0.8798\n",
      "Epoch 14/20\n",
      "49/49 [==============================] - 15s 316ms/step - loss: 2.6669e-07 - acc: 1.0000 - val_loss: 1.2989 - val_acc: 0.8796\n",
      "Epoch 15/20\n",
      "49/49 [==============================] - 13s 262ms/step - loss: 6.0257e-08 - acc: 1.0000 - val_loss: 1.3931 - val_acc: 0.8796\n",
      "Epoch 16/20\n",
      "49/49 [==============================] - 13s 264ms/step - loss: 2.3439e-08 - acc: 1.0000 - val_loss: 1.4509 - val_acc: 0.8796\n",
      "Epoch 17/20\n",
      "49/49 [==============================] - 12s 243ms/step - loss: 1.3947e-08 - acc: 1.0000 - val_loss: 1.4823 - val_acc: 0.8794\n",
      "Epoch 18/20\n",
      "49/49 [==============================] - 12s 252ms/step - loss: 9.9464e-09 - acc: 1.0000 - val_loss: 1.5050 - val_acc: 0.8791\n",
      "Epoch 19/20\n",
      "49/49 [==============================] - 12s 254ms/step - loss: 7.7632e-09 - acc: 1.0000 - val_loss: 1.5235 - val_acc: 0.8794\n",
      "Epoch 20/20\n",
      "49/49 [==============================] - 12s 241ms/step - loss: 6.3526e-09 - acc: 1.0000 - val_loss: 1.5381 - val_acc: 0.8795\n"
     ]
    }
   ],
   "source": [
    "bigger_model_hist = bigger_model.fit(x_train, y_train,\n",
    "                                     epochs=20,\n",
    "                                     batch_size=512,\n",
    "                                     validation_data=(x_test, y_test))"
   ]
  },
  {
   "cell_type": "markdown",
   "metadata": {},
   "source": [
    "Hier sehen Sie, wie das größere Netzwerk im Vergleich zum Referenznetzwerk abschneidet. Die Punkte sind die Validierungsverlustwerte des größeren Netzwerks, und die Kreuze sind das ursprüngliche Netzwerk."
   ]
  },
  {
   "cell_type": "code",
   "execution_count": 13,
   "metadata": {},
   "outputs": [
    {
     "data": {
      "image/png": "[encoded data removed]",
      "text/plain": [
       "<Figure size 432x288 with 1 Axes>"
      ]
     },
     "metadata": {
      "needs_background": "light"
     },
     "output_type": "display_data"
    }
   ],
   "source": [
    "bigger_model_val_loss = bigger_model_hist.history['val_loss']\n",
    "\n",
    "plt.plot(epochs, original_val_loss, 'b+', label='Original model')\n",
    "plt.plot(epochs, bigger_model_val_loss, 'bo', label='Bigger model')\n",
    "plt.xlabel('Epochs')\n",
    "plt.ylabel('Validation loss')\n",
    "plt.legend()\n",
    "\n",
    "plt.show()"
   ]
  },
  {
   "cell_type": "markdown",
   "metadata": {},
   "source": [
    "Das größere Netzwerk beginnt fast sofort, nach nur einer Epoche, mit der Überanpassung und übertrifft sie viel stärker. Sein Validierungsverlust ist auch stärker verrauscht.\n",
    "\n",
    "In der Zwischenzeit sind hier die Trainingsverluste für unsere beiden Netzwerke:"
   ]
  },
  {
   "cell_type": "code",
   "execution_count": 14,
   "metadata": {},
   "outputs": [
    {
     "data": {
      "image/png": "[encoded data removed]",
      "text/plain": [
       "<Figure size 432x288 with 1 Axes>"
      ]
     },
     "metadata": {
      "needs_background": "light"
     },
     "output_type": "display_data"
    }
   ],
   "source": [
    "original_train_loss = original_hist.history['loss']\n",
    "bigger_model_train_loss = bigger_model_hist.history['loss']\n",
    "\n",
    "plt.plot(epochs, original_train_loss, 'b+', label='Original model')\n",
    "plt.plot(epochs, bigger_model_train_loss, 'bo', label='Bigger model')\n",
    "plt.xlabel('Epochs')\n",
    "plt.ylabel('Training loss')\n",
    "plt.legend()\n",
    "\n",
    "plt.show()"
   ]
  },
  {
   "cell_type": "markdown",
   "metadata": {},
   "source": [
    "Wie Sie sehen können, geht der Trainingsverlust bei einem größeren Netzwerk sehr schnell gegen Null. Je mehr Kapazität das Netzwerk hat, desto schneller ist es in der Lage, die Trainingsdaten zu modellieren (was zu einem niedrigen Trainingsverlust führt), aber desto anfälliger ist es für eine Überanpassung (was zu einer großen Differenz zwischen dem Trainings- und dem Validierungsverlust führt)."
   ]
  },
  {
   "cell_type": "markdown",
   "metadata": {},
   "source": [
    "## Gewichtsregulierung hinzufügen"
   ]
  },
  {
   "cell_type": "markdown",
   "metadata": {},
   "source": [
    "Vielleicht kennen Sie das Prinzip von Occam's Razor: Wenn es zwei Erklärungen für etwas gibt, ist die Erklärung, die am wahrscheinlichsten richtig ist, die \"einfachste\", diejenige, die die wenigsten Annahmen macht. Dies gilt auch für die Modelle, die von neuronalen Netzwerken gelernt werden: Bei einigen Trainingsdaten und einer Netzwerkarchitektur gibt es mehrere Sätze von Gewichtungswerten (mehrere Modelle), die die Daten erklären könnten, und bei einfacheren Modellen ist die Wahrscheinlichkeit einer Überanpassung geringer als bei komplexen Modellen."
   ]
  },
  {
   "cell_type": "markdown",
   "metadata": {},
   "source": [
    "Ein \"einfaches Modell\" ist in diesem Zusammenhang ein Modell, bei dem die Verteilung der Parameterwerte weniger Entropie aufweist (oder ein Modell mit insgesamt weniger Parametern, wie wir im obigen Abschnitt gesehen haben). Eine übliche Methode, um Overfitting abzuschwächen, besteht also darin, die Komplexität eines Netzwerks einzuschränken, indem man seine Gewichte zwingt, nur kleine Werte anzunehmen, wodurch die Verteilung der Gewichtswerte \"regelmäßiger\" wird. Dies wird als \"Gewichtsregulierung\" bezeichnet und erfolgt durch Hinzufügen von Kosten zur Verlustfunktion des Netzwerks, die mit großen Gewichten verbunden sind. Diese Kosten gibt es in zwei Varianten:"
   ]
  },
  {
   "cell_type": "markdown",
   "metadata": {},
   "source": [
    "- L1-Regularisierung, bei der die zusätzlichen Kosten proportional zum absoluten Wert der Gewichtskoeffizienten sind (d. h. zur so genannten \"L1-Norm\" der Gewichte).\n",
    "\n",
    "- L2-Regularisierung, bei der die hinzugefügten Kosten proportional zum Quadrat des Wertes der Gewichtskoeffizienten sind (d. h. zu dem, was als \"L2-Norm\" der Gewichte bezeichnet wird). Die L2-Regularisierung wird im Zusammenhang mit neuronalen Netzen auch als Gewichtsabnahme bezeichnet. Lassen Sie sich durch die unterschiedliche Bezeichnung nicht verwirren: Gewichtsabbau ist mathematisch genau dasselbe wie L2-Regularisierung."
   ]
  },
  {
   "cell_type": "markdown",
   "metadata": {},
   "source": [
    "In Keras wird die Gewichtsregularisierung hinzugefügt, indem Gewichtsregularisierungsinstanzen als Schlüsselwortargumente an Schichten übergeben werden. Fügen wir unserem Netzwerk zur Klassifizierung von Filmrezensionen eine gewichtete L2-Regularisierung hinzu:"
   ]
  },
  {
   "cell_type": "code",
   "execution_count": 15,
   "metadata": {},
   "outputs": [],
   "source": [
    "from keras import regularizers\n",
    "\n",
    "l2_model = models.Sequential()\n",
    "l2_model.add(layers.Dense(16, kernel_regularizer=regularizers.l2(0.001),\n",
    "                          activation='relu', input_shape=(10000,)))\n",
    "l2_model.add(layers.Dense(16, kernel_regularizer=regularizers.l2(0.001),\n",
    "                          activation='relu'))\n",
    "l2_model.add(layers.Dense(1, activation='sigmoid'))"
   ]
  },
  {
   "cell_type": "code",
   "execution_count": 16,
   "metadata": {},
   "outputs": [],
   "source": [
    "l2_model.compile(optimizer='rmsprop',\n",
    "                 loss='binary_crossentropy',\n",
    "                 metrics=['acc'])"
   ]
  },
  {
   "cell_type": "markdown",
   "metadata": {},
   "source": [
    "l2(0,001) bedeutet, dass jeder Koeffizient in der Gewichtsmatrix der Schicht 0,001 * gewichts_koeffizient_wert zum Gesamtverlust des Netzes hinzufügt. Beachten Sie, dass der Verlust für dieses Netz beim Training viel höher ist als beim Testen, da diese Strafe nur zur Trainingszeit hinzugefügt wird.\n",
    "\n",
    "Hier sehen Sie die Auswirkung unserer L2-Regularisierungsstrafe:"
   ]
  },
  {
   "cell_type": "code",
   "execution_count": 17,
   "metadata": {},
   "outputs": [
    {
     "name": "stdout",
     "output_type": "stream",
     "text": [
      "Epoch 1/20\n",
      "49/49 [==============================] - 2s 46ms/step - loss: 0.5006 - acc: 0.8268 - val_loss: 0.4013 - val_acc: 0.8670\n",
      "Epoch 2/20\n",
      "49/49 [==============================] - 2s 50ms/step - loss: 0.3254 - acc: 0.8998 - val_loss: 0.3383 - val_acc: 0.8892\n",
      "Epoch 3/20\n",
      "49/49 [==============================] - 3s 53ms/step - loss: 0.2794 - acc: 0.9179 - val_loss: 0.3355 - val_acc: 0.8866\n",
      "Epoch 4/20\n",
      "49/49 [==============================] - 2s 50ms/step - loss: 0.2597 - acc: 0.9253 - val_loss: 0.3470 - val_acc: 0.8807\n",
      "Epoch 5/20\n",
      "49/49 [==============================] - 2s 37ms/step - loss: 0.2480 - acc: 0.9305 - val_loss: 0.3542 - val_acc: 0.8799\n",
      "Epoch 6/20\n",
      "49/49 [==============================] - 2s 36ms/step - loss: 0.2402 - acc: 0.9324 - val_loss: 0.3507 - val_acc: 0.8818\n",
      "Epoch 7/20\n",
      "49/49 [==============================] - 2s 38ms/step - loss: 0.2323 - acc: 0.9361 - val_loss: 0.3894 - val_acc: 0.8669\n",
      "Epoch 8/20\n",
      "49/49 [==============================] - 2s 42ms/step - loss: 0.2293 - acc: 0.9369 - val_loss: 0.3632 - val_acc: 0.8792\n",
      "Epoch 9/20\n",
      "49/49 [==============================] - 2s 43ms/step - loss: 0.2244 - acc: 0.9392 - val_loss: 0.3658 - val_acc: 0.8790\n",
      "Epoch 10/20\n",
      "49/49 [==============================] - 2s 47ms/step - loss: 0.2192 - acc: 0.9410 - val_loss: 0.3707 - val_acc: 0.8772\n",
      "Epoch 11/20\n",
      "49/49 [==============================] - 4s 83ms/step - loss: 0.2188 - acc: 0.9420 - val_loss: 0.3803 - val_acc: 0.8754\n",
      "Epoch 12/20\n",
      "49/49 [==============================] - 3s 71ms/step - loss: 0.2161 - acc: 0.9420 - val_loss: 0.3842 - val_acc: 0.8719\n",
      "Epoch 13/20\n",
      "49/49 [==============================] - 2s 39ms/step - loss: 0.2105 - acc: 0.9442 - val_loss: 0.4222 - val_acc: 0.8620\n",
      "Epoch 14/20\n",
      "49/49 [==============================] - 2s 37ms/step - loss: 0.2099 - acc: 0.9442 - val_loss: 0.3922 - val_acc: 0.8724\n",
      "Epoch 15/20\n",
      "49/49 [==============================] - 2s 37ms/step - loss: 0.2067 - acc: 0.9467 - val_loss: 0.4050 - val_acc: 0.8676\n",
      "Epoch 16/20\n",
      "49/49 [==============================] - 2s 40ms/step - loss: 0.2072 - acc: 0.9450 - val_loss: 0.3948 - val_acc: 0.8722\n",
      "Epoch 17/20\n",
      "49/49 [==============================] - 2s 37ms/step - loss: 0.2040 - acc: 0.9462 - val_loss: 0.3978 - val_acc: 0.8711\n",
      "Epoch 18/20\n",
      "49/49 [==============================] - 2s 38ms/step - loss: 0.1999 - acc: 0.9490 - val_loss: 0.4617 - val_acc: 0.8531\n",
      "Epoch 19/20\n",
      "49/49 [==============================] - 2s 40ms/step - loss: 0.2011 - acc: 0.9466 - val_loss: 0.4275 - val_acc: 0.8636\n",
      "Epoch 20/20\n",
      "49/49 [==============================] - 4s 75ms/step - loss: 0.1948 - acc: 0.9508 - val_loss: 0.4319 - val_acc: 0.8648\n"
     ]
    }
   ],
   "source": [
    "l2_model_hist = l2_model.fit(x_train, y_train,\n",
    "                             epochs=20,\n",
    "                             batch_size=512,\n",
    "                             validation_data=(x_test, y_test))"
   ]
  },
  {
   "cell_type": "code",
   "execution_count": 18,
   "metadata": {},
   "outputs": [
    {
     "data": {
      "image/png": "[encoded data removed]",
      "text/plain": [
       "<Figure size 432x288 with 1 Axes>"
      ]
     },
     "metadata": {
      "needs_background": "light"
     },
     "output_type": "display_data"
    }
   ],
   "source": [
    "l2_model_val_loss = l2_model_hist.history['val_loss']\n",
    "\n",
    "plt.plot(epochs, original_val_loss, 'b+', label='Original model')\n",
    "plt.plot(epochs, l2_model_val_loss, 'bo', label='L2-regularized model')\n",
    "plt.xlabel('Epochs')\n",
    "plt.ylabel('Validation loss')\n",
    "plt.legend()\n",
    "\n",
    "plt.show()"
   ]
  },
  {
   "cell_type": "markdown",
   "metadata": {},
   "source": [
    "Wie Sie sehen können, ist das Modell mit L2-Regularisierung (Punkte) viel resistenter gegen Overfitting geworden als das Referenzmodell (Kreuze), obwohl beide Modelle die gleiche Anzahl von Parametern haben.\n",
    "\n",
    "Als Alternativen zur L2-Regularisierung könnten Sie einen der folgenden Keras-Gewichtsregularisierer verwenden:"
   ]
  },
  {
   "cell_type": "code",
   "execution_count": 20,
   "metadata": {},
   "outputs": [
    {
     "data": {
      "text/plain": [
       "<tensorflow.python.keras.regularizers.L1L2 at 0x26dfd785308>"
      ]
     },
     "execution_count": 20,
     "metadata": {},
     "output_type": "execute_result"
    }
   ],
   "source": [
    "from keras import regularizers\n",
    "\n",
    "# L1 Regularisierung\n",
    "regularizers.l1(0.001)\n",
    "\n",
    "# L1 und L2 Regulierung zur gleichen Zeit\n",
    "regularizers.l1_l2(l1=0.001, l2=0.001)"
   ]
  },
  {
   "cell_type": "markdown",
   "metadata": {},
   "source": [
    "## Dropout hinzufügen"
   ]
  },
  {
   "cell_type": "markdown",
   "metadata": {},
   "source": [
    "Dropout ist eine der effektivsten und am häufigsten verwendeten Regularisierungstechniken für neuronale Netze, die von Hinton und seinen Studenten an der Universität von Toronto entwickelt wurde. Dropout, angewandt auf eine Schicht, besteht darin, während des Trainings zufällig eine Anzahl von Ausgangsmerkmalen der Schicht \"auszulassen\" (d. h. auf Null zu setzen). Nehmen wir an, eine gegebene Schicht hätte normalerweise einen Vektor [0.2, 0.5, 1.3, 0.8, 1.1] für eine gegebene Eingabeprobe während des Trainings zurückgegeben; nach Anwendung von Dropout wird dieser Vektor einige zufällig verteilte Nulleinträge haben, z. B. [0, 0.5,1.3, 0, 1.1]."
   ]
  },
  {
   "cell_type": "markdown",
   "metadata": {},
   "source": [
    "Die \"Dropout-Rate\" ist der Anteil der Features, die auf Null gesetzt werden; sie wird normalerweise zwischen 0,2 und 0,5 eingestellt. Zum Testzeitpunkt werden keine Einheiten herausgenommen und stattdessen werden die Ausgabewerte der Schicht um einen Faktor gleich der Dropout-Rate herunterskaliert, um die Tatsache auszugleichen, dass mehr Einheiten aktiv sind als zum Trainingszeitpunkt."
   ]
  },
  {
   "cell_type": "markdown",
   "metadata": {},
   "source": [
    "Betrachten Sie eine Numpy-Matrix, die die Ausgabe einer Schicht, layer_output, der Form (batch_size, features) enthält. Zur Trainingszeit würden wir einen Bruchteil der Werte in der Matrix nach dem Zufallsprinzip löschen."
   ]
  },
  {
   "cell_type": "markdown",
   "metadata": {},
   "source": [
    "Fügen wir nun zwei Dropout-Schichten in unser IMDB-Netzwerk ein, um zu sehen, wie gut sie die Überanpassung reduzieren:"
   ]
  },
  {
   "cell_type": "code",
   "execution_count": 27,
   "metadata": {},
   "outputs": [],
   "source": [
    "dpt_model = models.Sequential()\n",
    "dpt_model.add(layers.Dense(16, activation='relu', input_shape=(10000,)))\n",
    "dpt_model.add(layers.Dropout(0.5))\n",
    "dpt_model.add(layers.Dense(16, activation='relu'))\n",
    "dpt_model.add(layers.Dropout(0.5))\n",
    "dpt_model.add(layers.Dense(1, activation='sigmoid'))\n",
    "\n",
    "dpt_model.compile(optimizer='rmsprop',\n",
    "                  loss='binary_crossentropy',\n",
    "                  metrics=['acc'])"
   ]
  },
  {
   "cell_type": "code",
   "execution_count": 28,
   "metadata": {},
   "outputs": [
    {
     "name": "stdout",
     "output_type": "stream",
     "text": [
      "Epoch 1/20\n",
      "49/49 [==============================] - 2s 48ms/step - loss: 0.5918 - acc: 0.6826 - val_loss: 0.4394 - val_acc: 0.8612\n",
      "Epoch 2/20\n",
      "49/49 [==============================] - 3s 60ms/step - loss: 0.4322 - acc: 0.8228 - val_loss: 0.3247 - val_acc: 0.8844\n",
      "Epoch 3/20\n",
      "49/49 [==============================] - 3s 68ms/step - loss: 0.3429 - acc: 0.8738 - val_loss: 0.2868 - val_acc: 0.8888\n",
      "Epoch 4/20\n",
      "49/49 [==============================] - 3s 52ms/step - loss: 0.2895 - acc: 0.8996 - val_loss: 0.2770 - val_acc: 0.8892\n",
      "Epoch 5/20\n",
      "49/49 [==============================] - 3s 62ms/step - loss: 0.2498 - acc: 0.9151 - val_loss: 0.2823 - val_acc: 0.8892\n",
      "Epoch 6/20\n",
      "49/49 [==============================] - 3s 56ms/step - loss: 0.2258 - acc: 0.9236 - val_loss: 0.3005 - val_acc: 0.8876\n",
      "Epoch 7/20\n",
      "49/49 [==============================] - 3s 58ms/step - loss: 0.1993 - acc: 0.9353 - val_loss: 0.3276 - val_acc: 0.8839\n",
      "Epoch 8/20\n",
      "49/49 [==============================] - 3s 57ms/step - loss: 0.1853 - acc: 0.9370 - val_loss: 0.3259 - val_acc: 0.8839\n",
      "Epoch 9/20\n",
      "49/49 [==============================] - 4s 89ms/step - loss: 0.1646 - acc: 0.9456 - val_loss: 0.3746 - val_acc: 0.8827\n",
      "Epoch 10/20\n",
      "49/49 [==============================] - 3s 66ms/step - loss: 0.1604 - acc: 0.9480 - val_loss: 0.3742 - val_acc: 0.8824\n",
      "Epoch 11/20\n",
      "49/49 [==============================] - 4s 73ms/step - loss: 0.1453 - acc: 0.9528 - val_loss: 0.3863 - val_acc: 0.8789\n",
      "Epoch 12/20\n",
      "49/49 [==============================] - 5s 106ms/step - loss: 0.1378 - acc: 0.9552 - val_loss: 0.4315 - val_acc: 0.8786\n",
      "Epoch 13/20\n",
      "49/49 [==============================] - 4s 75ms/step - loss: 0.1352 - acc: 0.9570 - val_loss: 0.4294 - val_acc: 0.8784\n",
      "Epoch 14/20\n",
      "49/49 [==============================] - 4s 78ms/step - loss: 0.1272 - acc: 0.9596 - val_loss: 0.4610 - val_acc: 0.8783\n",
      "Epoch 15/20\n",
      "49/49 [==============================] - 4s 90ms/step - loss: 0.1194 - acc: 0.9614 - val_loss: 0.4835 - val_acc: 0.8771\n",
      "Epoch 16/20\n",
      "49/49 [==============================] - 3s 51ms/step - loss: 0.1165 - acc: 0.9621 - val_loss: 0.5176 - val_acc: 0.8756\n",
      "Epoch 17/20\n",
      "49/49 [==============================] - 2s 44ms/step - loss: 0.1122 - acc: 0.9634 - val_loss: 0.5403 - val_acc: 0.8754\n",
      "Epoch 18/20\n",
      "49/49 [==============================] - 2s 41ms/step - loss: 0.1123 - acc: 0.9670 - val_loss: 0.5563 - val_acc: 0.8749\n",
      "Epoch 19/20\n",
      "49/49 [==============================] - 2s 38ms/step - loss: 0.1077 - acc: 0.9666 - val_loss: 0.6015 - val_acc: 0.8712\n",
      "Epoch 20/20\n",
      "49/49 [==============================] - 2s 34ms/step - loss: 0.1035 - acc: 0.9682 - val_loss: 0.5968 - val_acc: 0.8717\n"
     ]
    }
   ],
   "source": [
    "dpt_model_hist = dpt_model.fit(x_train, y_train,\n",
    "                               epochs=20,\n",
    "                               batch_size=512,\n",
    "                               validation_data=(x_test, y_test))"
   ]
  },
  {
   "cell_type": "markdown",
   "metadata": {},
   "source": [
    "Lassen Sie uns die Ergebnisse grafisch darstellen:"
   ]
  },
  {
   "cell_type": "code",
   "execution_count": 29,
   "metadata": {},
   "outputs": [
    {
     "data": {
      "image/png": "[encoded data removed]",
      "text/plain": [
       "<Figure size 432x288 with 1 Axes>"
      ]
     },
     "metadata": {
      "needs_background": "light"
     },
     "output_type": "display_data"
    }
   ],
   "source": [
    "dpt_model_val_loss = dpt_model_hist.history['val_loss']\n",
    "\n",
    "plt.plot(epochs, original_val_loss, 'b+', label='Original model')\n",
    "plt.plot(epochs, dpt_model_val_loss, 'bo', label='Dropout-regularized model')\n",
    "plt.xlabel('Epochs')\n",
    "plt.ylabel('Validation loss')\n",
    "plt.legend()\n",
    "\n",
    "plt.show()"
   ]
  },
  {
   "cell_type": "markdown",
   "metadata": {},
   "source": [
    "Auch dies ist eine deutliche Verbesserung gegenüber dem Referenznetzwerk.\n",
    "\n",
    "Zur Erinnerung: Hier die gängigsten Methoden zur Vermeidung von Overfitting in neuronalen Netzwerken:\n",
    "\n",
    "- Mehr Trainingsdaten erhalten.\n",
    "- Reduzieren der Kapazität des Netzwerks.\n",
    "- Hinzufügen einer Gewichtsregulierung.\n",
    "- Hinzufügen von Dropout."
   ]
  },
  {
   "cell_type": "code",
   "execution_count": null,
   "metadata": {},
   "outputs": [],
   "source": []
  }
 ],
 "metadata": {
  "kernelspec": {
   "display_name": "Python 3",
   "language": "python",
   "name": "python3"
  },
  "language_info": {
   "codemirror_mode": {
    "name": "ipython",
    "version": 3
   },
   "file_extension": ".py",
   "mimetype": "text/x-python",
   "name": "python",
   "nbconvert_exporter": "python",
   "pygments_lexer": "ipython3",
   "version": "3.7.4"
  },
  "toc": {
   "base_numbering": 1,
   "nav_menu": {},
   "number_sections": true,
   "sideBar": true,
   "skip_h1_title": false,
   "title_cell": "Table of Contents",
   "title_sidebar": "Contents",
   "toc_cell": false,
   "toc_position": {},
   "toc_section_display": true,
   "toc_window_display": false
  }
 },
 "nbformat": 4,
 "nbformat_minor": 2
}
