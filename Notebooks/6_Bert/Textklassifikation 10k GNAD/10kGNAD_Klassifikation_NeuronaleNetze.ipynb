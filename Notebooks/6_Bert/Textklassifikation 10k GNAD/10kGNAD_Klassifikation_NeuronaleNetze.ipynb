{
 "cells": [
  {
   "cell_type": "markdown",
   "metadata": {
    "colab_type": "text",
    "id": "KzhFwl6gNKU_"
   },
   "source": [
    "<h1>Neuronale Netze</h1>"
   ]
  },
  {
   "cell_type": "markdown",
   "metadata": {},
   "source": [
    "<h4>Imports</h4>"
   ]
  },
  {
   "cell_type": "code",
   "execution_count": 0,
   "metadata": {
    "colab": {},
    "colab_type": "code",
    "id": "1B1rl4KB2DDU"
   },
   "outputs": [],
   "source": [
    "!pip install tensorflow"
   ]
  },
  {
   "cell_type": "code",
   "execution_count": 0,
   "metadata": {
    "colab": {},
    "colab_type": "code",
    "id": "r_zf3t1F2hqi"
   },
   "outputs": [],
   "source": [
    "import tensorflow as tf\n",
    "from tensorflow import keras"
   ]
  },
  {
   "cell_type": "code",
   "execution_count": 0,
   "metadata": {
    "colab": {},
    "colab_type": "code",
    "id": "RMESzjpIAvGJ"
   },
   "outputs": [],
   "source": [
    "from keras import models\n",
    "from keras import layers\n",
    "from keras.utils.np_utils import to_categorical\n",
    "\n",
    "from sklearn.feature_extraction.text import TfidfVectorizer\n",
    "from sklearn.preprocessing import LabelEncoder, OneHotEncoder\n",
    "from sklearn.model_selection import train_test_split\n",
    "\n",
    "import pandas as pd\n",
    "import numpy as np\n",
    "import matplotlib.pyplot as plt"
   ]
  },
  {
   "cell_type": "code",
   "execution_count": 0,
   "metadata": {
    "colab": {
     "base_uri": "https://localhost:8080/",
     "height": 75,
     "resources": {
      "http://localhost:8080/nbextensions/google.colab/files.js": {
       "data": "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",
       "headers": [
        [
         "content-type",
         "application/javascript"
        ]
       ],
       "ok": true,
       "status": 200,
       "status_text": ""
      }
     }
    },
    "colab_type": "code",
    "id": "SzFMuctV3-Q1",
    "outputId": "e6df0156-9dec-42e3-bcd6-0617efe691b7"
   },
   "outputs": [
    {
     "data": {
      "text/html": [
       "\n",
       "     <input type=\"file\" id=\"files-7522d2fd-69e6-4683-a26d-5e3724ecba62\" name=\"files[]\" multiple disabled />\n",
       "     <output id=\"result-7522d2fd-69e6-4683-a26d-5e3724ecba62\">\n",
       "      Upload widget is only available when the cell has been executed in the\n",
       "      current browser session. Please rerun this cell to enable.\n",
       "      </output>\n",
       "      <script src=\"/nbextensions/google.colab/files.js\"></script> "
      ],
      "text/plain": [
       "<IPython.core.display.HTML object>"
      ]
     },
     "metadata": {
      "tags": []
     },
     "output_type": "display_data"
    },
    {
     "name": "stdout",
     "output_type": "stream",
     "text": [
      "Saving articles.csv to articles (1).csv\n"
     ]
    }
   ],
   "source": [
    "from google.colab import files\n",
    "uploaded = files.upload()"
   ]
  },
  {
   "cell_type": "code",
   "execution_count": 0,
   "metadata": {
    "colab": {},
    "colab_type": "code",
    "id": "YZ-HWRyj3Fha"
   },
   "outputs": [],
   "source": [
    "corpus = pd.read_csv('articles.csv', sep=';', header=None, error_bad_lines=False, warn_bad_lines=False, names=[\"category\",\"text\"])"
   ]
  },
  {
   "cell_type": "code",
   "execution_count": 0,
   "metadata": {
    "colab": {
     "base_uri": "https://localhost:8080/",
     "height": 200
    },
    "colab_type": "code",
    "id": "WsPKl-j25oMy",
    "outputId": "6438915c-bfad-4842-92de-328c6251b3e8"
   },
   "outputs": [
    {
     "data": {
      "text/html": [
       "<div>\n",
       "<style scoped>\n",
       "    .dataframe tbody tr th:only-of-type {\n",
       "        vertical-align: middle;\n",
       "    }\n",
       "\n",
       "    .dataframe tbody tr th {\n",
       "        vertical-align: top;\n",
       "    }\n",
       "\n",
       "    .dataframe thead th {\n",
       "        text-align: right;\n",
       "    }\n",
       "</style>\n",
       "<table border=\"1\" class=\"dataframe\">\n",
       "  <thead>\n",
       "    <tr style=\"text-align: right;\">\n",
       "      <th></th>\n",
       "      <th>category</th>\n",
       "      <th>text</th>\n",
       "    </tr>\n",
       "  </thead>\n",
       "  <tbody>\n",
       "    <tr>\n",
       "      <th>0</th>\n",
       "      <td>Etat</td>\n",
       "      <td>Die ARD-Tochter Degeto hat sich verpflichtet, ...</td>\n",
       "    </tr>\n",
       "    <tr>\n",
       "      <th>1</th>\n",
       "      <td>Etat</td>\n",
       "      <td>App sei nicht so angenommen worden wie geplant...</td>\n",
       "    </tr>\n",
       "    <tr>\n",
       "      <th>2</th>\n",
       "      <td>Etat</td>\n",
       "      <td>'Zum Welttag der Suizidprävention ist es Zeit,...</td>\n",
       "    </tr>\n",
       "    <tr>\n",
       "      <th>3</th>\n",
       "      <td>Etat</td>\n",
       "      <td>Mitarbeiter überreichten Eigentümervertretern ...</td>\n",
       "    </tr>\n",
       "    <tr>\n",
       "      <th>4</th>\n",
       "      <td>Etat</td>\n",
       "      <td>Service: Jobwechsel in der Kommunikationsbranc...</td>\n",
       "    </tr>\n",
       "  </tbody>\n",
       "</table>\n",
       "</div>"
      ],
      "text/plain": [
       "  category                                               text\n",
       "0     Etat  Die ARD-Tochter Degeto hat sich verpflichtet, ...\n",
       "1     Etat  App sei nicht so angenommen worden wie geplant...\n",
       "2     Etat  'Zum Welttag der Suizidprävention ist es Zeit,...\n",
       "3     Etat  Mitarbeiter überreichten Eigentümervertretern ...\n",
       "4     Etat  Service: Jobwechsel in der Kommunikationsbranc..."
      ]
     },
     "execution_count": 34,
     "metadata": {
      "tags": []
     },
     "output_type": "execute_result"
    }
   ],
   "source": [
    "corpus.head()"
   ]
  },
  {
   "cell_type": "markdown",
   "metadata": {
    "colab_type": "text",
    "id": "rUI0Nd4cFbNh"
   },
   "source": [
    " <h4>Vektorisierung</h4>"
   ]
  },
  {
   "cell_type": "code",
   "execution_count": 0,
   "metadata": {
    "colab": {},
    "colab_type": "code",
    "id": "Cyh3lOEpB7E5"
   },
   "outputs": [],
   "source": [
    "vectorizer = TfidfVectorizer()\n",
    "vector = vectorizer.fit_transform(corpus[\"text\"])\n",
    "labels = LabelEncoder().fit_transform(corpus[\"category\"])\n",
    "vocab = vectorizer.vocabulary_"
   ]
  },
  {
   "cell_type": "code",
   "execution_count": 0,
   "metadata": {
    "colab": {},
    "colab_type": "code",
    "id": "_WMJAU2aESdF"
   },
   "outputs": [],
   "source": [
    "X_train, X_test, y_train, y_test = train_test_split(vector, \n",
    "                                                    labels, \n",
    "                                                    test_size=0.4, \n",
    "                                                    train_size=0.6,\n",
    "                                                    random_state=42)"
   ]
  },
  {
   "cell_type": "code",
   "execution_count": 0,
   "metadata": {
    "colab": {},
    "colab_type": "code",
    "id": "UGy90COmEURc"
   },
   "outputs": [],
   "source": [
    "X_val = X_test[:1200]\n",
    "X_test = X_test[1200:]\n",
    "\n",
    "y_val = y_test[:1200]\n",
    "y_test = y_test[1200:]"
   ]
  },
  {
   "cell_type": "markdown",
   "metadata": {
    "colab_type": "text",
    "id": "KgWveKzlGEpF"
   },
   "source": [
    "<h4>One Hot Encoding</h4>"
   ]
  },
  {
   "cell_type": "code",
   "execution_count": 0,
   "metadata": {
    "colab": {},
    "colab_type": "code",
    "id": "y8OrL6tIFKtx"
   },
   "outputs": [],
   "source": [
    "y_val = to_categorical(y_val)\n",
    "y_test = to_categorical(y_test)\n",
    "y_train = to_categorical(y_train)"
   ]
  },
  {
   "cell_type": "markdown",
   "metadata": {
    "colab_type": "text",
    "id": "k2xu2j7bGZV5"
   },
   "source": [
    "<h3>Neuronales Netz</h3>"
   ]
  },
  {
   "cell_type": "code",
   "execution_count": 0,
   "metadata": {
    "colab": {
     "base_uri": "https://localhost:8080/",
     "height": 215
    },
    "colab_type": "code",
    "id": "OA1VmoHrGXSQ",
    "outputId": "0e5a25fe-a356-4928-8c60-91bb8c1e1286"
   },
   "outputs": [
    {
     "name": "stdout",
     "output_type": "stream",
     "text": [
      "WARNING:tensorflow:From /usr/local/lib/python3.6/dist-packages/keras/backend/tensorflow_backend.py:66: The name tf.get_default_graph is deprecated. Please use tf.compat.v1.get_default_graph instead.\n",
      "\n",
      "WARNING:tensorflow:From /usr/local/lib/python3.6/dist-packages/keras/backend/tensorflow_backend.py:541: The name tf.placeholder is deprecated. Please use tf.compat.v1.placeholder instead.\n",
      "\n",
      "WARNING:tensorflow:From /usr/local/lib/python3.6/dist-packages/keras/backend/tensorflow_backend.py:4432: The name tf.random_uniform is deprecated. Please use tf.random.uniform instead.\n",
      "\n",
      "WARNING:tensorflow:From /usr/local/lib/python3.6/dist-packages/keras/optimizers.py:793: The name tf.train.Optimizer is deprecated. Please use tf.compat.v1.train.Optimizer instead.\n",
      "\n",
      "WARNING:tensorflow:From /usr/local/lib/python3.6/dist-packages/keras/backend/tensorflow_backend.py:3576: The name tf.log is deprecated. Please use tf.math.log instead.\n",
      "\n"
     ]
    }
   ],
   "source": [
    "model = models.Sequential()\n",
    "# Input Layer\n",
    "model.add(layers.Dense(64, activation=\"relu\", input_shape=(len(vocab),)))\n",
    "# Hidden Layer\n",
    "model.add(layers.Dense(64, activation=\"relu\"))\n",
    "# Output Layer\n",
    "model.add(layers.Dense(len(np.unique(labels)), activation=\"softmax\"))\n",
    "\n",
    "\n",
    "model.compile(optimizer=\"rmsprop\",\n",
    "              loss=\"categorical_crossentropy\",\n",
    "              metrics=[\"accuracy\"])             #Keras bietet keinen F1-Score mehr an "
   ]
  },
  {
   "cell_type": "code",
   "execution_count": 0,
   "metadata": {
    "colab": {
     "base_uri": "https://localhost:8080/",
     "height": 748
    },
    "colab_type": "code",
    "id": "3s7r_7OSI0HY",
    "outputId": "77f72dec-6a90-400c-c7ac-9546dd4a109d"
   },
   "outputs": [
    {
     "name": "stdout",
     "output_type": "stream",
     "text": [
      "WARNING:tensorflow:From /usr/local/lib/python3.6/dist-packages/tensorflow_core/python/ops/math_grad.py:1424: where (from tensorflow.python.ops.array_ops) is deprecated and will be removed in a future version.\n",
      "Instructions for updating:\n",
      "Use tf.where in 2.0, which has the same broadcast rule as np.where\n",
      "WARNING:tensorflow:From /usr/local/lib/python3.6/dist-packages/keras/backend/tensorflow_backend.py:1033: The name tf.assign_add is deprecated. Please use tf.compat.v1.assign_add instead.\n",
      "\n",
      "WARNING:tensorflow:From /usr/local/lib/python3.6/dist-packages/keras/backend/tensorflow_backend.py:1020: The name tf.assign is deprecated. Please use tf.compat.v1.assign instead.\n",
      "\n",
      "WARNING:tensorflow:From /usr/local/lib/python3.6/dist-packages/keras/backend/tensorflow_backend.py:3005: The name tf.Session is deprecated. Please use tf.compat.v1.Session instead.\n",
      "\n",
      "Train on 6163 samples, validate on 2910 samples\n",
      "Epoch 1/10\n",
      "WARNING:tensorflow:From /usr/local/lib/python3.6/dist-packages/keras/backend/tensorflow_backend.py:190: The name tf.get_default_session is deprecated. Please use tf.compat.v1.get_default_session instead.\n",
      "\n",
      "WARNING:tensorflow:From /usr/local/lib/python3.6/dist-packages/keras/backend/tensorflow_backend.py:197: The name tf.ConfigProto is deprecated. Please use tf.compat.v1.ConfigProto instead.\n",
      "\n",
      "WARNING:tensorflow:From /usr/local/lib/python3.6/dist-packages/keras/backend/tensorflow_backend.py:207: The name tf.global_variables is deprecated. Please use tf.compat.v1.global_variables instead.\n",
      "\n",
      "WARNING:tensorflow:From /usr/local/lib/python3.6/dist-packages/keras/backend/tensorflow_backend.py:216: The name tf.is_variable_initialized is deprecated. Please use tf.compat.v1.is_variable_initialized instead.\n",
      "\n",
      "WARNING:tensorflow:From /usr/local/lib/python3.6/dist-packages/keras/backend/tensorflow_backend.py:223: The name tf.variables_initializer is deprecated. Please use tf.compat.v1.variables_initializer instead.\n",
      "\n",
      "6163/6163 [==============================] - 25s 4ms/step - loss: 1.7019 - acc: 0.5285 - val_loss: 1.2066 - val_acc: 0.6893\n",
      "Epoch 2/10\n",
      "6163/6163 [==============================] - 24s 4ms/step - loss: 0.7354 - acc: 0.8433 - val_loss: 0.6869 - val_acc: 0.8247\n",
      "Epoch 3/10\n",
      "6163/6163 [==============================] - 24s 4ms/step - loss: 0.2679 - acc: 0.9589 - val_loss: 0.5093 - val_acc: 0.8512\n",
      "Epoch 4/10\n",
      "6163/6163 [==============================] - 24s 4ms/step - loss: 0.0880 - acc: 0.9886 - val_loss: 0.4742 - val_acc: 0.8495\n",
      "Epoch 5/10\n",
      "6163/6163 [==============================] - 24s 4ms/step - loss: 0.0297 - acc: 0.9956 - val_loss: 0.4495 - val_acc: 0.8601\n",
      "Epoch 6/10\n",
      "6163/6163 [==============================] - 24s 4ms/step - loss: 0.0121 - acc: 0.9977 - val_loss: 0.4658 - val_acc: 0.8560\n",
      "Epoch 7/10\n",
      "6163/6163 [==============================] - 24s 4ms/step - loss: 0.0060 - acc: 0.9989 - val_loss: 0.4770 - val_acc: 0.8591\n",
      "Epoch 8/10\n",
      "6163/6163 [==============================] - 24s 4ms/step - loss: 0.0037 - acc: 0.9990 - val_loss: 0.5389 - val_acc: 0.8495\n",
      "Epoch 9/10\n",
      "6163/6163 [==============================] - 24s 4ms/step - loss: 0.0031 - acc: 0.9990 - val_loss: 0.5234 - val_acc: 0.8605\n",
      "Epoch 10/10\n",
      "6163/6163 [==============================] - 24s 4ms/step - loss: 0.0023 - acc: 0.9990 - val_loss: 0.5561 - val_acc: 0.8533\n"
     ]
    }
   ],
   "source": [
    "history = model.fit(X_train,\n",
    "                   y_train,\n",
    "                   epochs=10,\n",
    "                   batch_size=64,\n",
    "                   validation_data=(X_test, y_test),\n",
    "                   verbose=1)"
   ]
  },
  {
   "cell_type": "markdown",
   "metadata": {
    "colab_type": "text",
    "id": "lNstP0YzKciC"
   },
   "source": [
    "<h4>Visualisierung der Ergebnisse</h4>"
   ]
  },
  {
   "cell_type": "code",
   "execution_count": 0,
   "metadata": {
    "colab": {},
    "colab_type": "code",
    "id": "eHH20VWiJUlz"
   },
   "outputs": [],
   "source": [
    "def plot_results(history):\n",
    "    loss = history.history[\"loss\"]\n",
    "    val_loss = history.history[\"val_loss\"]\n",
    "\n",
    "    epochs = range(1, len(loss) + 1)\n",
    "\n",
    "    plt.plot(epochs, loss, \"b\", label=\"Training loss\")\n",
    "    plt.plot(epochs, val_loss, \"ro\", label=\"Validation loss\")\n",
    "    plt.title(\"Training and validation loss\")\n",
    "    plt.xlabel(\"Epochs\")\n",
    "    plt.ylabel(\"Loss\")\n",
    "    plt.legend()\n",
    "\n",
    "    plt.show()\n",
    "\n",
    "    plt.clf() #clears the figure\n",
    "\n",
    "    acc = history.history[\"acc\"]\n",
    "    val_acc = history.history[\"val_acc\"]\n",
    "\n",
    "    plt.plot(epochs, acc, \"b\", label=\"Training acc\")\n",
    "    plt.plot(epochs, val_acc, \"ro\", label=\"Validation acc\")\n",
    "    plt.title(\"Training and validation accuracy\")\n",
    "    plt.xlabel(\"Epochs\")\n",
    "    plt.ylabel(\"Acc\")\n",
    "    plt.legend()\n",
    "\n",
    "    plt.show()"
   ]
  },
  {
   "cell_type": "code",
   "execution_count": 0,
   "metadata": {
    "colab": {
     "base_uri": "https://localhost:8080/",
     "height": 573
    },
    "colab_type": "code",
    "id": "Ysn8PDVAJVbJ",
    "outputId": "b5c84649-963a-4351-b2a8-4f09c365e2ac"
   },
   "outputs": [
    {
     "data": {
      "image/png": "[encoded data removed]",
      "text/plain": [
       "<Figure size 432x288 with 1 Axes>"
      ]
     },
     "metadata": {
      "tags": []
     },
     "output_type": "display_data"
    },
    {
     "data": {
      "image/png": "[encoded data removed]",
      "text/plain": [
       "<Figure size 432x288 with 1 Axes>"
      ]
     },
     "metadata": {
      "tags": []
     },
     "output_type": "display_data"
    }
   ],
   "source": [
    "plot_results(history)"
   ]
  },
  {
   "cell_type": "markdown",
   "metadata": {
    "colab_type": "text",
    "id": "Z-9YeEknLGOK"
   },
   "source": [
    "--> Overfitting"
   ]
  },
  {
   "cell_type": "markdown",
   "metadata": {
    "colab_type": "text",
    "id": "-go1tMMVK9ix"
   },
   "source": [
    "<h3>Evaluation</h3>"
   ]
  },
  {
   "cell_type": "code",
   "execution_count": 0,
   "metadata": {
    "colab": {},
    "colab_type": "code",
    "id": "0fFFP_6AMIiL"
   },
   "outputs": [],
   "source": [
    "from sklearn.metrics import f1_score"
   ]
  },
  {
   "cell_type": "markdown",
   "metadata": {
    "colab_type": "text",
    "id": "0W4RF3FwMp7z"
   },
   "source": [
    "<h4>Alle Scores</h4>"
   ]
  },
  {
   "cell_type": "markdown",
   "metadata": {
    "colab_type": "text",
    "id": "JF87gwSQPdbj"
   },
   "source": [
    "Evaluationsfunktion"
   ]
  },
  {
   "cell_type": "code",
   "execution_count": 0,
   "metadata": {
    "colab": {},
    "colab_type": "code",
    "id": "giAyq3ayPap6"
   },
   "outputs": [],
   "source": [
    "def evaluation():\n",
    "    y_pred = model.predict(X_test)\n",
    "    f1_keras = f1_score(np.argmax(y_test, axis=1), np.argmax(y_pred, axis=1), average=\"micro\")\n",
    "    test_loss, test_acc = model.evaluate(X_test, y_test)\n",
    "    print(f\"\\nResults:\")\n",
    "    print(f\"Train_acc: {np.around(np.mean(history.history['acc']), decimals=3)}\")\n",
    "    print(f\"Val_acc: {np.around(np.mean(history.history['val_acc']), decimals=3)}\")\n",
    "    print(f\"Test_acc: {np.around(test_acc, decimals=3)}\") \n",
    "    print(f\"F1-score: {str(np.around(f1_keras, decimals=3))}\")"
   ]
  },
  {
   "cell_type": "code",
   "execution_count": 0,
   "metadata": {
    "colab": {
     "base_uri": "https://localhost:8080/",
     "height": 141
    },
    "colab_type": "code",
    "id": "QosHSL1ZPxgK",
    "outputId": "22c7b3ba-7894-4999-951b-342ff28e5857"
   },
   "outputs": [
    {
     "name": "stdout",
     "output_type": "stream",
     "text": [
      "2910/2910 [==============================] - 2s 734us/step\n",
      "\n",
      "Results:\n",
      "Train_acc: 0.824\n",
      "Val_acc: 0.739\n",
      "Test_acc: 0.835\n",
      "F1-score: 0.835\n"
     ]
    }
   ],
   "source": [
    "evaluation()"
   ]
  },
  {
   "cell_type": "markdown",
   "metadata": {
    "colab_type": "text",
    "id": "g-SXZKcwl3IY"
   },
   "source": [
    "<br>\n",
    "<h3>Hyperparameteroptimierung</h3>"
   ]
  },
  {
   "cell_type": "code",
   "execution_count": 0,
   "metadata": {
    "colab": {},
    "colab_type": "code",
    "id": "HPnK8T5Rosqi"
   },
   "outputs": [],
   "source": [
    "!pip install hyperas\n",
    "!pip install hyperopt"
   ]
  },
  {
   "cell_type": "code",
   "execution_count": 0,
   "metadata": {
    "colab": {},
    "colab_type": "code",
    "id": "yRYf_o7s4KPo"
   },
   "outputs": [],
   "source": [
    "from keras import models\n",
    "from keras import layers\n",
    "from keras.optimizers import Adam, RMSprop, SGD\n",
    "from keras.utils.np_utils import to_categorical\n",
    "from keras.callbacks import EarlyStopping\n",
    "from keras import regularizers\n",
    "from keras.layers import Dropout\n",
    "from keras.layers.core import Dense, Dropout, Activation\n",
    "from keras import backend as K\n",
    "\n",
    "from sklearn.metrics import f1_score\n",
    "from sklearn.feature_extraction.text import CountVectorizer, TfidfVectorizer\n",
    "from sklearn.preprocessing import LabelEncoder, OneHotEncoder\n",
    "from sklearn.model_selection import train_test_split\n",
    "\n",
    "from hyperas.distributions import uniform\n",
    "from hyperopt import Trials, STATUS_OK, tpe\n",
    "from hyperas import optim\n",
    "from hyperas.distributions import choice, uniform\n",
    "\n",
    "import pandas as pd\n",
    "import numpy as np\n",
    "import matplotlib.pyplot as plt"
   ]
  },
  {
   "cell_type": "markdown",
   "metadata": {
    "colab_type": "text",
    "id": "IwQ4THgEppGJ"
   },
   "source": [
    "Zusammenfassung der Initialisierungsschritte in einer Funktion data():"
   ]
  },
  {
   "cell_type": "code",
   "execution_count": 0,
   "metadata": {
    "colab": {},
    "colab_type": "code",
    "id": "sH9owq1dpBh0"
   },
   "outputs": [],
   "source": [
    "def data():\n",
    "    \n",
    "    corpus = pd.read_csv('articles.csv', sep=';', header=None, error_bad_lines=False, warn_bad_lines=False, names=[\"category\",\"text\"])\n",
    "\n",
    "    vectorizer = TfidfVectorizer()\n",
    "    vector = vectorizer.fit_transform(corpus[\"text\"])\n",
    "    labels = LabelEncoder().fit_transform(corpus[\"category\"])\n",
    "    vocab = vectorizer.vocabulary_\n",
    "\n",
    "    X_train, X_test, y_train, y_test = train_test_split(vector, \n",
    "                                                            labels, \n",
    "                                                            test_size=0.4, \n",
    "                                                            train_size=0.6,\n",
    "                                                            random_state=42)\n",
    "    X_val = X_test[:1200]\n",
    "    X_test = X_test[1200:]\n",
    "\n",
    "    y_val = y_test[:1200]\n",
    "    y_test = y_test[1200:]\n",
    "\n",
    "    y_val = to_categorical(y_val)\n",
    "    y_test = to_categorical(y_test)\n",
    "    y_train = to_categorical(y_train)\n",
    "    \n",
    "    return X_train, y_train, X_val, y_val, X_test, y_test"
   ]
  },
  {
   "cell_type": "markdown",
   "metadata": {
    "colab_type": "text",
    "id": "atbevjSRqB6p"
   },
   "source": [
    "Erstellung der Neuronalen Netzes als Funktion:"
   ]
  },
  {
   "cell_type": "code",
   "execution_count": 0,
   "metadata": {
    "colab": {},
    "colab_type": "code",
    "id": "PDveXlzxp_wT"
   },
   "outputs": [],
   "source": [
    "def create_model(X_train, y_train, X_val, y_val, X_test, y_test, vocab, labels):\n",
    "    \n",
    "    model = models.Sequential()\n",
    "    model.add(Dense({{choice([16, 32, 64])}}, input_shape=(len(vocab),)))\n",
    "    model.add(Activation('relu'))\n",
    "    model.add(Dropout({{choice([0.2, 0.3])}}))\n",
    "    model.add(Dense({{choice([16, 32, 64])}}))\n",
    "    model.add(Activation('relu'))\n",
    "    model.add(Dropout({{choice([0.2, 0.3])}})) \n",
    "    model.add(Dense(len(np.unique(labels))))\n",
    "    model.add(Activation('softmax'))\n",
    "\n",
    "    model.compile(optimizer='rmsprop',\n",
    "                  loss=\"categorical_crossentropy\",\n",
    "                  metrics=[\"accuracy\"])\n",
    "    \n",
    "    history = model.fit(X_train,\n",
    "                        y_train,\n",
    "                        epochs=10,\n",
    "                        batch_size=16,\n",
    "                        validation_data=(X_val, y_val),\n",
    "                        verbose=2)\n",
    "              \n",
    "    score = model.evaluate(X_test, y_test, verbose=0)\n",
    "    validation_acc = np.mean(history.history['val_acc']) \n",
    "    if K.backend() == 'tensorflow':\n",
    "        K.clear_session()\n",
    "    \n",
    "    out={'loss': -validation_acc, 'status':STATUS_OK, 'model': model}\n",
    "    return out"
   ]
  },
  {
   "cell_type": "markdown",
   "metadata": {
    "colab_type": "text",
    "id": "2rOQXxaHqlBB"
   },
   "source": [
    "<h4>Optimierung</h4>"
   ]
  },
  {
   "cell_type": "code",
   "execution_count": 0,
   "metadata": {
    "colab": {
     "base_uri": "https://localhost:8080/",
     "height": 52
    },
    "colab_type": "code",
    "id": "IA3vPqBI1KlW",
    "outputId": "f26881be-85ad-4feb-973a-061bd0056a44"
   },
   "outputs": [
    {
     "name": "stdout",
     "output_type": "stream",
     "text": [
      "Drive already mounted at /gdrive; to attempt to forcibly remount, call drive.mount(\"/gdrive\", force_remount=True).\n",
      "\u001b[0m\u001b[01;34m'My Drive'\u001b[0m/\n"
     ]
    }
   ],
   "source": [
    "from google.colab import drive\n",
    "drive.mount('/gdrive')\n",
    "%ls /gdrive"
   ]
  },
  {
   "cell_type": "code",
   "execution_count": 0,
   "metadata": {
    "colab": {},
    "colab_type": "code",
    "id": "Lp2tQQIO1LjL"
   },
   "outputs": [],
   "source": [
    "import os"
   ]
  },
  {
   "cell_type": "code",
   "execution_count": 0,
   "metadata": {
    "colab": {
     "base_uri": "https://localhost:8080/",
     "height": 1000
    },
    "colab_type": "code",
    "id": "vPnzZk_hqj_-",
    "outputId": "e7355ff9-5d84-42d9-c595-4aaf972b739a"
   },
   "outputs": [
    {
     "name": "stdout",
     "output_type": "stream",
     "text": [
      ">>> Imports:\n",
      "#coding=utf-8\n",
      "\n",
      "try:\n",
      "    import tensorflow as tf\n",
      "except:\n",
      "    pass\n",
      "\n",
      "try:\n",
      "    from tensorflow import keras\n",
      "except:\n",
      "    pass\n",
      "\n",
      "try:\n",
      "    from keras import models\n",
      "except:\n",
      "    pass\n",
      "\n",
      "try:\n",
      "    from keras import layers\n",
      "except:\n",
      "    pass\n",
      "\n",
      "try:\n",
      "    from keras.utils.np_utils import to_categorical\n",
      "except:\n",
      "    pass\n",
      "\n",
      "try:\n",
      "    from sklearn.feature_extraction.text import TfidfVectorizer\n",
      "except:\n",
      "    pass\n",
      "\n",
      "try:\n",
      "    from sklearn.preprocessing import LabelEncoder, OneHotEncoder\n",
      "except:\n",
      "    pass\n",
      "\n",
      "try:\n",
      "    from sklearn.model_selection import train_test_split\n",
      "except:\n",
      "    pass\n",
      "\n",
      "try:\n",
      "    import pandas as pd\n",
      "except:\n",
      "    pass\n",
      "\n",
      "try:\n",
      "    import numpy as np\n",
      "except:\n",
      "    pass\n",
      "\n",
      "try:\n",
      "    import matplotlib.pyplot as plt\n",
      "except:\n",
      "    pass\n",
      "\n",
      "try:\n",
      "    from google.colab import files\n",
      "except:\n",
      "    pass\n",
      "\n",
      "try:\n",
      "    from sklearn.metrics import f1_score\n",
      "except:\n",
      "    pass\n",
      "\n",
      "try:\n",
      "    from keras import regularizers\n",
      "except:\n",
      "    pass\n",
      "\n",
      "try:\n",
      "    from keras import regularizers\n",
      "except:\n",
      "    pass\n",
      "\n",
      "try:\n",
      "    from keras.layers import Dropout\n",
      "except:\n",
      "    pass\n",
      "\n",
      "try:\n",
      "    from keras.callbacks import EarlyStopping\n",
      "except:\n",
      "    pass\n",
      "\n",
      "try:\n",
      "    from keras import backend as K\n",
      "except:\n",
      "    pass\n",
      "\n",
      "try:\n",
      "    from keras import models\n",
      "except:\n",
      "    pass\n",
      "\n",
      "try:\n",
      "    from keras import layers\n",
      "except:\n",
      "    pass\n",
      "\n",
      "try:\n",
      "    from keras.optimizers import Adam, RMSprop, SGD\n",
      "except:\n",
      "    pass\n",
      "\n",
      "try:\n",
      "    from keras.utils.np_utils import to_categorical\n",
      "except:\n",
      "    pass\n",
      "\n",
      "try:\n",
      "    from keras.callbacks import EarlyStopping\n",
      "except:\n",
      "    pass\n",
      "\n",
      "try:\n",
      "    from keras import regularizers\n",
      "except:\n",
      "    pass\n",
      "\n",
      "try:\n",
      "    from keras.layers import Dropout\n",
      "except:\n",
      "    pass\n",
      "\n",
      "try:\n",
      "    from keras.layers.core import Dense, Dropout, Activation\n",
      "except:\n",
      "    pass\n",
      "\n",
      "try:\n",
      "    from keras import backend as K\n",
      "except:\n",
      "    pass\n",
      "\n",
      "try:\n",
      "    from sklearn.metrics import f1_score\n",
      "except:\n",
      "    pass\n",
      "\n",
      "try:\n",
      "    from sklearn.feature_extraction.text import CountVectorizer, TfidfVectorizer\n",
      "except:\n",
      "    pass\n",
      "\n",
      "try:\n",
      "    from sklearn.preprocessing import LabelEncoder, OneHotEncoder\n",
      "except:\n",
      "    pass\n",
      "\n",
      "try:\n",
      "    from sklearn.model_selection import train_test_split\n",
      "except:\n",
      "    pass\n",
      "\n",
      "try:\n",
      "    from hyperas.distributions import uniform\n",
      "except:\n",
      "    pass\n",
      "\n",
      "try:\n",
      "    from hyperopt import Trials, STATUS_OK, tpe\n",
      "except:\n",
      "    pass\n",
      "\n",
      "try:\n",
      "    from hyperas import optim\n",
      "except:\n",
      "    pass\n",
      "\n",
      "try:\n",
      "    from hyperas.distributions import choice, uniform\n",
      "except:\n",
      "    pass\n",
      "\n",
      "try:\n",
      "    import pandas as pd\n",
      "except:\n",
      "    pass\n",
      "\n",
      "try:\n",
      "    import numpy as np\n",
      "except:\n",
      "    pass\n",
      "\n",
      "try:\n",
      "    import matplotlib.pyplot as plt\n",
      "except:\n",
      "    pass\n",
      "\n",
      "try:\n",
      "    from google.colab import drive\n",
      "except:\n",
      "    pass\n",
      "\n",
      "try:\n",
      "    import os\n",
      "except:\n",
      "    pass\n",
      "\n",
      ">>> Hyperas search space:\n",
      "\n",
      "def get_space():\n",
      "    return {\n",
      "        'Dense': hp.choice('Dense', [16, 32, 64]),\n",
      "        'Dropout': hp.choice('Dropout', [0.2, 0.3]),\n",
      "        'Dense_1': hp.choice('Dense_1', [16, 32, 64]),\n",
      "        'Dropout_1': hp.choice('Dropout_1', [0.2, 0.3]),\n",
      "    }\n",
      "\n",
      ">>> Data\n",
      "  1: \n",
      "  2: \n",
      "  3: corpus = pd.read_csv('articles.csv', sep=';', header=None, error_bad_lines=False, warn_bad_lines=False, names=[\"category\",\"text\"])\n",
      "  4: \n",
      "  5: vectorizer = TfidfVectorizer()\n",
      "  6: vector = vectorizer.fit_transform(corpus[\"text\"])\n",
      "  7: labels = LabelEncoder().fit_transform(corpus[\"category\"])\n",
      "  8: vocab = vectorizer.vocabulary_\n",
      "  9: \n",
      " 10: X_train, X_test, y_train, y_test = train_test_split(vector, \n",
      " 11:                                                         labels, \n",
      " 12:                                                         test_size=0.4, \n",
      " 13:                                                         train_size=0.6,\n",
      " 14:                                                         random_state=42)\n",
      " 15: X_val = X_test[:1200]\n",
      " 16: X_test = X_test[1200:]\n",
      " 17: \n",
      " 18: y_val = y_test[:1200]\n",
      " 19: y_test = y_test[1200:]\n",
      " 20: \n",
      " 21: y_val = to_categorical(y_val)\n",
      " 22: y_test = to_categorical(y_test)\n",
      " 23: y_train = to_categorical(y_train)\n",
      " 24: \n",
      " 25: \n",
      " 26: \n",
      " 27: \n",
      ">>> Resulting replaced keras model:\n",
      "\n",
      "   1: def keras_fmin_fnct(space):\n",
      "   2: \n",
      "   3:     \n",
      "   4:     model = models.Sequential()\n",
      "   5:     model.add(Dense(space['Dense'], input_shape=(len(vocab),)))\n",
      "   6:     model.add(Activation('relu'))\n",
      "   7:     model.add(Dropout(space['Dropout']))\n",
      "   8:     model.add(Dense(space['Dense_1']))\n",
      "   9:     model.add(Activation('relu'))\n",
      "  10:     model.add(Dropout(space['Dropout_1'])) \n",
      "  11:     model.add(Dense(len(np.unique(labels))))\n",
      "  12:     model.add(Activation('softmax'))\n",
      "  13: \n",
      "  14:     model.compile(optimizer='rmsprop',\n",
      "  15:                   loss=\"categorical_crossentropy\",\n",
      "  16:                   metrics=[\"accuracy\"])\n",
      "  17:     \n",
      "  18:     history = model.fit(X_train,\n",
      "  19:                         y_train,\n",
      "  20:                         epochs=10,\n",
      "  21:                         batch_size=16,\n",
      "  22:                         validation_data=(X_val, y_val),\n",
      "  23:                         verbose=2)\n",
      "  24:               \n",
      "  25:     score = model.evaluate(X_test, y_test, verbose=0)\n",
      "  26:     validation_acc = np.mean(history.history['val_acc']) \n",
      "  27:     if K.backend() == 'tensorflow':\n",
      "  28:         K.clear_session()\n",
      "  29:     \n",
      "  30:     out={'loss': -validation_acc, 'status':STATUS_OK, 'model': model}\n",
      "  31:     return out\n",
      "  32: \n",
      "Train on 6163 samples, validate on 1200 samples\n",
      "Epoch 1/10\n",
      " - 8s - loss: 1.7879 - acc: 0.4026 - val_loss: 1.3165 - val_acc: 0.6317\n",
      "\n",
      "Epoch 2/10\n",
      " - 8s - loss: 1.0396 - acc: 0.6610 - val_loss: 0.8764 - val_acc: 0.7292\n",
      "\n",
      "Epoch 3/10\n",
      " - 8s - loss: 0.6706 - acc: 0.7915 - val_loss: 0.7099 - val_acc: 0.7950\n",
      "\n",
      "Epoch 4/10\n",
      " - 8s - loss: 0.4594 - acc: 0.8647 - val_loss: 0.6616 - val_acc: 0.8100\n",
      "\n",
      "Epoch 5/10\n",
      " - 8s - loss: 0.3103 - acc: 0.9143 - val_loss: 0.6556 - val_acc: 0.8217\n",
      "\n",
      "Epoch 6/10\n",
      " - 8s - loss: 0.2244 - acc: 0.9405 - val_loss: 0.6864 - val_acc: 0.8208\n",
      "\n",
      "Epoch 7/10\n",
      " - 8s - loss: 0.1648 - acc: 0.9536 - val_loss: 0.7067 - val_acc: 0.8333\n",
      "\n",
      "Epoch 8/10\n",
      " - 8s - loss: 0.1238 - acc: 0.9640 - val_loss: 0.7572 - val_acc: 0.8200\n",
      "\n",
      "Epoch 9/10\n",
      " - 8s - loss: 0.0929 - acc: 0.9757 - val_loss: 0.7991 - val_acc: 0.8233\n",
      "\n",
      "Epoch 10/10\n",
      " - 8s - loss: 0.0803 - acc: 0.9783 - val_loss: 0.8477 - val_acc: 0.8283\n",
      "\n",
      "Train on 6163 samples, validate on 1200 samples\n",
      "Epoch 1/10\n",
      " - 7s - loss: 1.9063 - acc: 0.3906 - val_loss: 1.5290 - val_acc: 0.5400\n",
      "\n",
      "Epoch 2/10\n",
      " - 7s - loss: 1.2373 - acc: 0.5874 - val_loss: 1.0196 - val_acc: 0.6467\n",
      "\n",
      "Epoch 3/10\n",
      " - 7s - loss: 0.8186 - acc: 0.7248 - val_loss: 0.7699 - val_acc: 0.7708\n",
      "\n",
      "Epoch 4/10\n",
      " - 7s - loss: 0.5829 - acc: 0.8327 - val_loss: 0.6740 - val_acc: 0.8050\n",
      "\n",
      "Epoch 5/10\n",
      " - 7s - loss: 0.4161 - acc: 0.8845 - val_loss: 0.6432 - val_acc: 0.8117\n",
      "\n",
      "Epoch 6/10\n",
      " - 7s - loss: 0.2996 - acc: 0.9168 - val_loss: 0.6151 - val_acc: 0.8258\n",
      "\n",
      "Epoch 7/10\n",
      " - 7s - loss: 0.2279 - acc: 0.9359 - val_loss: 0.6437 - val_acc: 0.8267\n",
      "\n",
      "Epoch 8/10\n",
      " - 7s - loss: 0.1717 - acc: 0.9534 - val_loss: 0.6380 - val_acc: 0.8308\n",
      "\n",
      "Epoch 9/10\n",
      " - 7s - loss: 0.1317 - acc: 0.9645 - val_loss: 0.6777 - val_acc: 0.8300\n",
      "\n",
      "Epoch 10/10\n",
      " - 6s - loss: 0.1169 - acc: 0.9659 - val_loss: 0.7203 - val_acc: 0.8267\n",
      "\n",
      "Train on 6163 samples, validate on 1200 samples\n",
      "Epoch 1/10\n",
      " - 7s - loss: 1.8957 - acc: 0.3391 - val_loss: 1.4904 - val_acc: 0.5550\n",
      "\n",
      "Epoch 2/10\n",
      " - 7s - loss: 1.2033 - acc: 0.5749 - val_loss: 1.0178 - val_acc: 0.6500\n",
      "\n",
      "Epoch 3/10\n",
      " - 7s - loss: 0.8096 - acc: 0.7321 - val_loss: 0.7995 - val_acc: 0.7592\n",
      "\n",
      "Epoch 4/10\n",
      " - 7s - loss: 0.5589 - acc: 0.8296 - val_loss: 0.7196 - val_acc: 0.7950\n",
      "\n",
      "Epoch 5/10\n",
      " - 6s - loss: 0.3857 - acc: 0.8932 - val_loss: 0.6661 - val_acc: 0.8050\n",
      "\n",
      "Epoch 6/10\n",
      " - 7s - loss: 0.2931 - acc: 0.9190 - val_loss: 0.6619 - val_acc: 0.8242\n",
      "\n",
      "Epoch 7/10\n",
      " - 6s - loss: 0.2138 - acc: 0.9372 - val_loss: 0.6821 - val_acc: 0.8283\n",
      "\n",
      "Epoch 8/10\n",
      " - 7s - loss: 0.1778 - acc: 0.9452 - val_loss: 0.7301 - val_acc: 0.8317\n",
      "\n",
      "Epoch 9/10\n",
      " - 6s - loss: 0.1366 - acc: 0.9609 - val_loss: 0.7467 - val_acc: 0.8283\n",
      "\n",
      "Epoch 10/10\n",
      " - 6s - loss: 0.1121 - acc: 0.9663 - val_loss: 0.7844 - val_acc: 0.8258\n",
      "\n",
      "Train on 6163 samples, validate on 1200 samples\n",
      "Epoch 1/10\n",
      " - 7s - loss: 1.9355 - acc: 0.3245 - val_loss: 1.6078 - val_acc: 0.4808\n",
      "\n",
      "Epoch 2/10\n",
      " - 7s - loss: 1.3640 - acc: 0.5256 - val_loss: 1.1191 - val_acc: 0.6667\n",
      "\n",
      "Epoch 3/10\n",
      " - 7s - loss: 0.9455 - acc: 0.6800 - val_loss: 0.8523 - val_acc: 0.7250\n",
      "\n",
      "Epoch 4/10\n",
      " - 7s - loss: 0.7091 - acc: 0.7704 - val_loss: 0.7481 - val_acc: 0.7800\n",
      "\n",
      "Epoch 5/10\n",
      " - 7s - loss: 0.5347 - acc: 0.8353 - val_loss: 0.6979 - val_acc: 0.8000\n",
      "\n",
      "Epoch 6/10\n",
      " - 7s - loss: 0.3977 - acc: 0.8801 - val_loss: 0.6818 - val_acc: 0.8125\n",
      "\n",
      "Epoch 7/10\n",
      " - 7s - loss: 0.3113 - acc: 0.9130 - val_loss: 0.6596 - val_acc: 0.8275\n",
      "\n",
      "Epoch 8/10\n",
      " - 7s - loss: 0.2202 - acc: 0.9426 - val_loss: 0.6832 - val_acc: 0.8275\n",
      "\n",
      "Epoch 9/10\n",
      " - 7s - loss: 0.1812 - acc: 0.9474 - val_loss: 0.6998 - val_acc: 0.8325\n",
      "\n",
      "Epoch 10/10\n",
      " - 7s - loss: 0.1372 - acc: 0.9622 - val_loss: 0.7268 - val_acc: 0.8342\n",
      "\n",
      "Train on 6163 samples, validate on 1200 samples\n",
      "Epoch 1/10\n",
      " - 9s - loss: 1.5862 - acc: 0.4897 - val_loss: 1.0319 - val_acc: 0.6883\n",
      "\n",
      "Epoch 2/10\n",
      " - 8s - loss: 0.6657 - acc: 0.8056 - val_loss: 0.6609 - val_acc: 0.8167\n",
      "\n",
      "Epoch 3/10\n",
      " - 8s - loss: 0.2943 - acc: 0.9250 - val_loss: 0.5763 - val_acc: 0.8333\n",
      "\n",
      "Epoch 4/10\n",
      " - 8s - loss: 0.1302 - acc: 0.9693 - val_loss: 0.5806 - val_acc: 0.8417\n",
      "\n",
      "Epoch 5/10\n",
      " - 8s - loss: 0.0641 - acc: 0.9849 - val_loss: 0.6908 - val_acc: 0.8283\n",
      "\n",
      "Epoch 6/10\n",
      " - 8s - loss: 0.0375 - acc: 0.9909 - val_loss: 0.7006 - val_acc: 0.8475\n",
      "\n",
      "Epoch 7/10\n",
      " - 8s - loss: 0.0239 - acc: 0.9943 - val_loss: 0.7819 - val_acc: 0.8408\n",
      "\n",
      "Epoch 8/10\n",
      " - 8s - loss: 0.0165 - acc: 0.9961 - val_loss: 0.8285 - val_acc: 0.8425\n",
      "\n",
      "Epoch 9/10\n",
      " - 8s - loss: 0.0126 - acc: 0.9969 - val_loss: 0.9076 - val_acc: 0.8400\n",
      "\n",
      "Epoch 10/10\n",
      " - 8s - loss: 0.0103 - acc: 0.9972 - val_loss: 0.9760 - val_acc: 0.8358\n",
      "\n",
      "100%|██████████| 5/5 [06:21<00:00, 78.78s/it, best loss: -0.8215]            \n",
      "CPU times: user 6min, sys: 52.4 s, total: 6min 52s\n",
      "Wall time: 6min 25s\n"
     ]
    }
   ],
   "source": [
    "%%time\n",
    "from keras.layers.core import Dense\n",
    "best_run, best_model = optim.minimize(model=create_model,\n",
    "                                      data=data,\n",
    "                                      algo=tpe.suggest,\n",
    "                                      max_evals=5,\n",
    "                                      trials=Trials(),\n",
    "                                      notebook_name=os.path.join('..','gdrive','My Drive','Colab Notebooks','7 Neuronale Netze unbalanciertes Korpus'))"
   ]
  },
  {
   "cell_type": "code",
   "execution_count": 0,
   "metadata": {
    "colab": {
     "base_uri": "https://localhost:8080/",
     "height": 52
    },
    "colab_type": "code",
    "id": "fVsiZv8i6BfD",
    "outputId": "39746103-2852-4931-deae-4d609153fa6f"
   },
   "outputs": [
    {
     "name": "stdout",
     "output_type": "stream",
     "text": [
      "Best performing model chosen hyper-parameters:\n",
      "{'Dense': 2, 'Dense_1': 2, 'Dropout': 0, 'Dropout_1': 1}\n"
     ]
    }
   ],
   "source": [
    "_train, y_train, X_val, y_val, X_test, y_test = data()\n",
    "#print(\"Evalutation of best performing model:\" )\n",
    "#print(best_model.evaluate(X_test, y_test))                  #gibt Fehlermeldung: Invalid Argument Error, bisher keine Lösung gefunden\n",
    "print(\"Best performing model chosen hyper-parameters:\")\n",
    "print(best_run)"
   ]
  },
  {
   "cell_type": "markdown",
   "metadata": {
    "colab_type": "text",
    "id": "hkqS0ER9DXQu"
   },
   "source": [
    "Zur Erinnerung das Modell (definiert in der Funktion create_model): <br><br>\n",
    "model = models.Sequential()<br>\n",
    "    model.add(Dense({{choice([16, 32, 64])}}, input_shape=(len(vocab),)))  --> <b>64</b><br>\n",
    "    model.add(Activation('relu'))<br>\n",
    "    model.add(Dropout({{choice([0.2, 0.3])}}))  --> <b>0.2</b><br>\n",
    "    model.add(Dense({{choice([16, 32, 64])}}))  --> <b>64</b><br>\n",
    "    model.add(Activation('relu'))<br>\n",
    "    model.add(Dropout({{choice([0.2, 0.3])}}))  --> <b>0.3</b><br>\n",
    "    model.add(Dense(len(np.unique(labels))))<br>\n",
    "    model.add(Activation('softmax'))<br>"
   ]
  },
  {
   "cell_type": "markdown",
   "metadata": {
    "colab_type": "text",
    "id": "iFr9ZiGLFhNV"
   },
   "source": [
    "<h4>Test</h4>"
   ]
  },
  {
   "cell_type": "code",
   "execution_count": 0,
   "metadata": {
    "colab": {
     "base_uri": "https://localhost:8080/",
     "height": 390
    },
    "colab_type": "code",
    "id": "vU3fxD5iC7qc",
    "outputId": "a8809f68-9aaa-47b8-aef2-1ad4b2c349fc"
   },
   "outputs": [
    {
     "name": "stdout",
     "output_type": "stream",
     "text": [
      "Train on 6163 samples, validate on 2910 samples\n",
      "Epoch 1/10\n",
      "6163/6163 [==============================] - 8s 1ms/step - loss: 2.0120 - acc: 0.3398 - val_loss: 1.7645 - val_acc: 0.5412\n",
      "Epoch 2/10\n",
      "6163/6163 [==============================] - 8s 1ms/step - loss: 1.5037 - acc: 0.5668 - val_loss: 1.2739 - val_acc: 0.6739\n",
      "Epoch 3/10\n",
      "6163/6163 [==============================] - 8s 1ms/step - loss: 1.0494 - acc: 0.6870 - val_loss: 0.9318 - val_acc: 0.7282\n",
      "Epoch 4/10\n",
      "6163/6163 [==============================] - 8s 1ms/step - loss: 0.7138 - acc: 0.8067 - val_loss: 0.7282 - val_acc: 0.8151\n",
      "Epoch 5/10\n",
      "6163/6163 [==============================] - 8s 1ms/step - loss: 0.4768 - acc: 0.8880 - val_loss: 0.6063 - val_acc: 0.8361\n",
      "Epoch 6/10\n",
      "6163/6163 [==============================] - 8s 1ms/step - loss: 0.3276 - acc: 0.9247 - val_loss: 0.5482 - val_acc: 0.8419\n",
      "Epoch 7/10\n",
      "6163/6163 [==============================] - 8s 1ms/step - loss: 0.2281 - acc: 0.9507 - val_loss: 0.5110 - val_acc: 0.8488\n",
      "Epoch 8/10\n",
      "6163/6163 [==============================] - 8s 1ms/step - loss: 0.1700 - acc: 0.9620 - val_loss: 0.5041 - val_acc: 0.8536\n",
      "Epoch 9/10\n",
      "6163/6163 [==============================] - 8s 1ms/step - loss: 0.1240 - acc: 0.9727 - val_loss: 0.5012 - val_acc: 0.8536\n",
      "Epoch 10/10\n",
      "6163/6163 [==============================] - 8s 1ms/step - loss: 0.0923 - acc: 0.9794 - val_loss: 0.5145 - val_acc: 0.8533\n"
     ]
    }
   ],
   "source": [
    "model = models.Sequential()\n",
    "\n",
    "model.add(layers.Dense(64, activation=\"relu\", input_shape=(len(vocab),))) \n",
    "model.add(Dropout(0.2))\n",
    "model.add(layers.Dense(64, activation=\"relu\"))\n",
    "model.add(Dropout(0.3))\n",
    "model.add(layers.Dense(len(np.unique(labels)), activation=\"softmax\"))\n",
    "\n",
    "model.compile(optimizer=\"rmsprop\",\n",
    "              loss=\"categorical_crossentropy\",\n",
    "              metrics=[\"accuracy\"])\n",
    "\n",
    "history = model.fit(X_train,\n",
    "                   y_train,\n",
    "                   epochs=10,\n",
    "                   batch_size=64,\n",
    "                   validation_data=(X_test, y_test),\n",
    "                   verbose=1)"
   ]
  },
  {
   "cell_type": "code",
   "execution_count": 0,
   "metadata": {
    "colab": {
     "base_uri": "https://localhost:8080/",
     "height": 698
    },
    "colab_type": "code",
    "id": "ewXNtZlBGZ_N",
    "outputId": "3250006b-29ce-4523-f341-a0b9630bf2e3"
   },
   "outputs": [
    {
     "data": {
      "image/png": "[encoded data removed]",
      "text/plain": [
       "<Figure size 432x288 with 1 Axes>"
      ]
     },
     "metadata": {
      "tags": []
     },
     "output_type": "display_data"
    },
    {
     "data": {
      "image/png": "[encoded data removed]",
      "text/plain": [
       "<Figure size 432x288 with 1 Axes>"
      ]
     },
     "metadata": {
      "tags": []
     },
     "output_type": "display_data"
    },
    {
     "name": "stdout",
     "output_type": "stream",
     "text": [
      "2910/2910 [==============================] - 2s 781us/step\n",
      "\n",
      "Results:\n",
      "Train_acc: 0.808\n",
      "Val_acc: 0.785\n",
      "Test_acc: 0.853\n",
      "F1-score: 0.853\n"
     ]
    }
   ],
   "source": [
    "plot_results(history)\n",
    "evaluation()"
   ]
  },
  {
   "cell_type": "markdown",
   "metadata": {
    "colab_type": "text",
    "id": "AFMd9RQVHh8q"
   },
   "source": [
    "<h4>2. Versuch</h4>"
   ]
  },
  {
   "cell_type": "code",
   "execution_count": 0,
   "metadata": {
    "colab": {},
    "colab_type": "code",
    "id": "J5_aWnFYHmRv"
   },
   "outputs": [],
   "source": [
    "def create_model2(X_train, y_train, X_val, y_val, X_test, y_test, vocab, labels):\n",
    "    \n",
    "    model = models.Sequential()\n",
    "    model.add(Dense({{choice([32, 64, 128])}}, input_shape=(len(vocab),)))\n",
    "    model.add(Activation('relu'))\n",
    "    model.add(Dropout({{choice([0.1, 0.2, 0.3, 0.4, 0.5])}}))\n",
    "    model.add(Dense({{choice([32, 64, 128])}}))\n",
    "    model.add(Activation('relu'))\n",
    "    model.add(Dropout({{choice([0.1, 0.2, 0.3, 0.4, 0.5])}})) \n",
    "    model.add(Dense(len(np.unique(labels))))\n",
    "    model.add(Activation('softmax'))\n",
    "\n",
    "    model.compile(optimizer='rmsprop',\n",
    "                  loss=\"categorical_crossentropy\",\n",
    "                  metrics=[\"accuracy\"])\n",
    "    \n",
    "    history = model.fit(X_train,\n",
    "                        y_train,\n",
    "                        epochs=10,\n",
    "                        batch_size=32,\n",
    "                        validation_data=(X_val, y_val),\n",
    "                        verbose=2)\n",
    "              \n",
    "    score = model.evaluate(X_test, y_test, verbose=0)\n",
    "    validation_acc = np.mean(history.history['val_acc']) \n",
    "    if K.backend() == 'tensorflow':\n",
    "        K.clear_session()\n",
    "    \n",
    "    out={'loss': -validation_acc, 'status':STATUS_OK, 'model': model}\n",
    "    return out"
   ]
  },
  {
   "cell_type": "code",
   "execution_count": 0,
   "metadata": {
    "colab": {
     "base_uri": "https://localhost:8080/",
     "height": 1000
    },
    "colab_type": "code",
    "id": "5Pi3oYQyIh6l",
    "outputId": "fcc720c7-43a5-4140-ae42-cecde4a795d2"
   },
   "outputs": [
    {
     "name": "stdout",
     "output_type": "stream",
     "text": [
      ">>> Imports:\n",
      "#coding=utf-8\n",
      "\n",
      "try:\n",
      "    import tensorflow as tf\n",
      "except:\n",
      "    pass\n",
      "\n",
      "try:\n",
      "    from tensorflow import keras\n",
      "except:\n",
      "    pass\n",
      "\n",
      "try:\n",
      "    from keras import models\n",
      "except:\n",
      "    pass\n",
      "\n",
      "try:\n",
      "    from keras import layers\n",
      "except:\n",
      "    pass\n",
      "\n",
      "try:\n",
      "    from keras.utils.np_utils import to_categorical\n",
      "except:\n",
      "    pass\n",
      "\n",
      "try:\n",
      "    from sklearn.feature_extraction.text import TfidfVectorizer\n",
      "except:\n",
      "    pass\n",
      "\n",
      "try:\n",
      "    from sklearn.preprocessing import LabelEncoder, OneHotEncoder\n",
      "except:\n",
      "    pass\n",
      "\n",
      "try:\n",
      "    from sklearn.model_selection import train_test_split\n",
      "except:\n",
      "    pass\n",
      "\n",
      "try:\n",
      "    import pandas as pd\n",
      "except:\n",
      "    pass\n",
      "\n",
      "try:\n",
      "    import numpy as np\n",
      "except:\n",
      "    pass\n",
      "\n",
      "try:\n",
      "    import matplotlib.pyplot as plt\n",
      "except:\n",
      "    pass\n",
      "\n",
      "try:\n",
      "    from google.colab import files\n",
      "except:\n",
      "    pass\n",
      "\n",
      "try:\n",
      "    from sklearn.metrics import f1_score\n",
      "except:\n",
      "    pass\n",
      "\n",
      "try:\n",
      "    from keras import regularizers\n",
      "except:\n",
      "    pass\n",
      "\n",
      "try:\n",
      "    from keras import regularizers\n",
      "except:\n",
      "    pass\n",
      "\n",
      "try:\n",
      "    from keras.layers import Dropout\n",
      "except:\n",
      "    pass\n",
      "\n",
      "try:\n",
      "    from keras.callbacks import EarlyStopping\n",
      "except:\n",
      "    pass\n",
      "\n",
      "try:\n",
      "    from keras import backend as K\n",
      "except:\n",
      "    pass\n",
      "\n",
      "try:\n",
      "    from keras import models\n",
      "except:\n",
      "    pass\n",
      "\n",
      "try:\n",
      "    from keras import layers\n",
      "except:\n",
      "    pass\n",
      "\n",
      "try:\n",
      "    from keras.optimizers import Adam, RMSprop, SGD\n",
      "except:\n",
      "    pass\n",
      "\n",
      "try:\n",
      "    from keras.utils.np_utils import to_categorical\n",
      "except:\n",
      "    pass\n",
      "\n",
      "try:\n",
      "    from keras.callbacks import EarlyStopping\n",
      "except:\n",
      "    pass\n",
      "\n",
      "try:\n",
      "    from keras import regularizers\n",
      "except:\n",
      "    pass\n",
      "\n",
      "try:\n",
      "    from keras.layers import Dropout\n",
      "except:\n",
      "    pass\n",
      "\n",
      "try:\n",
      "    from keras.layers.core import Dense, Dropout, Activation\n",
      "except:\n",
      "    pass\n",
      "\n",
      "try:\n",
      "    from keras import backend as K\n",
      "except:\n",
      "    pass\n",
      "\n",
      "try:\n",
      "    from sklearn.metrics import f1_score\n",
      "except:\n",
      "    pass\n",
      "\n",
      "try:\n",
      "    from sklearn.feature_extraction.text import CountVectorizer, TfidfVectorizer\n",
      "except:\n",
      "    pass\n",
      "\n",
      "try:\n",
      "    from sklearn.preprocessing import LabelEncoder, OneHotEncoder\n",
      "except:\n",
      "    pass\n",
      "\n",
      "try:\n",
      "    from sklearn.model_selection import train_test_split\n",
      "except:\n",
      "    pass\n",
      "\n",
      "try:\n",
      "    from hyperas.distributions import uniform\n",
      "except:\n",
      "    pass\n",
      "\n",
      "try:\n",
      "    from hyperopt import Trials, STATUS_OK, tpe\n",
      "except:\n",
      "    pass\n",
      "\n",
      "try:\n",
      "    from hyperas import optim\n",
      "except:\n",
      "    pass\n",
      "\n",
      "try:\n",
      "    from hyperas.distributions import choice, uniform\n",
      "except:\n",
      "    pass\n",
      "\n",
      "try:\n",
      "    import pandas as pd\n",
      "except:\n",
      "    pass\n",
      "\n",
      "try:\n",
      "    import numpy as np\n",
      "except:\n",
      "    pass\n",
      "\n",
      "try:\n",
      "    import matplotlib.pyplot as plt\n",
      "except:\n",
      "    pass\n",
      "\n",
      "try:\n",
      "    from google.colab import drive\n",
      "except:\n",
      "    pass\n",
      "\n",
      "try:\n",
      "    import os\n",
      "except:\n",
      "    pass\n",
      "\n",
      ">>> Hyperas search space:\n",
      "\n",
      "def get_space():\n",
      "    return {\n",
      "        'Dense': hp.choice('Dense', [32, 64, 128]),\n",
      "        'Dropout': hp.choice('Dropout', [0.1, 0.2, 0.3, 0.4, 0.5]),\n",
      "        'Dense_1': hp.choice('Dense_1', [32, 64, 128]),\n",
      "        'Dropout_1': hp.choice('Dropout_1', [0.1, 0.2, 0.3, 0.4, 0.5]),\n",
      "    }\n",
      "\n",
      ">>> Data\n",
      "  1: \n",
      "  2: \n",
      "  3: corpus = pd.read_csv('articles.csv', sep=';', header=None, error_bad_lines=False, warn_bad_lines=False, names=[\"category\",\"text\"])\n",
      "  4: \n",
      "  5: vectorizer = TfidfVectorizer()\n",
      "  6: vector = vectorizer.fit_transform(corpus[\"text\"])\n",
      "  7: labels = LabelEncoder().fit_transform(corpus[\"category\"])\n",
      "  8: vocab = vectorizer.vocabulary_\n",
      "  9: \n",
      " 10: X_train, X_test, y_train, y_test = train_test_split(vector, \n",
      " 11:                                                         labels, \n",
      " 12:                                                         test_size=0.4, \n",
      " 13:                                                         train_size=0.6,\n",
      " 14:                                                         random_state=42)\n",
      " 15: X_val = X_test[:1200]\n",
      " 16: X_test = X_test[1200:]\n",
      " 17: \n",
      " 18: y_val = y_test[:1200]\n",
      " 19: y_test = y_test[1200:]\n",
      " 20: \n",
      " 21: y_val = to_categorical(y_val)\n",
      " 22: y_test = to_categorical(y_test)\n",
      " 23: y_train = to_categorical(y_train)\n",
      " 24: \n",
      " 25: \n",
      " 26: \n",
      " 27: \n",
      ">>> Resulting replaced keras model:\n",
      "\n",
      "   1: def keras_fmin_fnct(space):\n",
      "   2: \n",
      "   3:     \n",
      "   4:     model = models.Sequential()\n",
      "   5:     model.add(Dense(space['Dense'], input_shape=(len(vocab),)))\n",
      "   6:     model.add(Activation('relu'))\n",
      "   7:     model.add(Dropout(space['Dropout']))\n",
      "   8:     model.add(Dense(space['Dense_1']))\n",
      "   9:     model.add(Activation('relu'))\n",
      "  10:     model.add(Dropout(space['Dropout_1'])) \n",
      "  11:     model.add(Dense(len(np.unique(labels))))\n",
      "  12:     model.add(Activation('softmax'))\n",
      "  13: \n",
      "  14:     model.compile(optimizer='rmsprop',\n",
      "  15:                   loss=\"categorical_crossentropy\",\n",
      "  16:                   metrics=[\"accuracy\"])\n",
      "  17:     \n",
      "  18:     history = model.fit(X_train,\n",
      "  19:                         y_train,\n",
      "  20:                         epochs=10,\n",
      "  21:                         batch_size=32,\n",
      "  22:                         validation_data=(X_val, y_val),\n",
      "  23:                         verbose=2)\n",
      "  24:               \n",
      "  25:     score = model.evaluate(X_test, y_test, verbose=0)\n",
      "  26:     validation_acc = np.mean(history.history['val_acc']) \n",
      "  27:     if K.backend() == 'tensorflow':\n",
      "  28:         K.clear_session()\n",
      "  29:     \n",
      "  30:     out={'loss': -validation_acc, 'status':STATUS_OK, 'model': model}\n",
      "  31:     return out\n",
      "  32: \n",
      "Train on 6163 samples, validate on 1200 samples\n",
      "Epoch 1/10\n",
      " - 8s - loss: 1.5642 - acc: 0.5290 - val_loss: 0.9821 - val_acc: 0.6925\n",
      "\n",
      "Epoch 2/10\n",
      " - 7s - loss: 0.5366 - acc: 0.8631 - val_loss: 0.6048 - val_acc: 0.8225\n",
      "\n",
      "Epoch 3/10\n",
      " - 7s - loss: 0.1806 - acc: 0.9588 - val_loss: 0.5265 - val_acc: 0.8475\n",
      "\n",
      "Epoch 4/10\n",
      " - 7s - loss: 0.0593 - acc: 0.9888 - val_loss: 0.5577 - val_acc: 0.8425\n",
      "\n",
      "Epoch 5/10\n",
      " - 7s - loss: 0.0224 - acc: 0.9946 - val_loss: 0.6134 - val_acc: 0.8408\n",
      "\n",
      "Epoch 6/10\n",
      " - 7s - loss: 0.0134 - acc: 0.9968 - val_loss: 0.6365 - val_acc: 0.8492\n",
      "\n",
      "Epoch 7/10\n",
      " - 7s - loss: 0.0075 - acc: 0.9979 - val_loss: 0.6768 - val_acc: 0.8483\n",
      "\n",
      "Epoch 8/10\n",
      " - 7s - loss: 0.0048 - acc: 0.9990 - val_loss: 0.7439 - val_acc: 0.8467\n",
      "\n",
      "Epoch 9/10\n",
      " - 7s - loss: 0.0034 - acc: 0.9989 - val_loss: 0.7615 - val_acc: 0.8517\n",
      "\n",
      "Epoch 10/10\n",
      " - 7s - loss: 0.0032 - acc: 0.9994 - val_loss: 0.8043 - val_acc: 0.8492\n",
      "\n",
      "Train on 6163 samples, validate on 1200 samples\n",
      "Epoch 1/10\n",
      " - 9s - loss: 1.6708 - acc: 0.4727 - val_loss: 1.1490 - val_acc: 0.6717\n",
      "\n",
      "Epoch 2/10\n",
      " - 8s - loss: 0.8652 - acc: 0.7438 - val_loss: 0.7449 - val_acc: 0.8125\n",
      "\n",
      "Epoch 3/10\n",
      " - 8s - loss: 0.4912 - acc: 0.8639 - val_loss: 0.6428 - val_acc: 0.8158\n",
      "\n",
      "Epoch 4/10\n",
      " - 8s - loss: 0.2981 - acc: 0.9254 - val_loss: 0.5874 - val_acc: 0.8392\n",
      "\n",
      "Epoch 5/10\n",
      " - 8s - loss: 0.1865 - acc: 0.9534 - val_loss: 0.5775 - val_acc: 0.8442\n",
      "\n",
      "Epoch 6/10\n",
      " - 8s - loss: 0.1189 - acc: 0.9692 - val_loss: 0.6040 - val_acc: 0.8450\n",
      "\n",
      "Epoch 7/10\n",
      " - 8s - loss: 0.0887 - acc: 0.9776 - val_loss: 0.6803 - val_acc: 0.8458\n",
      "\n",
      "Epoch 8/10\n",
      " - 8s - loss: 0.0744 - acc: 0.9786 - val_loss: 0.7486 - val_acc: 0.8433\n",
      "\n",
      "Epoch 9/10\n",
      " - 8s - loss: 0.0553 - acc: 0.9834 - val_loss: 0.7644 - val_acc: 0.8492\n",
      "\n",
      "Epoch 10/10\n",
      " - 8s - loss: 0.0446 - acc: 0.9864 - val_loss: 0.8228 - val_acc: 0.8458\n",
      "\n",
      "Train on 6163 samples, validate on 1200 samples\n",
      "Epoch 1/10\n",
      " - 9s - loss: 1.6554 - acc: 0.4800 - val_loss: 1.1170 - val_acc: 0.6733\n",
      "\n",
      "Epoch 2/10\n",
      " - 8s - loss: 0.7917 - acc: 0.7709 - val_loss: 0.7201 - val_acc: 0.8042\n",
      "\n",
      "Epoch 3/10\n",
      " - 8s - loss: 0.4024 - acc: 0.9012 - val_loss: 0.5997 - val_acc: 0.8267\n",
      "\n",
      "Epoch 4/10\n",
      " - 8s - loss: 0.2073 - acc: 0.9489 - val_loss: 0.5765 - val_acc: 0.8383\n",
      "\n",
      "Epoch 5/10\n",
      " - 8s - loss: 0.1212 - acc: 0.9711 - val_loss: 0.5945 - val_acc: 0.8475\n",
      "\n",
      "Epoch 6/10\n",
      " - 8s - loss: 0.0750 - acc: 0.9809 - val_loss: 0.6392 - val_acc: 0.8467\n",
      "\n",
      "Epoch 7/10\n",
      " - 8s - loss: 0.0474 - acc: 0.9882 - val_loss: 0.7268 - val_acc: 0.8400\n",
      "\n",
      "Epoch 8/10\n",
      " - 8s - loss: 0.0314 - acc: 0.9927 - val_loss: 0.7539 - val_acc: 0.8408\n",
      "\n",
      "Epoch 9/10\n",
      " - 8s - loss: 0.0237 - acc: 0.9935 - val_loss: 0.7986 - val_acc: 0.8458\n",
      "\n",
      "Epoch 10/10\n",
      " - 8s - loss: 0.0182 - acc: 0.9951 - val_loss: 0.8471 - val_acc: 0.8500\n",
      "\n",
      "Train on 6163 samples, validate on 1200 samples\n",
      "Epoch 1/10\n",
      " - 9s - loss: 1.6738 - acc: 0.4881 - val_loss: 1.1141 - val_acc: 0.6983\n",
      "\n",
      "Epoch 2/10\n",
      " - 8s - loss: 0.7638 - acc: 0.7902 - val_loss: 0.6896 - val_acc: 0.8208\n",
      "\n",
      "Epoch 3/10\n",
      " - 8s - loss: 0.3696 - acc: 0.9108 - val_loss: 0.5748 - val_acc: 0.8367\n",
      "\n",
      "Epoch 4/10\n",
      " - 8s - loss: 0.1867 - acc: 0.9547 - val_loss: 0.5481 - val_acc: 0.8383\n",
      "\n",
      "Epoch 5/10\n",
      " - 8s - loss: 0.0954 - acc: 0.9800 - val_loss: 0.5496 - val_acc: 0.8458\n",
      "\n",
      "Epoch 6/10\n",
      " - 8s - loss: 0.0505 - acc: 0.9890 - val_loss: 0.5836 - val_acc: 0.8475\n",
      "\n",
      "Epoch 7/10\n",
      " - 8s - loss: 0.0280 - acc: 0.9933 - val_loss: 0.6495 - val_acc: 0.8400\n",
      "\n",
      "Epoch 8/10\n",
      " - 8s - loss: 0.0208 - acc: 0.9955 - val_loss: 0.6820 - val_acc: 0.8392\n",
      "\n",
      "Epoch 9/10\n",
      " - 8s - loss: 0.0158 - acc: 0.9969 - val_loss: 0.7190 - val_acc: 0.8408\n",
      "\n",
      "Epoch 10/10\n",
      " - 8s - loss: 0.0105 - acc: 0.9974 - val_loss: 0.7856 - val_acc: 0.8350\n",
      "\n",
      "Train on 6163 samples, validate on 1200 samples\n",
      "Epoch 1/10\n",
      " - 8s - loss: 1.6362 - acc: 0.4894 - val_loss: 1.0468 - val_acc: 0.6983\n",
      "\n",
      "Epoch 2/10\n",
      " - 8s - loss: 0.7268 - acc: 0.7886 - val_loss: 0.6765 - val_acc: 0.8200\n",
      "\n",
      "Epoch 3/10\n",
      " - 8s - loss: 0.3712 - acc: 0.9059 - val_loss: 0.6041 - val_acc: 0.8250\n",
      "\n",
      "Epoch 4/10\n",
      " - 8s - loss: 0.1855 - acc: 0.9546 - val_loss: 0.5685 - val_acc: 0.8325\n",
      "\n",
      "Epoch 5/10\n",
      " - 8s - loss: 0.0921 - acc: 0.9784 - val_loss: 0.6001 - val_acc: 0.8408\n",
      "\n",
      "Epoch 6/10\n",
      " - 8s - loss: 0.0516 - acc: 0.9885 - val_loss: 0.6623 - val_acc: 0.8400\n",
      "\n",
      "Epoch 7/10\n",
      " - 8s - loss: 0.0326 - acc: 0.9919 - val_loss: 0.7064 - val_acc: 0.8450\n",
      "\n",
      "Epoch 8/10\n",
      " - 8s - loss: 0.0226 - acc: 0.9948 - val_loss: 0.7846 - val_acc: 0.8425\n",
      "\n",
      "Epoch 9/10\n",
      " - 8s - loss: 0.0192 - acc: 0.9955 - val_loss: 0.8363 - val_acc: 0.8433\n",
      "\n",
      "Epoch 10/10\n",
      " - 8s - loss: 0.0122 - acc: 0.9972 - val_loss: 0.8684 - val_acc: 0.8475\n",
      "\n",
      "100%|██████████| 5/5 [06:51<00:00, 81.84s/it, best loss: -0.8290833333333334]\n",
      "CPU times: user 6min 12s, sys: 51.2 s, total: 7min 3s\n",
      "Wall time: 6min 55s\n"
     ]
    }
   ],
   "source": [
    "%%time\n",
    "from keras.layers.core import Dense\n",
    "best_run2, best_model2 = optim.minimize(model=create_model2,\n",
    "                                      data=data,\n",
    "                                      algo=tpe.suggest,\n",
    "                                      max_evals=5,\n",
    "                                      trials=Trials(),\n",
    "                                      notebook_name=os.path.join('..','gdrive','My Drive','Colab Notebooks','7 Neuronale Netze unbalanciertes Korpus'))"
   ]
  },
  {
   "cell_type": "code",
   "execution_count": 0,
   "metadata": {
    "colab": {
     "base_uri": "https://localhost:8080/",
     "height": 52
    },
    "colab_type": "code",
    "id": "TkRt_Ea8ItAv",
    "outputId": "e08f1abb-eec7-4e94-e84a-055894cc78fd"
   },
   "outputs": [
    {
     "name": "stdout",
     "output_type": "stream",
     "text": [
      "Best performing model chosen hyper-parameters:\n",
      "{'Dense': 1, 'Dense_1': 2, 'Dropout': 0, 'Dropout_1': 1}\n"
     ]
    }
   ],
   "source": [
    "_train, y_train, X_val, y_val, X_test, y_test = data()\n",
    "print(\"Best performing model chosen hyper-parameters:\")\n",
    "print(best_run2)"
   ]
  },
  {
   "cell_type": "markdown",
   "metadata": {
    "colab_type": "text",
    "id": "SBKJxZm8Kcnp"
   },
   "source": [
    "<h4>Test</h4>"
   ]
  },
  {
   "cell_type": "code",
   "execution_count": 0,
   "metadata": {
    "colab": {
     "base_uri": "https://localhost:8080/",
     "height": 390
    },
    "colab_type": "code",
    "id": "rCxcbaKUKbei",
    "outputId": "5b16fe75-f835-4a8f-b4c6-050cb785231a"
   },
   "outputs": [
    {
     "name": "stdout",
     "output_type": "stream",
     "text": [
      "Train on 6163 samples, validate on 2910 samples\n",
      "Epoch 1/10\n",
      "6163/6163 [==============================] - 8s 1ms/step - loss: 1.6819 - acc: 0.5376 - val_loss: 1.1596 - val_acc: 0.6821\n",
      "Epoch 2/10\n",
      "6163/6163 [==============================] - 8s 1ms/step - loss: 0.7217 - acc: 0.8166 - val_loss: 0.6483 - val_acc: 0.8351\n",
      "Epoch 3/10\n",
      "6163/6163 [==============================] - 8s 1ms/step - loss: 0.2622 - acc: 0.9503 - val_loss: 0.4911 - val_acc: 0.8536\n",
      "Epoch 4/10\n",
      "6163/6163 [==============================] - 8s 1ms/step - loss: 0.0887 - acc: 0.9851 - val_loss: 0.4509 - val_acc: 0.8605\n",
      "Epoch 5/10\n",
      "6163/6163 [==============================] - 8s 1ms/step - loss: 0.0322 - acc: 0.9938 - val_loss: 0.4445 - val_acc: 0.8653\n",
      "Epoch 6/10\n",
      "6163/6163 [==============================] - 8s 1ms/step - loss: 0.0148 - acc: 0.9969 - val_loss: 0.4631 - val_acc: 0.8691\n",
      "Epoch 7/10\n",
      "6163/6163 [==============================] - 8s 1ms/step - loss: 0.0077 - acc: 0.9982 - val_loss: 0.4886 - val_acc: 0.8667\n",
      "Epoch 8/10\n",
      "6163/6163 [==============================] - 8s 1ms/step - loss: 0.0047 - acc: 0.9990 - val_loss: 0.5207 - val_acc: 0.8684\n",
      "Epoch 9/10\n",
      "6163/6163 [==============================] - 8s 1ms/step - loss: 0.0047 - acc: 0.9987 - val_loss: 0.5598 - val_acc: 0.8632\n",
      "Epoch 10/10\n",
      "6163/6163 [==============================] - 8s 1ms/step - loss: 0.0028 - acc: 0.9995 - val_loss: 0.5771 - val_acc: 0.8667\n"
     ]
    }
   ],
   "source": [
    "model = models.Sequential()\n",
    "\n",
    "model.add(layers.Dense(64, activation=\"relu\", input_shape=(len(vocab),))) \n",
    "model.add(Dropout(0.1))\n",
    "model.add(layers.Dense(128, activation=\"relu\"))\n",
    "model.add(Dropout(0.2))\n",
    "model.add(layers.Dense(len(np.unique(labels)), activation=\"softmax\"))\n",
    "\n",
    "model.compile(optimizer=\"rmsprop\",\n",
    "              loss=\"categorical_crossentropy\",\n",
    "              metrics=[\"accuracy\"])\n",
    "\n",
    "history = model.fit(X_train,\n",
    "                   y_train,\n",
    "                   epochs=10,\n",
    "                   batch_size=64,\n",
    "                   validation_data=(X_test, y_test),\n",
    "                   verbose=1)"
   ]
  },
  {
   "cell_type": "code",
   "execution_count": 0,
   "metadata": {
    "colab": {
     "base_uri": "https://localhost:8080/",
     "height": 698
    },
    "colab_type": "code",
    "id": "fmz-mG1zK5dn",
    "outputId": "0e0f3317-5ec6-4e91-c979-5a9d627ee0b5"
   },
   "outputs": [
    {
     "data": {
      "image/png": "[encoded data removed]",
      "text/plain": [
       "<Figure size 432x288 with 1 Axes>"
      ]
     },
     "metadata": {
      "tags": []
     },
     "output_type": "display_data"
    },
    {
     "data": {
      "image/png": "[encoded data removed]",
      "text/plain": [
       "<Figure size 432x288 with 1 Axes>"
      ]
     },
     "metadata": {
      "tags": []
     },
     "output_type": "display_data"
    },
    {
     "name": "stdout",
     "output_type": "stream",
     "text": [
      "2910/2910 [==============================] - 2s 740us/step\n",
      "\n",
      "Results:\n",
      "Train_acc: 0.928\n",
      "Val_acc: 0.843\n",
      "Test_acc: 0.867\n",
      "F1-score: 0.867\n"
     ]
    }
   ],
   "source": [
    "plot_results(history)\n",
    "evaluation()"
   ]
  },
  {
   "cell_type": "markdown",
   "metadata": {
    "colab_type": "text",
    "id": "aA0Tc-_aLwVm"
   },
   "source": [
    "<h4>3. Versuch</h4>"
   ]
  },
  {
   "cell_type": "code",
   "execution_count": 0,
   "metadata": {
    "colab": {},
    "colab_type": "code",
    "id": "HBe0TPHvLy2E"
   },
   "outputs": [],
   "source": [
    "def create_model3(X_train, y_train, X_val, y_val, X_test, y_test, vocab, labels):\n",
    "    \n",
    "    model = models.Sequential()\n",
    "    model.add(layers.Dense(64, input_shape=(len(vocab),)))\n",
    "    model.add(Activation('relu'))\n",
    "    model.add(Dropout({{choice([0.01, 0.02, 0.03, 0.04, 0.05, 0.06, 0.07, 0.08, 0.09, 0.1, 0.11, 0.12, 0.13, 0.14, 0.15])}}))\n",
    "    model.add(layers.Dense(128, input_shape=(len(vocab),)))\n",
    "    model.add(Activation('relu'))\n",
    "    model.add(Dropout({{choice([0.16, 0.17, 0.18, 0.19, 0.2, 0.21, 0.22, 0.23, 0.24, 0.25])}})) \n",
    "    model.add(Dense(len(np.unique(labels))))\n",
    "    model.add(Activation('softmax'))\n",
    "\n",
    "    model.compile(optimizer='rmsprop',\n",
    "                  loss=\"categorical_crossentropy\",\n",
    "                  metrics=[\"accuracy\"])\n",
    "    \n",
    "    history = model.fit(X_train,\n",
    "                        y_train,\n",
    "                        epochs=10,\n",
    "                        batch_size=32,\n",
    "                        validation_data=(X_val, y_val),\n",
    "                        verbose=2)\n",
    "              \n",
    "    score = model.evaluate(X_test, y_test, verbose=0)\n",
    "    validation_acc = np.mean(history.history['val_acc']) \n",
    "    if K.backend() == 'tensorflow':\n",
    "        K.clear_session()\n",
    "    \n",
    "    out={'loss': -validation_acc, 'status':STATUS_OK, 'model': model}\n",
    "    return out"
   ]
  },
  {
   "cell_type": "code",
   "execution_count": 0,
   "metadata": {
    "colab": {
     "base_uri": "https://localhost:8080/",
     "height": 1000
    },
    "colab_type": "code",
    "id": "3VF5z0TpNOUQ",
    "outputId": "8599e3aa-49a7-4a54-cad5-1ec0303375ff"
   },
   "outputs": [
    {
     "name": "stdout",
     "output_type": "stream",
     "text": [
      ">>> Imports:\n",
      "#coding=utf-8\n",
      "\n",
      "try:\n",
      "    import tensorflow as tf\n",
      "except:\n",
      "    pass\n",
      "\n",
      "try:\n",
      "    from tensorflow import keras\n",
      "except:\n",
      "    pass\n",
      "\n",
      "try:\n",
      "    from keras import models\n",
      "except:\n",
      "    pass\n",
      "\n",
      "try:\n",
      "    from keras import layers\n",
      "except:\n",
      "    pass\n",
      "\n",
      "try:\n",
      "    from keras.utils.np_utils import to_categorical\n",
      "except:\n",
      "    pass\n",
      "\n",
      "try:\n",
      "    from sklearn.feature_extraction.text import TfidfVectorizer\n",
      "except:\n",
      "    pass\n",
      "\n",
      "try:\n",
      "    from sklearn.preprocessing import LabelEncoder, OneHotEncoder\n",
      "except:\n",
      "    pass\n",
      "\n",
      "try:\n",
      "    from sklearn.model_selection import train_test_split\n",
      "except:\n",
      "    pass\n",
      "\n",
      "try:\n",
      "    import pandas as pd\n",
      "except:\n",
      "    pass\n",
      "\n",
      "try:\n",
      "    import numpy as np\n",
      "except:\n",
      "    pass\n",
      "\n",
      "try:\n",
      "    import matplotlib.pyplot as plt\n",
      "except:\n",
      "    pass\n",
      "\n",
      "try:\n",
      "    from google.colab import files\n",
      "except:\n",
      "    pass\n",
      "\n",
      "try:\n",
      "    from sklearn.metrics import f1_score\n",
      "except:\n",
      "    pass\n",
      "\n",
      "try:\n",
      "    from keras import regularizers\n",
      "except:\n",
      "    pass\n",
      "\n",
      "try:\n",
      "    from keras import regularizers\n",
      "except:\n",
      "    pass\n",
      "\n",
      "try:\n",
      "    from keras.layers import Dropout\n",
      "except:\n",
      "    pass\n",
      "\n",
      "try:\n",
      "    from keras.callbacks import EarlyStopping\n",
      "except:\n",
      "    pass\n",
      "\n",
      "try:\n",
      "    from keras import backend as K\n",
      "except:\n",
      "    pass\n",
      "\n",
      "try:\n",
      "    from keras import models\n",
      "except:\n",
      "    pass\n",
      "\n",
      "try:\n",
      "    from keras import layers\n",
      "except:\n",
      "    pass\n",
      "\n",
      "try:\n",
      "    from keras.optimizers import Adam, RMSprop, SGD\n",
      "except:\n",
      "    pass\n",
      "\n",
      "try:\n",
      "    from keras.utils.np_utils import to_categorical\n",
      "except:\n",
      "    pass\n",
      "\n",
      "try:\n",
      "    from keras.callbacks import EarlyStopping\n",
      "except:\n",
      "    pass\n",
      "\n",
      "try:\n",
      "    from keras import regularizers\n",
      "except:\n",
      "    pass\n",
      "\n",
      "try:\n",
      "    from keras.layers import Dropout\n",
      "except:\n",
      "    pass\n",
      "\n",
      "try:\n",
      "    from keras.layers.core import Dense, Dropout, Activation\n",
      "except:\n",
      "    pass\n",
      "\n",
      "try:\n",
      "    from keras import backend as K\n",
      "except:\n",
      "    pass\n",
      "\n",
      "try:\n",
      "    from sklearn.metrics import f1_score\n",
      "except:\n",
      "    pass\n",
      "\n",
      "try:\n",
      "    from sklearn.feature_extraction.text import CountVectorizer, TfidfVectorizer\n",
      "except:\n",
      "    pass\n",
      "\n",
      "try:\n",
      "    from sklearn.preprocessing import LabelEncoder, OneHotEncoder\n",
      "except:\n",
      "    pass\n",
      "\n",
      "try:\n",
      "    from sklearn.model_selection import train_test_split\n",
      "except:\n",
      "    pass\n",
      "\n",
      "try:\n",
      "    from hyperas.distributions import uniform\n",
      "except:\n",
      "    pass\n",
      "\n",
      "try:\n",
      "    from hyperopt import Trials, STATUS_OK, tpe\n",
      "except:\n",
      "    pass\n",
      "\n",
      "try:\n",
      "    from hyperas import optim\n",
      "except:\n",
      "    pass\n",
      "\n",
      "try:\n",
      "    from hyperas.distributions import choice, uniform\n",
      "except:\n",
      "    pass\n",
      "\n",
      "try:\n",
      "    import pandas as pd\n",
      "except:\n",
      "    pass\n",
      "\n",
      "try:\n",
      "    import numpy as np\n",
      "except:\n",
      "    pass\n",
      "\n",
      "try:\n",
      "    import matplotlib.pyplot as plt\n",
      "except:\n",
      "    pass\n",
      "\n",
      "try:\n",
      "    from google.colab import drive\n",
      "except:\n",
      "    pass\n",
      "\n",
      "try:\n",
      "    import os\n",
      "except:\n",
      "    pass\n",
      "\n",
      ">>> Hyperas search space:\n",
      "\n",
      "def get_space():\n",
      "    return {\n",
      "        'Dropout': hp.choice('Dropout', [0.01, 0.02, 0.03, 0.04, 0.05, 0.06, 0.07, 0.08, 0.09, 0.1, 0.11, 0.12, 0.13, 0.14, 0.15]),\n",
      "        'Dropout_1': hp.choice('Dropout_1', [0.16, 0.17, 0.18, 0.19, 0.2, 0.21, 0.22, 0.23, 0.24, 0.25]),\n",
      "    }\n",
      "\n",
      ">>> Data\n",
      "  1: \n",
      "  2: \n",
      "  3: corpus = pd.read_csv('articles.csv', sep=';', header=None, error_bad_lines=False, warn_bad_lines=False, names=[\"category\",\"text\"])\n",
      "  4: \n",
      "  5: vectorizer = TfidfVectorizer()\n",
      "  6: vector = vectorizer.fit_transform(corpus[\"text\"])\n",
      "  7: labels = LabelEncoder().fit_transform(corpus[\"category\"])\n",
      "  8: vocab = vectorizer.vocabulary_\n",
      "  9: \n",
      " 10: X_train, X_test, y_train, y_test = train_test_split(vector, \n",
      " 11:                                                         labels, \n",
      " 12:                                                         test_size=0.4, \n",
      " 13:                                                         train_size=0.6,\n",
      " 14:                                                         random_state=42)\n",
      " 15: X_val = X_test[:1200]\n",
      " 16: X_test = X_test[1200:]\n",
      " 17: \n",
      " 18: y_val = y_test[:1200]\n",
      " 19: y_test = y_test[1200:]\n",
      " 20: \n",
      " 21: y_val = to_categorical(y_val)\n",
      " 22: y_test = to_categorical(y_test)\n",
      " 23: y_train = to_categorical(y_train)\n",
      " 24: \n",
      " 25: \n",
      " 26: \n",
      " 27: \n",
      ">>> Resulting replaced keras model:\n",
      "\n",
      "   1: def keras_fmin_fnct(space):\n",
      "   2: \n",
      "   3:     \n",
      "   4:     model = models.Sequential()\n",
      "   5:     model.add(layers.Dense(64, input_shape=(len(vocab),)))\n",
      "   6:     model.add(Activation('relu'))\n",
      "   7:     model.add(Dropout(space['Dropout']))\n",
      "   8:     model.add(layers.Dense(128, input_shape=(len(vocab),)))\n",
      "   9:     model.add(Activation('relu'))\n",
      "  10:     model.add(Dropout(space['Dropout_1'])) \n",
      "  11:     model.add(Dense(len(np.unique(labels))))\n",
      "  12:     model.add(Activation('softmax'))\n",
      "  13: \n",
      "  14:     model.compile(optimizer='rmsprop',\n",
      "  15:                   loss=\"categorical_crossentropy\",\n",
      "  16:                   metrics=[\"accuracy\"])\n",
      "  17:     \n",
      "  18:     history = model.fit(X_train,\n",
      "  19:                         y_train,\n",
      "  20:                         epochs=10,\n",
      "  21:                         batch_size=32,\n",
      "  22:                         validation_data=(X_val, y_val),\n",
      "  23:                         verbose=2)\n",
      "  24:               \n",
      "  25:     score = model.evaluate(X_test, y_test, verbose=0)\n",
      "  26:     validation_acc = np.mean(history.history['val_acc']) \n",
      "  27:     if K.backend() == 'tensorflow':\n",
      "  28:         K.clear_session()\n",
      "  29:     \n",
      "  30:     out={'loss': -validation_acc, 'status':STATUS_OK, 'model': model}\n",
      "  31:     return out\n",
      "  32: \n",
      "Train on 6163 samples, validate on 1200 samples\n",
      "Epoch 1/10\n",
      " - 7s - loss: 1.4973 - acc: 0.5410 - val_loss: 0.9310 - val_acc: 0.7475\n",
      "\n",
      "Epoch 2/10\n",
      " - 7s - loss: 0.4862 - acc: 0.8841 - val_loss: 0.6104 - val_acc: 0.8308\n",
      "\n",
      "Epoch 3/10\n",
      " - 7s - loss: 0.1530 - acc: 0.9677 - val_loss: 0.5422 - val_acc: 0.8350\n",
      "\n",
      "Epoch 4/10\n",
      " - 7s - loss: 0.0451 - acc: 0.9901 - val_loss: 0.5812 - val_acc: 0.8408\n",
      "\n",
      "Epoch 5/10\n",
      " - 7s - loss: 0.0169 - acc: 0.9966 - val_loss: 0.6295 - val_acc: 0.8417\n",
      "\n",
      "Epoch 6/10\n",
      " - 7s - loss: 0.0091 - acc: 0.9977 - val_loss: 0.6766 - val_acc: 0.8467\n",
      "\n",
      "Epoch 7/10\n",
      " - 7s - loss: 0.0050 - acc: 0.9984 - val_loss: 0.7115 - val_acc: 0.8458\n",
      "\n",
      "Epoch 8/10\n",
      " - 7s - loss: 0.0034 - acc: 0.9992 - val_loss: 0.7715 - val_acc: 0.8400\n",
      "\n",
      "Epoch 9/10\n",
      " - 7s - loss: 0.0032 - acc: 0.9994 - val_loss: 0.7660 - val_acc: 0.8408\n",
      "\n",
      "Epoch 10/10\n",
      " - 7s - loss: 0.0024 - acc: 0.9990 - val_loss: 0.7835 - val_acc: 0.8525\n",
      "\n",
      "Train on 6163 samples, validate on 1200 samples\n",
      "Epoch 1/10\n",
      " - 7s - loss: 1.5129 - acc: 0.5600 - val_loss: 0.9396 - val_acc: 0.7442\n",
      "\n",
      "Epoch 2/10\n",
      " - 7s - loss: 0.4937 - acc: 0.8841 - val_loss: 0.6012 - val_acc: 0.8333\n",
      "\n",
      "Epoch 3/10\n",
      " - 7s - loss: 0.1547 - acc: 0.9620 - val_loss: 0.5445 - val_acc: 0.8417\n",
      "\n",
      "Epoch 4/10\n",
      " - 7s - loss: 0.0502 - acc: 0.9899 - val_loss: 0.5721 - val_acc: 0.8358\n",
      "\n",
      "Epoch 5/10\n",
      " - 7s - loss: 0.0169 - acc: 0.9956 - val_loss: 0.6186 - val_acc: 0.8392\n",
      "\n",
      "Epoch 6/10\n",
      " - 7s - loss: 0.0083 - acc: 0.9981 - val_loss: 0.6946 - val_acc: 0.8375\n",
      "\n",
      "Epoch 7/10\n",
      " - 7s - loss: 0.0048 - acc: 0.9985 - val_loss: 0.7588 - val_acc: 0.8367\n",
      "\n",
      "Epoch 8/10\n",
      " - 7s - loss: 0.0044 - acc: 0.9990 - val_loss: 0.7898 - val_acc: 0.8375\n",
      "\n",
      "Epoch 9/10\n",
      " - 7s - loss: 0.0034 - acc: 0.9990 - val_loss: 0.8087 - val_acc: 0.8433\n",
      "\n",
      "Epoch 10/10\n",
      " - 7s - loss: 0.0021 - acc: 0.9994 - val_loss: 0.8854 - val_acc: 0.8367\n",
      "\n",
      "Train on 6163 samples, validate on 1200 samples\n",
      "Epoch 1/10\n",
      " - 7s - loss: 1.4993 - acc: 0.5668 - val_loss: 0.9198 - val_acc: 0.7283\n",
      "\n",
      "Epoch 2/10\n",
      " - 7s - loss: 0.4833 - acc: 0.8838 - val_loss: 0.5922 - val_acc: 0.8267\n",
      "\n",
      "Epoch 3/10\n",
      " - 7s - loss: 0.1532 - acc: 0.9679 - val_loss: 0.5522 - val_acc: 0.8342\n",
      "\n",
      "Epoch 4/10\n",
      " - 7s - loss: 0.0432 - acc: 0.9908 - val_loss: 0.5505 - val_acc: 0.8417\n",
      "\n",
      "Epoch 5/10\n",
      " - 7s - loss: 0.0162 - acc: 0.9963 - val_loss: 0.6541 - val_acc: 0.8350\n",
      "\n",
      "Epoch 6/10\n",
      " - 7s - loss: 0.0083 - acc: 0.9976 - val_loss: 0.6633 - val_acc: 0.8517\n",
      "\n",
      "Epoch 7/10\n",
      " - 7s - loss: 0.0049 - acc: 0.9985 - val_loss: 0.7390 - val_acc: 0.8400\n",
      "\n",
      "Epoch 8/10\n",
      " - 7s - loss: 0.0043 - acc: 0.9990 - val_loss: 0.7749 - val_acc: 0.8433\n",
      "\n",
      "Epoch 9/10\n",
      " - 7s - loss: 0.0038 - acc: 0.9992 - val_loss: 0.8062 - val_acc: 0.8400\n",
      "\n",
      "Epoch 10/10\n",
      " - 7s - loss: 0.0026 - acc: 0.9992 - val_loss: 0.8542 - val_acc: 0.8350\n",
      "\n",
      "Train on 6163 samples, validate on 1200 samples\n",
      "Epoch 1/10\n",
      " - 7s - loss: 1.5380 - acc: 0.5486 - val_loss: 0.9418 - val_acc: 0.7183\n",
      "\n",
      "Epoch 2/10\n",
      " - 7s - loss: 0.5350 - acc: 0.8619 - val_loss: 0.6162 - val_acc: 0.8250\n",
      "\n",
      "Epoch 3/10\n",
      " - 7s - loss: 0.1898 - acc: 0.9557 - val_loss: 0.5594 - val_acc: 0.8392\n",
      "\n",
      "Epoch 4/10\n",
      " - 7s - loss: 0.0682 - acc: 0.9849 - val_loss: 0.5619 - val_acc: 0.8467\n",
      "\n",
      "Epoch 5/10\n",
      " - 7s - loss: 0.0241 - acc: 0.9945 - val_loss: 0.6246 - val_acc: 0.8467\n",
      "\n",
      "Epoch 6/10\n",
      " - 7s - loss: 0.0122 - acc: 0.9971 - val_loss: 0.6756 - val_acc: 0.8433\n",
      "\n",
      "Epoch 7/10\n",
      " - 7s - loss: 0.0081 - acc: 0.9981 - val_loss: 0.7434 - val_acc: 0.8400\n",
      "\n",
      "Epoch 8/10\n",
      " - 7s - loss: 0.0050 - acc: 0.9989 - val_loss: 0.7768 - val_acc: 0.8467\n",
      "\n",
      "Epoch 9/10\n",
      " - 7s - loss: 0.0035 - acc: 0.9987 - val_loss: 0.8533 - val_acc: 0.8417\n",
      "\n",
      "Epoch 10/10\n",
      " - 7s - loss: 0.0034 - acc: 0.9987 - val_loss: 0.8522 - val_acc: 0.8492\n",
      "\n",
      "Train on 6163 samples, validate on 1200 samples\n",
      "Epoch 1/10\n",
      " - 7s - loss: 1.5210 - acc: 0.5429 - val_loss: 0.9603 - val_acc: 0.7100\n",
      "\n",
      "Epoch 2/10\n",
      " - 7s - loss: 0.5125 - acc: 0.8731 - val_loss: 0.6016 - val_acc: 0.8258\n",
      "\n",
      "Epoch 3/10\n",
      " - 7s - loss: 0.1676 - acc: 0.9612 - val_loss: 0.5366 - val_acc: 0.8400\n",
      "\n",
      "Epoch 4/10\n",
      " - 7s - loss: 0.0558 - acc: 0.9875 - val_loss: 0.5633 - val_acc: 0.8367\n",
      "\n",
      "Epoch 5/10\n",
      " - 7s - loss: 0.0225 - acc: 0.9956 - val_loss: 0.6190 - val_acc: 0.8392\n",
      "\n",
      "Epoch 6/10\n",
      " - 7s - loss: 0.0088 - acc: 0.9981 - val_loss: 0.6688 - val_acc: 0.8408\n",
      "\n",
      "Epoch 7/10\n",
      " - 7s - loss: 0.0066 - acc: 0.9985 - val_loss: 0.7461 - val_acc: 0.8342\n",
      "\n",
      "Epoch 8/10\n",
      " - 7s - loss: 0.0050 - acc: 0.9990 - val_loss: 0.7902 - val_acc: 0.8400\n",
      "\n",
      "Epoch 9/10\n",
      " - 7s - loss: 0.0048 - acc: 0.9987 - val_loss: 0.8162 - val_acc: 0.8333\n",
      "\n",
      "Epoch 10/10\n",
      " - 7s - loss: 0.0043 - acc: 0.9992 - val_loss: 0.8680 - val_acc: 0.8317\n",
      "\n",
      "100%|██████████| 5/5 [05:48<00:00, 69.79s/it, best loss: -0.8321666666666665]\n",
      "CPU times: user 5min 31s, sys: 31.6 s, total: 6min 2s\n",
      "Wall time: 5min 52s\n"
     ]
    }
   ],
   "source": [
    "%%time\n",
    "from keras.layers.core import Dense\n",
    "best_run3, best_model3 = optim.minimize(model=create_model3,\n",
    "                                      data=data,\n",
    "                                      algo=tpe.suggest,\n",
    "                                      max_evals=5,\n",
    "                                      trials=Trials(),\n",
    "                                      notebook_name=os.path.join('..','gdrive','My Drive','Colab Notebooks','7 Neuronale Netze unbalanciertes Korpus'))"
   ]
  },
  {
   "cell_type": "code",
   "execution_count": 0,
   "metadata": {
    "colab": {
     "base_uri": "https://localhost:8080/",
     "height": 52
    },
    "colab_type": "code",
    "id": "9VKREpTVNWrA",
    "outputId": "588e83d1-d0fa-4ce0-f7fc-23b11c3c4e42"
   },
   "outputs": [
    {
     "name": "stdout",
     "output_type": "stream",
     "text": [
      "Best performing model chosen hyper-parameters:\n",
      "{'Dropout': 1, 'Dropout_1': 6}\n"
     ]
    }
   ],
   "source": [
    "_train, y_train, X_val, y_val, X_test, y_test = data()\n",
    "print(\"Best performing model chosen hyper-parameters:\")\n",
    "print(best_run3)"
   ]
  },
  {
   "cell_type": "markdown",
   "metadata": {
    "colab_type": "text",
    "id": "NSI8ItamXgxl"
   },
   "source": [
    "<h4>Test</h4>"
   ]
  },
  {
   "cell_type": "code",
   "execution_count": 0,
   "metadata": {
    "colab": {
     "base_uri": "https://localhost:8080/",
     "height": 390
    },
    "colab_type": "code",
    "id": "jSTvDDL3XfxA",
    "outputId": "a3f6d4a4-809e-4d36-b930-2390df409eb1"
   },
   "outputs": [
    {
     "name": "stdout",
     "output_type": "stream",
     "text": [
      "Train on 6163 samples, validate on 2910 samples\n",
      "Epoch 1/10\n",
      "6163/6163 [==============================] - 9s 1ms/step - loss: 1.6818 - acc: 0.5001 - val_loss: 1.1789 - val_acc: 0.6880\n",
      "Epoch 2/10\n",
      "6163/6163 [==============================] - 8s 1ms/step - loss: 0.7194 - acc: 0.8423 - val_loss: 0.6632 - val_acc: 0.8192\n",
      "Epoch 3/10\n",
      "6163/6163 [==============================] - 8s 1ms/step - loss: 0.2620 - acc: 0.9544 - val_loss: 0.4819 - val_acc: 0.8526\n",
      "Epoch 4/10\n",
      "6163/6163 [==============================] - 8s 1ms/step - loss: 0.0827 - acc: 0.9862 - val_loss: 0.4437 - val_acc: 0.8598\n",
      "Epoch 5/10\n",
      "6163/6163 [==============================] - 8s 1ms/step - loss: 0.0273 - acc: 0.9955 - val_loss: 0.4385 - val_acc: 0.8639\n",
      "Epoch 6/10\n",
      "6163/6163 [==============================] - 8s 1ms/step - loss: 0.0101 - acc: 0.9977 - val_loss: 0.4992 - val_acc: 0.8512\n",
      "Epoch 7/10\n",
      "6163/6163 [==============================] - 8s 1ms/step - loss: 0.0051 - acc: 0.9987 - val_loss: 0.4825 - val_acc: 0.8619\n",
      "Epoch 8/10\n",
      "6163/6163 [==============================] - 8s 1ms/step - loss: 0.0044 - acc: 0.9990 - val_loss: 0.4995 - val_acc: 0.8598\n",
      "Epoch 9/10\n",
      "6163/6163 [==============================] - 8s 1ms/step - loss: 0.0032 - acc: 0.9990 - val_loss: 0.5312 - val_acc: 0.8649\n",
      "Epoch 10/10\n",
      "6163/6163 [==============================] - 8s 1ms/step - loss: 0.0024 - acc: 0.9994 - val_loss: 0.5523 - val_acc: 0.8619\n"
     ]
    }
   ],
   "source": [
    "model = models.Sequential()\n",
    "\n",
    "model.add(layers.Dense(64, activation=\"relu\", input_shape=(len(vocab),))) \n",
    "model.add(Dropout(0.02))\n",
    "model.add(layers.Dense(128, activation=\"relu\"))\n",
    "model.add(Dropout(0.22))\n",
    "model.add(layers.Dense(len(np.unique(labels)), activation=\"softmax\"))\n",
    "\n",
    "model.compile(optimizer=\"rmsprop\",\n",
    "              loss=\"categorical_crossentropy\",\n",
    "              metrics=[\"accuracy\"])\n",
    "\n",
    "history = model.fit(X_train,\n",
    "                   y_train,\n",
    "                   epochs=10,\n",
    "                   batch_size=64,\n",
    "                   validation_data=(X_test, y_test),\n",
    "                   verbose=1)"
   ]
  },
  {
   "cell_type": "code",
   "execution_count": 0,
   "metadata": {
    "colab": {
     "base_uri": "https://localhost:8080/",
     "height": 698
    },
    "colab_type": "code",
    "id": "DS-777-HX71p",
    "outputId": "3e066421-6bd6-486c-fa78-334ff6d039c2"
   },
   "outputs": [
    {
     "data": {
      "image/png": "[encoded data removed]",
      "text/plain": [
       "<Figure size 432x288 with 1 Axes>"
      ]
     },
     "metadata": {
      "tags": []
     },
     "output_type": "display_data"
    },
    {
     "data": {
      "image/png": "[encoded data removed]",
      "text/plain": [
       "<Figure size 432x288 with 1 Axes>"
      ]
     },
     "metadata": {
      "tags": []
     },
     "output_type": "display_data"
    },
    {
     "name": "stdout",
     "output_type": "stream",
     "text": [
      "2910/2910 [==============================] - 2s 739us/step\n",
      "\n",
      "Results:\n",
      "Train_acc: 0.927\n",
      "Val_acc: 0.838\n",
      "Test_acc: 0.862\n",
      "F1-score: 0.862\n"
     ]
    }
   ],
   "source": [
    "plot_results(history)\n",
    "evaluation()"
   ]
  },
  {
   "cell_type": "markdown",
   "metadata": {
    "colab_type": "text",
    "id": "sNjVOy39Ypp7"
   },
   "source": [
    "<h3>Finales Modell</h3>"
   ]
  },
  {
   "cell_type": "code",
   "execution_count": 0,
   "metadata": {
    "colab": {
     "base_uri": "https://localhost:8080/",
     "height": 390
    },
    "colab_type": "code",
    "id": "kspUcG63YbMM",
    "outputId": "0e3d63f4-1bf5-4855-e7f2-0b38c8de2bc0"
   },
   "outputs": [
    {
     "name": "stdout",
     "output_type": "stream",
     "text": [
      "Train on 6163 samples, validate on 2910 samples\n",
      "Epoch 1/10\n",
      "6163/6163 [==============================] - 8s 1ms/step - loss: 1.7056 - acc: 0.5092 - val_loss: 1.1639 - val_acc: 0.6942\n",
      "Epoch 2/10\n",
      "6163/6163 [==============================] - 8s 1ms/step - loss: 0.7320 - acc: 0.8092 - val_loss: 0.6551 - val_acc: 0.8107\n",
      "Epoch 3/10\n",
      "6163/6163 [==============================] - 8s 1ms/step - loss: 0.2889 - acc: 0.9403 - val_loss: 0.4930 - val_acc: 0.8550\n",
      "Epoch 4/10\n",
      "6163/6163 [==============================] - 8s 1ms/step - loss: 0.1038 - acc: 0.9823 - val_loss: 0.4480 - val_acc: 0.8605\n",
      "Epoch 5/10\n",
      "6163/6163 [==============================] - 8s 1ms/step - loss: 0.0358 - acc: 0.9935 - val_loss: 0.4391 - val_acc: 0.8653\n",
      "Epoch 6/10\n",
      "6163/6163 [==============================] - 8s 1ms/step - loss: 0.0146 - acc: 0.9972 - val_loss: 0.4669 - val_acc: 0.8653\n",
      "Epoch 7/10\n",
      "6163/6163 [==============================] - 8s 1ms/step - loss: 0.0077 - acc: 0.9982 - val_loss: 0.4997 - val_acc: 0.8632\n",
      "Epoch 8/10\n",
      "6163/6163 [==============================] - 8s 1ms/step - loss: 0.0050 - acc: 0.9989 - val_loss: 0.5186 - val_acc: 0.8636\n",
      "Epoch 9/10\n",
      "6163/6163 [==============================] - 8s 1ms/step - loss: 0.0037 - acc: 0.9992 - val_loss: 0.5354 - val_acc: 0.8670\n",
      "Epoch 10/10\n",
      "6163/6163 [==============================] - 8s 1ms/step - loss: 0.0024 - acc: 0.9994 - val_loss: 0.5635 - val_acc: 0.8670\n"
     ]
    }
   ],
   "source": [
    "model = models.Sequential()\n",
    "\n",
    "model.add(layers.Dense(64, activation=\"relu\", input_shape=(len(vocab),))) \n",
    "model.add(Dropout(0.1)) \n",
    "model.add(layers.Dense(128, activation=\"relu\"))\n",
    "model.add(Dropout(0.2)) \n",
    "model.add(layers.Dense(len(np.unique(labels)), activation=\"softmax\"))\n",
    "\n",
    "model.compile(optimizer=\"rmsprop\",\n",
    "              loss=\"categorical_crossentropy\",\n",
    "              metrics=[\"accuracy\"])\n",
    "\n",
    "history = model.fit(X_train,\n",
    "                   y_train,\n",
    "                   epochs=10,\n",
    "                   batch_size=64,\n",
    "                   validation_data=(X_test, y_test),\n",
    "                   verbose=1)"
   ]
  },
  {
   "cell_type": "code",
   "execution_count": 0,
   "metadata": {
    "colab": {
     "base_uri": "https://localhost:8080/",
     "height": 698
    },
    "colab_type": "code",
    "id": "G9JJ2NPrYlu-",
    "outputId": "9e4c00fa-13c2-44d6-dcd7-d2b773fb200b"
   },
   "outputs": [
    {
     "data": {
      "image/png": "[encoded data removed]",
      "text/plain": [
       "<Figure size 432x288 with 1 Axes>"
      ]
     },
     "metadata": {
      "tags": []
     },
     "output_type": "display_data"
    },
    {
     "data": {
      "image/png": "[encoded data removed]",
      "text/plain": [
       "<Figure size 432x288 with 1 Axes>"
      ]
     },
     "metadata": {
      "tags": []
     },
     "output_type": "display_data"
    },
    {
     "name": "stdout",
     "output_type": "stream",
     "text": [
      "2910/2910 [==============================] - 2s 732us/step\n",
      "\n",
      "Results:\n",
      "Train_acc: 0.923\n",
      "Val_acc: 0.841\n",
      "Test_acc: 0.867\n",
      "F1-score: 0.867\n"
     ]
    }
   ],
   "source": [
    "plot_results(history)\n",
    "evaluation()"
   ]
  }
 ],
 "metadata": {
  "accelerator": "GPU",
  "colab": {
   "collapsed_sections": [],
   "name": "7 Neuronale Netze unbalanciertes Korpus.ipynb",
   "provenance": []
  },
  "kernelspec": {
   "display_name": "Python 3",
   "language": "python",
   "name": "python3"
  },
  "language_info": {
   "codemirror_mode": {
    "name": "ipython",
    "version": 3
   },
   "file_extension": ".py",
   "mimetype": "text/x-python",
   "name": "python",
   "nbconvert_exporter": "python",
   "pygments_lexer": "ipython3",
   "version": "3.7.6"
  }
 },
 "nbformat": 4,
 "nbformat_minor": 1
}
