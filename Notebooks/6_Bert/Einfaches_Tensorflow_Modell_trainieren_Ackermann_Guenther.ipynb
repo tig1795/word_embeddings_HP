{
 "cells": [
  {
   "cell_type": "markdown",
   "metadata": {},
   "source": [
    "Sophia Ackermann & Timo Günther\n",
    "\n",
    "In Anlehnung an den Code von Gruppe 2"
   ]
  },
  {
   "cell_type": "code",
   "execution_count": 1,
   "metadata": {
    "colab": {
     "base_uri": "https://localhost:8080/"
    },
    "executionInfo": {
     "elapsed": 7146,
     "status": "ok",
     "timestamp": 1625082332791,
     "user": {
      "displayName": "Word Embeddings",
      "photoUrl": "",
      "userId": "05224024210897602445"
     },
     "user_tz": -120
    },
    "id": "82eNTdVpGNhw",
    "outputId": "2cb311c8-3e82-4703-bcf2-4672bd7e7154"
   },
   "outputs": [
    {
     "name": "stdout",
     "output_type": "stream",
     "text": [
      "Collecting transformers\n",
      "\u001b[?25l  Downloading https://files.pythonhosted.org/packages/fd/1a/41c644c963249fd7f3836d926afa1e3f1cc234a1c40d80c5f03ad8f6f1b2/transformers-4.8.2-py3-none-any.whl (2.5MB)\n",
      "\u001b[K     |████████████████████████████████| 2.5MB 8.7MB/s \n",
      "\u001b[?25hCollecting datasets\n",
      "\u001b[?25l  Downloading https://files.pythonhosted.org/packages/08/a2/d4e1024c891506e1cee8f9d719d20831bac31cb5b7416983c4d2f65a6287/datasets-1.8.0-py3-none-any.whl (237kB)\n",
      "\u001b[K     |████████████████████████████████| 245kB 49.3MB/s \n",
      "\u001b[?25hRequirement already satisfied: filelock in /usr/local/lib/python3.7/dist-packages (from transformers) (3.0.12)\n",
      "Requirement already satisfied: requests in /usr/local/lib/python3.7/dist-packages (from transformers) (2.23.0)\n",
      "Collecting tokenizers<0.11,>=0.10.1\n",
      "\u001b[?25l  Downloading https://files.pythonhosted.org/packages/d4/e2/df3543e8ffdab68f5acc73f613de9c2b155ac47f162e725dcac87c521c11/tokenizers-0.10.3-cp37-cp37m-manylinux_2_5_x86_64.manylinux1_x86_64.manylinux_2_12_x86_64.manylinux2010_x86_64.whl (3.3MB)\n",
      "\u001b[K     |████████████████████████████████| 3.3MB 49.1MB/s \n",
      "\u001b[?25hCollecting sacremoses\n",
      "\u001b[?25l  Downloading https://files.pythonhosted.org/packages/75/ee/67241dc87f266093c533a2d4d3d69438e57d7a90abb216fa076e7d475d4a/sacremoses-0.0.45-py3-none-any.whl (895kB)\n",
      "\u001b[K     |████████████████████████████████| 901kB 46.4MB/s \n",
      "\u001b[?25hCollecting huggingface-hub==0.0.12\n",
      "  Downloading https://files.pythonhosted.org/packages/2f/ee/97e253668fda9b17e968b3f97b2f8e53aa0127e8807d24a547687423fe0b/huggingface_hub-0.0.12-py3-none-any.whl\n",
      "Requirement already satisfied: importlib-metadata; python_version < \"3.8\" in /usr/local/lib/python3.7/dist-packages (from transformers) (4.5.0)\n",
      "Requirement already satisfied: packaging in /usr/local/lib/python3.7/dist-packages (from transformers) (20.9)\n",
      "Requirement already satisfied: tqdm>=4.27 in /usr/local/lib/python3.7/dist-packages (from transformers) (4.41.1)\n",
      "Requirement already satisfied: pyyaml in /usr/local/lib/python3.7/dist-packages (from transformers) (3.13)\n",
      "Requirement already satisfied: regex!=2019.12.17 in /usr/local/lib/python3.7/dist-packages (from transformers) (2019.12.20)\n",
      "Requirement already satisfied: numpy>=1.17 in /usr/local/lib/python3.7/dist-packages (from transformers) (1.19.5)\n",
      "Requirement already satisfied: multiprocess in /usr/local/lib/python3.7/dist-packages (from datasets) (0.70.12.2)\n",
      "Requirement already satisfied: dill in /usr/local/lib/python3.7/dist-packages (from datasets) (0.3.4)\n",
      "Collecting xxhash\n",
      "\u001b[?25l  Downloading https://files.pythonhosted.org/packages/7d/4f/0a862cad26aa2ed7a7cd87178cbbfa824fc1383e472d63596a0d018374e7/xxhash-2.0.2-cp37-cp37m-manylinux2010_x86_64.whl (243kB)\n",
      "\u001b[K     |████████████████████████████████| 245kB 50.8MB/s \n",
      "\u001b[?25hRequirement already satisfied: pyarrow<4.0.0,>=1.0.0 in /usr/local/lib/python3.7/dist-packages (from datasets) (3.0.0)\n",
      "Requirement already satisfied: pandas in /usr/local/lib/python3.7/dist-packages (from datasets) (1.1.5)\n",
      "Collecting fsspec\n",
      "\u001b[?25l  Downloading https://files.pythonhosted.org/packages/0e/3a/666e63625a19883ae8e1674099e631f9737bd5478c4790e5ad49c5ac5261/fsspec-2021.6.1-py3-none-any.whl (115kB)\n",
      "\u001b[K     |████████████████████████████████| 122kB 49.7MB/s \n",
      "\u001b[?25hRequirement already satisfied: chardet<4,>=3.0.2 in /usr/local/lib/python3.7/dist-packages (from requests->transformers) (3.0.4)\n",
      "Requirement already satisfied: urllib3!=1.25.0,!=1.25.1,<1.26,>=1.21.1 in /usr/local/lib/python3.7/dist-packages (from requests->transformers) (1.24.3)\n",
      "Requirement already satisfied: idna<3,>=2.5 in /usr/local/lib/python3.7/dist-packages (from requests->transformers) (2.10)\n",
      "Requirement already satisfied: certifi>=2017.4.17 in /usr/local/lib/python3.7/dist-packages (from requests->transformers) (2021.5.30)\n",
      "Requirement already satisfied: six in /usr/local/lib/python3.7/dist-packages (from sacremoses->transformers) (1.15.0)\n",
      "Requirement already satisfied: click in /usr/local/lib/python3.7/dist-packages (from sacremoses->transformers) (7.1.2)\n",
      "Requirement already satisfied: joblib in /usr/local/lib/python3.7/dist-packages (from sacremoses->transformers) (1.0.1)\n",
      "Requirement already satisfied: typing-extensions in /usr/local/lib/python3.7/dist-packages (from huggingface-hub==0.0.12->transformers) (3.7.4.3)\n",
      "Requirement already satisfied: zipp>=0.5 in /usr/local/lib/python3.7/dist-packages (from importlib-metadata; python_version < \"3.8\"->transformers) (3.4.1)\n",
      "Requirement already satisfied: pyparsing>=2.0.2 in /usr/local/lib/python3.7/dist-packages (from packaging->transformers) (2.4.7)\n",
      "Requirement already satisfied: pytz>=2017.2 in /usr/local/lib/python3.7/dist-packages (from pandas->datasets) (2018.9)\n",
      "Requirement already satisfied: python-dateutil>=2.7.3 in /usr/local/lib/python3.7/dist-packages (from pandas->datasets) (2.8.1)\n",
      "Installing collected packages: tokenizers, sacremoses, huggingface-hub, transformers, xxhash, fsspec, datasets\n",
      "Successfully installed datasets-1.8.0 fsspec-2021.6.1 huggingface-hub-0.0.12 sacremoses-0.0.45 tokenizers-0.10.3 transformers-4.8.2 xxhash-2.0.2\n"
     ]
    }
   ],
   "source": [
    "!pip install transformers datasets"
   ]
  },
  {
   "cell_type": "code",
   "execution_count": 2,
   "metadata": {
    "executionInfo": {
     "elapsed": 2352,
     "status": "ok",
     "timestamp": 1625082338358,
     "user": {
      "displayName": "Word Embeddings",
      "photoUrl": "",
      "userId": "05224024210897602445"
     },
     "user_tz": -120
    },
    "id": "3TtAwFRZGWlF"
   },
   "outputs": [],
   "source": [
    "from datasets import load_dataset\n",
    "import tensorflow as tf"
   ]
  },
  {
   "cell_type": "markdown",
   "metadata": {
    "id": "IyEFri2BGwVq"
   },
   "source": [
    "##Laden des Datensatzes"
   ]
  },
  {
   "cell_type": "code",
   "execution_count": 3,
   "metadata": {
    "colab": {
     "base_uri": "https://localhost:8080/",
     "height": 294,
     "referenced_widgets": [
      "6c7eaf5623a24f7dbf846366ff222da8",
      "f47b52a14f5a48c2bfa57dbc4618cf12",
      "c4c546181316450bb778642c5ca4612f",
      "6564311f1fd5465db5e96bb8e5392e4c",
      "0a8fcc805e714d728e66e32d43ee7e8e",
      "cdfc5fbbb3ae4464abe90d235bc6596b",
      "a23082ab46ee44d5af6415ed3bb7b763",
      "2d2b6008b2e84875b6025590348b7b26",
      "a693ea1539964a4e914f3eb84b90e949",
      "dcaa00b8d1024bffa447363b596f14df",
      "8b18b710ac7946a8a7378d852e4ef2bf",
      "2853821e89754871afb28cc704254b44",
      "8bcac84e6d764dde89015833cfa1ab53",
      "331c29c504ba479fbd3217980e1ab0ad",
      "2ddf522356844a5e963a99a1f32af98b",
      "3ad0ae3493a64f2684e89c5735ce2047",
      "8c69b2d0fe4940648beb4e01ee0eebf0",
      "56b5ab07b0ea4ff3a95233fc0ac04201",
      "5df6caecc9184692be533e3a102e70b7",
      "a8b10e8de7dd48bb916d4c894bee6353",
      "3057197645ee4d51aadb48a337d35181",
      "1bba484d1d01452180f2ff140dc1d356",
      "f021b143ea3f4bbda99ea6a4a190701c",
      "94f8812a114d48c48022ca8447d80fac",
      "17fdd0dfc08e43ecb306a44420fc766d",
      "91a11a350e2e4168aaad0ff7acfedde3",
      "032c85d9655641bbbaf73eac7a708481",
      "137353af6c824ebca173d405ea534c8d",
      "b314db9e193f4796a6fa946f10910059",
      "60971ce2c0a744ea8e1060387995e985",
      "9f873744053d48a7b7bf1dc411052c1f",
      "37f237a3b49e4b13895bed01468df5d0",
      "f1e790d59e4f4588885d2c481065d1ce",
      "33eec945cca7440284cf120260c4b969",
      "6c63070bbad5409f88fa91b51b2c65f1",
      "9f322c0a62624df2873a4c2d21658fab",
      "d26b39de750f4ad9a23df9d91c40b4a2",
      "165bcce635a44d6ea8fa227c56912127",
      "3d50ccdb5b70444a9381eadf6e689b72",
      "c3e75894cd9845e3873f520f6bddcb2e",
      "adfe06950ea64fd2bd1853c5b62d2e89",
      "229c1991f6664501a41209fa5de449fb",
      "4d7778ae78cc4a16aecf147f98b019a1",
      "638d55161f434e388c2cdfbdeafdcdea",
      "d7470d5177ae488e932eeba9e59b1d6a",
      "63e7b06bb73347d4b50bc622565abb66",
      "d10280151b4a49b0914f78381a3110bf",
      "406f38a9695447dbb5a4b554986d53ff"
     ]
    },
    "executionInfo": {
     "elapsed": 6933,
     "status": "ok",
     "timestamp": 1625082349352,
     "user": {
      "displayName": "Word Embeddings",
      "photoUrl": "",
      "userId": "05224024210897602445"
     },
     "user_tz": -120
    },
    "id": "u_EXe8C0Gfhe",
    "outputId": "c2bf990c-6653-4844-a239-71dfede112be"
   },
   "outputs": [
    {
     "data": {
      "application/vnd.jupyter.widget-view+json": {
       "model_id": "6c7eaf5623a24f7dbf846366ff222da8",
       "version_major": 2,
       "version_minor": 0
      },
      "text/plain": [
       "HBox(children=(FloatProgress(value=0.0, description='Downloading', max=1502.0, style=ProgressStyle(description…"
      ]
     },
     "metadata": {
      "tags": []
     },
     "output_type": "display_data"
    },
    {
     "name": "stdout",
     "output_type": "stream",
     "text": [
      "\n"
     ]
    },
    {
     "data": {
      "application/vnd.jupyter.widget-view+json": {
       "model_id": "a693ea1539964a4e914f3eb84b90e949",
       "version_major": 2,
       "version_minor": 0
      },
      "text/plain": [
       "HBox(children=(FloatProgress(value=0.0, description='Downloading', max=987.0, style=ProgressStyle(description_…"
      ]
     },
     "metadata": {
      "tags": []
     },
     "output_type": "display_data"
    },
    {
     "name": "stderr",
     "output_type": "stream",
     "text": [
      "Using custom data configuration default\n"
     ]
    },
    {
     "name": "stdout",
     "output_type": "stream",
     "text": [
      "\n",
      "Downloading and preparing dataset gnad10/default (download: 25.90 MiB, generated: 25.92 MiB, post-processed: Unknown size, total: 51.82 MiB) to /root/.cache/huggingface/datasets/gnad10/default/1.1.0/3a8445be65795ad88270af4d797034c3d99f70f8352ca658c586faf1cf960881...\n"
     ]
    },
    {
     "data": {
      "application/vnd.jupyter.widget-view+json": {
       "model_id": "8c69b2d0fe4940648beb4e01ee0eebf0",
       "version_major": 2,
       "version_minor": 0
      },
      "text/plain": [
       "HBox(children=(FloatProgress(value=0.0, description='Downloading', max=9674114.0, style=ProgressStyle(descript…"
      ]
     },
     "metadata": {
      "tags": []
     },
     "output_type": "display_data"
    },
    {
     "name": "stdout",
     "output_type": "stream",
     "text": [
      "\n"
     ]
    },
    {
     "data": {
      "application/vnd.jupyter.widget-view+json": {
       "model_id": "17fdd0dfc08e43ecb306a44420fc766d",
       "version_major": 2,
       "version_minor": 0
      },
      "text/plain": [
       "HBox(children=(FloatProgress(value=0.0, description='Downloading', max=1092281.0, style=ProgressStyle(descript…"
      ]
     },
     "metadata": {
      "tags": []
     },
     "output_type": "display_data"
    },
    {
     "name": "stdout",
     "output_type": "stream",
     "text": [
      "\n"
     ]
    },
    {
     "data": {
      "application/vnd.jupyter.widget-view+json": {
       "model_id": "f1e790d59e4f4588885d2c481065d1ce",
       "version_major": 2,
       "version_minor": 0
      },
      "text/plain": [
       "HBox(children=(FloatProgress(value=1.0, bar_style='info', max=1.0), HTML(value='')))"
      ]
     },
     "metadata": {
      "tags": []
     },
     "output_type": "display_data"
    },
    {
     "name": "stdout",
     "output_type": "stream",
     "text": [
      "\r"
     ]
    },
    {
     "data": {
      "application/vnd.jupyter.widget-view+json": {
       "model_id": "adfe06950ea64fd2bd1853c5b62d2e89",
       "version_major": 2,
       "version_minor": 0
      },
      "text/plain": [
       "HBox(children=(FloatProgress(value=1.0, bar_style='info', max=1.0), HTML(value='')))"
      ]
     },
     "metadata": {
      "tags": []
     },
     "output_type": "display_data"
    },
    {
     "name": "stdout",
     "output_type": "stream",
     "text": [
      "\r",
      "Dataset gnad10 downloaded and prepared to /root/.cache/huggingface/datasets/gnad10/default/1.1.0/3a8445be65795ad88270af4d797034c3d99f70f8352ca658c586faf1cf960881. Subsequent calls will reuse this data.\n"
     ]
    }
   ],
   "source": [
    "dataset = load_dataset('gnad10', split='train')"
   ]
  },
  {
   "cell_type": "code",
   "execution_count": 4,
   "metadata": {
    "colab": {
     "base_uri": "https://localhost:8080/"
    },
    "executionInfo": {
     "elapsed": 262,
     "status": "ok",
     "timestamp": 1625082351804,
     "user": {
      "displayName": "Word Embeddings",
      "photoUrl": "",
      "userId": "05224024210897602445"
     },
     "user_tz": -120
    },
    "id": "MxBMcOJ56sf0",
    "outputId": "b3adb2e0-ad25-44fb-b568-de20c6bf3178"
   },
   "outputs": [
    {
     "data": {
      "text/plain": [
       "Dataset({\n",
       "    features: ['label', 'text'],\n",
       "    num_rows: 9245\n",
       "})"
      ]
     },
     "execution_count": 4,
     "metadata": {
      "tags": []
     },
     "output_type": "execute_result"
    }
   ],
   "source": [
    "dataset"
   ]
  },
  {
   "cell_type": "code",
   "execution_count": 5,
   "metadata": {
    "colab": {
     "base_uri": "https://localhost:8080/"
    },
    "executionInfo": {
     "elapsed": 653,
     "status": "ok",
     "timestamp": 1625082355355,
     "user": {
      "displayName": "Word Embeddings",
      "photoUrl": "",
      "userId": "05224024210897602445"
     },
     "user_tz": -120
    },
    "id": "Vdn7L6OZ6wMM",
    "outputId": "d5787e24-27a6-4864-d063-51f46f713d6d"
   },
   "outputs": [
    {
     "name": "stderr",
     "output_type": "stream",
     "text": [
      "Using custom data configuration default\n",
      "Reusing dataset gnad10 (/root/.cache/huggingface/datasets/gnad10/default/1.1.0/3a8445be65795ad88270af4d797034c3d99f70f8352ca658c586faf1cf960881)\n"
     ]
    },
    {
     "data": {
      "text/plain": [
       "Dataset({\n",
       "    features: ['label', 'text'],\n",
       "    num_rows: 1028\n",
       "})"
      ]
     },
     "execution_count": 5,
     "metadata": {
      "tags": []
     },
     "output_type": "execute_result"
    }
   ],
   "source": [
    "# Schauen ob das funktioniert:\n",
    "dataset_test = load_dataset('gnad10', split='test')\n",
    "dataset_test"
   ]
  },
  {
   "cell_type": "code",
   "execution_count": 6,
   "metadata": {
    "colab": {
     "base_uri": "https://localhost:8080/",
     "height": 118,
     "referenced_widgets": [
      "42da7a3d203d43a88c4214a164d0b2ac",
      "3052c1e56a1c48c9853bcb55b30f3264",
      "529487c30e5e467b86e1f9c6a09a8f4d",
      "e7611d3ff4c844ff9e1171745164d7ba",
      "17cd88d19f2849cea3d098a5f474d076",
      "9cc0b10ee4744168b27a145ff559acf1",
      "8921fa05b8354883a9f8bf454b798fc0",
      "4495ab121c5a4011abf6fe94d8de5601",
      "bf1ecb33a6b04dec8919de3c70250a6b",
      "ac6f3035908545ccaa22aa9207731e27",
      "6b586d1f0e1d45e2806aa94d949d1b20",
      "e8961a33eeb14306bfa5e1bddc38ff15",
      "8a1cbf523b5c4238b9f6255cc52e1800",
      "84a0f91e18784c03b0dac9804cd89ac2",
      "0e133d88590648ecae344f2f8651bc07",
      "54ae0177660040e8b4850b4f76d5d1b2"
     ]
    },
    "executionInfo": {
     "elapsed": 1176,
     "status": "ok",
     "timestamp": 1625082358808,
     "user": {
      "displayName": "Word Embeddings",
      "photoUrl": "",
      "userId": "05224024210897602445"
     },
     "user_tz": -120
    },
    "id": "b26PLRq-64mm",
    "outputId": "cecfbb4d-bfdf-4aa9-92e4-d68f8145553b"
   },
   "outputs": [
    {
     "data": {
      "application/vnd.jupyter.widget-view+json": {
       "model_id": "42da7a3d203d43a88c4214a164d0b2ac",
       "version_major": 2,
       "version_minor": 0
      },
      "text/plain": [
       "HBox(children=(FloatProgress(value=0.0, max=9245.0), HTML(value='')))"
      ]
     },
     "metadata": {
      "tags": []
     },
     "output_type": "display_data"
    },
    {
     "name": "stdout",
     "output_type": "stream",
     "text": [
      "\n"
     ]
    },
    {
     "data": {
      "application/vnd.jupyter.widget-view+json": {
       "model_id": "bf1ecb33a6b04dec8919de3c70250a6b",
       "version_major": 2,
       "version_minor": 0
      },
      "text/plain": [
       "HBox(children=(FloatProgress(value=0.0, max=1028.0), HTML(value='')))"
      ]
     },
     "metadata": {
      "tags": []
     },
     "output_type": "display_data"
    },
    {
     "name": "stdout",
     "output_type": "stream",
     "text": [
      "\n"
     ]
    }
   ],
   "source": [
    "def binarize(example):\n",
    "     if example['label'] != 0:\n",
    "       example['label'] = 1\n",
    "       return example    \n",
    "     else:\n",
    "       example['label'] = 0\n",
    "     return example\n",
    "\n",
    "updated_dataset = dataset.map(binarize)\n",
    "updated_dataset_test = dataset_test.map(binarize)"
   ]
  },
  {
   "cell_type": "code",
   "execution_count": 7,
   "metadata": {
    "colab": {
     "base_uri": "https://localhost:8080/"
    },
    "executionInfo": {
     "elapsed": 330,
     "status": "ok",
     "timestamp": 1625082361895,
     "user": {
      "displayName": "Word Embeddings",
      "photoUrl": "",
      "userId": "05224024210897602445"
     },
     "user_tz": -120
    },
    "id": "nEflescO7B-0",
    "outputId": "4abe75e9-6359-42be-b384-44492247cc69"
   },
   "outputs": [
    {
     "data": {
      "text/plain": [
       "{'label': [1, 1, 0, 1, 1, 1, 1, 1, 1, 1, 1, 1, 0, 1, 1, 1, 1, 1, 1, 1],\n",
       " 'text': ['21-Jähriger fällt wohl bis Saisonende aus. Wien – Rapid muss wohl bis Saisonende auf Offensivspieler Thomas Murg verzichten. Der im Winter aus Ried gekommene 21-Jährige erlitt beim 0:4-Heimdebakel gegen Admira Wacker Mödling am Samstag einen Teilriss des Innenbandes im linken Knie, wie eine Magnetresonanz-Untersuchung am Donnerstag ergab. Murg erhielt eine Schiene, muss aber nicht operiert werden. Dennoch steht ihm eine mehrwöchige Pause bevor.',\n",
       "  'Erfundene Bilder zu Filmen, die als verloren gelten: \"The Forbidden Room\" von Guy Maddin und Evan Johnson ist ein surrealer Ritt durch die magischen Labyrinthe des frühen Kinos. Wien – Die Filmgeschichte ist ein Friedhof der Verlorenen. Unter den Begrabenen finden sich zahllose Filme, von denen nur noch mysteriös oder abenteuerlich klingende Namen kursieren; und solche, über die verstreut herumliegendes Sekundärmaterial Aufschluss erlaubt. Einer davon ist The Forbidden Room, ein Two-Reeler von 1913/14, den der arbeitswütige US-Regisseur Allan Dwan u. a. mit dem Horrordarsteller Lon Chaney gedreht hat. Ein passender Titel für einen Film, der als verschollen gilt. Verbote sind Einladungen zur Überschreitung. Einen ähnlichen Gedanken hatte wohl auch der kanadische Experimentalfilmemacher Guy Maddin, als er seinem Film von 2015 den gleichen Titel gab. Gemeinsam mit seinem Koregisseur Evan Johnson hat er vergessene, verschwundene Arbeiten der Film geschichte zum Ausgangspunkt einer Neuerfindung erkoren. Um historische Genauigkeit geht es ihnen dabei freilich nicht, erlaubt ist vielmehr alles, was die Fantasie so ausspuckt. Arg angespannte Szenen in einem U-Boot, dessen Besatzung tief im Ozean mit einer Art explosivem Gelee umhertaucht und Sauerstoff mit Pfannkuchen generiert. Oder die Erinnerungen eines Schnurrbarts, der sich auf die Oberlippe des Sohnes eines Toten heftet, um derart der Witwe Trost zu spenden. Letzteres die frei erfundene Handlung eines Mikio-Naruse-Films mit dem Titel The Strength of a Moustache. Immer neue Volten schlägt die Handlung, verläuft dabei kaum jemals linear, sondern gibt sich sprunghaft, surreal dem Unerwarteten hin, irgendwo zwischen Jules Verne, Jacques Tourneur, F. W. Murnau und dem von Maddin verehrten Modernisten Raymond Roussel. Der britische Guardian beschrieb das Ergebnis so: als würde man unter der Einwirkung von LSD durch ein Filmarchiv wandeln. Das Rausch- oder zumindest Traumähnliche teilt diese Arbeit Maddins mit seinen früheren, die kürzer dimensioniert waren. The Forbidden Room ist durch seine Dauer von mehr als zwei Stunden schon nahe an der Überdosis, soll heißen: Die Überforderung ist Programm. Maddin und Johnson geben sich mit keinen Häppchen zufrieden, sondern wollen ein immersives Seherlebnis ermöglichen, in einem mehr an Filmpionier Georges Méliès orientierten Sinne. Sie nehmen die fantastische Qualität des Kinos als seine eigentliche Realität wahr – eine wild Bilder pumpende, an unsere Psyche gekoppelte (und daher auch manchmal humorvoll kindliche) Maschine, wie sie schon in Maddins Kurzfilm The Heart of the World (2000) zur Geltung kam. Wer nach einem Zusammenhang sucht, findet ihn im Bekenntnis zur Abschweifung. Die Verbindung von einem Waldarbeiter (Roy Dupuis), der der Spur einer verschwundenen Frau folgt, zu einem (von Udo Kier verkörperten) Arzt mit einem Fetisch für Gesäße oder zu jenem seltsamen Reklamemenschen, der dem Zuschauer erklärt, wie man das perfekte Bad nimmt – sie liegt allenfalls in der Oberfläche, jener digital in der Postproduktion hergestellten Ästhetik des frühen Kinos, die The Forbidden Room wie ein Gespenst des analogen Zeitalters wachruft. Künstlich verwittert Die Farben der Laufbilder, die auf das eingeschränkte Zwei-Farben-Technicolor-Verfahren verweisen, sind künstlich heruntergestuft, als wäre das Filmmaterial der Verwitterung ausgesetzt gewesen; manche Doppelbelichtungen wirken so, als wären die Mate rialien ineinandergeschmolzen. Auch mit Zwischentiteln und dem weitgehenden Verzicht auf herkömmliche Dialoge schließen Maddin und Evan an den Stummfilm an, dessen stilistische Bandbreite sie in der Montage und szenischen Regie spielerisch betonen und ausagieren. Die Amnesie, heißt es in diesem visuell betörenden Film einmal, befällt jene Menschen, zu denen die Figuren aus der Ferne zurückkehren. Der Gedanke lässt sich auch auf die Bilder des Films anwenden: Er enthält die Fragmente eines Kinos, an das wir uns nicht mehr erinnern können, weil wir es für verloren hielten.',\n",
       "  'Der frischgekürte CEO Sundar Pichai setzt auf ein umgänglicheres Führungsteam. Die Atmosphäre im Silicon Valley ist rau. Da werden massenhaft Mitarbeiter der direkten Konkurrenz abgeworben, Löhne mit firmenübergreifenden Mauscheleien niedrig gehalten und Untergebene wegen leicht verfehlter Ziele vor die Tür gesetzt. Auch in der höchsten Firmenebene werden brutale Umgangsformen gepflegt: Die Wutausbrüche von Apple-Mitgründer Steve Jobs sind legendär, sein früherer Geschäftspartner Steve Wozniak hätte ihn zu Lebzeiten gerne als Arschloch beschimpft, traute sich aber nicht. Auch Google-Mitgründer Larry Page gilt als Choleriker, für den ein humaner Umgang mit Mitarbeitern nicht an erster Stelle steht. Doch die Zeiten des harten Management-Stils sind bei Google vorbei. Das belegen zahlreiche ehemalige Mitarbeiter und Geschäftspartner. Wie ein Ex-Manager gegenüber re:code pointiert verlautbart: Alle Arschlöcher sind jetzt weg. Verantwortlich dafür zeichnet sich Sundar Pichai, der nach Googles großer Umstrukturierung (Gründung des Dachunternehmens Alphabet) zum CEO des Suchmaschinisten wurde. In den wenigen Monaten als Google-Chef hat Pichai nun bereits einige Umstrukturierungen vorgenommen – und erhält dafür viel Lob aus der Branche. So wurde beispielsweise Hiroshi Lockheimer zum Android-Chef gemacht. Ehemalige Kollegen, etwa Motorola-Präsident Rick Osterloh, schwärmen von ihm als großartigen Typen, den man sehr gern hat. So soll Lockheimer dafür gesorgt haben, dass alle Smartphone-Hersteller, die auf Android setzen, gleichberechtigten Zugang zu Entwicklungen des Betriebssystems haben – auch, als Motorola noch zu Google gehörte. Ein anderes Beispiel ist Philipp Schindler, der Googles Werbegeschäft leiten soll. Medienpartner beschreiben ihn als kompromissbereit und umgänglich. Gelernt hat Schindler das in Europa, wo er Google jahrelang gegen Monopol-Vorwürfe aus Regierungskreisen verteidigen musste. Älterer Semester im Google-Umfeld befürchten laut re:code allerdings, dass ein softes Google wichtige Scharmützel verlieren wird. Doch die Zeit der ausgefahrenen Ellbogen ist vorerst vorbei.',\n",
       "  'Putin: \"Einigung, dass wir Menge auf Niveau von Jänner halten\". Moskau – Die russischen Ölproduzenten wollen nach den Worten von Präsident Wladimir Putin ihre Förderung in diesem Jahr einfrieren. Im Großen und Ganzen wurde eine Einigung erzielt, dass wir die Ölproduktion auf dem Niveau von Jänner halten werden, sagte Putin am Mittwoch in Moskau. Russland leidet wie andere Förderstaaten unter dem drastischen Einbruch der Ölpreise. Putin will die Preise durch eine begrenzte Förderung im In- und Ausland stabilisieren. Dazu hatte Russland jüngst mit Saudi-Arabien und anderen großen Förderländern über ein Einfrieren der Produktion auf dem Jänner-Niveau beraten.',\n",
       "  'Estland sieht den künftigen österreichischen Präsidenten auch als estnischen Staatsbürger. Wien/Tallinn/Pskow – Die Eltern des künftigen Bundespräsidenten waren 1941 aus dem von Sowjets besetzten Estland in das damalige Deutsche Reich geflohen, wo 1944 in Wien Sascha Van der Bellen zur Welt kam. Estnische Verwandte jubelten am Dienstag über dessen Wahlsieg, Freude herrscht auch unter Politikern des Landes. Interesse an Van der Bellen gibt es auch in der russischen Stadt Pskow, der Geburtsstadt seiner Eltern. Wir haben von ganzem Herzen und mit der ganzen Familie mitgefiebert, sagt Irina Steinberg, eine Cousine des künftigen Präsidenten. Der Sonntag sei für sie deshalb ein großer Stress gewesen, erzählt Steinberg im Telefonat mit der APA. Sein Sieg zeugt davon, dass die österreichische Intelligenzija, die denkenden Menschen, für Sascha gestimmt haben, so die studierte Philologin, die in einem Dorf im Süden Estlands lebt. Freudig wird der Wahlsieg des ehemaligen Grünen-Chefs auch von estnischen Politikern kommentiert. Die Wahl eines Präsidenten mit estnischen Wurzeln schafft günstige Bedingungen für eine engere Zusammenarbeit zwischen Estland und Österreich, erklärt der Vorsitzende des außenpolitischen Ausschusses im estnischen Parlament, Sven Mikser. Da Estland aber auch den Aufschwung europaskeptischer Kräfte mit Sorge beobachte, sei er froh, dass sich die Österreicher für Van der Bellen entscheiden haben, sagt der Vertreter der Sozialdemokratischen Partei Estlands gegenüber der APA. Das Wahlergebnis ist ein guter Grund, den Österreichern gleich doppelt zu gratulieren, betont der ehemalige Außenminister und nunmehrige liberale Europaparlamentsabgeordnete Urmas Paet. Van der Bellen sei für die jetzige Zeit eine sehr vernünftige Wahl, sie sei gut für Europa und Österreich, sagt Paet im Gespräch mit der APA. Für Estland und das estnische Volk spielt aber auch die Tatsache eine Rolle, dass Österreich einen estnischen Staatsbürger zum Präsidenten gewählt hat. Nach Auskunft des estnischen Außenministeriums gelten Kinder von Bewohnern des 1940 zerstörten unabhängigen Estland, die vor dem 16. Juni 1940 über die estnische Staatsbürgerschaft verfügten, automatisch als Staatsbürger des nunmehrigen Estland. Der APA vorliegende Dokumente des estnischen Staatsarchivs und des deutschen Bundesarchivs belegen, dass Alma und Alexander Van der Bellen senior, die Eltern des künftigen Präsidenten, damals im Besitz der estnischen Staatsbürgerschaft waren. Interesse am künftigen Präsidenten zeigt aber auch Pskow, das im Westen Russland an der heutigen estnischen Grenze liegt. Die ursprünglich aus Holland stammende Familie war hier im 19. Jahrhundert in den russischen Adelstand erhoben worden, insbesondere der ebenso gleichnamige Großvater von Alexander Van der Bellen hatte vor der Oktoberrevolution des Jahres 1917 eine tragende politische Funktion in der Region gespielt. Nach der bürgerlichen Februarrevolution von 1917 war dieser Vertreter eines russischen Liberalismus zum Kommissar der Übergangsregierung für das Gouvernement Pskow und somit zum lokalen Regierungschef ernannt worden. In einigen Lokalmedien finden sich Schlagzeilen, in denen vom Sieg des Nachfahren eines Aristokraten aus Pskow oder des Enkels des Pskower Gouverneurs die Rede ist, berichtet der Direktor des Archivs der Region Pskow, Waleri Kusmin. In diesem Archiv finden sich zahlreiche Akten zur Familie Van der Bellen, insbesondere zur politischen Tätigkeit der Vorfahren. Kusmin geht im Gespräch mit der APA davon aus, dass in der nächsten Zeit auch einige wissenschaftliche Publikationen über die Van der Bellens in Pskow erscheinen werden. Die Geschichte dieser Kleinaristokraten in Pskow ging nach der Machtübernahme der Bolschewiken zu Ende: 1919 floh die Familie, darunter die Großeltern und der Vater des künftigen Präsidenten, nach Estland. Als die Sowjets 1940 Estland eroberten, floh man erneut Richtung Westen. Van der Bellens Vater hatte zu diesem Zeitpunkt aufgrund seiner Herkunft und insbesondere als international tätiger Banker Repressionen des sowjetischen Geheimdiensts NKWD zu befürchten. Die Flucht ging zunächst nach Wien und Ende 1944, Anfang 1945 und somit rechtzeitig vor dem Eintreffen der Rote Armee in Ostösterreich weiter nach Tirol, wo Van der Bellen senior eine Existenz im Außenhandel aufbauen konnte und zudem ein künftiger Präsident heranwachsen sollte.',\n",
       "  'Der Welser Stempelhersteller verbreitert sich durch Zukäufe. Wels - Die Trodat Trotec Holding GmbH mit Sitz in Wels übernimmt zwei US-Unternehmen, im Laserbereich übernimmt Trotec den Experten für laminierte Kunststoffe ILC (Innovative Laminations Company) und den Stempelhersteller MMC (Millennium Marking Company). Damit werde die Stellung als Weltmarktführer bei Stempel weiter ausgebaut, hieß es in einer Pressemitteilung des Unternehmens am Dienstag. Die Gruppe erwartet für 2014 einen Umsatz von 169,2 Mio. Euro (2013: 154,4 Mio.), im laufenden Jahr möchte man 200 Mio. erreichen. Bis 2020 ist eine Umsatzsteigerung auf 300 Mio. Euro geplant, das soll durch organisches Wachstum, aber auch durch Übernahmen gelingen. MMC in Chicago setzte zuletzt mit 50 Mitarbeitern rund 10 Mio. US-Dollar (9,14 Mio. Euro) um, ILC mit Standort in North Carolina mit 40 Leuten etwa 13 Mio. US-Dollar (11,88 Mio. Euro). Durch die Übernahme wird die Marktstellung der gesamten Trodat Trotec Group weiter gefestigt und wesentlich ausgebaut, so Geschäftsführer Michael Peduzzi. Der gesamte Trodat-Stempelumsatz erhöhe sich damit auf deutlich über 100 Mio. Euro, bei Trotec werden es knapp 100 Mio. Euro, auch durch massives organisches Wachstum. 2013 hatte die Gruppe 1.173 Mitarbeiter, 2014 waren es 1.160, 40 Prozent davon in Österreich. Am Sitz der Holding in Wels befindet sich auch der wichtigste Produktionsstandort der Stempelerzeugung mit Forschung und Entwicklung, Produktions- und Vertriebsstandort von Trotec ist im nahe gelegenen Marchtrenk.',\n",
       "  'Traditionsklub setzt sich gegen den FC Utrecht durch. Amsterdam – Heracles Almelo hat sich in den Niederlanden erstmals für einen europäischen Bewerb qualifiziert. Dank eines 2:0-Auswärtssiegs (Hinspiel 1:1) beim FC Utrecht im entscheidenden Playoff-Duell am Sonntag nimmt Heracles an der Qualifikation für die Europa League teil. In der abgelaufenen Saison der Eredivisie hatte der 1903 gegründete Klub Platz sechs belegt, Utrecht war Fünfter geworden.',\n",
       "  'Finanzausschuss tagte Montag: Konfliktthemen Standort, Funkhaus, Frühstücksfernsehen \"sachlich diskutiert\". Wien – Nach der Wahl ist vor der Wahl: Während im Tal die Regierungsparteien um Einheit ringen, dividiert sich am Küniglberg derzeit eher alles auseinander. Montagnachmittag trifft der ORF-Stiftungsrat zu einer außerordentlichen Arbeitssitzung zusammen. Auf der Besprechungsliste standen nach Infos von derStandard.at Themen mit Konfliktpotenzial. Punkt eins: Fortschritt der Sanierungsarbeiten.  Wie berichtet, informierte Generaldirektor Alexander Wrabetz im Dezember das Aufsichtsgremium von Überschreitungen bei den Baukosten in Millionenhöhe. Montag erhielten die Stiftungsräte einen Statusbericht zum Medienstandort über Terminplan und Kosten und besichtigten überdies die Baustelle. Thomas Zach, Vorsitzender des Finanzausschuss und Leiter des ÖVP-Freundeskreises im Stiftungsrat, spricht auf Anfrage von einer sehr sachlichen Sitzung: Ziel sei weiterhin Budget und Zeitplan einzuhalten. Dafür wurden die entsprechenden Weichenstellungen gesetzt. Punkt zwei betraf das Frühstücksfernsehen Guten Morgen Österreich. Das Vorzeigeprojekt des ORF-Chefs wurde auf seine Kosten abgeklopft, offiziell belaufen sich diese auf sieben Millionen Euro. Inoffizielle Schätzungen gehen von zwölf Millionen Euro aus, je nach Berechnung. Punkt drei: Status Verkauf Funkhaus. Wer von den neun Bewerbern den Zuschlag erhält, soll laut Plan im Juni feststehen. Wrabetz selbst hat bereits Verzögerungen eingeräumt, Insider rechnen nicht mit einer Entscheidung vor der Wahl des Generaldirektors. Im Sommer wählt der ORF-Stiftungsrat eine neue Geschäftsführung. Die Bestellung des Generaldirektors erfolgt am 9. August, am 15. September jene der Fachbereichs- und Landesdirektoren. Dass die mögliche Verzögerung des Funkhaus-Verkaufs mit der Wahl der ORF-Führung zusammenhängt, bestreitet man im ORF.',\n",
       "  'Militär setzt Offensive an Grenze zu Afghanistan fort. Islamabad – Bei Angriffen der pakistanischen Luftwaffe sind nahe der Grenze zu Afghanistan am Donnerstag 43 mutmaßliche Extremisten getötet worden. Es seien Ziele in Gharlamai und Shawal in der Region Nordwaziristan angegriffen worden, teilte das Militär in Islamabad mit. Es handle sich um eine Fortsetzung der Offensive gegen Taliban und andere Extremisten. Das Krisengebiet liegt abgelegen und ist für Journalisten gesperrt. Die Opferangaben des Militärs konnten deshalb nicht überprüft werden. Die pakistanische Regierung kämpft seit mehr als zehn Jahren gegen einen Aufstand der radikalislamistischen Taliban. Im Juni vergangenen Jahres startete das Militär eine Offensive in Nordwaziristan. Die Offensive wurde in den vergangenen Wochen noch verstärkt. Insgesamt wurden dabei nach offiziellen Angaben mehr als 3.000 Extremisten getötet.',\n",
       "  'Abschiedstournee für Guardiola beginnt beim HSV – Lewandowski trotz Acht-Punkte-Polsters: \"Müssen immer wach sein\". Hamburg – Tabellenführer Bayern München eröffnet am Freitagabend (20.30) das Frühjahr in der deutschen Fußball-Bundesliga. Der Titelverteidiger gastiert beim Hamburger SV. ÖFB-Star David Alaba wird bei den Bayern sein erstes Pflichtspiel nach seiner Ende November im Sprunggelenk erlittenen Kapselverletzung absolvieren. U21-Teamstürmer Michael Gregoritsch könnte beim HSV eine weitere Chance erhalten. Die Bayern starten mit acht Punkten Vorsprung auf den ersten Verfolger Borussia Dortmund in die Rückrunde. In Sicherheit wiegen will man sich in München deswegen aber nicht. Wenn du einmal verlierst, sind es nur noch fünf Punkte, dann kannst du vielleicht noch zwei Fehler machen, erklärte Stürmerstar Robert Lewandowski. Deshalb müssen wir ab dem ersten Spiel bis zum Ende der Saison gut spielen und immer wach sein. Das Frühjahr wird zu einer Abschiedstournee für den mit Saisonende scheidenden Bayern-Trainer Pep Guardiola. Der Spanier möchte sich wie vor drei Jahren Jupp Heynckes mit Trophäen verabschieden – allen voran der Champions League, die er bisher nur mit dem FC Barcelona gewonnen hat (2009 und 2011). Wir wollen alle zusammen in eine Richtung gehen und dann hoffentlich auch gemeinsam Titel feiern, sagte Lewandowski. Der Pole hält bei 15 Ligatoren. Mehr, nämlich 18, hat in dieser Saison bisher nur Dortmunds Pierre-Emerick Aubameyang erzielt. Jüngsten Gerüchten über einen möglichen neuen Klassestürmer, den die Bayern verpflichten wollen, kann Lewandowski daher wenig abgewinnen. Vorstandschef Karl-Heinz Rummenigge hatte zuletzt Napolis Gonzalo Higuain gelobt. Lewandowski: Wozu sollte jemand herkommen, wenn ich hier bin? Der Fokus der Bayern gilt dem Frühjahrsauftakt, für den Guardiola angeblich auch neue taktische Konzepte hat einstudieren lassen. Alaba dürfte nach seiner überstandenen Sprunggelenksverletzung als linker Verteidiger beginnen. Der 23-Jährige hatte vergangenes Wochenende beim einzigen Testspiel – einer überraschenden 1:2-Niederlage gegen den Zweitligisten Karlsruher SC – bereits sein Comeback gegeben. Landsmann Gregoritsch könnte beim HSV vorerst mit der Jokerrolle vorliebnehmen müssen. Der 21-Jährige hält bisher bei drei Ligatoren. Seit 2009 haben die Hamburger nicht mehr gegen die Bayern gewonnen, im Vorjahr setzte es in München ein 0:8 und ein 0:5. Es ist eine echte Herausforderung mit unseren Mitteln, betonte HSV-Trainer Bruno Labbadia. Wir brauchen einen Sahnetag. Programm der deutschen Bundesliga am Wochenende (18. Runde): Freitag (20.30 Uhr): Hamburger SV – Bayern München Samstag (15.30 Uhr): 1. FC Köln – VfB StuttgartHannover 96 – SV DarmstadtHertha BSC – FC Augsburg1899 Hoffenheim – Bayer LeverkusenFC Ingolstadt – FSV Mainz Samstag (18.30 Uhr): Borussia Mönchengladbach – Borussia Dortmund Sonntag (15.30 Uhr): Eintracht Frankfurt – VfL WolfsburgSonntag (17.30 Uhr): Schalke 04 – Werder Bremen',\n",
       "  'SSC nach 5:1-Erfolg bei Robert Guchers Frosinone neuer Tabellenführer – Mailänder unterliegen Sassuolo – Juventus bereits auf Platz zwei. Rom – Der SSC Napoli steht zur Halbzeit der Serie A auf Platz eins. Die Süditaliener feierten am Sonntag gegen Frosinone einen souveränen 5:1-Auswärtssieg und schoben sich damit um zwei Punkte vor den bisherigen Spitzenreiter Inter Mailand (39 Punkte), der gegen Sassuolo eine überraschende 0:1-Heimniederlage kassierte. Den entscheidenden Treffer für den Außenseiter erzielte in San Siro Domenico Berardi in der 95. Minute aus einem Elfmeter. Für Napoli (41 Punkte) trafen Raul Albiol (20.), der Liga-Toptorschütze Gonzalo Higuain (30./Elfmeter, 60.), Marek Hamsik (59.) und Manolo Gabbiadini (72.). Paolo Sammarco gelang in der 82. Minute der Ehrentreffer für den Aufsteiger, bei dem Robert Gucher durchspielte. Der Ex-Rieder Oliver Kragl wurde in der 62. Minute ausgewechselt. Am späten Abend setzte sich Titelverteidiger Juventus mit einem 2:1 bei Sampdoria Genua auf Platz zwei (punktegleich mit Inter). Turins Kreativzentrum Paul Pogba (17.) und Sami Khedira (46.) warten für die Tore der Gäste verantwortlich. Juventus (neunter Sieg in Serie!) agierte alles in allem souverän, kam nur Mitte der zweiten Halbzeit etwas unter Druck. Da gelang Routinier Antonio Cassano auch der Anschlusstreffer für die zumeist allerdings harmlose Sampdoria. Niklas Moisander (Genua) wurde in der Schlussminute ausgeschlossen. Bereits am Samstag trennten sich die AS Roma und der AC Mailand 1:1-Unentschieden. Der deutsche Verteidiger Antonio Rüdiger hatte die Römer bereits früh in Führung gebracht (4.), Milan glich nach der Pause durch Juraj Kucka aus (50.). Die Roma, die aus Fünfte auf dem letzten Europacup-Platz liegt, hielt damit immerhin den Fünf-Punkte-Vorsprung auf Milan. Stadtrivale Lazio überraschte dagegen mit einem 3:1 (1:0) bei der Fiorentina.',\n",
       "  'Deal bereits im Dezember bekannt gegeben – Signa Holding und Salzburger Unternehmer Friesacher verkaufen 66 Diskont-Tankstellen an Hofer-Parkplätzen an OMV. Wien/Salzburg – Der österreichische Mineralölkonzern OMV will in Zeiten des Ölpreisverfalls seine Marktposition am heimischen Tankstellenmarkt stärken. Die OMV hat am Donnerstag den bereits Anfang Dezember bekannt gegebenen Kauf von 66 Hofer-Tankstellen der FE-Trading bei der Bundeswettbewerbsbehörde (BWB) angemeldet. Über 340 OMV-Tankstellen für Privatkunden gibt es in Österreich vor der geplanten Übernahme. An der FE-Trading hält seit 2010 die Signa Holding des Tiroler Immobilieninvestors Rene Benko 50 Prozent, 26 Prozent gehören dem Salzburger FE-Trading-Gründer und Ex-Rennfahrer Markus Friesacher mit seiner AP Trading, fünf Prozent Stephan Pröll, Sohn des niederösterreichischen Landeshauptmanns Erwin Pröll (ÖVP), und 12,5 Prozent dem Wiener Wirtschaftstreuhänder Ernst Burger. Laut FirmenCompass gehören Elisabeth Eder weitere 5 Prozent und 1,5 Prozent entfallen auf Andreas Glatz. Die FE-Eigentümer verkaufen ihre 66 Diskonttankstellen, die an Parkplätzen der Supermarktkette Hofer in Österreich angesiedelt sind, zu einem bisher nicht genannten Preis an die OMV. Verkauft werden auch noch sechs Tankstellen in Slowenien. Der Deal ist eine Sensation. Ich hatte auch gute Angebote aus dem Ausland. Die beste Lösung für mich und Hofer war das Angebot der OMV, erklärte Friesacher im Dezember. Auch der Firmensitz bleibt in Anif bei Salzburg, die Mitarbeiter bleiben alle gleich, und der Marktauftritt nach außen ändert sich nicht, hieß es damals. Im Jahr 2009 hatte Friesacher mit seiner FE-Trading die erste Hofer-Diskont-Tankstelle in Salzburg eröffnet und seither österreichweit in zahlreiche weitere Standorte zur Errichtung der Automaten-Tankstellen investiert. Medien bezeichneten ihn als Billigbenzin-Pionier. Der Umsatz der FE-Trading betrug laut FirmenCompass im Jahr 2014 mit 19 Beschäftigten rund 202 Mio. Euro. Aktuellere Zahlen liegen nicht vor.',\n",
       "  'Neuer Trailer und Screenshots geben Einblick in Spielszenen. Square Enix hat im Rahmen einer PlayStation-Pressekonferenz am vergangenen Samstag erste spielerische Einblicke in das Remake des Kultrollenspiels Final Fantasy 7 gegeben. Die Neuinterpretation verführt augenschmeichelnd zurück in die Welt Midgar. Sämtliche Assets des fast 20 Jahre alten Games wurden für die aktuelle Konsolengeneration neu geschaffen. Das Spiel ist noch in einem sehr frühen Stand der Entwicklung, aber wir wollen schon mal einen Blick darauf erlauben, wie das Abenteuer aussieht, schreibt Entwickler Dan Seto in einem Blogeintrag. Als Fans des Original FFVII werdet ihr bestimmt gleich eine ganze Reihe bekannten Szenen erkennen. Ihr seht den berühmten Zug aus den Slums von Sektor 7, den Mako Reaktor aus Sektor 1 und einige Strassen Midgars. Seto zufolge spiele sich die Neuauflage schneller und actionlastiger als das Original. Dabei dürfte sich das Team an moderneren Werken wie Final Fantasy 15 orientiert haben. Neben Kämpfen wird die Erkundung der Spielwelt eine große Rolle einnehmen. Bislang wurde Final Fantasy 7 Remake nur für PS4 angekündigt, einen voraussichtlichen Erscheinungstermin nannten die Hersteller aber nicht. Als Vorgeschmack ist die Originalversion von Final Fantasy 7 ab sofort auf der PS4 per Download verfügbar.',\n",
       "  'Der ÖFB-Kapitän plant für die Zeit nach dem Fußball: \"Ich weiß, dass ich ein Field Goal über 60 Yards erzielen kann\". Leicester – Teamkapitän Christian Fuchs denkt offenbar an eine Karriere in der National Football League. Wie der Niederösterreicher dem Sender Sky Sports verriet, kann er sich ein Engagement als Kicker in der NFL vorstellen. Ich habe das Ziel, ein NFL-Kicker zu werden. Ich weiß, dass ich ein Field Goal über 60 Yards erzielen kann, sagte Fuchs. Wenn man keine Träume hat, kann man nichts erreichen. Auf den Spuren von Fritsch und Linhart Vor Fuchs sorgten bereits zwei österreichische Fußball-Teamspieler als Field-Goal-Spezialisten in der NFL für Schlagzeilen. Toni Fritsch gewann mit den Dallas Cowboys 1972 die Super Bowl, Toni Linhart war ebenfalls in den 70er-Jahren bei den New Orleans Saints, den Baltimore Colts und den New York Jets und wurde in dieser Zeit zweimal in die Pro Bowl gewählt. Fuchs Vertrag beim englischen Tabellenführer Leicester läuft noch bis 2018. Danach möchte der bald 30-Jährige zu seiner Familie nach New York übersiedeln.',\n",
       "  'Weil die Politik nicht mit neuen Gefahren umgehen kann, sieht Rosa Brooks die Welt in einer Lage wie in den 1930er-Jahren. STANDARD: Es gibt kaum noch traditionelle Schlachtfelder – und Sie kritisieren das. Was soll daran eigentlich schlecht sein? Rosa Brooks: Das ist nicht grundsätzlich schlecht. Aber es ist ein Problem, wenn alle Regeln, die wir haben, um Konflikte zu regulieren, darauf beruhen, dass wir unterscheiden können, wann und wo Krieg oder kein Krieg ist. Es ist ein Problem, wenn Gesetze und Politik nicht mehr mit der Art im Einklang sind, wie Kriege geführt werden. Denn dann können Regierungen das ausnützen oder Fehler machen. Das erlaubt, dass schlimme Dinge passieren. STANDARD: Wie unterscheiden sich die neuen Methoden etwa von Unabhängigkeitsbewegungen? Brooks: Das ist eine komplizierte Frage. Wenn man in ein paar Hundert Jahren zurückschaut, könnte das, was wir heute sehen, die historische Anomalie sein; dass die Menschen den Versuch, Konflikte Regeln folgen zu lassen, komisch finden. Für den Großteil der Geschichte war die Trennlinie zwischen Staaten, Banditen, Warlords, Armeen und Firmen ziemlich unklar. Die Welt bewegt sich zurück zur Unordnung. STANDARD: Über neue Kriege wird schon lang geschrieben. Wie erklären Sie, dass sie sich gerade jetzt so ausbreiten? Brooks: Teil davon ist die US-Dominanz in traditioneller Kriegsführung. Saddam Hussein hat 1991 versucht, konventionelles Militär gegen die USA einzusetzen, und dieses wurde im Grunde ausradiert. Alle anderen haben daraus die Lehren gezogen. STANDARD: Welche sind das? Brooks: Man muss klug sein und Schwächen suchen. Vor allem, weil wir in einer Welt leben, in der alle Staaten zumindest so tun, als wären sie Regeln verpflichtet. Das heißt, wenn man gegen sie verstoßen will, kann man das nicht offen tun. Und dann nutzt man Cyberangriffe, kleine grüne Männchen, politische Propaganda. STANDARD: Ist das nicht eine Chance, größere Kriege zu vermeiden? Brooks: Zum Teil ja. Zweideutigkeiten können Konflikte minimieren. Nach den chinesischen Cyberattacken auf US-Systeme waren die USA bemüht, sie nicht als Cyberangriffe zu bezeichnen. Wer will schon Krieg gegen China? Zweideutige Angriffe sind zwar nicht großartig – aber manchmal besser als die Alternative. STANDARD: Glauben Sie, dass Drohnenattacken vor 150 Jahren weniger Aufregung erzeugt hätten? Brooks: Ja. Wenn vor 150 Jahren jemand gesagt hätte: Die Russen töten Leute in anderen Staaten, wäre die Reaktion gewesen: Klar, was sollten sie sonst machen? Das war vor der Uno-Charta. Menschenrechte, Rechtsstaatlichkeit, die Möglichkeit, Staaten zur Rechenschaft zu ziehen, sind neu. STANDARD: Nun sieht etwa Russland, dass es Erfolg versprechen kann, Konventionen zu ignorieren. Wie kann man das vermeiden? Brooks: Ich weiß es nicht. Ich glaube, wir sind in einer ähnlichen Situation wie in den 1930er-Jahren. Die Frage ist: Wie können wir Institutionen für Kriegszeiten erdenken, die Akteure davon abhalten, ihre Macht zu missbrauchen? STANDARD: Haben Sie Beispiele? Brooks: Zu Drohnenattacken geben uns rechtliche Rahmenbedingungen keine klaren Antworten. Die US-Regierung sagt: Wir sind in einem bewaffneten Konflikt mit Al-Kaida. Ihre Verbündeten sind also feindliche Kämpfer im bewaffneten Konflikt. Ergo: Die US-Drohnenattacken sind legal. Wenn die USA aber falschliegen, wenn es kein bewaffneter Konflikt ist oder die Leute keine Kämpfer – dann sind die USA Mörder. Manchmal werden Ziele Wochen, Monate, gar Jahre im Voraus definiert. Da könnte es durchaus gerichtliche Prüfungen geben. STANDARD: Hat das Verhalten mächtiger Staaten wirklich Auswirkungen auf andere? Brooks: Ich glaube nicht, dass nur ein paar Staaten mit gutem Beispiel voranschreiten müssen, damit der IS die Waffen fallen lässt. Wenn sich aber mächtige Akteure auch unethisch oder illegal verhalten, inspiriert das andere dazu, den Regeln nicht zu folgen. STANDARD: Sind neue, globale Organe und Gesetze nötig? Brooks: Die Untergrabung der Souveränität ist gefährlich. Staaten bekommen ohnehin immer mehr Konkurrenz von nichtstaatlichen Akteuren. Aber langfristig braucht man ein mächtiges globales Regierungssystem mit einem Militär. Dieses müsste auf einer gerechten Vertretung staatlicher und nichtstaatlicher Akteure aufbauen. STANDARD: Ist Ihr Eindruck, dass jene, die da etwas tun könnten ... Brooks: Absolut nicht, das wird nicht passieren! (Manuel Escher, Anna Sawerthal, 18.3.2016)',\n",
       "  'Polizei ermittelt wegen Vandalismus. Moskau – Bei der Explosion eines selbstgebastelten Sprengsatzes an einer Moskauer Bushaltestelle sind fünf Menschen verletzt worden. Drei von ihnen seien noch im Spital, ihr Zustand sei jedoch gut, teilten die Behörden am Dienstag mit. Die Polizei ermittelte nach Angaben ihres Sprechers Maxim Koloswetow wegen Vandalismus, sie ging nicht von einem politisch motivierten Anschlag aus. Nach ersten Erkenntnissen der Polizei hatten Unbekannte am Montagabend den Sprengsatz entweder aus einem fahrenden Auto oder einem Wohnhaus auf die Haltestelle in einem Ausgehviertel der russischen Hauptstadt geschleudert. Er ähnelt demnach einem großen Knallkörper, wie er unter anderem für militärische Übungen eingesetzt wird, und zielt eher darauf ab, mit lauten Krachen zu detonieren als zu verletzen. Dennoch wurden insgesamt fünf Menschen verletzt. Ich stand an der Haltestelle, als wir plötzlich eine laute Explosion hörten. Es war furchterregend, erzählte die 28-jährige Ksenja dem Nachrichtensender LifeNews. Ich glaubte erst, dass Leute schießen würden, und bin schnell weggerannt. Ein Vertreter der Polizei sagte am Dienstag der russischen Nachrichtenagentur Interfax, Überwachungskameras hätten den Werfer des Sprengsatzes aufgenommen. Weitere Details zu dem Vorfall nannte er aber nicht. An der Bushaltestelle lag nach der Explosion zersplittertes Glas, außerdem waren mehrere Polizeiautos sowie die Feuerwehr und Krankenwagen im Einsatz. Seit der Anschlagsserie vom 13. November in Paris, bei der 130 Menschen getötet wurden, haben die russischen Behörden die Sicherheitsmaßnahmen in Moskau weiter verschärft.',\n",
       "  'Österreich bleibt in der EM-Qualifikation für 2016 ungeschlagen, ja, feiert in und gegen Russland den sechsten Auswärtssieg en suite. Marc Janko macht mit einem Traum von einem Tor die Reise nach Frankreich beinahe zur Gewissheit. Moskau - Sie wollten unmittelbar vor dem Urlaub die allerletzten Kräfte mobilisieren, im abschließenden Saisonspiel einen Kampf bis zum Umfallen abliefern, den Russen zeigen, wer Tabellenführer der Gruppe G ist. Und die österreichische Fußballnationalmannschaft mobilisierte, zeigte. Umgefallen ist sie nicht. Teamchef Marcel Koller konnte, vom verletzten David Alaba abgesehen (wurde durch Stefan Ilsanker ersetzt), aus dem Vollen schöpfen. Martin Harnik ist fit geworden, also lief die Einsergarnitur ein. Der Boss hatte den Auftrag erteilt, hinten kompakt zu stehen, aber in erster Linie Fußball zu spielen. Und sie spielten von Anpfiff an. Russland kam gar nicht zum Schauen, fand keine Zeit, eine Ordnung zu finden. Die Gäste pressten, drückten, kombinierten. Sie waren geistig voll auf der Höhe und konzentriert, kombinierten sich durch die nicht ausverkaufte Otkrytije Arena. Die  linke Seite mit Kapitän Christian Fuchs und Marko Arnautovic wirbelte in der Moskauer Schwüle, schon bald  war klar, dass Zlatko Junuzovic der absolute Wahnsinn ist. Er schaltete seinen Motor ein, das gesamte Feld wurde sein Arbeitsplatz, der Bremen-Legionär war Passgeber, Antreiber, Schaltzentrale, Herz, Lunge, Hirn. Jankos Bewerbung In der vierten Minute wurde Russlands Torhüter Igor Akinfejew noch von einem eigenen Verteidiger geprüft, danach sorgten die Österreicher selbst für Gefahr. 7. Minute: Arnautovic misslingt der allerletzte Pass ganz knapp. Zehnte Minute: Outeinwurf von Fuchs in die Tiefe, Junuzovic, wer sonst, scheitert. Russland wirkte gehemmt, überrascht, perplex. Trainer Fabio Capello stand wie versteinert an der Seitenlinie. Nur eine gute Aktion hat er von den Seinen schon gesehen, Robert Almer parierte einen Schuss von Oleg Schatow (28.). Aus Capellos Sicht war das Gegentor allerdings nur eine Frage der Zeit, in der 33. Minute ist es gefallen. Junuzovic, von Harnik bedient, scheitert binnen Sekunden zweimal an Akinfejew, die Verteidigung bringt den Ball nicht aus dem Gefahrenbereich. Gefahr wird im österreichischen Spitzenfußball bekanntlich durch Marc Janko personifiziert. Der 31-Jährige hebt ab, legt sich quer, mit dem Rücken zum Tor. Es war der Beginn eines großartigen Fallrückziehers, der im 1:0 endete. Adjektive wie fulminant, famos, traumhaft für sein 21. Länderspieltor (46 Einsätze) sind schamlose Untertreibungen. Jubel. Das war eines der schöneren und wichtigeren Tore meine Karriere, ich hoffe, es war nicht das letzte, sollte Janko danach sagen. Der Mann sucht übrigens einen Verein. Russland im Schock, mit dieser Sanktion war nicht zu rechnen. 35. Minute: Junuzovic spielt Julian Baumgartlinger frei, der läuft ohne Verfolger gen Tor, schießt daneben. Das 2:0 wäre die Entscheidung gewesen. Es muss schon sehr blöd hergehen Nach der Pause änderte sich das Bild doch ein bisserl drastisch. Die Russen wollten nicht als Versager dastehen, legten zu. Almer war urplötzlich nicht mehr unterbeschäftigt, die Innenverteidiger Aleksandar Dragovic und Martin Hinteregger wurden mit einer Art Walze konfrontiert. Die Österreicher hatten Teilchen ihrer Aggressivität verloren. Der erschöpfte Harnik wurde durch Marcel Sabitzer ersetzt (65.), Torschütze Janko machte Platz für Rubin Okotie (75.). Der knappe Vorsprung wurde dank einer fast schon kitschigen Aufopferung  über die Runden gebracht. Da haben die Jungs alles rausgehaut, sagte Coach Marcel Koller. Die Teilnahme an der EM-Endrunde 2016 in Frankreich ist kaum noch zu verhindern. ÖFB-Präsident Leo Windtner sprach:_Wir haben den TGV Richtung Frankreich in Bewegung gesetzt. Russland, zuvor 21 Heimspiele en suite unbesiegt, wird eher zuschauen müssen. Nochmals Janko: Jetzt muss es schon sehr blöd hergehen, dass wir das aus der Hand geben. Österreichs Lustreise zum Wiedersehen mit Frankreich nach der WM-Teilnahme 1998 wird am 5. September in Wien gegen die Republik Moldau fortgesetzt, drei Tage später werden in Stockholm die Schweden beehrt. Aber jetzt ist Urlaub. Wohlverdient. (Christian Hackl aus Moskau, 14.6.2015) Fußball-EM-Qualifikation, Gruppe G/6. Runde: Russland - Österreich 0:1 (0:1). Moskau, Otkrytije Arena, 35.000, SR Milorad Mazic (SRB) Tor: 0:1 (33.) Janko Russland: Akinfejew - Smolnikow, Nowoselzew, Beresuzki (12. Tschernow), Kombarow (72. Kerschakow) - Gluschakow, Iwanow (46. Mirantschuk) - Schatow, Schirokow, Schirkow - Kokorin Österreich: Almer - Klein, Dragovic, Hinteregger, Fuchs - Baumgartlinger, Ilsanker - Harnik (65. Sabitzer), Junuzovic (87. Prödl), Arnautovic - Janko (76. Okotie) Gelbe Karten: Kokorin bzw. Klein',\n",
       "  'Der Bisherige Finanzchef von VW und Porsche, der Österreicher Hans Dieter Pötsch, soll Ferdinand Piech nachfolgen. Hamburg/Berlin/Wolfsburg – VW-Finanzvorstand Hans Dieter Pötsch, ein Österreicher, soll Nachfolger des zurückgetretenen Aufsichtsratschefs Ferdinand Piech werden. Der innere Führungszirkel aus dem Land Niedersachsen, den Arbeitnehmern und der Eigentümer-Familie Porsche wollen den 64-Jährigen Pötsch als Kandidaten für diesen Posten vorschlagen, die Porsche SE in Stuttgart bestätigte dies am Mittwoch in einer Aussendung. Piech war vor vier Monaten im Machtkampf mit Konzernchef Martin Winterkorn zurückgetreten. Am Vortag hatte das Aufsichtsratspräsidium eine vorzeitige Verlängerung von Winterkorns Vertrag als Vorstandschef bis Ende 2018 vorgeschlagen. Der VW-Aufsichtsrat soll am 25. September über Winterkorns Vertragsverlängerung beraten. Volkswagen war zunächst nicht für eine Stellungnahme zu erreichen. Der studierte Wirtschaftsingenieur (TH Darmstadt) Pötsch wurde am 28. März 1951 in Traun geboren und begann seine Berufslaufbahn bei BMW, wo er von 1979 bis 1987 tätig war. Ab Anfang 2003 gehörte er dem VW-Vorstand an, ab Herbst 2003 als Finanzvorstand. Unter seiner Ägide erfolgte die Übernahme von Scania und MAN, zudem war er für Erarbeitung der Grundlagenvereinbarung mit Porsche und für die komplizierte und anspruchsvolle Integration des Sportwagenbauers in den Konzern verantwortlich, heißt es bei Wikipedia. Seit November 2009 ist Pötsch zusätzlich auch Finanzvorstand der Porsche Automobil Holding SE.',\n",
       "  'Von der wachsenden Arbeitslosigkeit waren im Februar nur noch Ausländer betroffen. Zwei Drittel des Anstiegs entfallen mittlerweile auf Flüchtlinge. Wien – Der Flüchtlingsstrom vom Vorjahr schlägt sich immer mehr in der heimischen Arbeitslosenstatistik nieder. Auf den ersten Blick ist die Zahl der arbeitslosen Ausländer im Februar wieder stark gestiegen. Ein Trend, der schon seit längerem anhält. Eine genauere Analyse der Daten zeigt aber, dass ein Großteil des Anstiegs im Februar auf Flüchtlinge zurückzuführen ist, die mit einem positiven Asylbescheid nach und nach in der offiziellen Statistik des AMS landen. So ist die Zahl der arbeitslosen Ausländer im Februar um 9,5 Prozent gestiegen. Zwei Drittel dieses Anstiegs sind aber auf Flüchtlinge zurückzuführen. Genauer: Knapp 8.000 Flüchtlinge sind zusätzlich als arbeitslos gemeldet. In Summe sind jetzt gut 22.000 Asylberechtigte und subsidiär Schutzberechtigte beim AMS gemeldet. Daraus lässt sich aber keine Verschlechterung ihrer Lage ablesen. Der Großteil der Flüchtlinge muss anfangs Deutsch lernen, andere Kurse besuchen oder Qualifikationen anerkennen lassen. In der offiziellen Statistik des AMS aufzuscheinen ändert daran nichts. Schon seit Dezember ist mehr als die Hälfte des Anstiegs der Arbeitslosenzahlen unter Ausländern auf in die Statistik fallende Flüchtlinge zurückzuführen. Die zuletzt etwas besser laufende Konjunktur und der für die Bauwirtschaft sehr positive milde Februar haben die Arbeitslosigkeit unter Menschen mit österreichischem Pass im Februar seit langem wieder zurückgehen lassen. Die Zahl der Arbeitslosen ist um 0,6 Prozent gefallen. Auch bereits länger in Österreich lebende Ausländer profitieren von der besseren Wirtschaftslage: Lässt man die Flüchtlinge außen vor, ist die Arbeitslosigkeit unter Ausländern um 3,2 Prozent gegenüber dem Vorjahr gestiegen. Generell steigt die Arbeitslosigkeit unter Ausländern aber seit Jahren deutlich stärker an als unter Inländern. Während die Arbeitslosenquote (ohne Schulungen) bei Inländern seit 2010 von 6,5 auf 8,1 Prozent gestiegen ist, war der Anstieg von 9,6 auf 13,5 Prozent bei den Ausländern ungleich dramatischer. AMS-Vorstand Johannes Kopf erklärt das damit, dass qualifizierte neue Zuwanderer schon länger hier lebende schlechter ausgebildete Ausländer verdrängen. Kopf warnt gleichzeitig davor, die recht guten Februar-Zahlen überzubewerten: Der zweitwärmste Februar in der 250-jährigen Messgeschichte spiegle sich deutlich wider. Der weniger deutliche Anstieg bei den gemeldeten Arbeitslosen sei insbesondere auf einen gegenüber dem Vorjahr starken Rückgang der Bauarbeitslosigkeit um mehr als 7000 Personen sowie eine konjunkturelle Verbesserung in der Industrie zurückzuführen. Der kräftige Rückgang der Arbeitslosenzahlen in der Baubranche um zehn Prozent hat die Zahl der jobsuchenden Männer um 0,4 Prozent sinken lassen. Per Ende Februar gab es hingegen ein kräftiges Plus bei Frauen (plus 6,3 Prozent). Der Anstieg im Gesundheitswesen liegt bei 9,4 Prozent. Die Zahl der Arbeitslosen über 50 ist um 5,9 Prozent gestiegen. Interessant ist auch die ungleiche Entwicklung je nach Region: In allen Bundesländern außer Wien (plus acht Prozent), Niederösterreich (plus 0,4 Prozent) und der Steiermark (stagnierend) ist die Zahl der Arbeitslosen im vergangenen Monat gesunken. Die Zahl der Jobs ist in Österreich im Februar weiter gestiegen. Die Zahl der unselbstständig Beschäftigten erhöhte sich im Februar laut einer vorläufigen Prognose um 46.000 Personen (plus 1,4 Prozent). Die Zahl der beim AMS gemeldeten offenen Stellen ist – wie im Vormonat – stark um mehr als 40 Prozent auf 35.851 gestiegen. Im Euroraum ist die Arbeitslosenquote im Jänner indessen auf 10,3 Prozent zurückgegangen, der niedrigste Wert seit 2011. Österreich kommt so auf 5,9 Prozent.',\n",
       "  'Einigung mit Banken, aber nicht mit Koalitionspartner SPÖ. Wien – Finanzminister Hans Jörg Schelling (ÖVP) geht davon aus, dass bis Mitte des Jahres eine neue Lösung zur Bankensteuer vorliegt. Den Entwurf gebe es bereits, er sei bei der Regierung in Bearbeitung. Mit den Banken sei das Papier schon abgestimmt, erklärte er am Dienstag vor dem Ministerrat gegenüber Journalisten. Es habe aber noch Änderungen in einzelnen Details gegeben. Auch von Rückmeldungen vom Koalitionspartner SPÖ berichtete der Minister – mit denen könne er jedoch nicht leben. Ich gehe davon aus, dass wir Mitte des Jahres eine Lösung brauchen, so Schelling.']}"
      ]
     },
     "execution_count": 7,
     "metadata": {
      "tags": []
     },
     "output_type": "execute_result"
    }
   ],
   "source": [
    "updated_dataset[:20]"
   ]
  },
  {
   "cell_type": "code",
   "execution_count": 8,
   "metadata": {
    "colab": {
     "base_uri": "https://localhost:8080/"
    },
    "executionInfo": {
     "elapsed": 281,
     "status": "ok",
     "timestamp": 1625082364356,
     "user": {
      "displayName": "Word Embeddings",
      "photoUrl": "",
      "userId": "05224024210897602445"
     },
     "user_tz": -120
    },
    "id": "fL-HSxVm7MqP",
    "outputId": "b13cea06-895d-4011-89c6-22b94fcf60e1"
   },
   "outputs": [
    {
     "data": {
      "text/plain": [
       "{'label': [1, 1, 0, 1, 1, 0, 1, 1, 1, 0],\n",
       " 'text': ['Die Gewerkschaft GPA-djp lanciert den \"All-in-Rechner\" und findet, dass die Vertragsform auf die Führungsebene beschränkt gehört. Wien – Die Gewerkschaft GPA-djp sieht Handlungsbedarf bei sogenannten All-in-Verträgen. Für mehr Transparenz haben die Gewerkschaft nun unter www.allinrechner.at ein Online-Werkzeug lanciert, das Arbeitnehmern mit solchen Verträgen helfen soll, sich einen Überblick zu verschaffen. Es geht darum, ob die Differenz zum Grundgehalt nicht womöglich eine zu geringe ist. Schließlich sei ein All-in-Gehalt oft nur auf den ersten Blick von Vorteil, gab GPA-djp-Chef Wolfgang Katzian (SPÖ) am Montag bei einer Pressekonferenz in Wien zu bedenken. Allzu oft sei bei der All-in-Entlohnung nur schwer nachvollziehbar, wie viele Überstunden und Mehrleistungen damit tatsächlich abgegolten werden. Ein erster guter Schritt aus gewerkschaftlicher Sicht ist Katzian zufolge zwar eine seit Ende Vorjahr gültige Gesetzesänderung, die besagt, dass das Grundgehalt bei All-in-Verträgen in Ziffern auszuweisen ist. So werden über die Normalarbeitszeit hinausgehende Pauschalabgeltungen und andere Mehrleistungen sichtbar. Das ist der Gewerkschaft aber zu wenig, denn die ursprünglich für Führungskräfte gedachte Pauschalabgeltung sei längst in allen Branchen in allen Ebenen von den Führungsebenen abwärts zu Angestellten und Arbeitern eingezogen. So hätten bereits 18 Prozent der Arbeiter einen All-in-Vertrag, laut Arbeitsklimaindex der AK Oberösterreich. Im Bauwesen liege der Anteil bei 27 Prozent. Der allinrechner.at mache aber auch bestehende Verträge transparenter. Einige anonyme Angaben zur Beschäftigungssituation reichen, um das Grundgehalt – und vor allem etwaige Gehaltsverluste – zu ermitteln. Unklarheiten sollen Betroffene dann bei ihrem Betriebsrat oder bei GPA-djp-Experten abklären. Katzian nannte für seine Gewerkschaft eine Vielzahl von Forderungen zu All-in-Verträgen. Vor allem sollen sich All-in-Verträge wie ursprünglich vorgesehen wieder auf Mitarbeiter mit Führungsverantwortung beschränken. Überlegt werde auch – das ist eine Forderung an uns selbst – künftig bei KV-Verhandlungen Muster für All-in-Verträge mitzuverhandlen. All-in-Verträge solle es auch nur mit einer wesentlichen Überzahlung zum branchenüblichen Grundgehalt geben; dazu gehörten auch regelmäßige Valorisierungen einhergehend mit KV-Erhöhungen. Mitarbeiter sollen zudem jederzeit die Möglichkeit haben, wieder aus All-in auszusteigen. All-in-Regelungen sollten laut dem GPA-djp-Chef nur betriebsübliche Arbeitszeiten und -leistungen abdecken. Darüber hinausgehende Leistungen des Arbeitnehmers wie Sonntagsdienste sollen gesondert abgegolten werden. Bleiben müsse den Arbeitnehmern vor allem auch die freie Wahl zwischen Entlohnung auf Einzelstundenbasis oder All-in.',\n",
       "  'Franzosen verteidigen 2:1-Führung – Kritische Stimmen zu Schwedens Superstar, Tore in K.-o.-Phase fehlen – Benfica mit Abwehrsorgen nach St. Petersburg. London – Mit einem trügerischen Vorsprung im Gepäck ist Paris Saint Germain zum Champions-League-Achtelfinale nach London gereist. Am Mittwochabend (20.45 Uhr) verteidigt Frankreichs Serienmeister gegen Chelsea ein 2:1 aus dem Hinspiel. PSG sollte gewarnt sein, die Blues sind seit der Trennung von Jose Mourinho erstarkt. Seit Dezember hat Chelsea unter Guus Hiddink in 18 Pflichtspielen nur die eine Niederlage in Paris einstecken müssen. Ein 1:0 würde den Hausherren reichen. Im Vorjahr war für Chelsea im Achtelfinale gegen PSG Endstation, 2014 setzte sich Chelsea im Viertelfinale gegen die Franzosen durch. Im zweiten Achtelfinal-Rückspiel am Mittwoch verteidigt Benfica Lissabon ein 1:0 bei Zenit St. Petersburg. Leise Kritik Bei PSG drehte sich vor dem Spiel wieder einmal alles um den Superstar. Zlatan Ibrahimovic hat in den vergangenen acht Spielen in Frankreich zwar achtmal getroffen, dennoch musste sich der Schwede mit kritischen Stimmen befassen. Wie LEquipe anmerkte, sei Ibrahimovic in der Champions League in engen Spielen kein entscheidender Faktor. Die Statistik zeigt, dass Ibrahimovic in 37 K.-o.-Spielen in der Königsklasse nur acht Treffer erzielt hat – keines davon in einem Rückspiel. Dazu passt es, dass der in Summe zwölffache Landesmeister in der Champions League nie über das Halbfinale – mit dem FC Barcelona gelang ihm das 2010 – hinausgekommen ist. Bereits Ende Dezember hatte er gegenüber LEquipe betont: Auch wenn ich die Champions League nicht gewinne, wird meine Karriere großartig sein. Gegen Chelsea traf der 34-Jährige im Hinspiel per abgefälschtem Freistoß immerhin zum 1:0. Ein weiteres Tor an der Stamford Bridge würde die Kritiker vorerst verstummen lassen. David Trezeguet, ein Ex-Klubkollege bei Juventus, sah die Motivation bei Ibrahimovic vorhanden. Er will die Statistiken Lügen Strafen. PSG braucht den besten Zlatan, und ich bin sicher, dass er entscheidend sein wird. Leichtes Schwächeln in der Liga PSG ließ in der Ligue 1 die Zügel in den vergangenen Wochen schleifen. In Lyon kassierte man mit einem 1:2 die erste Saisonniederlage, am Wochenende gab es zu Hause ein 0:0 gegen Montpellier. Die Spieler verausgabten sich dabei nicht wirklich. Gegen Chelsea muss Trainer Laurent Blanc wohl Mittelfeldspieler Marco Verratti vorgeben, der sich mit Leistenproblemen plagt. Der Siegestorschütze aus dem Hinspiel, Edinson Cavani, dürfte zu Beginn erneut auf der Bank sitzen. Chelsea gefiel sich vor dem Spiel in der Rolle des Außenseiters. Wir haben Selbstvertrauen wiedererlangt und die Qualität, aber wollen nur ein sehr zäher Underdog sein, erklärte Hiddink. Seine Profis sollen verärgert auf eine kontrollierte Art spielen, meinte der 69-jährige Niederländer, der national sogar einen Rekord aufstellte. Hiddink ist der erste Premier-League-Trainer, der nach den ersten zwölf Partien einer Amtszeit ungeschlagen geblieben ist. Nicht zur Verfügung stehen wird den Hausherren der im Oberschenkel verletzte Kapitän John Terry. Diego Costa wird gegen PSG wieder einlaufen, nachdem der gebürtige Brasilianer beim 1:1 gegen Stoke am Wochenende geschont wurde. Sein Landsmann Willian zeigte sich motiviert. Wir müssen sie (PSG) ab der ersten Minute unter Druck setzen, betonte Brasiliens Teamkicker. Benfica mit einem kleinen Vorsprung  Benfica reiste mit einem kleinen Vorsprung, aber großen Sorgen in der Defensive nach Russland. Portugals Meister muss im Petrowski-Stadion drei Innenverteidiger und den verletzten Torhüter Julio Cesar vorgeben. Kapitän Luisao und Lisandro Lopez sind verletzt, Jardel gesperrt. Der 21-jährige Schwede Victor Lindelöf ist der einzig verfügbare Mann für das Abwehrzentrum. Dennoch: Der portugiesische Rekordmeister scheint bei 13 Siegen in 14 Pflichtspielen in diesem Kalenderjahr in Form. Die Hoffnungen in St. Petersburg ruhen auf Angreifer Jonas. Der Hinspiel-Torschütze hat in dieser Saison bereits 28 Tore in 35 Einsätzen erzielt. Zenit will zum ersten Mal den Sprung ins Viertelfinale realisieren. Möglich machen soll dies der portugiesische Trainer Andre Villas-Boas. Ich bin sicher, dass wir den Rückstand aufholen können, meinte der ehemalige Porto-Coach. Für Torgefahr soll Artem Dsjuba sorgen. Russlands Teamstürmer hat in der Champions League bereits sechsmal getroffen.',\n",
       "  'Neues Video von Designern macht im Netz die Runde – sie schlagen etwa bunte Benachrichtigungen vor. Bei den iPhone-Verkaufszahlen ist der Wurm drin: Erstmals seit dessen Einführung musste Apple heuer sinkende Quartalsergebnisse bekanntgeben. CEO Tim Cook hat daher versprochen, das im Herbst erscheinende iPhone 7 werde Dinge können, die viele Menschen zu einer Kaufentscheidungen bewegen wird. Ein großer Bestandteil davon ist nicht nur die Hardware, sondern auch das Betriebssystem iOS. Dessen neueste Versionsnummer 10 könnte im Juni bei Apples WWDC-Event präsentiert werden. Noch ist nur wenig über neue Funktionen durchgesickert. Apple-Fans nehmen deshalb das Heft selbst in die Hand. Auf iPhone-Tricks ist eine fiktive Werbung für das neue iOS erschienen, in der die meistgewünschten neuen Funktionen präsentiert werden. Die Apple-Unterstützer fordern etwa, dass unterhalb von Apps künftig ein neuer Bereich erscheint, wenn diese länger angeklickt werden. So könnten dann etwa Updates oder bei Messengern neue Nachrichten angezeigt werden, ohne dass die App geöffnet werden muss. Außerdem sollen die Farben des Displays ständig geändert werden können; quasi ein Nachtmodus für jede Anwendung verfügbar sein. Apps müssten künftig auch leichter zu schließen sein, so die Macher des Videos: Sie wollen, dass alle Anwendungen mit einem einzigen Wisch beendet werden können. Ein neuer Multitasking-Modus soll zusätzlich mehr Übersicht über die aktiven Apps bieten. Als weitere große Neuerung denken die Fans ein neues Farbsystem für Benachrichtigungen an. Dadurch sollen Nutzer schneller erkennen können, von welcher App die neue Benachrichtigung stammt. Facebook-Meldungen könnten dann etwa in Blau, WhatsApp-Nachrichten in Grün aktiviert werden. Dieses Farbsystem soll auch im Sperrbildschirm funktionieren, wo iPhone-Tricks mehr Funktionen fordert. So wollen sie, dass Wetterinformationen oder das Aktivieren von Weckern auch im Sperrbildschirm abgerufen werden kann. Welche der Funktionen es tatsächlich in iOS 10 schaffen, ist natürlich unklar. Kürzlich gab es Gerüchte, dass Mobilbox-Nachrichten automatisch von Siri transkribiert werden könnten, sofern diese in der iCloud landen. Außerdem konzentriert sich Apple offenbar auf einen Relaunch des Apple Music-Streamingdienstes. Außerdem sollen Anwendungen wie Apple Pay und Fotos poliert werden.',\n",
       "  '23-jähriger Brasilianer muss vier Spiele pausieren – Entscheidung kann noch angefochten werden – Chile und Bolivien im Viertelfinale, Mexiko out. Santiago de Chile – Wegen seiner Provokation nach dem Spiel gegen Kolumbien hat der südamerikanische Fußballverband (CONMEBOL) Brasiliens Top-Stürmer Neymar für vier Spiele gesperrt. Zudem verhängte der Disziplinarausschuss eine Geldstrafe in Höhe von 10.000 US-Dollar (8.850,34 Euro) gegen den 23-Jährigen. Damit dürfte Neymar bei der laufenden Regionalmeisterschaft Copa America in Chile nicht mehr zum Einsatz kommen. Die Entscheidung kann noch angefochten werden. Beim Vorrundenspiel gegen Kolumbien am Mittwoch hatte Neymar nach dem Abpfiff den Ball mit voller Wucht gegen Pablo Armero gedroschen und nach einer anschließenden Rangelei die Rote Karte gesehen. Auch der Kolumbianer Carlos Bacca wurde mit Rot bestraft. Er erhielt eine Sperre für zwei Partien. Neben den Unsportlichkeiten und den damit verbundenen Sanktionen gibt es aber auch Sportliches von der Copa zu berichten: Gastgeber Chile hat sich mit dem Gruppe-A-Sieg den Aufstieg ins Viertelfinale gesichert. Die Chilenen deklassierten Bolivien mit 5:0 und sind im Turnierverlauf nach zwei Siegen und einem Remis weiter ungeschlagen. Freuen durfte sich aber auch Bolivien, das mit vier Zählern als Zweiter auch weiterkam. Ecuador (3) sicherte sich mit einem 2:1-Sieg gegen Mexiko (2) noch Rang drei. Charles Aranguiz zeichnete sich beim deutlichen Sieg in Santiago als Doppeltorschütze (3., 66.) aus. Die weiteren Treffer erzielten Alexis Sanchez (37.) und Gary Medel (79.), ehe der Bolivianer Ronald Raldes (86.) mit einem Eigentor den Endstand fixierte. Damit fanden die Chilenen nach dem Skandal um Mittelfeldstar Arturo Vidal überzeugend ins Turnier zurück. Der Spieler von Juventus Turin hatte am Dienstag im betrunkenen Zustand einen Autounfall verursacht und wurde vorübergehend festgenommen. Gegen Bolivien stand Vidal wieder auf dem Platz, fiel aber nicht groß auf. Beendet ist das Turnier für Mexiko, das in Rancagua gegen Ecuador 1:2 verlor. Miller Bolanos (27.) und Enner Valencia (57.) brachten Ecuador mit 2:0 in Führung, Mexiko gelang durch einen verwandelten Elfmeter von Raul Jimenez (63.) nur noch der Anschlusstreffer. Bei einem Sieg wären die Mexikaner ins Viertelfinale aufgestiegen. Wir haben unser Ziel nicht erreicht. Ich übernehme die Verantwortung, sagte Mexikos Trainer Miguel Herrera. Er hofft nun auf eine Reaktion im Gold Cup, der am 7. Juli beginnt. Durch die Gruppe-A-Konstellation stehen auch Argentinien und Paraguay bereits vorzeitig als Gruppe-B-Viertelfinalisten fest. Die beiden Mannschaften führen die Gruppe B mit je vier Punkten an und gehören im schlechtesten Fall zu jenen zwei Gruppendritten, die ebenfalls weiterkommen. Ecuador hat nur drei Zähler auf dem Konto.',\n",
       "  'Aufständische verwendeten Chemikalie bei Gefechten im August. Damaskus – Bei Kämpfen zwischen Rebellengruppen in Syrien ist nach Angaben unabhängiger Experten Senfgas eingesetzt worden. Die Chemikalie sei am 21. August bei Gefechten in Marea in der nördlichen Provinz Aleppo verwendet worden, verlautete am Donnerstag aus Kreisen der Organisation für das Verbot von Chemiewaffen (OPCW). Es handelt sich demnach um den ersten bestätigten Einsatz von Senfgas in dem Bürgerkriegsland. Der UN-Sicherheitsrat hatte Anfang August beschlossen, dass ein Team aus Experten der Vereinten Nationen sowie der OPCW die Verantwortlichen für Angriffe mit Chlorgas und anderen giftigen Chemikalien in Syrien ausfindig machen soll. Die syrische Opposition und der Westen werfen den Truppen von Syriens Staatschef Bashar al-Assad vor, Fassbomben mit Chlorgas von Hubschraubern abzuwerfen. Syriens Führung weist den Vorwurf zurück. Die Jihadistenmiliz Islamischer Staat (IS) steht ebenfalls im Verdacht, Chlorgas einzusetzen.',\n",
       "  'Bewährungs- und Geldstrafe für 26-Jährigen wegen ausländerfeindlicher Äußerung. Einen Tag nach der Veröffentlichung von Hetzbotschaften im Internet ist ein 26-Jähriger im deutschen Bundesland Mecklenburg-Vorpommern dafür verurteilt worden. Das Amtsgericht Wismar entschied am Mittwoch auf fünf Monate Gefängnis auf Bewährung und 300 Euro Geldstrafe, wie die Schweriner Staatsanwaltschaft mitteilte. Sie hatte erst am gleichen Tag das beschleunigte Verfahren beantragt. Der 26-jährige Mann aus Gadebusch im Kreis Nordwestmecklenburg hatte demnach am Dienstag in einem sozialen Netzwerk angekündigt, ein Flüchtlingsheim anzuzünden, und verfassungsfeindliche Parolen veröffentlicht. Vor Gericht beteuerte er, er habe die Drohung nicht ernst gemeint und aus Frust gehandelt. Das Urteil ist bereits rechtskräftig. Das Handy des Mannes wurde als Tatobjekt eingezogen. In Deutschland hatten zuletzt Hasskommentare insbesondere im sozialen Netzwerk Facebook für Aufsehen gesorgt. Kritiker werfen dem US-Unternehmen vor, nicht in ausreichendem Maße gegen Schmähbotschaften vorzugehen.',\n",
       "  'ÖFB-Teamspieler nur sechs Minuten nach seinem Tor beim 1:1 gegen Sunderland verletzt ausgewechselt. Stoke-on-Trent – Das Heimspiel von Stoke City gegen Sunderland ist für Marko Arnautovic zu einer Hochschaubahn der Gefühle geworden. Zunächst erzielte der ÖFB-Teamspieler am Samstag beim 1:1 gegen den Abstiegskandidaten in der 50. Minute das 1:0, dann aber musste der Wiener in der 56. Minute wegen einer Verletzung ausgetauscht werden. Wenig später hat Arnautovic Entwarnung gegeben. Nichts, worüber man sich Sorgen machen muss. Hoffentlich bin ich für nächste Woche okay, ließ der ÖFB-Teamspieler auf seiner Facebook-Seite verlauten. Bei seiner Blessur dürfte es sich um eine Leistenverletzung handeln. Deswegen war der Wiener schon für die Partie gegen Sunderland fraglich gewesen. Für Arnautovic war es eineinhalb Monate vor dem ersten EM-Match des österreichischen Nationalteams bereits der elfte Premier-League-Treffer in dieser Saison. Diese Marke hat bisher noch kein Stoke-Profi im englischen Oberhaus erreicht. Der FC Arsenal hat den dritten Tabellenplatz gefestigt. Im Heimspiel gegen den Tabellenvorletzten Norwich City gewannen die Gunners mit 1:0 (0:0). Danny Welbeck (60.) traf zum Tor des Tages. Die Londoner weisen 67 Punkte auf und haben sich von Manchester City (64) zunächst abgesetzt. Der Abstand zum Tabellenzweiten Tottenham Hotspur beträgt zwei Zähler. West Ham United hat sich unterdessen zumindest vorübergehend an Rekordmeister Manchester United vorbei auf den fünften Tabellenplatz geschoben. Die Londoner gewannen bei West Bromwich Albion mit 3:0 (2:0). Der FC Everton gab AFC Bournemouth mit 2:1 (1:1) das Nachsehen. Newcastle United setzte sich mit 1:0 (0:0) gegen Crystal Palace im Kellerduell durch. Am Sonntag kann Christian Fuchs mit Leicester City (76) erstmals den Titel in der Premier League fixieren. Die Foxes gastieren bei Manchester United. Der Anpfiff erfolgt um 15.05 Uhr.',\n",
       "  'Ein 31-jähriger Polizist soll einer 42-Jährigen den Knöchel gebrochen haben, indem er sie wegstieß. Das Verfahren strotzt vor Widersprüchen. Wien – Eines steht fest: Elisabeth S. hat sich im Mai 2014 bei Tumulten im Umfeld einer Demonstration der rechten Identitären den Knöchel gebrochen, musste operiert werden und hatte monatelang Schmerzen. Ob an der Verletzung der Polizist Bernhard H. schuld ist, muss Richterin Nicole Baczak klären. Der Beamte bekennt sich nicht schuldig. Er habe die Frau zwar wahrgenommen, als er mit Kollegen eine Sperrkette bildete, um linke und rechte Demonstranten zu trennen. Wie sie zu Sturz kam, kann er aber nicht sagen – just in diesem Moment habe er nämlich nach hinten geschaut, wo gerade ein Mann fixiert wurde. Er hatte den Eindruck, dass Frau S. zu diesem Mann wollte, sagt der von Matthias Prückler – der auch im Rechtsbüro der blauen Gewerkschaftsfraktion tätig ist – verteidigte 31-Jährige. Aber, wie gesagt, als er wieder in ihre Richtung sah, sei sie schon zwei Meter entfernt schreiend auf dem Boden gelegen. Die Rettung brachte die Frau ins Spital, er begann einen Bericht zu schreiben. In dem stand, sie sei gestolpert. Das verdutzt Privatbeteiligtenvertreterin Nadja Lorenz: Woher wissen Sie das? Sie haben ja nicht hingesehen. – Das habe ich nur von Kollegen gehört. – Von welchen? – Kann ich nicht mehr sagen. Die 42-Jährige Verletzte erzählt eine ganz andere Geschichte. Sie sei selbst auf der regulären Demonstration gewesen und dann in ein Lokal gegangen, wo sie mit ihrer 17-jährigen Tochter verabredet war. Dort habe sie erfahren, dass ihr Kind aus Neugier den Polizeieinsatz beobachtet habe und nun eingekesselt sei. Dass es überhaupt einen Kessel gegeben habe, bestreitet die Polizei, es sei nur eine Linie von mehreren Dutzend Beamten gewesen. Dahinter entdeckte sie ihre Tochter. Woraufhin sie nach ihrer Darstellung mehrere Beamten bat, in den Kessel hineinzudürfen. Überraschenderweise soll der kommunistischen Gewerkschafterin das gewährt worden sein, hinaus kam sie aber nicht mehr. Allerdings scheint sie nicht zu dem Beamten gegangen zu sein, der sie durchgelassen hat, sondern eine Reihe weiterer Polizisten gebeten zu haben, die Linie passieren zu dürfen. Das sei alles völlig friedlich abgelaufen. Plötzlich sei ein Arbeitskollege aus dem Kessel herausgezogen und fixiert worden. Sie habe Er hat nichts getan! geschrien. Was zur Folge gehabt haben soll, dass der Angeklagte, dem sie Aug in Aug gegenübergestanden sei, sie hochgehoben und weggeschleudert habe. Dann habe ich einen Schlag am Knöchel gespürt und bin auf dem Rücken gelegen, schildert sie. Dass der Schlag der Kontakt mit der Gehsteigkante war, ist relativ sicher. Interessant ist aber, dass S. nach ihrer Darstellung nach hinten umgefallen sein muss, da ihr Kopf Richtung Polizeikette sah. Dann wird es kompliziert. Die auftretenden Zeugen – zwei Polizisten, Passanten und Demonstranten – erzählen dermaßen unterschiedliche Versionen, dass einem der Kopf schwirrt. Manche sagen, S. habe versucht, sich durch den Kordon zu drängen. Andere, sie habe sich ganz normal unterhalten, wieder andere, sie habe laut geschrien. Zwei Beobachter wollen gesehen haben, wie die Verletzte durch die Luft geflogen sei, andere – darunter die Tochter –, sie habe einen Stoß in den Rücken bekommen. Wobei eine der Zeuginnen überraschenderweise sagt, S. sei mit ihrer Tochter fünf Meter von der Kette entfernt gestanden, als von hinten ein Polizist auf sie zugestürmt sei und sie weggestoßen habe. Die Verletzte und zwei von acht Zeugen sagen, sie erkennen den Angeklagten eindeutig wieder. Wobei sowohl Richterin Baczak als auch Verteidiger Prückler anmerken, dass die Erinnerung innerhalb der vergangenen beiden Jahre besser geworden sein muss. Nach dem Vorfall 2014 war sie sich nämlich noch nicht so sicher. Entscheidend wird also die Aussage des medizinischen Sachverständigen Christian Reiter, der erklären soll, wie der doppelte Knöchelbruch entstanden ist. Für ihn ist klar, dass das Opfer sich an der Gehsteigkante verhakt und sich dabei verletzt hat. Wenn es einen Stoß gegeben habe, müsse der jedenfalls von hinten gekommen sein. Die Darstellung der Angeklagten sei daher eindeutig nicht mit dem Verletzungsbild in Einklang zu bringen. Staatsanwalt Philipp Trebuch spricht in seinem Schlussplädoyer dennoch nur von kleinen Widersprüchen, was nicht verwunderlich ist. Privatbeteiligtenvertreterin Lorenz, die für ihre Mandantin 11.200 Euro Schmerzengeld fordert, ist ebenso überzeugt, dass sich die Angelegenheit in Sekunden abgespielt habe, was zu unterschiedlichen Wahrnehmung geführt habe. Bazack sieht das anders und spricht H. frei. Und zwar nicht im Zweifel, stellt sie klar. Man könne schon grundsätzlich nicht mit Sicherheit sagen, ob der Angeklagte überhaupt der fragliche Polizist gewesen sei. Vor allem aber stößt ihr auch auf, dass es etwas seltsam ist, dass sich die Zeugen so genau erinnern. Am ehesten glaubt sie die Version einer Anrainerin, die die Szene vom Balkon beobachtet hat. Nur: Deren Schilderung passt wiederum nicht zum Verletzungsmuster. Der Anklagevertreter gibt keine Erklärung ab, das Urteil ist daher nicht rechtskräftig.',\n",
       "  '18 Menschen verschleppt. Kabul – Nach einem Hubschrauber-Absturz im Norden Afghanistans haben Sicherheitskräfte am Mittwoch versucht, 18 von Taliban-Kämpfern als Geiseln genommene Insassen zu befreien. Wie das Verteidigungsministerium in Kabul mitteilte, musste der Hubschrauber am Dienstag mit insgesamt 21 Menschen an Bord nahe Maimana, der Hauptstadt der Provinz Faryab, notlanden. Bei einem Feuergefecht mit den Taliban wurden demnach drei der Insassen getötet, zwei Afghanen und ein Ausländer. Die Taliban gaben auf ihrer Website an, den Hubschrauber abgeschossen zu haben. An Bord des Hubschraubers waren zwei Piloten und ein Ingenieur aus Moldau, wie der moldauische Regierungschef Gheorghe Brega vor Journalisten in Chisinau sagte. Die Maschine vom Typ Mi-17 gehörte demnach der Privatfirma Walan ICC aus Moldau. Brega äußerte sich nicht dazu, ob die drei Landsleute getötet oder als Geiseln genommen wurden. Dem afghanischen Verteidigungsministerium zufolge waren zwei Ausländer unter den Geiseln. Ein erster Versuch der Sicherheitskräfte am Dienstag, die Geiseln zu befreien, wurde von den Taliban abgewehrt.',\n",
       "  'Deutschland und Frankreich am stärksten von Locky betroffen. Der aggressive Verschlüsselungstrojaner Locky ist weiterhin aktiv. Derzeit tummeln sich über 60 Modifikationen der Software im Netz. Analysen von Kaspersky Lab ergaben, dass Internetanwender in Deutschland und Frankreich der höchsten Gefährdung durch Locky ausgesetzt sind. Eine hohe Gefährdung besteht auch für Nutzer in Südafrika, Österreich, Italien, den USA, China und Indien. Locky kommt als gefälschte Rechnungen im E-Mail-Anhang daher. Wird diese geöffnet auf einem Windows-Rechner mit Outlook,  startet der Trojaner seine Verschlüsselungsaktivitäten und fordert im Anschluss von den Opfern ein Lösegeld. Zusätzlich wurde die Schadsoftware auch auf Internetseiten platziert. Besucht ein Nutzer – mit entsprechenden Software-Schwachstellen auf seinem Rechner – eine entsprechende Seite, versucht sich Locky automatisch auf diesem Rechner zu installieren. Kasperky rät keine Attachments innerhalb von E-Mails von unbekannten Personen zu öffnen. Zudem empfiehlt es sich, die  Makro-Funktion in Dokumenten zu deaktivieren, weil sich Locky über eben diese auf einem Rechner einnistet. Auch rät man, auf keinen Fall auf die Lösegeldforderungen einzugehen, sondern Anzeige zu erstatten.']}"
      ]
     },
     "execution_count": 8,
     "metadata": {
      "tags": []
     },
     "output_type": "execute_result"
    }
   ],
   "source": [
    "updated_dataset_test[:10]"
   ]
  },
  {
   "cell_type": "markdown",
   "metadata": {
    "id": "dcTaZaovIUfg"
   },
   "source": [
    "##Operationen"
   ]
  },
  {
   "cell_type": "markdown",
   "metadata": {
    "id": "EDHI2Fr6IXVu"
   },
   "source": [
    "Die Dataset-Objekte haben diverse Operationen, z.B. zum Durchmischen:"
   ]
  },
  {
   "cell_type": "code",
   "execution_count": 9,
   "metadata": {
    "executionInfo": {
     "elapsed": 266,
     "status": "ok",
     "timestamp": 1625082367121,
     "user": {
      "displayName": "Word Embeddings",
      "photoUrl": "",
      "userId": "05224024210897602445"
     },
     "user_tz": -120
    },
    "id": "jv9kU8xPH-wm"
   },
   "outputs": [],
   "source": [
    "updated_dataset = updated_dataset.shuffle(seed=42)"
   ]
  },
  {
   "cell_type": "markdown",
   "metadata": {
    "id": "FjgWWXvqIdcr"
   },
   "source": [
    "Oder filtern. Man gibt eine Filterfunktion mit, im einfachsten Fall ein Lambda:"
   ]
  },
  {
   "cell_type": "code",
   "execution_count": 10,
   "metadata": {
    "colab": {
     "base_uri": "https://localhost:8080/",
     "height": 86,
     "referenced_widgets": [
      "046208a2b70442c1ac340c70248acf40",
      "0f1498d9b1bb467b99cda629fb4bf662",
      "c2d07f72f4a44dd18942777ea5be683e",
      "3b52add96f584c41bd65d9ef58d548e6",
      "91baea4d9fba43ee9ce21f51e6700b41",
      "b806743fb1114109af1b40d60c737c48",
      "522a8393181c43a48ef75030f6e156a8",
      "54dd7d1352494b39b073a925df274af9"
     ]
    },
    "executionInfo": {
     "elapsed": 737,
     "status": "ok",
     "timestamp": 1625082370940,
     "user": {
      "displayName": "Word Embeddings",
      "photoUrl": "",
      "userId": "05224024210897602445"
     },
     "user_tz": -120
    },
    "id": "jsUmFNJ7IcRA",
    "outputId": "e4efd926-585e-432e-afd6-9efbe81ec770"
   },
   "outputs": [
    {
     "data": {
      "application/vnd.jupyter.widget-view+json": {
       "model_id": "046208a2b70442c1ac340c70248acf40",
       "version_major": 2,
       "version_minor": 0
      },
      "text/plain": [
       "HBox(children=(FloatProgress(value=0.0, max=10.0), HTML(value='')))"
      ]
     },
     "metadata": {
      "tags": []
     },
     "output_type": "display_data"
    },
    {
     "name": "stdout",
     "output_type": "stream",
     "text": [
      "\n"
     ]
    },
    {
     "data": {
      "text/plain": [
       "{'label': [], 'text': []}"
      ]
     },
     "execution_count": 10,
     "metadata": {
      "tags": []
     },
     "output_type": "execute_result"
    }
   ],
   "source": [
    "dataset.filter(lambda ex: ex['text'].endswith('!!!!!'))[:3]"
   ]
  },
  {
   "cell_type": "markdown",
   "metadata": {
    "id": "B-ZSM0smI1LS"
   },
   "source": [
    "##Tokeniser"
   ]
  },
  {
   "cell_type": "markdown",
   "metadata": {
    "id": "5CbfEna4I34U"
   },
   "source": [
    "Wir wollten ja ein Modell trainieren. Wir nehmen mal bert-base-uncased, denn bert haben wir gerade besprochen. Also brauchen wir auch den zugehörigen Tokenizer:"
   ]
  },
  {
   "cell_type": "code",
   "execution_count": 11,
   "metadata": {
    "colab": {
     "base_uri": "https://localhost:8080/",
     "height": 206,
     "referenced_widgets": [
      "e1ee77dad15e447dbd00942bdb398c33",
      "a8234af885e54bf28d538a0f87cf5cf6",
      "533908a268214523b1cef2ddb709d613",
      "2c8c151584a8406f8743b466ee6591ba",
      "9c54553e15f047b5ac3192981f165c52",
      "35ddf645f6384f26945b759fac4185da",
      "3dbb34d53b0b406bb601bbd539cf3276",
      "3f930ad18a334cafa6f1585ece25e910",
      "954f580a120040abbd731a66580dc479",
      "a1c177b73c674b9c9cadabdfb20dba49",
      "e0d01c7ca1a34b979b08a5057297c0a2",
      "ee7542628b674bc6904d6fa796bfd1e8",
      "2009e279c2a0498a87f999e2f6b535e0",
      "5429f482f0d54375861140709de153c1",
      "1cb302424e9e444cae272027ab3672b3",
      "b740c2d61d1748c9be0f412c763bdfe5",
      "e20e58c1c7a447efa3cac07896fc4e3a",
      "b0524035bc3543eba16d3a4fff3efb6d",
      "6aa78c8e24f548cd9803be8ef0b40eb8",
      "61dc4337c8cb404b973fa9a0ab454226",
      "9a8cea9dde4f4b1da9b38fdf30c4ce46",
      "d162921167724b10a6285315b712fa78",
      "26b0ae2937a6450da2fc0029e3540b1f",
      "fb50b98106494aa890dc0d2f67643426"
     ]
    },
    "executionInfo": {
     "elapsed": 5989,
     "status": "ok",
     "timestamp": 1625082379724,
     "user": {
      "displayName": "Word Embeddings",
      "photoUrl": "",
      "userId": "05224024210897602445"
     },
     "user_tz": -120
    },
    "id": "fYcarIuFIxHo",
    "outputId": "8cfe9b3a-988c-4684-8692-7fd8e9e494ab"
   },
   "outputs": [
    {
     "data": {
      "application/vnd.jupyter.widget-view+json": {
       "model_id": "e1ee77dad15e447dbd00942bdb398c33",
       "version_major": 2,
       "version_minor": 0
      },
      "text/plain": [
       "HBox(children=(FloatProgress(value=0.0, description='Downloading', max=83.0, style=ProgressStyle(description_w…"
      ]
     },
     "metadata": {
      "tags": []
     },
     "output_type": "display_data"
    },
    {
     "name": "stdout",
     "output_type": "stream",
     "text": [
      "\n"
     ]
    },
    {
     "data": {
      "application/vnd.jupyter.widget-view+json": {
       "model_id": "954f580a120040abbd731a66580dc479",
       "version_major": 2,
       "version_minor": 0
      },
      "text/plain": [
       "HBox(children=(FloatProgress(value=0.0, description='Downloading', max=362.0, style=ProgressStyle(description_…"
      ]
     },
     "metadata": {
      "tags": []
     },
     "output_type": "display_data"
    },
    {
     "name": "stdout",
     "output_type": "stream",
     "text": [
      "\n"
     ]
    },
    {
     "data": {
      "application/vnd.jupyter.widget-view+json": {
       "model_id": "e20e58c1c7a447efa3cac07896fc4e3a",
       "version_major": 2,
       "version_minor": 0
      },
      "text/plain": [
       "HBox(children=(FloatProgress(value=0.0, description='Downloading', max=239836.0, style=ProgressStyle(descripti…"
      ]
     },
     "metadata": {
      "tags": []
     },
     "output_type": "display_data"
    },
    {
     "name": "stdout",
     "output_type": "stream",
     "text": [
      "\n"
     ]
    },
    {
     "data": {
      "text/plain": [
       "PreTrainedTokenizerFast(name_or_path='deepset/gbert-base', vocab_size=31102, model_max_len=512, is_fast=True, padding_side='right', special_tokens={'unk_token': '[UNK]', 'sep_token': '[SEP]', 'pad_token': '[PAD]', 'cls_token': '[CLS]', 'mask_token': '[MASK]'})"
      ]
     },
     "execution_count": 11,
     "metadata": {
      "tags": []
     },
     "output_type": "execute_result"
    }
   ],
   "source": [
    "from transformers import AutoTokenizer\n",
    "tokenizer = AutoTokenizer.from_pretrained('deepset/gbert-base')\n",
    "tokenizer"
   ]
  },
  {
   "cell_type": "code",
   "execution_count": 12,
   "metadata": {
    "colab": {
     "base_uri": "https://localhost:8080/"
    },
    "executionInfo": {
     "elapsed": 281,
     "status": "ok",
     "timestamp": 1625082382987,
     "user": {
      "displayName": "Word Embeddings",
      "photoUrl": "",
      "userId": "05224024210897602445"
     },
     "user_tz": -120
    },
    "id": "obfmGPku7tJW",
    "outputId": "7e00ad82-0d3d-4915-ccc7-ba52e987b8c8"
   },
   "outputs": [
    {
     "name": "stderr",
     "output_type": "stream",
     "text": [
      "Token indices sequence length is longer than the specified maximum sequence length for this model (733 > 512). Running this sequence through the model will result in indexing errors\n"
     ]
    },
    {
     "data": {
      "text/plain": [
       "{'input_ids': [102, 351, 8227, 8349, 2952, 1285, 1281, 4249, 208, 128, 3071, 2223, 566, 375, 369, 18069, 8500, 6096, 308, 4876, 29916, 119, 128, 15388, 5631, 125, 4918, 304, 6421, 30886, 30099, 153, 125, 1187, 19203, 1126, 393, 566, 445, 249, 750, 25467, 891, 29130, 4354, 9695, 153, 3701, 16444, 125, 8349, 339, 3572, 261, 3075, 212, 1285, 4281, 853, 286, 8755, 195, 19240, 16023, 222, 6618, 105, 17690, 304, 15005, 30882, 231, 2882, 5729, 125, 27370, 378, 356, 24131, 195, 29531, 17202, 231, 1187, 232, 14510, 566, 279, 8546, 128, 16049, 2618, 1680, 15709, 10977, 818, 1382, 29916, 119, 818, 6298, 494, 11532, 313, 190, 2847, 1150, 255, 260, 566, 1100, 15557, 341, 255, 475, 231, 6421, 994, 818, 1427, 231, 128, 4745, 1187, 566, 259, 125, 4004, 830, 10278, 112, 21334, 6096, 8023, 125, 13483, 2075, 7192, 128, 2858, 125, 3309, 105, 232, 1674, 231, 128, 13474, 366, 136, 15009, 2976, 6508, 566, 229, 2223, 745, 1268, 2752, 15825, 818, 1427, 143, 14989, 23112, 9433, 809, 17849, 212, 28290, 394, 3089, 566, 928, 5744, 17611, 27259, 686, 5744, 17611, 30884, 25390, 28885, 18658, 199, 571, 1608, 7238, 818, 377, 190, 17012, 8293, 9534, 1767, 566, 505, 5160, 387, 128, 2223, 4648, 818, 4542, 494, 313, 827, 282, 566, 29916, 119, 6937, 186, 6508, 2747, 212, 125, 4084, 223, 16932, 2014, 818, 276, 180, 128, 2718, 27328, 378, 1140, 2390, 15662, 638, 566, 21046, 3175, 125, 2619, 2904, 10652, 30881, 232, 9962, 818, 128, 1152, 10984, 818, 128, 13802, 12675, 686, 128, 8458, 1340, 9369, 30881, 5166, 19824, 26695, 818, 4543, 128, 8422, 125, 3159, 8935, 30882, 1985, 745, 566, 8129, 4436, 288, 3349, 2505, 125, 1409, 2223, 818, 128, 9121, 14391, 338, 9021, 566, 229, 6096, 686, 125, 19167, 19277, 208, 1187, 232, 11275, 7641, 8902, 4872, 886, 7958, 128, 4628, 231, 128, 10353, 378, 386, 2997, 1187, 232, 9869, 2792, 1466, 566, 11747, 12712, 223, 16932, 311, 1015, 304, 128, 5759, 7276, 9184, 338, 818, 11117, 153, 3701, 1358, 778, 223, 1320, 212, 249, 23020, 182, 809, 199, 215, 313, 128, 8164, 195, 21071, 6763, 7352, 10067, 30881, 818, 125, 339, 3572, 212, 16096, 7641, 6954, 232, 24972, 1051, 2009, 199, 1633, 9678, 28220, 2191, 4963, 30881, 566, 27159, 9556, 251, 128, 15764, 3986, 7071, 853, 7975, 190, 1152, 276, 1861, 7361, 30884, 7106, 205, 30580, 818, 585, 261, 2223, 13627, 30884, 24355, 10160, 338, 566, 1406, 978, 3701, 3862, 30762, 186, 1280, 11014, 335, 128, 28858, 459, 19560, 260, 125, 10934, 205, 847, 10975, 105, 2223, 566, 4861, 585, 545, 251, 6049, 6641, 5152, 216, 128, 29131, 7911, 566, 2268, 2298, 3701, 1187, 232, 25388, 30882, 231, 1701, 1391, 1285, 744, 216, 125, 2886, 4900, 29531, 17202, 334, 18888, 155, 566, 229, 16113, 153, 3701, 13343, 17903, 260, 566, 311, 19018, 162, 1187, 232, 13509, 153, 125, 2270, 30933, 232, 5541, 818, 11599, 399, 115, 232, 28550, 30894, 818, 9292, 29916, 1858, 10870, 261, 6807, 22273, 30881, 28851, 30881, 566, 17265, 419, 3325, 621, 195, 218, 4442, 30903, 4297, 2755, 11846, 30888, 195, 369, 3250, 962, 853, 279, 8464, 288, 1619, 255, 6703, 566, 229, 951, 27778, 30910, 366, 27317, 232, 14387, 20854, 399, 1507, 27406, 11537, 128, 3085, 125, 10356, 231, 190, 6434, 208, 818, 1187, 232, 4025, 30373, 29531, 17202, 8289, 18888, 155, 566, 11698, 1771, 29916, 119, 205, 3873, 4088, 262, 18394, 8743, 5348, 2784, 335, 153, 6618, 566, 1814, 276, 143, 5636, 125, 28043, 25255, 818, 1358, 1262, 788, 9729, 5559, 686, 2448, 2860, 1781, 6949, 1181, 276, 5519, 190, 24444, 566, 12553, 1471, 214, 6937, 186, 1137, 9190, 1914, 17265, 419, 11770, 2006, 1099, 2203, 9806, 212, 403, 4086, 818, 125, 475, 216, 8416, 19324, 158, 14915, 404, 14042, 566, 375, 19010, 2342, 661, 1125, 128, 4554, 6396, 3190, 123, 995, 5892, 334, 853, 286, 14078, 106, 19023, 261, 22287, 4883, 4118, 818, 1039, 510, 26119, 339, 3393, 29916, 1858, 6096, 216, 249, 1915, 28139, 222, 2725, 16813, 18120, 30922, 22539, 2729, 566, 928, 2130, 9060, 9328, 10177, 128, 1187, 232, 993, 29916, 1858, 10870, 566, 16096, 8869, 12162, 15289, 247, 25495, 15022, 339, 3572, 334, 1416, 128, 26600, 125, 24706, 231, 5054, 566, 229, 13887, 125, 4585, 1754, 30881, 5929, 6383, 258, 9060, 9328, 290, 566, 7678, 15731, 10700, 6488, 5491, 251, 25771, 818, 231, 128, 15793, 136, 2303, 15793, 4315, 261, 4787, 205, 1585, 809, 1236, 494, 762, 6115, 205, 1806, 566, 103], 'token_type_ids': [0, 0, 0, 0, 0, 0, 0, 0, 0, 0, 0, 0, 0, 0, 0, 0, 0, 0, 0, 0, 0, 0, 0, 0, 0, 0, 0, 0, 0, 0, 0, 0, 0, 0, 0, 0, 0, 0, 0, 0, 0, 0, 0, 0, 0, 0, 0, 0, 0, 0, 0, 0, 0, 0, 0, 0, 0, 0, 0, 0, 0, 0, 0, 0, 0, 0, 0, 0, 0, 0, 0, 0, 0, 0, 0, 0, 0, 0, 0, 0, 0, 0, 0, 0, 0, 0, 0, 0, 0, 0, 0, 0, 0, 0, 0, 0, 0, 0, 0, 0, 0, 0, 0, 0, 0, 0, 0, 0, 0, 0, 0, 0, 0, 0, 0, 0, 0, 0, 0, 0, 0, 0, 0, 0, 0, 0, 0, 0, 0, 0, 0, 0, 0, 0, 0, 0, 0, 0, 0, 0, 0, 0, 0, 0, 0, 0, 0, 0, 0, 0, 0, 0, 0, 0, 0, 0, 0, 0, 0, 0, 0, 0, 0, 0, 0, 0, 0, 0, 0, 0, 0, 0, 0, 0, 0, 0, 0, 0, 0, 0, 0, 0, 0, 0, 0, 0, 0, 0, 0, 0, 0, 0, 0, 0, 0, 0, 0, 0, 0, 0, 0, 0, 0, 0, 0, 0, 0, 0, 0, 0, 0, 0, 0, 0, 0, 0, 0, 0, 0, 0, 0, 0, 0, 0, 0, 0, 0, 0, 0, 0, 0, 0, 0, 0, 0, 0, 0, 0, 0, 0, 0, 0, 0, 0, 0, 0, 0, 0, 0, 0, 0, 0, 0, 0, 0, 0, 0, 0, 0, 0, 0, 0, 0, 0, 0, 0, 0, 0, 0, 0, 0, 0, 0, 0, 0, 0, 0, 0, 0, 0, 0, 0, 0, 0, 0, 0, 0, 0, 0, 0, 0, 0, 0, 0, 0, 0, 0, 0, 0, 0, 0, 0, 0, 0, 0, 0, 0, 0, 0, 0, 0, 0, 0, 0, 0, 0, 0, 0, 0, 0, 0, 0, 0, 0, 0, 0, 0, 0, 0, 0, 0, 0, 0, 0, 0, 0, 0, 0, 0, 0, 0, 0, 0, 0, 0, 0, 0, 0, 0, 0, 0, 0, 0, 0, 0, 0, 0, 0, 0, 0, 0, 0, 0, 0, 0, 0, 0, 0, 0, 0, 0, 0, 0, 0, 0, 0, 0, 0, 0, 0, 0, 0, 0, 0, 0, 0, 0, 0, 0, 0, 0, 0, 0, 0, 0, 0, 0, 0, 0, 0, 0, 0, 0, 0, 0, 0, 0, 0, 0, 0, 0, 0, 0, 0, 0, 0, 0, 0, 0, 0, 0, 0, 0, 0, 0, 0, 0, 0, 0, 0, 0, 0, 0, 0, 0, 0, 0, 0, 0, 0, 0, 0, 0, 0, 0, 0, 0, 0, 0, 0, 0, 0, 0, 0, 0, 0, 0, 0, 0, 0, 0, 0, 0, 0, 0, 0, 0, 0, 0, 0, 0, 0, 0, 0, 0, 0, 0, 0, 0, 0, 0, 0, 0, 0, 0, 0, 0, 0, 0, 0, 0, 0, 0, 0, 0, 0, 0, 0, 0, 0, 0, 0, 0, 0, 0, 0, 0, 0, 0, 0, 0, 0, 0, 0, 0, 0, 0, 0, 0, 0, 0, 0, 0, 0, 0, 0, 0, 0, 0, 0, 0, 0, 0, 0, 0, 0, 0, 0, 0, 0, 0, 0, 0, 0, 0, 0, 0, 0, 0, 0, 0, 0, 0, 0, 0, 0, 0, 0, 0, 0, 0, 0, 0, 0, 0, 0, 0, 0, 0, 0, 0, 0, 0, 0, 0, 0, 0, 0, 0, 0, 0, 0, 0, 0, 0, 0, 0, 0, 0, 0, 0, 0, 0, 0, 0, 0, 0, 0, 0, 0, 0, 0, 0, 0, 0, 0, 0, 0, 0, 0, 0, 0, 0, 0, 0, 0, 0, 0, 0, 0, 0, 0, 0, 0, 0, 0, 0, 0, 0, 0, 0, 0, 0, 0, 0, 0, 0, 0, 0, 0, 0, 0, 0, 0, 0, 0, 0, 0, 0, 0, 0, 0, 0, 0, 0, 0, 0, 0, 0, 0, 0, 0, 0, 0, 0, 0, 0, 0, 0, 0, 0, 0, 0, 0, 0, 0, 0, 0, 0, 0, 0, 0, 0, 0, 0, 0, 0, 0, 0, 0, 0, 0, 0, 0, 0, 0, 0, 0, 0, 0, 0, 0, 0, 0, 0, 0, 0, 0, 0, 0, 0, 0, 0, 0, 0, 0, 0, 0, 0, 0, 0, 0, 0, 0, 0, 0, 0, 0, 0, 0, 0, 0, 0], 'attention_mask': [1, 1, 1, 1, 1, 1, 1, 1, 1, 1, 1, 1, 1, 1, 1, 1, 1, 1, 1, 1, 1, 1, 1, 1, 1, 1, 1, 1, 1, 1, 1, 1, 1, 1, 1, 1, 1, 1, 1, 1, 1, 1, 1, 1, 1, 1, 1, 1, 1, 1, 1, 1, 1, 1, 1, 1, 1, 1, 1, 1, 1, 1, 1, 1, 1, 1, 1, 1, 1, 1, 1, 1, 1, 1, 1, 1, 1, 1, 1, 1, 1, 1, 1, 1, 1, 1, 1, 1, 1, 1, 1, 1, 1, 1, 1, 1, 1, 1, 1, 1, 1, 1, 1, 1, 1, 1, 1, 1, 1, 1, 1, 1, 1, 1, 1, 1, 1, 1, 1, 1, 1, 1, 1, 1, 1, 1, 1, 1, 1, 1, 1, 1, 1, 1, 1, 1, 1, 1, 1, 1, 1, 1, 1, 1, 1, 1, 1, 1, 1, 1, 1, 1, 1, 1, 1, 1, 1, 1, 1, 1, 1, 1, 1, 1, 1, 1, 1, 1, 1, 1, 1, 1, 1, 1, 1, 1, 1, 1, 1, 1, 1, 1, 1, 1, 1, 1, 1, 1, 1, 1, 1, 1, 1, 1, 1, 1, 1, 1, 1, 1, 1, 1, 1, 1, 1, 1, 1, 1, 1, 1, 1, 1, 1, 1, 1, 1, 1, 1, 1, 1, 1, 1, 1, 1, 1, 1, 1, 1, 1, 1, 1, 1, 1, 1, 1, 1, 1, 1, 1, 1, 1, 1, 1, 1, 1, 1, 1, 1, 1, 1, 1, 1, 1, 1, 1, 1, 1, 1, 1, 1, 1, 1, 1, 1, 1, 1, 1, 1, 1, 1, 1, 1, 1, 1, 1, 1, 1, 1, 1, 1, 1, 1, 1, 1, 1, 1, 1, 1, 1, 1, 1, 1, 1, 1, 1, 1, 1, 1, 1, 1, 1, 1, 1, 1, 1, 1, 1, 1, 1, 1, 1, 1, 1, 1, 1, 1, 1, 1, 1, 1, 1, 1, 1, 1, 1, 1, 1, 1, 1, 1, 1, 1, 1, 1, 1, 1, 1, 1, 1, 1, 1, 1, 1, 1, 1, 1, 1, 1, 1, 1, 1, 1, 1, 1, 1, 1, 1, 1, 1, 1, 1, 1, 1, 1, 1, 1, 1, 1, 1, 1, 1, 1, 1, 1, 1, 1, 1, 1, 1, 1, 1, 1, 1, 1, 1, 1, 1, 1, 1, 1, 1, 1, 1, 1, 1, 1, 1, 1, 1, 1, 1, 1, 1, 1, 1, 1, 1, 1, 1, 1, 1, 1, 1, 1, 1, 1, 1, 1, 1, 1, 1, 1, 1, 1, 1, 1, 1, 1, 1, 1, 1, 1, 1, 1, 1, 1, 1, 1, 1, 1, 1, 1, 1, 1, 1, 1, 1, 1, 1, 1, 1, 1, 1, 1, 1, 1, 1, 1, 1, 1, 1, 1, 1, 1, 1, 1, 1, 1, 1, 1, 1, 1, 1, 1, 1, 1, 1, 1, 1, 1, 1, 1, 1, 1, 1, 1, 1, 1, 1, 1, 1, 1, 1, 1, 1, 1, 1, 1, 1, 1, 1, 1, 1, 1, 1, 1, 1, 1, 1, 1, 1, 1, 1, 1, 1, 1, 1, 1, 1, 1, 1, 1, 1, 1, 1, 1, 1, 1, 1, 1, 1, 1, 1, 1, 1, 1, 1, 1, 1, 1, 1, 1, 1, 1, 1, 1, 1, 1, 1, 1, 1, 1, 1, 1, 1, 1, 1, 1, 1, 1, 1, 1, 1, 1, 1, 1, 1, 1, 1, 1, 1, 1, 1, 1, 1, 1, 1, 1, 1, 1, 1, 1, 1, 1, 1, 1, 1, 1, 1, 1, 1, 1, 1, 1, 1, 1, 1, 1, 1, 1, 1, 1, 1, 1, 1, 1, 1, 1, 1, 1, 1, 1, 1, 1, 1, 1, 1, 1, 1, 1, 1, 1, 1, 1, 1, 1, 1, 1, 1, 1, 1, 1, 1, 1, 1, 1, 1, 1, 1, 1, 1, 1, 1, 1, 1, 1, 1, 1, 1, 1, 1, 1, 1, 1, 1, 1, 1, 1, 1, 1, 1, 1, 1, 1, 1, 1, 1, 1, 1, 1, 1, 1, 1, 1, 1, 1, 1, 1, 1, 1, 1, 1, 1, 1, 1, 1, 1, 1, 1, 1, 1, 1, 1, 1, 1, 1, 1, 1, 1, 1, 1, 1, 1, 1, 1, 1, 1, 1, 1, 1, 1, 1, 1, 1, 1, 1, 1, 1, 1, 1, 1, 1, 1, 1, 1, 1, 1, 1, 1, 1, 1, 1, 1]}"
      ]
     },
     "execution_count": 12,
     "metadata": {
      "tags": []
     },
     "output_type": "execute_result"
    }
   ],
   "source": [
    "inp = tokenizer(updated_dataset[0]['text']); inp #enthält die tokenisierten Daten "
   ]
  },
  {
   "cell_type": "code",
   "execution_count": 13,
   "metadata": {
    "colab": {
     "base_uri": "https://localhost:8080/",
     "height": 109
    },
    "executionInfo": {
     "elapsed": 397,
     "status": "ok",
     "timestamp": 1625082385628,
     "user": {
      "displayName": "Word Embeddings",
      "photoUrl": "",
      "userId": "05224024210897602445"
     },
     "user_tz": -120
    },
    "id": "5xD_J1ccJBlW",
    "outputId": "c867125a-494a-4950-e346-7ca0977135b0"
   },
   "outputs": [
    {
     "data": {
      "application/vnd.google.colaboratory.intrinsic+json": {
       "type": "string"
      },
      "text/plain": [
       "'[CLS] Der britische Premier stellt vier Hauptforderungen an die Europäische Union. Mit einer programmatischen Rede hat David Cameron die entscheidende Runde der Verhandlungen über Großbritanniens Verbleib in der EU eingeläutet. Vor dem Thinktank Chatham House in London präsentierte der Premier am Dienstag eine Liste mit vier Themen : Sie reichen von größerer Flexibilität des Brüsseler Clubs über Garantien für Mitglieder außerhalb der Eurozone bis zur Einschränkung von Sozialleistungen für EU - Migranten. Er wolle die Mitgliedschaft seines Landes langfristig sichern, sagte Cameron, schloss aber ausdrücklich auch den Austritt nicht aus. Diese Reformen sind nicht nur für Großbritannien gut, sondern für die gesamte EU. In der knapp dreiviertelstündigen Rede betonte der Konservative mehrfach die Bedeutung der 28er - Gemeinschaft für die ökonomische und militärische Sicherheit Europas. Die Union sei kein Selbstzweck, sondern ein wichtiges politisches Instrument – vergleichbar mit Nato oder UN. Als zweitgrößte Volkswirtschaft sowie zweitgrößter Beitragszahler dürfe das Land darauf zählen, dass den Bedenken Rechnung getragen werde. Wir gewinnen durch die Union hinzu, tragen aber auch viel bei. Cameron verglich Europas Lage mit der Situation im Jänner 2013, als er die Volksabstimmung bis Ende 2017 versprochen hatte. Seither hätten der Ostukraine - Konflikt, die Eurokrise, die Flüchtlingswellen sowie die Terrortruppe IS verdeutlicht, warum die Kooperation der europäischen Demokratien wichtig sei. Gleichzeitig gebe es Probleme innerhalb der Europäischen Union, die angepackt werden müssten. Die Rede sowie der Begleitbrief an EU - Ratspräsident Donald Tusk legen die Grundlage für die Gespräche bis zum nächsten EU - Gipfel Mitte Dezember. Sollte spätestens im Jänner Einigkeit über die britischen Ideen erzielt werden, rechnen in London viele schon im Juni mit dem Referendum – das ist auch die Strategie von Finanzminister George Osborne, der am Dienstag mit Kommissionspräsident Jean - Claude Juncker das weitere Vorgehen abstimmte. Konkret wünschen sich die Briten folgende Veränderungen : Statt den Euro als Ziel wirtschaftlicher Integration zu begreifen, soll eine Union diverser Währungen definiert werden. Dies will London ebenso vertraglich festschreiben wie die förmliche Entlassung aus der Verpflichtung zu immer engerer Union. Gemeinsam soll man sich größere Wettbewerbsfähigkeit auf die Fahne schreiben. Dann möchte London EU - Einwanderern für deren erste vier Jahre auf der Insel bestimmte Sozialleistungen vorenthalten. Die Reaktionen in London fielen verhalten aus. Ein prominenter EU - Feind in der Tory - Fraktion, Jacob Rees - Mogg, nannte Camerons Forderungen eine ziemlich dünne Suppe. Nigel Farage von Ukip sprach wegwerfend von einer Charade : Er meint es ja nicht ernst. Die proeuropäische Labour - Abgeordnete Emma Reynolds kündigte die Unterstützung der Opposition für den Versuch an, EU - Immigranten Sozialleistungen vorzuenthalten. Tatsächlich stehen Cameron zu Hause mindestens so harte Auseinandersetzungen bevor wie in Brüssel. Mehr als ein Viertel der Unterhausabgeordneten, viele Oberhauslords sowie mehrere Minister wollen lieber heute als morgen den Ausstieg. Abschätzig verglich Exfinanzminister Nigel Lawson seinen Parteichef mit einem Fischer, der nur auf unbedeutende Fische abziele. Mit harten Bandagen geht die Dachorganisation Vote Leave vor : Sie registrierten eigens eine fiktive Firma, damit zwei Aktivisten am Montag Camerons Rede auf dem Jahreskongress des Industrieverbands CBI stören konnten. Als hochproblematisch bezeichnete die EU - Kommission Camerons Forderungen. Kommissionssprecher Margaritis Schinas kritisierte am Dienstag vor allem die Beschränkung der Freizügigkeit für Arbeitnehmer. Die Stärkung der nationalen Parlamente dürfte hingegen unproblematisch sein. Deutschlands Kanzlerin Angela Merkel zeigte sich zuversichtlich, für die schwierigen und weniger schwierigen Punkte eine Lösung zu finden – ohne aber ins Detail zu gehen. [SEP]'"
      ]
     },
     "execution_count": 13,
     "metadata": {
      "tags": []
     },
     "output_type": "execute_result"
    }
   ],
   "source": [
    "tokenizer.decode(inp['input_ids'])"
   ]
  },
  {
   "cell_type": "code",
   "execution_count": 14,
   "metadata": {
    "colab": {
     "base_uri": "https://localhost:8080/"
    },
    "executionInfo": {
     "elapsed": 28,
     "status": "ok",
     "timestamp": 1625082388860,
     "user": {
      "displayName": "Word Embeddings",
      "photoUrl": "",
      "userId": "05224024210897602445"
     },
     "user_tz": -120
    },
    "id": "6rdESfW1KRl7",
    "outputId": "4721fd49-0e3a-4987-e5c9-c842d8faf275"
   },
   "outputs": [
    {
     "name": "stdout",
     "output_type": "stream",
     "text": [
      "['[CLS]', 'Der', 'britische', 'Premier', 'stellt', 'vier', 'Haupt', '##forderungen', 'an', 'die', 'Europäische', 'Union', '.', 'Mit', 'einer', 'programm', '##atischen', 'Rede', 'hat', 'David', 'Camer', '##on', 'die', 'entscheidende', 'Runde', 'der', 'Verhandlungen', 'über', 'Großbritannien', '##s', 'Verbleib', 'in', 'der', 'EU', 'eingel', '##äu', '##tet', '.', 'Vor', 'dem', 'Th', '##inkt', '##ank', 'Chat', '##ham', 'House', 'in', 'London', 'präsentierte', 'der', 'Premier', 'am', 'Dienstag', 'eine', 'Liste', 'mit', 'vier', 'Themen', ':', 'Sie', 'reichen', 'von', 'größerer', 'Flexibilität', 'des', 'Brüssel', '##er', 'Clubs', 'über', 'Garantie', '##n', 'für', 'Mitglieder', 'außerhalb', 'der', 'Eurozone', 'bis', 'zur', 'Einschränkung', 'von', 'Soziall', '##eistungen', 'für', 'EU', '-', 'Migranten', '.', 'Er', 'wolle', 'die', 'Mitgliedschaft', 'seines', 'Landes', 'langfristig', 'sichern', ',', 'sagte', 'Camer', '##on', ',', 'schloss', 'aber', 'ausdrücklich', 'auch', 'den', 'Aust', '##ritt', 'nicht', 'aus', '.', 'Diese', 'Reformen', 'sind', 'nicht', 'nur', 'für', 'Großbritannien', 'gut', ',', 'sondern', 'für', 'die', 'gesamte', 'EU', '.', 'In', 'der', 'knapp', 'drei', '##viertel', '##st', '##ündigen', 'Rede', 'betonte', 'der', 'Konserv', '##ative', 'mehrfach', 'die', 'Bedeutung', 'der', '28', '##er', '-', 'Gemeinschaft', 'für', 'die', 'ökonom', '##ische', 'und', 'militärische', 'Sicherheit', 'Europas', '.', 'Die', 'Union', 'sei', 'kein', 'Selbst', '##zweck', ',', 'sondern', 'ein', 'wichtiges', 'politisches', 'Instrument', '–', 'vergleichbar', 'mit', 'Nato', 'oder', 'UN', '.', 'Als', 'zweit', '##größte', 'Volkswirtschaft', 'sowie', 'zweit', '##größte', '##r', 'Beitrags', '##zahler', 'dürfe', 'das', 'Land', 'darauf', 'zählen', ',', 'dass', 'den', 'Bedenken', 'Rechnung', 'getragen', 'werde', '.', 'Wir', 'gewinnen', 'durch', 'die', 'Union', 'hinzu', ',', 'tragen', 'aber', 'auch', 'viel', 'bei', '.', 'Camer', '##on', 'verg', '##lich', 'Europas', 'Lage', 'mit', 'der', 'Situation', 'im', 'Jänner', '2013', ',', 'als', 'er', 'die', 'Volks', '##abstimmung', 'bis', 'Ende', '2017', 'versprochen', 'hatte', '.', 'Seither', 'hätten', 'der', 'Ost', '##uk', '##rain', '##e', '-', 'Konflikt', ',', 'die', 'Euro', '##krise', ',', 'die', 'Flüchtlings', '##wellen', 'sowie', 'die', 'Terror', '##tr', '##upp', '##e', 'IS', 'verde', '##utlicht', ',', 'warum', 'die', 'Kooperation', 'der', 'europäischen', 'Demokratie', '##n', 'wichtig', 'sei', '.', 'Gleichzeitig', 'gebe', 'es', 'Probleme', 'innerhalb', 'der', 'Europäischen', 'Union', ',', 'die', 'angep', '##ackt', 'werden', 'müssten', '.', 'Die', 'Rede', 'sowie', 'der', 'Begleit', '##brief', 'an', 'EU', '-', 'Rats', '##präsident', 'Donald', 'Tu', '##sk', 'legen', 'die', 'Grundlage', 'für', 'die', 'Gespräche', 'bis', 'zum', 'nächsten', 'EU', '-', 'Gipfel', 'Mitte', 'Dezember', '.', 'Sollte', 'spätestens', 'im', 'Jänner', 'Ein', '##igkeit', 'über', 'die', 'britischen', 'Ideen', 'erzielt', 'werden', ',', 'rechnen', 'in', 'London', 'viele', 'schon', 'im', 'Juni', 'mit', 'dem', 'Referend', '##um', '–', 'das', 'ist', 'auch', 'die', 'Strategie', 'von', 'Finanzminister', 'George', 'Os', '##born', '##e', ',', 'der', 'am', 'Dienstag', 'mit', 'Kommissions', '##präsident', 'Jean', '-', 'Claude', 'Jun', '##cker', 'das', 'weitere', 'Vorgehen', 'abs', '##tim', '##mt', '##e', '.', 'Konkret', 'wünschen', 'sich', 'die', 'Briten', 'folgende', 'Veränderungen', ':', 'Statt', 'den', 'Euro', 'als', 'Ziel', 'wirtschaftliche', '##r', 'Integration', 'zu', 'begreifen', ',', 'soll', 'eine', 'Union', 'diverse', '##r', 'Währungen', 'definiert', 'werden', '.', 'Dies', 'will', 'London', 'ebenso', 'vertrag', '##lich', 'fest', '##schreiben', 'wie', 'die', 'förm', '##liche', 'Entlassung', 'aus', 'der', 'Verpflichtung', 'zu', 'immer', 'enger', '##er', 'Union', '.', 'Gemeinsam', 'soll', 'man', 'sich', 'größere', 'Wettbewerbs', '##fähigkeit', 'auf', 'die', 'Fahne', 'schreiben', '.', 'Dann', 'möchte', 'London', 'EU', '-', 'Einwanderer', '##n', 'für', 'deren', 'erste', 'vier', 'Jahre', 'auf', 'der', 'Insel', 'bestimmte', 'Soziall', '##eistungen', 'vor', '##enthal', '##ten', '.', 'Die', 'Reaktionen', 'in', 'London', 'fielen', 'verhalten', 'aus', '.', 'Ein', 'prominen', '##ter', 'EU', '-', 'Feind', 'in', 'der', 'Tor', '##y', '-', 'Fraktion', ',', 'Jacob', 'Re', '##es', '-', 'Mog', '##g', ',', 'nannte', 'Camer', '##ons', 'Forderungen', 'eine', 'ziemlich', 'dünn', '##e', 'Supp', '##e', '.', 'Ni', '##gel', 'Far', '##age', 'von', 'U', '##ki', '##p', 'sprach', 'weg', '##werfen', '##d', 'von', 'einer', 'Char', '##ade', ':', 'Er', 'meint', 'es', 'ja', 'nicht', 'ernst', '.', 'Die', 'pro', '##europ', '##ä', '##ische', 'Labour', '-', 'Abgeordnete', 'Emma', 'Re', '##yn', '##olds', 'kündigte', 'die', 'Unterstützung', 'der', 'Opposition', 'für', 'den', 'Versuch', 'an', ',', 'EU', '-', 'Imm', '##igranten', 'Soziall', '##eistungen', 'vorzu', '##enthal', '##ten', '.', 'Tatsächlich', 'stehen', 'Camer', '##on', 'zu', 'Hause', 'mindestens', 'so', 'harte', 'Auseinander', '##setzungen', 'bevor', 'wie', 'in', 'Brüssel', '.', 'Mehr', 'als', 'ein', 'Viertel', 'der', 'Unterhaus', '##abgeordneten', ',', 'viele', 'Ober', '##haus', '##lor', '##ds', 'sowie', 'mehrere', 'Minister', 'wollen', 'lieber', 'heute', 'als', 'morgen', 'den', 'Ausstieg', '.', 'Absch', '##ätz', '##ig', 'verg', '##lich', 'Ex', '##finanz', '##minister', 'Ni', '##gel', 'Law', '##son', 'seinen', 'Partei', '##chef', 'mit', 'einem', 'Fischer', ',', 'der', 'nur', 'auf', 'unbe', '##deuten', '##de', 'Fische', 'ab', '##ziele', '.', 'Mit', 'harten', 'Band', '##agen', 'geht', 'die', 'Dach', '##organisation', 'Vo', '##te', 'Le', '##ave', 'vor', ':', 'Sie', 'registriert', '##en', 'eigens', 'eine', 'fik', '##tive', 'Firma', ',', 'damit', 'zwei', 'Aktivisten', 'am', 'Montag', 'Camer', '##ons', 'Rede', 'auf', 'dem', 'Jahres', '##kongress', 'des', 'Industrie', '##verbands', 'CB', '##I', 'stören', 'konnten', '.', 'Als', 'hoch', '##problem', '##atisch', 'bezeichnete', 'die', 'EU', '-', 'Kommission', 'Camer', '##ons', 'Forderungen', '.', 'Kommissions', '##sprecher', 'Margar', '##itis', 'Sch', '##inas', 'kritisierte', 'am', 'Dienstag', 'vor', 'allem', 'die', 'Beschränkung', 'der', 'Freizügigkeit', 'für', 'Arbeitnehmer', '.', 'Die', 'Stärkung', 'der', 'nationalen', 'Parlament', '##e', 'dürfte', 'hingegen', 'un', '##problem', '##atisch', 'sein', '.', 'Deutschlands', 'Kanzlerin', 'Angela', 'Merkel', 'zeigte', 'sich', 'zuversichtlich', ',', 'für', 'die', 'schwierigen', 'und', 'weniger', 'schwierigen', 'Punkte', 'eine', 'Lösung', 'zu', 'finden', '–', 'ohne', 'aber', 'ins', 'Detail', 'zu', 'gehen', '.', '[SEP]']\n"
     ]
    }
   ],
   "source": [
    "print(inp.tokens()) #<abgespeichert "
   ]
  },
  {
   "cell_type": "markdown",
   "metadata": {
    "id": "gLybVMFYKe11"
   },
   "source": [
    "Nun können wir unser ganzes Trainingsset vorbereiten:"
   ]
  },
  {
   "cell_type": "code",
   "execution_count": 15,
   "metadata": {
    "colab": {
     "base_uri": "https://localhost:8080/",
     "height": 118,
     "referenced_widgets": [
      "eafef3f4041c4729a7d417220c8b3774",
      "09256159e45444239b31039e4739e8d0",
      "e1b98088ce684c61bfd526998bddf5ce",
      "f9305052e46e4b95bcc60f4789ee73d4",
      "01f5cd2ce5564179a81b0e8051dd3f08",
      "96b51efcc65049dcacbed0371f500b07",
      "9001d2ab5ed54323aa6446b91e864ad5",
      "3ef430000382449d973cb02f4241b5e6",
      "daa779868ebf46c3af2894cc3aee196f",
      "78a521fdc6b04598afea5e36269414c1",
      "e39028f5aea74935ac0871d5c61f11a4",
      "e18da09f361b47d180597b03bcc9e6a7",
      "458939c43cab4da594a7287ed6e6b597",
      "11c104dc0e9544709c324e19f652392e",
      "fd2ee604aafb4d028211797b12bf23b9",
      "f577436a72f642e08306ca5c507f568d"
     ]
    },
    "executionInfo": {
     "elapsed": 10675,
     "status": "ok",
     "timestamp": 1625082401836,
     "user": {
      "displayName": "Word Embeddings",
      "photoUrl": "",
      "userId": "05224024210897602445"
     },
     "user_tz": -120
    },
    "id": "hTNCK7hzKjQE",
    "outputId": "15d12202-a3e1-4d3c-d9c0-0bf44c709250"
   },
   "outputs": [
    {
     "data": {
      "application/vnd.jupyter.widget-view+json": {
       "model_id": "eafef3f4041c4729a7d417220c8b3774",
       "version_major": 2,
       "version_minor": 0
      },
      "text/plain": [
       "HBox(children=(FloatProgress(value=0.0, max=10.0), HTML(value='')))"
      ]
     },
     "metadata": {
      "tags": []
     },
     "output_type": "display_data"
    },
    {
     "name": "stdout",
     "output_type": "stream",
     "text": [
      "\n"
     ]
    },
    {
     "data": {
      "application/vnd.jupyter.widget-view+json": {
       "model_id": "daa779868ebf46c3af2894cc3aee196f",
       "version_major": 2,
       "version_minor": 0
      },
      "text/plain": [
       "HBox(children=(FloatProgress(value=0.0, max=2.0), HTML(value='')))"
      ]
     },
     "metadata": {
      "tags": []
     },
     "output_type": "display_data"
    },
    {
     "name": "stdout",
     "output_type": "stream",
     "text": [
      "\n"
     ]
    }
   ],
   "source": [
    "def encode(examples):\n",
    "    return tokenizer(examples['text'], truncation=True, padding='max_length')\n",
    "\n",
    "updated_dataset = updated_dataset.map(encode, batched=True)\n",
    "updated_dataset_test = updated_dataset_test.map(encode, batched=True)"
   ]
  },
  {
   "cell_type": "markdown",
   "metadata": {
    "id": "t6WH3XeZKvF9"
   },
   "source": [
    "tokenizer() ist am effizientesten, wenn man ihm nicht nur einen Datensatz, sondern einen ganzen Schwung übergibt: tokenizer(['Text 1', 'text 2', ...]). Das geht in map mit batched=True."
   ]
  },
  {
   "cell_type": "code",
   "execution_count": 16,
   "metadata": {
    "colab": {
     "base_uri": "https://localhost:8080/"
    },
    "executionInfo": {
     "elapsed": 697,
     "status": "ok",
     "timestamp": 1625082411475,
     "user": {
      "displayName": "Word Embeddings",
      "photoUrl": "",
      "userId": "05224024210897602445"
     },
     "user_tz": -120
    },
    "id": "RN-YSRIjKwyH",
    "outputId": "0dc624ef-d679-4da4-8dde-d202c33673a6"
   },
   "outputs": [
    {
     "data": {
      "text/plain": [
       "Dataset({\n",
       "    features: ['attention_mask', 'input_ids', 'label', 'text', 'token_type_ids'],\n",
       "    num_rows: 9245\n",
       "})"
      ]
     },
     "execution_count": 16,
     "metadata": {
      "tags": []
     },
     "output_type": "execute_result"
    }
   ],
   "source": [
    "updated_dataset"
   ]
  },
  {
   "cell_type": "code",
   "execution_count": 17,
   "metadata": {
    "colab": {
     "base_uri": "https://localhost:8080/"
    },
    "executionInfo": {
     "elapsed": 342,
     "status": "ok",
     "timestamp": 1625082414415,
     "user": {
      "displayName": "Word Embeddings",
      "photoUrl": "",
      "userId": "05224024210897602445"
     },
     "user_tz": -120
    },
    "id": "TuQlA5fg8NAQ",
    "outputId": "e852a802-437e-4561-9f18-ea5b91b8f793"
   },
   "outputs": [
    {
     "data": {
      "text/plain": [
       "Dataset({\n",
       "    features: ['attention_mask', 'input_ids', 'label', 'text', 'token_type_ids'],\n",
       "    num_rows: 1028\n",
       "})"
      ]
     },
     "execution_count": 17,
     "metadata": {
      "tags": []
     },
     "output_type": "execute_result"
    }
   ],
   "source": [
    "updated_dataset_test"
   ]
  },
  {
   "cell_type": "markdown",
   "metadata": {
    "id": "ceBQIN0aK4ju"
   },
   "source": [
    "##Vorbereitung der EIngabedaten fürs Training"
   ]
  },
  {
   "cell_type": "markdown",
   "metadata": {
    "id": "Z-J00yYUK91L"
   },
   "source": [
    "das Format bestimmt, in welcher Form die Datensätze beim Iterieren geliefert werden:"
   ]
  },
  {
   "cell_type": "code",
   "execution_count": 18,
   "metadata": {
    "executionInfo": {
     "elapsed": 13,
     "status": "ok",
     "timestamp": 1625082417641,
     "user": {
      "displayName": "Word Embeddings",
      "photoUrl": "",
      "userId": "05224024210897602445"
     },
     "user_tz": -120
    },
    "id": "5--egdxvK87b"
   },
   "outputs": [],
   "source": [
    "updated_dataset.set_format(type='tensorflow',  # Tensoren für TensorFlow zusammenbauen\n",
    "                   columns=['input_ids', 'token_type_ids', 'attention_mask', 'label']) # nur diese Spalten"
   ]
  },
  {
   "cell_type": "code",
   "execution_count": 19,
   "metadata": {
    "executionInfo": {
     "elapsed": 234,
     "status": "ok",
     "timestamp": 1625082419635,
     "user": {
      "displayName": "Word Embeddings",
      "photoUrl": "",
      "userId": "05224024210897602445"
     },
     "user_tz": -120
    },
    "id": "t6gjgjxt8YC_"
   },
   "outputs": [],
   "source": [
    "updated_dataset_test.set_format(type='tensorflow',  # Tensoren für TensorFlow zusammenbauen\n",
    "                   columns=['input_ids', 'token_type_ids', 'attention_mask', 'label']) # nur diese Spalten"
   ]
  },
  {
   "cell_type": "code",
   "execution_count": 20,
   "metadata": {
    "colab": {
     "base_uri": "https://localhost:8080/"
    },
    "executionInfo": {
     "elapsed": 258,
     "status": "ok",
     "timestamp": 1625082423738,
     "user": {
      "displayName": "Word Embeddings",
      "photoUrl": "",
      "userId": "05224024210897602445"
     },
     "user_tz": -120
    },
    "id": "tx2aKPHaLDYM",
    "outputId": "f7828293-54a6-42a4-ff73-4250f46ea7e2"
   },
   "outputs": [
    {
     "data": {
      "text/plain": [
       "Dataset({\n",
       "    features: ['attention_mask', 'input_ids', 'label', 'text', 'token_type_ids'],\n",
       "    num_rows: 9245\n",
       "})"
      ]
     },
     "execution_count": 20,
     "metadata": {
      "tags": []
     },
     "output_type": "execute_result"
    }
   ],
   "source": [
    "updated_dataset"
   ]
  },
  {
   "cell_type": "code",
   "execution_count": 21,
   "metadata": {
    "colab": {
     "base_uri": "https://localhost:8080/"
    },
    "executionInfo": {
     "elapsed": 539,
     "status": "ok",
     "timestamp": 1625082426058,
     "user": {
      "displayName": "Word Embeddings",
      "photoUrl": "",
      "userId": "05224024210897602445"
     },
     "user_tz": -120
    },
    "id": "itv15ds88deV",
    "outputId": "82674e88-2646-4d52-e223-bce4e45e5924"
   },
   "outputs": [
    {
     "data": {
      "text/plain": [
       "Dataset({\n",
       "    features: ['attention_mask', 'input_ids', 'label', 'text', 'token_type_ids'],\n",
       "    num_rows: 1028\n",
       "})"
      ]
     },
     "execution_count": 21,
     "metadata": {
      "tags": []
     },
     "output_type": "execute_result"
    }
   ],
   "source": [
    "updated_dataset_test"
   ]
  },
  {
   "cell_type": "code",
   "execution_count": 22,
   "metadata": {
    "colab": {
     "base_uri": "https://localhost:8080/"
    },
    "executionInfo": {
     "elapsed": 268,
     "status": "ok",
     "timestamp": 1625082427797,
     "user": {
      "displayName": "Word Embeddings",
      "photoUrl": "",
      "userId": "05224024210897602445"
     },
     "user_tz": -120
    },
    "id": "gCFUoOSn8gcM",
    "outputId": "18ee1134-757b-42a7-afef-2408e29a2d09"
   },
   "outputs": [
    {
     "data": {
      "text/plain": [
       "{'columns': ['input_ids', 'token_type_ids', 'attention_mask', 'label'],\n",
       " 'format_kwargs': {},\n",
       " 'output_all_columns': False,\n",
       " 'type': 'tensorflow'}"
      ]
     },
     "execution_count": 22,
     "metadata": {
      "tags": []
     },
     "output_type": "execute_result"
    }
   ],
   "source": [
    "updated_dataset.format"
   ]
  },
  {
   "cell_type": "markdown",
   "metadata": {
    "id": "mvkOfcs7LIze"
   },
   "source": [
    "Die Tensorflow-Modelle erwarten die Eingabe in der fit-Methode in der Form (features, labels). Dabei kann features ein Dictionary sein, das für jede Eingabe des Modells (also input_ids usw.) einen Tensor mit den Batches enthält.\n"
   ]
  },
  {
   "cell_type": "markdown",
   "metadata": {
    "id": "G6oUeBxoLLcO"
   },
   "source": [
    "Die folgende Methode lädt nun doch wieder den Datensatz in den Speicher:"
   ]
  },
  {
   "cell_type": "code",
   "execution_count": 23,
   "metadata": {
    "executionInfo": {
     "elapsed": 30254,
     "status": "ok",
     "timestamp": 1625082461045,
     "user": {
      "displayName": "Word Embeddings",
      "photoUrl": "",
      "userId": "05224024210897602445"
     },
     "user_tz": -120
    },
    "id": "DZ4Lc4bfLJQg"
   },
   "outputs": [],
   "source": [
    "features = {col: updated_dataset[col].to_tensor(default_value=0, shape=[None, tokenizer.model_max_length]) \n",
    "            for col in ['input_ids', 'token_type_ids', 'attention_mask']}"
   ]
  },
  {
   "cell_type": "code",
   "execution_count": 24,
   "metadata": {
    "executionInfo": {
     "elapsed": 3392,
     "status": "ok",
     "timestamp": 1625082466665,
     "user": {
      "displayName": "Word Embeddings",
      "photoUrl": "",
      "userId": "05224024210897602445"
     },
     "user_tz": -120
    },
    "id": "MIOg7xCL8l9d"
   },
   "outputs": [],
   "source": [
    "features_test = {col: updated_dataset_test[col].to_tensor(default_value=0, shape=[None, tokenizer.model_max_length]) \n",
    "            for col in ['input_ids', 'token_type_ids', 'attention_mask']}"
   ]
  },
  {
   "cell_type": "markdown",
   "metadata": {
    "id": "O3aEHiF8LZGU"
   },
   "source": [
    "Wir bauen jetzt ein tf.data.Dataset, denn das kann Batches in genau dem richtigen Format liefern:"
   ]
  },
  {
   "cell_type": "code",
   "execution_count": 25,
   "metadata": {
    "executionInfo": {
     "elapsed": 439,
     "status": "ok",
     "timestamp": 1625082472138,
     "user": {
      "displayName": "Word Embeddings",
      "photoUrl": "",
      "userId": "05224024210897602445"
     },
     "user_tz": -120
    },
    "id": "W_0a9ZEBLYpu"
   },
   "outputs": [],
   "source": [
    "tfdataset = tf.data.Dataset.from_tensor_slices((features,            # Achtung: (X, y)\n",
    "                                                updated_dataset['label']))\n",
    "tfdataset = tfdataset.batch(8)"
   ]
  },
  {
   "cell_type": "code",
   "execution_count": 26,
   "metadata": {
    "executionInfo": {
     "elapsed": 384,
     "status": "ok",
     "timestamp": 1625082474807,
     "user": {
      "displayName": "Word Embeddings",
      "photoUrl": "",
      "userId": "05224024210897602445"
     },
     "user_tz": -120
    },
    "id": "1dsEy1ef821H"
   },
   "outputs": [],
   "source": [
    "tfdataset_test = tf.data.Dataset.from_tensor_slices((features_test,            # Achtung: (X, y)\n",
    "                                                updated_dataset_test['label']))\n",
    "tfdataset_test = tfdataset_test.batch(8)"
   ]
  },
  {
   "cell_type": "code",
   "execution_count": 27,
   "metadata": {
    "colab": {
     "base_uri": "https://localhost:8080/"
    },
    "executionInfo": {
     "elapsed": 339,
     "status": "ok",
     "timestamp": 1625082476816,
     "user": {
      "displayName": "Word Embeddings",
      "photoUrl": "",
      "userId": "05224024210897602445"
     },
     "user_tz": -120
    },
    "id": "qnATJAVeLj7m",
    "outputId": "40a67fc5-c845-49e5-8ea3-7fd4af2e8d59"
   },
   "outputs": [
    {
     "data": {
      "text/plain": [
       "({'attention_mask': <tf.Tensor: shape=(8, 512), dtype=int64, numpy=\n",
       "  array([[1, 1, 1, ..., 1, 1, 1],\n",
       "         [1, 1, 1, ..., 1, 1, 1],\n",
       "         [1, 1, 1, ..., 1, 1, 1],\n",
       "         ...,\n",
       "         [1, 1, 1, ..., 1, 1, 1],\n",
       "         [1, 1, 1, ..., 0, 0, 0],\n",
       "         [1, 1, 1, ..., 0, 0, 0]])>,\n",
       "  'input_ids': <tf.Tensor: shape=(8, 512), dtype=int64, numpy=\n",
       "  array([[  102,   351,  8227, ...,   853,   279,   103],\n",
       "         [  102,  1663,   285, ...,   125,   368,   103],\n",
       "         [  102,  9050,  8181, ..., 23798,   172,   103],\n",
       "         ...,\n",
       "         [  102,   965,   856, ...,   136, 25897,   103],\n",
       "         [  102,  3945,   510, ...,     0,     0,     0],\n",
       "         [  102,  8287,  6905, ...,     0,     0,     0]])>,\n",
       "  'token_type_ids': <tf.Tensor: shape=(8, 512), dtype=int64, numpy=\n",
       "  array([[0, 0, 0, ..., 0, 0, 0],\n",
       "         [0, 0, 0, ..., 0, 0, 0],\n",
       "         [0, 0, 0, ..., 0, 0, 0],\n",
       "         ...,\n",
       "         [0, 0, 0, ..., 0, 0, 0],\n",
       "         [0, 0, 0, ..., 0, 0, 0],\n",
       "         [0, 0, 0, ..., 0, 0, 0]])>},\n",
       " <tf.Tensor: shape=(8,), dtype=int64, numpy=array([1, 1, 1, 1, 1, 0, 1, 1])>)"
      ]
     },
     "execution_count": 27,
     "metadata": {
      "tags": []
     },
     "output_type": "execute_result"
    }
   ],
   "source": [
    "next(iter(tfdataset))"
   ]
  },
  {
   "cell_type": "code",
   "execution_count": 28,
   "metadata": {
    "colab": {
     "base_uri": "https://localhost:8080/"
    },
    "executionInfo": {
     "elapsed": 253,
     "status": "ok",
     "timestamp": 1625082479818,
     "user": {
      "displayName": "Word Embeddings",
      "photoUrl": "",
      "userId": "05224024210897602445"
     },
     "user_tz": -120
    },
    "id": "OdhB7MMg8_4D",
    "outputId": "68a1fcf0-9822-423e-ebc0-89bf01376491"
   },
   "outputs": [
    {
     "data": {
      "text/plain": [
       "({'attention_mask': <tf.Tensor: shape=(8, 512), dtype=int64, numpy=\n",
       "  array([[1, 1, 1, ..., 1, 1, 1],\n",
       "         [1, 1, 1, ..., 1, 1, 1],\n",
       "         [1, 1, 1, ..., 0, 0, 0],\n",
       "         ...,\n",
       "         [1, 1, 1, ..., 0, 0, 0],\n",
       "         [1, 1, 1, ..., 0, 0, 0],\n",
       "         [1, 1, 1, ..., 1, 1, 1]])>,\n",
       "  'input_ids': <tf.Tensor: shape=(8, 512), dtype=int64, numpy=\n",
       "  array([[  102,   229, 15649, ...,   153,   232,   103],\n",
       "         [  102, 12986, 14018, ...,   430,   853,   103],\n",
       "         [  102, 11378,  4770, ...,     0,     0,     0],\n",
       "         ...,\n",
       "         [  102, 28080, 30886, ...,     0,     0,     0],\n",
       "         [  102,  1067, 27684, ...,     0,     0,     0],\n",
       "         [  102,   311,  4413, ...,   818,   377,   103]])>,\n",
       "  'token_type_ids': <tf.Tensor: shape=(8, 512), dtype=int64, numpy=\n",
       "  array([[0, 0, 0, ..., 0, 0, 0],\n",
       "         [0, 0, 0, ..., 0, 0, 0],\n",
       "         [0, 0, 0, ..., 0, 0, 0],\n",
       "         ...,\n",
       "         [0, 0, 0, ..., 0, 0, 0],\n",
       "         [0, 0, 0, ..., 0, 0, 0],\n",
       "         [0, 0, 0, ..., 0, 0, 0]])>},\n",
       " <tf.Tensor: shape=(8,), dtype=int64, numpy=array([1, 1, 0, 1, 1, 0, 1, 1])>)"
      ]
     },
     "execution_count": 28,
     "metadata": {
      "tags": []
     },
     "output_type": "execute_result"
    }
   ],
   "source": [
    "next(iter(tfdataset_test))"
   ]
  },
  {
   "cell_type": "markdown",
   "metadata": {
    "id": "RsqdNKFGLz6x"
   },
   "source": [
    "Jetzt holen wir uns ein Modell. Fürs erste nehmen wir eine fertige Architektur:"
   ]
  },
  {
   "cell_type": "code",
   "execution_count": 29,
   "metadata": {
    "colab": {
     "base_uri": "https://localhost:8080/",
     "height": 398,
     "referenced_widgets": [
      "a13146b1ff2548498fd8c53a4efed1bb",
      "251964d3564a40cdabe06d7274d29c6b",
      "6024e0b589bc41fc92c3041bc592ccfd",
      "5f51db90998f4656baa3a65a0647c968",
      "93151c1f26bb431eabec9da8e7fccc1d",
      "35e81c1a429f4bcdb4e087b40138d247",
      "7f7464b3d38440dda233e0d52a7ea988",
      "709b4fe578b841afb33f036b1e2d100d"
     ]
    },
    "executionInfo": {
     "elapsed": 19686,
     "status": "ok",
     "timestamp": 1625082501697,
     "user": {
      "displayName": "Word Embeddings",
      "photoUrl": "",
      "userId": "05224024210897602445"
     },
     "user_tz": -120
    },
    "id": "k4vPhkRwLtsg",
    "outputId": "bb631905-ccc2-4cbb-9f9b-e84587aba626"
   },
   "outputs": [
    {
     "data": {
      "application/vnd.jupyter.widget-view+json": {
       "model_id": "a13146b1ff2548498fd8c53a4efed1bb",
       "version_major": 2,
       "version_minor": 0
      },
      "text/plain": [
       "HBox(children=(FloatProgress(value=0.0, description='Downloading', max=442258482.0, style=ProgressStyle(descri…"
      ]
     },
     "metadata": {
      "tags": []
     },
     "output_type": "display_data"
    },
    {
     "name": "stdout",
     "output_type": "stream",
     "text": [
      "\n"
     ]
    },
    {
     "name": "stderr",
     "output_type": "stream",
     "text": [
      "All PyTorch model weights were used when initializing TFBertForSequenceClassification.\n",
      "\n",
      "Some weights or buffers of the TF 2.0 model TFBertForSequenceClassification were not initialized from the PyTorch model and are newly initialized: ['classifier.weight', 'classifier.bias']\n",
      "You should probably TRAIN this model on a down-stream task to be able to use it for predictions and inference.\n"
     ]
    },
    {
     "name": "stdout",
     "output_type": "stream",
     "text": [
      "Model: \"tf_bert_for_sequence_classification\"\n",
      "_________________________________________________________________\n",
      "Layer (type)                 Output Shape              Param #   \n",
      "=================================================================\n",
      "bert (TFBertMainLayer)       multiple                  109927680 \n",
      "_________________________________________________________________\n",
      "dropout_37 (Dropout)         multiple                  0         \n",
      "_________________________________________________________________\n",
      "classifier (Dense)           multiple                  769       \n",
      "=================================================================\n",
      "Total params: 109,928,449\n",
      "Trainable params: 109,928,449\n",
      "Non-trainable params: 0\n",
      "_________________________________________________________________\n"
     ]
    }
   ],
   "source": [
    "from transformers import TFAutoModelForSequenceClassification\n",
    "model = TFAutoModelForSequenceClassification.from_pretrained('deepset/gbert-base', num_labels=1, from_pt=True)   # num_labels=1 für eine binäre Klassifikation\n",
    "# Make DistilBERT layers untrainable/ mal schauen ob wir dsa updaten der Gewichte doch erlauben sollen\n",
    "#for layer in model.layers:\n",
    "#    layer.trainable = False\n",
    "model.summary()"
   ]
  },
  {
   "cell_type": "code",
   "execution_count": 30,
   "metadata": {
    "colab": {
     "base_uri": "https://localhost:8080/",
     "height": 77
    },
    "executionInfo": {
     "elapsed": 617,
     "status": "ok",
     "timestamp": 1625082513623,
     "user": {
      "displayName": "Word Embeddings",
      "photoUrl": "",
      "userId": "05224024210897602445"
     },
     "user_tz": -120
    },
    "id": "_b1vczTt9QpE",
    "outputId": "4be9b652-e8c8-47dd-cef1-86fcd36d6a74"
   },
   "outputs": [
    {
     "data": {
      "image/png": "[encoded data removed]",
      "text/plain": [
       "<IPython.core.display.Image object>"
      ]
     },
     "execution_count": 30,
     "metadata": {
      "tags": []
     },
     "output_type": "execute_result"
    }
   ],
   "source": [
    "# Herzlich wenig Informationen..\n",
    "tf.keras.utils.plot_model(model)"
   ]
  },
  {
   "cell_type": "markdown",
   "metadata": {
    "id": "ZME4T-FHMALU"
   },
   "source": [
    "Nun das übliche: Lossfunktion definieren, Modell kompilieren, Modell fitten."
   ]
  },
  {
   "cell_type": "code",
   "execution_count": 31,
   "metadata": {
    "colab": {
     "base_uri": "https://localhost:8080/"
    },
    "executionInfo": {
     "elapsed": 1175505,
     "status": "ok",
     "timestamp": 1625083692389,
     "user": {
      "displayName": "Word Embeddings",
      "photoUrl": "",
      "userId": "05224024210897602445"
     },
     "user_tz": -120
    },
    "id": "ONW0fbjdL4Ns",
    "outputId": "2db5c3bf-1f2a-43c3-e006-21ee976a67e2"
   },
   "outputs": [
    {
     "name": "stdout",
     "output_type": "stream",
     "text": [
      "WARNING:tensorflow:The parameters `output_attentions`, `output_hidden_states` and `use_cache` cannot be updated when calling a model.They have to be set to True/False in the config object (i.e.: `config=XConfig.from_pretrained('name', output_attentions=True)`).\n",
      "WARNING:tensorflow:AutoGraph could not transform <bound method Socket.send of <zmq.sugar.socket.Socket object at 0x7f3194984de0>> and will run it as-is.\n",
      "Please report this to the TensorFlow team. When filing the bug, set the verbosity to 10 (on Linux, `export AUTOGRAPH_VERBOSITY=10`) and attach the full output.\n",
      "Cause: module, class, method, function, traceback, frame, or code object was expected, got cython_function_or_method\n",
      "To silence this warning, decorate the function with @tf.autograph.experimental.do_not_convert\n",
      "WARNING: AutoGraph could not transform <bound method Socket.send of <zmq.sugar.socket.Socket object at 0x7f3194984de0>> and will run it as-is.\n",
      "Please report this to the TensorFlow team. When filing the bug, set the verbosity to 10 (on Linux, `export AUTOGRAPH_VERBOSITY=10`) and attach the full output.\n",
      "Cause: module, class, method, function, traceback, frame, or code object was expected, got cython_function_or_method\n",
      "To silence this warning, decorate the function with @tf.autograph.experimental.do_not_convert\n",
      "WARNING:tensorflow:AutoGraph could not transform <function wrap at 0x7f31b022cdd0> and will run it as-is.\n",
      "Cause: while/else statement not yet supported\n",
      "To silence this warning, decorate the function with @tf.autograph.experimental.do_not_convert\n",
      "WARNING: AutoGraph could not transform <function wrap at 0x7f31b022cdd0> and will run it as-is.\n",
      "Cause: while/else statement not yet supported\n",
      "To silence this warning, decorate the function with @tf.autograph.experimental.do_not_convert\n",
      "WARNING:tensorflow:The parameter `return_dict` cannot be set in graph mode and will always be set to `True`.\n",
      "WARNING:tensorflow:From /usr/local/lib/python3.7/dist-packages/tensorflow/python/ops/array_ops.py:5049: calling gather (from tensorflow.python.ops.array_ops) with validate_indices is deprecated and will be removed in a future version.\n",
      "Instructions for updating:\n",
      "The `validate_indices` argument has no effect. Indices are always validated on CPU and never validated on GPU.\n",
      "WARNING:tensorflow:The parameters `output_attentions`, `output_hidden_states` and `use_cache` cannot be updated when calling a model.They have to be set to True/False in the config object (i.e.: `config=XConfig.from_pretrained('name', output_attentions=True)`).\n",
      "WARNING:tensorflow:The parameter `return_dict` cannot be set in graph mode and will always be set to `True`.\n",
      "1156/1156 [==============================] - 1175s 975ms/step - loss: 0.0732 - accuracy: 0.9765\n"
     ]
    },
    {
     "data": {
      "text/plain": [
       "<tensorflow.python.keras.callbacks.History at 0x7f30e6a78290>"
      ]
     },
     "execution_count": 31,
     "metadata": {
      "tags": []
     },
     "output_type": "execute_result"
    }
   ],
   "source": [
    "loss_fn = tf.keras.losses.BinaryCrossentropy(reduction=tf.keras.losses.Reduction.NONE, from_logits=True)\n",
    "opt = tf.keras.optimizers.Adam(learning_rate=3e-5)\n",
    "model.compile(optimizer=opt, loss=loss_fn, metrics=[\"accuracy\"]) # andere Metric für die Modellqualität auswählen -> Accuracy für unbalanced wohl nicht die beste , tf.keras.metrics.Precision(), tf.keras.metrics.Recall()\n",
    "# https://keras.io/api/metrics/\n",
    "model.fit(tfdataset, epochs=1)"
   ]
  },
  {
   "cell_type": "code",
   "execution_count": 32,
   "metadata": {
    "colab": {
     "base_uri": "https://localhost:8080/"
    },
    "executionInfo": {
     "elapsed": 45955,
     "status": "ok",
     "timestamp": 1625083943645,
     "user": {
      "displayName": "Word Embeddings",
      "photoUrl": "",
      "userId": "05224024210897602445"
     },
     "user_tz": -120
    },
    "id": "7DXT44FeNS7W",
    "outputId": "59e3748d-eb63-424b-c02e-da1c5ecb9d3d"
   },
   "outputs": [
    {
     "name": "stdout",
     "output_type": "stream",
     "text": [
      "Evaluate on test data\n",
      "WARNING:tensorflow:The parameters `output_attentions`, `output_hidden_states` and `use_cache` cannot be updated when calling a model.They have to be set to True/False in the config object (i.e.: `config=XConfig.from_pretrained('name', output_attentions=True)`).\n",
      "WARNING:tensorflow:The parameter `return_dict` cannot be set in graph mode and will always be set to `True`.\n",
      "129/129 [==============================] - 46s 337ms/step - loss: 0.0493 - accuracy: 0.9805\n",
      "test loss, test acc: [0.04933295398950577, 0.9805447459220886]\n"
     ]
    }
   ],
   "source": [
    "# Evaluate the model on the test data using `evaluate`\n",
    "print(\"Evaluate on test data\")\n",
    "results = model.evaluate(tfdataset_test, batch_size=128)\n",
    "print(\"test loss, test acc:\", results)"
   ]
  },
  {
   "cell_type": "code",
   "execution_count": null,
   "metadata": {
    "id": "c0X8vfMwMgUA"
   },
   "outputs": [],
   "source": []
  }
 ],
 "metadata": {
  "accelerator": "GPU",
  "colab": {
   "authorship_tag": "ABX9TyMNNtRH4oSZmpEss3ngtYuU",
   "collapsed_sections": [],
   "name": "Einfaches_Tensorflow_Modell_trainieren_Ackermann_Guenther_Pasciullo",
   "provenance": []
  },
  "kernelspec": {
   "display_name": "Python 3",
   "language": "python",
   "name": "python3"
  },
  "language_info": {
   "codemirror_mode": {
    "name": "ipython",
    "version": 3
   },
   "file_extension": ".py",
   "mimetype": "text/x-python",
   "name": "python",
   "nbconvert_exporter": "python",
   "pygments_lexer": "ipython3",
   "version": "3.7.4"
  },
  "toc": {
   "base_numbering": 1,
   "nav_menu": {},
   "number_sections": true,
   "sideBar": true,
   "skip_h1_title": false,
   "title_cell": "Table of Contents",
   "title_sidebar": "Contents",
   "toc_cell": false,
   "toc_position": {},
   "toc_section_display": true,
   "toc_window_display": false
  },
  "widgets": {
   "application/vnd.jupyter.widget-state+json": {
    "01f5cd2ce5564179a81b0e8051dd3f08": {
     "model_module": "@jupyter-widgets/controls",
     "model_name": "ProgressStyleModel",
     "state": {
      "_model_module": "@jupyter-widgets/controls",
      "_model_module_version": "1.5.0",
      "_model_name": "ProgressStyleModel",
      "_view_count": null,
      "_view_module": "@jupyter-widgets/base",
      "_view_module_version": "1.2.0",
      "_view_name": "StyleView",
      "bar_color": null,
      "description_width": "initial"
     }
    },
    "032c85d9655641bbbaf73eac7a708481": {
     "model_module": "@jupyter-widgets/controls",
     "model_name": "FloatProgressModel",
     "state": {
      "_dom_classes": [],
      "_model_module": "@jupyter-widgets/controls",
      "_model_module_version": "1.5.0",
      "_model_name": "FloatProgressModel",
      "_view_count": null,
      "_view_module": "@jupyter-widgets/controls",
      "_view_module_version": "1.5.0",
      "_view_name": "ProgressView",
      "bar_style": "success",
      "description": "Downloading: ",
      "description_tooltip": null,
      "layout": "IPY_MODEL_60971ce2c0a744ea8e1060387995e985",
      "max": 1092281,
      "min": 0,
      "orientation": "horizontal",
      "style": "IPY_MODEL_b314db9e193f4796a6fa946f10910059",
      "value": 1092281
     }
    },
    "046208a2b70442c1ac340c70248acf40": {
     "model_module": "@jupyter-widgets/controls",
     "model_name": "HBoxModel",
     "state": {
      "_dom_classes": [],
      "_model_module": "@jupyter-widgets/controls",
      "_model_module_version": "1.5.0",
      "_model_name": "HBoxModel",
      "_view_count": null,
      "_view_module": "@jupyter-widgets/controls",
      "_view_module_version": "1.5.0",
      "_view_name": "HBoxView",
      "box_style": "",
      "children": [
       "IPY_MODEL_c2d07f72f4a44dd18942777ea5be683e",
       "IPY_MODEL_3b52add96f584c41bd65d9ef58d548e6"
      ],
      "layout": "IPY_MODEL_0f1498d9b1bb467b99cda629fb4bf662"
     }
    },
    "09256159e45444239b31039e4739e8d0": {
     "model_module": "@jupyter-widgets/base",
     "model_name": "LayoutModel",
     "state": {
      "_model_module": "@jupyter-widgets/base",
      "_model_module_version": "1.2.0",
      "_model_name": "LayoutModel",
      "_view_count": null,
      "_view_module": "@jupyter-widgets/base",
      "_view_module_version": "1.2.0",
      "_view_name": "LayoutView",
      "align_content": null,
      "align_items": null,
      "align_self": null,
      "border": null,
      "bottom": null,
      "display": null,
      "flex": null,
      "flex_flow": null,
      "grid_area": null,
      "grid_auto_columns": null,
      "grid_auto_flow": null,
      "grid_auto_rows": null,
      "grid_column": null,
      "grid_gap": null,
      "grid_row": null,
      "grid_template_areas": null,
      "grid_template_columns": null,
      "grid_template_rows": null,
      "height": null,
      "justify_content": null,
      "justify_items": null,
      "left": null,
      "margin": null,
      "max_height": null,
      "max_width": null,
      "min_height": null,
      "min_width": null,
      "object_fit": null,
      "object_position": null,
      "order": null,
      "overflow": null,
      "overflow_x": null,
      "overflow_y": null,
      "padding": null,
      "right": null,
      "top": null,
      "visibility": null,
      "width": null
     }
    },
    "0a8fcc805e714d728e66e32d43ee7e8e": {
     "model_module": "@jupyter-widgets/controls",
     "model_name": "ProgressStyleModel",
     "state": {
      "_model_module": "@jupyter-widgets/controls",
      "_model_module_version": "1.5.0",
      "_model_name": "ProgressStyleModel",
      "_view_count": null,
      "_view_module": "@jupyter-widgets/base",
      "_view_module_version": "1.2.0",
      "_view_name": "StyleView",
      "bar_color": null,
      "description_width": "initial"
     }
    },
    "0e133d88590648ecae344f2f8651bc07": {
     "model_module": "@jupyter-widgets/controls",
     "model_name": "DescriptionStyleModel",
     "state": {
      "_model_module": "@jupyter-widgets/controls",
      "_model_module_version": "1.5.0",
      "_model_name": "DescriptionStyleModel",
      "_view_count": null,
      "_view_module": "@jupyter-widgets/base",
      "_view_module_version": "1.2.0",
      "_view_name": "StyleView",
      "description_width": ""
     }
    },
    "0f1498d9b1bb467b99cda629fb4bf662": {
     "model_module": "@jupyter-widgets/base",
     "model_name": "LayoutModel",
     "state": {
      "_model_module": "@jupyter-widgets/base",
      "_model_module_version": "1.2.0",
      "_model_name": "LayoutModel",
      "_view_count": null,
      "_view_module": "@jupyter-widgets/base",
      "_view_module_version": "1.2.0",
      "_view_name": "LayoutView",
      "align_content": null,
      "align_items": null,
      "align_self": null,
      "border": null,
      "bottom": null,
      "display": null,
      "flex": null,
      "flex_flow": null,
      "grid_area": null,
      "grid_auto_columns": null,
      "grid_auto_flow": null,
      "grid_auto_rows": null,
      "grid_column": null,
      "grid_gap": null,
      "grid_row": null,
      "grid_template_areas": null,
      "grid_template_columns": null,
      "grid_template_rows": null,
      "height": null,
      "justify_content": null,
      "justify_items": null,
      "left": null,
      "margin": null,
      "max_height": null,
      "max_width": null,
      "min_height": null,
      "min_width": null,
      "object_fit": null,
      "object_position": null,
      "order": null,
      "overflow": null,
      "overflow_x": null,
      "overflow_y": null,
      "padding": null,
      "right": null,
      "top": null,
      "visibility": null,
      "width": null
     }
    },
    "11c104dc0e9544709c324e19f652392e": {
     "model_module": "@jupyter-widgets/base",
     "model_name": "LayoutModel",
     "state": {
      "_model_module": "@jupyter-widgets/base",
      "_model_module_version": "1.2.0",
      "_model_name": "LayoutModel",
      "_view_count": null,
      "_view_module": "@jupyter-widgets/base",
      "_view_module_version": "1.2.0",
      "_view_name": "LayoutView",
      "align_content": null,
      "align_items": null,
      "align_self": null,
      "border": null,
      "bottom": null,
      "display": null,
      "flex": null,
      "flex_flow": null,
      "grid_area": null,
      "grid_auto_columns": null,
      "grid_auto_flow": null,
      "grid_auto_rows": null,
      "grid_column": null,
      "grid_gap": null,
      "grid_row": null,
      "grid_template_areas": null,
      "grid_template_columns": null,
      "grid_template_rows": null,
      "height": null,
      "justify_content": null,
      "justify_items": null,
      "left": null,
      "margin": null,
      "max_height": null,
      "max_width": null,
      "min_height": null,
      "min_width": null,
      "object_fit": null,
      "object_position": null,
      "order": null,
      "overflow": null,
      "overflow_x": null,
      "overflow_y": null,
      "padding": null,
      "right": null,
      "top": null,
      "visibility": null,
      "width": null
     }
    },
    "137353af6c824ebca173d405ea534c8d": {
     "model_module": "@jupyter-widgets/controls",
     "model_name": "HTMLModel",
     "state": {
      "_dom_classes": [],
      "_model_module": "@jupyter-widgets/controls",
      "_model_module_version": "1.5.0",
      "_model_name": "HTMLModel",
      "_view_count": null,
      "_view_module": "@jupyter-widgets/controls",
      "_view_module_version": "1.5.0",
      "_view_name": "HTMLView",
      "description": "",
      "description_tooltip": null,
      "layout": "IPY_MODEL_37f237a3b49e4b13895bed01468df5d0",
      "placeholder": "​",
      "style": "IPY_MODEL_9f873744053d48a7b7bf1dc411052c1f",
      "value": " 2.76M/? [00:00&lt;00:00, 17.6MB/s]"
     }
    },
    "165bcce635a44d6ea8fa227c56912127": {
     "model_module": "@jupyter-widgets/base",
     "model_name": "LayoutModel",
     "state": {
      "_model_module": "@jupyter-widgets/base",
      "_model_module_version": "1.2.0",
      "_model_name": "LayoutModel",
      "_view_count": null,
      "_view_module": "@jupyter-widgets/base",
      "_view_module_version": "1.2.0",
      "_view_name": "LayoutView",
      "align_content": null,
      "align_items": null,
      "align_self": null,
      "border": null,
      "bottom": null,
      "display": null,
      "flex": null,
      "flex_flow": null,
      "grid_area": null,
      "grid_auto_columns": null,
      "grid_auto_flow": null,
      "grid_auto_rows": null,
      "grid_column": null,
      "grid_gap": null,
      "grid_row": null,
      "grid_template_areas": null,
      "grid_template_columns": null,
      "grid_template_rows": null,
      "height": null,
      "justify_content": null,
      "justify_items": null,
      "left": null,
      "margin": null,
      "max_height": null,
      "max_width": null,
      "min_height": null,
      "min_width": null,
      "object_fit": null,
      "object_position": null,
      "order": null,
      "overflow": null,
      "overflow_x": null,
      "overflow_y": null,
      "padding": null,
      "right": null,
      "top": null,
      "visibility": null,
      "width": null
     }
    },
    "17cd88d19f2849cea3d098a5f474d076": {
     "model_module": "@jupyter-widgets/controls",
     "model_name": "ProgressStyleModel",
     "state": {
      "_model_module": "@jupyter-widgets/controls",
      "_model_module_version": "1.5.0",
      "_model_name": "ProgressStyleModel",
      "_view_count": null,
      "_view_module": "@jupyter-widgets/base",
      "_view_module_version": "1.2.0",
      "_view_name": "StyleView",
      "bar_color": null,
      "description_width": "initial"
     }
    },
    "17fdd0dfc08e43ecb306a44420fc766d": {
     "model_module": "@jupyter-widgets/controls",
     "model_name": "HBoxModel",
     "state": {
      "_dom_classes": [],
      "_model_module": "@jupyter-widgets/controls",
      "_model_module_version": "1.5.0",
      "_model_name": "HBoxModel",
      "_view_count": null,
      "_view_module": "@jupyter-widgets/controls",
      "_view_module_version": "1.5.0",
      "_view_name": "HBoxView",
      "box_style": "",
      "children": [
       "IPY_MODEL_032c85d9655641bbbaf73eac7a708481",
       "IPY_MODEL_137353af6c824ebca173d405ea534c8d"
      ],
      "layout": "IPY_MODEL_91a11a350e2e4168aaad0ff7acfedde3"
     }
    },
    "1bba484d1d01452180f2ff140dc1d356": {
     "model_module": "@jupyter-widgets/base",
     "model_name": "LayoutModel",
     "state": {
      "_model_module": "@jupyter-widgets/base",
      "_model_module_version": "1.2.0",
      "_model_name": "LayoutModel",
      "_view_count": null,
      "_view_module": "@jupyter-widgets/base",
      "_view_module_version": "1.2.0",
      "_view_name": "LayoutView",
      "align_content": null,
      "align_items": null,
      "align_self": null,
      "border": null,
      "bottom": null,
      "display": null,
      "flex": null,
      "flex_flow": null,
      "grid_area": null,
      "grid_auto_columns": null,
      "grid_auto_flow": null,
      "grid_auto_rows": null,
      "grid_column": null,
      "grid_gap": null,
      "grid_row": null,
      "grid_template_areas": null,
      "grid_template_columns": null,
      "grid_template_rows": null,
      "height": null,
      "justify_content": null,
      "justify_items": null,
      "left": null,
      "margin": null,
      "max_height": null,
      "max_width": null,
      "min_height": null,
      "min_width": null,
      "object_fit": null,
      "object_position": null,
      "order": null,
      "overflow": null,
      "overflow_x": null,
      "overflow_y": null,
      "padding": null,
      "right": null,
      "top": null,
      "visibility": null,
      "width": null
     }
    },
    "1cb302424e9e444cae272027ab3672b3": {
     "model_module": "@jupyter-widgets/controls",
     "model_name": "DescriptionStyleModel",
     "state": {
      "_model_module": "@jupyter-widgets/controls",
      "_model_module_version": "1.5.0",
      "_model_name": "DescriptionStyleModel",
      "_view_count": null,
      "_view_module": "@jupyter-widgets/base",
      "_view_module_version": "1.2.0",
      "_view_name": "StyleView",
      "description_width": ""
     }
    },
    "2009e279c2a0498a87f999e2f6b535e0": {
     "model_module": "@jupyter-widgets/controls",
     "model_name": "ProgressStyleModel",
     "state": {
      "_model_module": "@jupyter-widgets/controls",
      "_model_module_version": "1.5.0",
      "_model_name": "ProgressStyleModel",
      "_view_count": null,
      "_view_module": "@jupyter-widgets/base",
      "_view_module_version": "1.2.0",
      "_view_name": "StyleView",
      "bar_color": null,
      "description_width": "initial"
     }
    },
    "229c1991f6664501a41209fa5de449fb": {
     "model_module": "@jupyter-widgets/base",
     "model_name": "LayoutModel",
     "state": {
      "_model_module": "@jupyter-widgets/base",
      "_model_module_version": "1.2.0",
      "_model_name": "LayoutModel",
      "_view_count": null,
      "_view_module": "@jupyter-widgets/base",
      "_view_module_version": "1.2.0",
      "_view_name": "LayoutView",
      "align_content": null,
      "align_items": null,
      "align_self": null,
      "border": null,
      "bottom": null,
      "display": null,
      "flex": null,
      "flex_flow": null,
      "grid_area": null,
      "grid_auto_columns": null,
      "grid_auto_flow": null,
      "grid_auto_rows": null,
      "grid_column": null,
      "grid_gap": null,
      "grid_row": null,
      "grid_template_areas": null,
      "grid_template_columns": null,
      "grid_template_rows": null,
      "height": null,
      "justify_content": null,
      "justify_items": null,
      "left": null,
      "margin": null,
      "max_height": null,
      "max_width": null,
      "min_height": null,
      "min_width": null,
      "object_fit": null,
      "object_position": null,
      "order": null,
      "overflow": null,
      "overflow_x": null,
      "overflow_y": null,
      "padding": null,
      "right": null,
      "top": null,
      "visibility": null,
      "width": null
     }
    },
    "251964d3564a40cdabe06d7274d29c6b": {
     "model_module": "@jupyter-widgets/base",
     "model_name": "LayoutModel",
     "state": {
      "_model_module": "@jupyter-widgets/base",
      "_model_module_version": "1.2.0",
      "_model_name": "LayoutModel",
      "_view_count": null,
      "_view_module": "@jupyter-widgets/base",
      "_view_module_version": "1.2.0",
      "_view_name": "LayoutView",
      "align_content": null,
      "align_items": null,
      "align_self": null,
      "border": null,
      "bottom": null,
      "display": null,
      "flex": null,
      "flex_flow": null,
      "grid_area": null,
      "grid_auto_columns": null,
      "grid_auto_flow": null,
      "grid_auto_rows": null,
      "grid_column": null,
      "grid_gap": null,
      "grid_row": null,
      "grid_template_areas": null,
      "grid_template_columns": null,
      "grid_template_rows": null,
      "height": null,
      "justify_content": null,
      "justify_items": null,
      "left": null,
      "margin": null,
      "max_height": null,
      "max_width": null,
      "min_height": null,
      "min_width": null,
      "object_fit": null,
      "object_position": null,
      "order": null,
      "overflow": null,
      "overflow_x": null,
      "overflow_y": null,
      "padding": null,
      "right": null,
      "top": null,
      "visibility": null,
      "width": null
     }
    },
    "26b0ae2937a6450da2fc0029e3540b1f": {
     "model_module": "@jupyter-widgets/controls",
     "model_name": "DescriptionStyleModel",
     "state": {
      "_model_module": "@jupyter-widgets/controls",
      "_model_module_version": "1.5.0",
      "_model_name": "DescriptionStyleModel",
      "_view_count": null,
      "_view_module": "@jupyter-widgets/base",
      "_view_module_version": "1.2.0",
      "_view_name": "StyleView",
      "description_width": ""
     }
    },
    "2853821e89754871afb28cc704254b44": {
     "model_module": "@jupyter-widgets/controls",
     "model_name": "HTMLModel",
     "state": {
      "_dom_classes": [],
      "_model_module": "@jupyter-widgets/controls",
      "_model_module_version": "1.5.0",
      "_model_name": "HTMLModel",
      "_view_count": null,
      "_view_module": "@jupyter-widgets/controls",
      "_view_module_version": "1.5.0",
      "_view_name": "HTMLView",
      "description": "",
      "description_tooltip": null,
      "layout": "IPY_MODEL_3ad0ae3493a64f2684e89c5735ce2047",
      "placeholder": "​",
      "style": "IPY_MODEL_2ddf522356844a5e963a99a1f32af98b",
      "value": " 2.07k/? [00:00&lt;00:00, 31.4kB/s]"
     }
    },
    "2c8c151584a8406f8743b466ee6591ba": {
     "model_module": "@jupyter-widgets/controls",
     "model_name": "HTMLModel",
     "state": {
      "_dom_classes": [],
      "_model_module": "@jupyter-widgets/controls",
      "_model_module_version": "1.5.0",
      "_model_name": "HTMLModel",
      "_view_count": null,
      "_view_module": "@jupyter-widgets/controls",
      "_view_module_version": "1.5.0",
      "_view_name": "HTMLView",
      "description": "",
      "description_tooltip": null,
      "layout": "IPY_MODEL_3f930ad18a334cafa6f1585ece25e910",
      "placeholder": "​",
      "style": "IPY_MODEL_3dbb34d53b0b406bb601bbd539cf3276",
      "value": " 83.0/83.0 [00:00&lt;00:00, 96.2B/s]"
     }
    },
    "2d2b6008b2e84875b6025590348b7b26": {
     "model_module": "@jupyter-widgets/base",
     "model_name": "LayoutModel",
     "state": {
      "_model_module": "@jupyter-widgets/base",
      "_model_module_version": "1.2.0",
      "_model_name": "LayoutModel",
      "_view_count": null,
      "_view_module": "@jupyter-widgets/base",
      "_view_module_version": "1.2.0",
      "_view_name": "LayoutView",
      "align_content": null,
      "align_items": null,
      "align_self": null,
      "border": null,
      "bottom": null,
      "display": null,
      "flex": null,
      "flex_flow": null,
      "grid_area": null,
      "grid_auto_columns": null,
      "grid_auto_flow": null,
      "grid_auto_rows": null,
      "grid_column": null,
      "grid_gap": null,
      "grid_row": null,
      "grid_template_areas": null,
      "grid_template_columns": null,
      "grid_template_rows": null,
      "height": null,
      "justify_content": null,
      "justify_items": null,
      "left": null,
      "margin": null,
      "max_height": null,
      "max_width": null,
      "min_height": null,
      "min_width": null,
      "object_fit": null,
      "object_position": null,
      "order": null,
      "overflow": null,
      "overflow_x": null,
      "overflow_y": null,
      "padding": null,
      "right": null,
      "top": null,
      "visibility": null,
      "width": null
     }
    },
    "2ddf522356844a5e963a99a1f32af98b": {
     "model_module": "@jupyter-widgets/controls",
     "model_name": "DescriptionStyleModel",
     "state": {
      "_model_module": "@jupyter-widgets/controls",
      "_model_module_version": "1.5.0",
      "_model_name": "DescriptionStyleModel",
      "_view_count": null,
      "_view_module": "@jupyter-widgets/base",
      "_view_module_version": "1.2.0",
      "_view_name": "StyleView",
      "description_width": ""
     }
    },
    "3052c1e56a1c48c9853bcb55b30f3264": {
     "model_module": "@jupyter-widgets/base",
     "model_name": "LayoutModel",
     "state": {
      "_model_module": "@jupyter-widgets/base",
      "_model_module_version": "1.2.0",
      "_model_name": "LayoutModel",
      "_view_count": null,
      "_view_module": "@jupyter-widgets/base",
      "_view_module_version": "1.2.0",
      "_view_name": "LayoutView",
      "align_content": null,
      "align_items": null,
      "align_self": null,
      "border": null,
      "bottom": null,
      "display": null,
      "flex": null,
      "flex_flow": null,
      "grid_area": null,
      "grid_auto_columns": null,
      "grid_auto_flow": null,
      "grid_auto_rows": null,
      "grid_column": null,
      "grid_gap": null,
      "grid_row": null,
      "grid_template_areas": null,
      "grid_template_columns": null,
      "grid_template_rows": null,
      "height": null,
      "justify_content": null,
      "justify_items": null,
      "left": null,
      "margin": null,
      "max_height": null,
      "max_width": null,
      "min_height": null,
      "min_width": null,
      "object_fit": null,
      "object_position": null,
      "order": null,
      "overflow": null,
      "overflow_x": null,
      "overflow_y": null,
      "padding": null,
      "right": null,
      "top": null,
      "visibility": null,
      "width": null
     }
    },
    "3057197645ee4d51aadb48a337d35181": {
     "model_module": "@jupyter-widgets/controls",
     "model_name": "ProgressStyleModel",
     "state": {
      "_model_module": "@jupyter-widgets/controls",
      "_model_module_version": "1.5.0",
      "_model_name": "ProgressStyleModel",
      "_view_count": null,
      "_view_module": "@jupyter-widgets/base",
      "_view_module_version": "1.2.0",
      "_view_name": "StyleView",
      "bar_color": null,
      "description_width": "initial"
     }
    },
    "331c29c504ba479fbd3217980e1ab0ad": {
     "model_module": "@jupyter-widgets/base",
     "model_name": "LayoutModel",
     "state": {
      "_model_module": "@jupyter-widgets/base",
      "_model_module_version": "1.2.0",
      "_model_name": "LayoutModel",
      "_view_count": null,
      "_view_module": "@jupyter-widgets/base",
      "_view_module_version": "1.2.0",
      "_view_name": "LayoutView",
      "align_content": null,
      "align_items": null,
      "align_self": null,
      "border": null,
      "bottom": null,
      "display": null,
      "flex": null,
      "flex_flow": null,
      "grid_area": null,
      "grid_auto_columns": null,
      "grid_auto_flow": null,
      "grid_auto_rows": null,
      "grid_column": null,
      "grid_gap": null,
      "grid_row": null,
      "grid_template_areas": null,
      "grid_template_columns": null,
      "grid_template_rows": null,
      "height": null,
      "justify_content": null,
      "justify_items": null,
      "left": null,
      "margin": null,
      "max_height": null,
      "max_width": null,
      "min_height": null,
      "min_width": null,
      "object_fit": null,
      "object_position": null,
      "order": null,
      "overflow": null,
      "overflow_x": null,
      "overflow_y": null,
      "padding": null,
      "right": null,
      "top": null,
      "visibility": null,
      "width": null
     }
    },
    "33eec945cca7440284cf120260c4b969": {
     "model_module": "@jupyter-widgets/base",
     "model_name": "LayoutModel",
     "state": {
      "_model_module": "@jupyter-widgets/base",
      "_model_module_version": "1.2.0",
      "_model_name": "LayoutModel",
      "_view_count": null,
      "_view_module": "@jupyter-widgets/base",
      "_view_module_version": "1.2.0",
      "_view_name": "LayoutView",
      "align_content": null,
      "align_items": null,
      "align_self": null,
      "border": null,
      "bottom": null,
      "display": null,
      "flex": null,
      "flex_flow": null,
      "grid_area": null,
      "grid_auto_columns": null,
      "grid_auto_flow": null,
      "grid_auto_rows": null,
      "grid_column": null,
      "grid_gap": null,
      "grid_row": null,
      "grid_template_areas": null,
      "grid_template_columns": null,
      "grid_template_rows": null,
      "height": null,
      "justify_content": null,
      "justify_items": null,
      "left": null,
      "margin": null,
      "max_height": null,
      "max_width": null,
      "min_height": null,
      "min_width": null,
      "object_fit": null,
      "object_position": null,
      "order": null,
      "overflow": null,
      "overflow_x": null,
      "overflow_y": null,
      "padding": null,
      "right": null,
      "top": null,
      "visibility": null,
      "width": null
     }
    },
    "35ddf645f6384f26945b759fac4185da": {
     "model_module": "@jupyter-widgets/base",
     "model_name": "LayoutModel",
     "state": {
      "_model_module": "@jupyter-widgets/base",
      "_model_module_version": "1.2.0",
      "_model_name": "LayoutModel",
      "_view_count": null,
      "_view_module": "@jupyter-widgets/base",
      "_view_module_version": "1.2.0",
      "_view_name": "LayoutView",
      "align_content": null,
      "align_items": null,
      "align_self": null,
      "border": null,
      "bottom": null,
      "display": null,
      "flex": null,
      "flex_flow": null,
      "grid_area": null,
      "grid_auto_columns": null,
      "grid_auto_flow": null,
      "grid_auto_rows": null,
      "grid_column": null,
      "grid_gap": null,
      "grid_row": null,
      "grid_template_areas": null,
      "grid_template_columns": null,
      "grid_template_rows": null,
      "height": null,
      "justify_content": null,
      "justify_items": null,
      "left": null,
      "margin": null,
      "max_height": null,
      "max_width": null,
      "min_height": null,
      "min_width": null,
      "object_fit": null,
      "object_position": null,
      "order": null,
      "overflow": null,
      "overflow_x": null,
      "overflow_y": null,
      "padding": null,
      "right": null,
      "top": null,
      "visibility": null,
      "width": null
     }
    },
    "35e81c1a429f4bcdb4e087b40138d247": {
     "model_module": "@jupyter-widgets/base",
     "model_name": "LayoutModel",
     "state": {
      "_model_module": "@jupyter-widgets/base",
      "_model_module_version": "1.2.0",
      "_model_name": "LayoutModel",
      "_view_count": null,
      "_view_module": "@jupyter-widgets/base",
      "_view_module_version": "1.2.0",
      "_view_name": "LayoutView",
      "align_content": null,
      "align_items": null,
      "align_self": null,
      "border": null,
      "bottom": null,
      "display": null,
      "flex": null,
      "flex_flow": null,
      "grid_area": null,
      "grid_auto_columns": null,
      "grid_auto_flow": null,
      "grid_auto_rows": null,
      "grid_column": null,
      "grid_gap": null,
      "grid_row": null,
      "grid_template_areas": null,
      "grid_template_columns": null,
      "grid_template_rows": null,
      "height": null,
      "justify_content": null,
      "justify_items": null,
      "left": null,
      "margin": null,
      "max_height": null,
      "max_width": null,
      "min_height": null,
      "min_width": null,
      "object_fit": null,
      "object_position": null,
      "order": null,
      "overflow": null,
      "overflow_x": null,
      "overflow_y": null,
      "padding": null,
      "right": null,
      "top": null,
      "visibility": null,
      "width": null
     }
    },
    "37f237a3b49e4b13895bed01468df5d0": {
     "model_module": "@jupyter-widgets/base",
     "model_name": "LayoutModel",
     "state": {
      "_model_module": "@jupyter-widgets/base",
      "_model_module_version": "1.2.0",
      "_model_name": "LayoutModel",
      "_view_count": null,
      "_view_module": "@jupyter-widgets/base",
      "_view_module_version": "1.2.0",
      "_view_name": "LayoutView",
      "align_content": null,
      "align_items": null,
      "align_self": null,
      "border": null,
      "bottom": null,
      "display": null,
      "flex": null,
      "flex_flow": null,
      "grid_area": null,
      "grid_auto_columns": null,
      "grid_auto_flow": null,
      "grid_auto_rows": null,
      "grid_column": null,
      "grid_gap": null,
      "grid_row": null,
      "grid_template_areas": null,
      "grid_template_columns": null,
      "grid_template_rows": null,
      "height": null,
      "justify_content": null,
      "justify_items": null,
      "left": null,
      "margin": null,
      "max_height": null,
      "max_width": null,
      "min_height": null,
      "min_width": null,
      "object_fit": null,
      "object_position": null,
      "order": null,
      "overflow": null,
      "overflow_x": null,
      "overflow_y": null,
      "padding": null,
      "right": null,
      "top": null,
      "visibility": null,
      "width": null
     }
    },
    "3ad0ae3493a64f2684e89c5735ce2047": {
     "model_module": "@jupyter-widgets/base",
     "model_name": "LayoutModel",
     "state": {
      "_model_module": "@jupyter-widgets/base",
      "_model_module_version": "1.2.0",
      "_model_name": "LayoutModel",
      "_view_count": null,
      "_view_module": "@jupyter-widgets/base",
      "_view_module_version": "1.2.0",
      "_view_name": "LayoutView",
      "align_content": null,
      "align_items": null,
      "align_self": null,
      "border": null,
      "bottom": null,
      "display": null,
      "flex": null,
      "flex_flow": null,
      "grid_area": null,
      "grid_auto_columns": null,
      "grid_auto_flow": null,
      "grid_auto_rows": null,
      "grid_column": null,
      "grid_gap": null,
      "grid_row": null,
      "grid_template_areas": null,
      "grid_template_columns": null,
      "grid_template_rows": null,
      "height": null,
      "justify_content": null,
      "justify_items": null,
      "left": null,
      "margin": null,
      "max_height": null,
      "max_width": null,
      "min_height": null,
      "min_width": null,
      "object_fit": null,
      "object_position": null,
      "order": null,
      "overflow": null,
      "overflow_x": null,
      "overflow_y": null,
      "padding": null,
      "right": null,
      "top": null,
      "visibility": null,
      "width": null
     }
    },
    "3b52add96f584c41bd65d9ef58d548e6": {
     "model_module": "@jupyter-widgets/controls",
     "model_name": "HTMLModel",
     "state": {
      "_dom_classes": [],
      "_model_module": "@jupyter-widgets/controls",
      "_model_module_version": "1.5.0",
      "_model_name": "HTMLModel",
      "_view_count": null,
      "_view_module": "@jupyter-widgets/controls",
      "_view_module_version": "1.5.0",
      "_view_name": "HTMLView",
      "description": "",
      "description_tooltip": null,
      "layout": "IPY_MODEL_54dd7d1352494b39b073a925df274af9",
      "placeholder": "​",
      "style": "IPY_MODEL_522a8393181c43a48ef75030f6e156a8",
      "value": " 10/10 [00:03&lt;00:00,  2.90ba/s]"
     }
    },
    "3d50ccdb5b70444a9381eadf6e689b72": {
     "model_module": "@jupyter-widgets/controls",
     "model_name": "DescriptionStyleModel",
     "state": {
      "_model_module": "@jupyter-widgets/controls",
      "_model_module_version": "1.5.0",
      "_model_name": "DescriptionStyleModel",
      "_view_count": null,
      "_view_module": "@jupyter-widgets/base",
      "_view_module_version": "1.2.0",
      "_view_name": "StyleView",
      "description_width": ""
     }
    },
    "3dbb34d53b0b406bb601bbd539cf3276": {
     "model_module": "@jupyter-widgets/controls",
     "model_name": "DescriptionStyleModel",
     "state": {
      "_model_module": "@jupyter-widgets/controls",
      "_model_module_version": "1.5.0",
      "_model_name": "DescriptionStyleModel",
      "_view_count": null,
      "_view_module": "@jupyter-widgets/base",
      "_view_module_version": "1.2.0",
      "_view_name": "StyleView",
      "description_width": ""
     }
    },
    "3ef430000382449d973cb02f4241b5e6": {
     "model_module": "@jupyter-widgets/base",
     "model_name": "LayoutModel",
     "state": {
      "_model_module": "@jupyter-widgets/base",
      "_model_module_version": "1.2.0",
      "_model_name": "LayoutModel",
      "_view_count": null,
      "_view_module": "@jupyter-widgets/base",
      "_view_module_version": "1.2.0",
      "_view_name": "LayoutView",
      "align_content": null,
      "align_items": null,
      "align_self": null,
      "border": null,
      "bottom": null,
      "display": null,
      "flex": null,
      "flex_flow": null,
      "grid_area": null,
      "grid_auto_columns": null,
      "grid_auto_flow": null,
      "grid_auto_rows": null,
      "grid_column": null,
      "grid_gap": null,
      "grid_row": null,
      "grid_template_areas": null,
      "grid_template_columns": null,
      "grid_template_rows": null,
      "height": null,
      "justify_content": null,
      "justify_items": null,
      "left": null,
      "margin": null,
      "max_height": null,
      "max_width": null,
      "min_height": null,
      "min_width": null,
      "object_fit": null,
      "object_position": null,
      "order": null,
      "overflow": null,
      "overflow_x": null,
      "overflow_y": null,
      "padding": null,
      "right": null,
      "top": null,
      "visibility": null,
      "width": null
     }
    },
    "3f930ad18a334cafa6f1585ece25e910": {
     "model_module": "@jupyter-widgets/base",
     "model_name": "LayoutModel",
     "state": {
      "_model_module": "@jupyter-widgets/base",
      "_model_module_version": "1.2.0",
      "_model_name": "LayoutModel",
      "_view_count": null,
      "_view_module": "@jupyter-widgets/base",
      "_view_module_version": "1.2.0",
      "_view_name": "LayoutView",
      "align_content": null,
      "align_items": null,
      "align_self": null,
      "border": null,
      "bottom": null,
      "display": null,
      "flex": null,
      "flex_flow": null,
      "grid_area": null,
      "grid_auto_columns": null,
      "grid_auto_flow": null,
      "grid_auto_rows": null,
      "grid_column": null,
      "grid_gap": null,
      "grid_row": null,
      "grid_template_areas": null,
      "grid_template_columns": null,
      "grid_template_rows": null,
      "height": null,
      "justify_content": null,
      "justify_items": null,
      "left": null,
      "margin": null,
      "max_height": null,
      "max_width": null,
      "min_height": null,
      "min_width": null,
      "object_fit": null,
      "object_position": null,
      "order": null,
      "overflow": null,
      "overflow_x": null,
      "overflow_y": null,
      "padding": null,
      "right": null,
      "top": null,
      "visibility": null,
      "width": null
     }
    },
    "406f38a9695447dbb5a4b554986d53ff": {
     "model_module": "@jupyter-widgets/base",
     "model_name": "LayoutModel",
     "state": {
      "_model_module": "@jupyter-widgets/base",
      "_model_module_version": "1.2.0",
      "_model_name": "LayoutModel",
      "_view_count": null,
      "_view_module": "@jupyter-widgets/base",
      "_view_module_version": "1.2.0",
      "_view_name": "LayoutView",
      "align_content": null,
      "align_items": null,
      "align_self": null,
      "border": null,
      "bottom": null,
      "display": null,
      "flex": null,
      "flex_flow": null,
      "grid_area": null,
      "grid_auto_columns": null,
      "grid_auto_flow": null,
      "grid_auto_rows": null,
      "grid_column": null,
      "grid_gap": null,
      "grid_row": null,
      "grid_template_areas": null,
      "grid_template_columns": null,
      "grid_template_rows": null,
      "height": null,
      "justify_content": null,
      "justify_items": null,
      "left": null,
      "margin": null,
      "max_height": null,
      "max_width": null,
      "min_height": null,
      "min_width": null,
      "object_fit": null,
      "object_position": null,
      "order": null,
      "overflow": null,
      "overflow_x": null,
      "overflow_y": null,
      "padding": null,
      "right": null,
      "top": null,
      "visibility": null,
      "width": null
     }
    },
    "42da7a3d203d43a88c4214a164d0b2ac": {
     "model_module": "@jupyter-widgets/controls",
     "model_name": "HBoxModel",
     "state": {
      "_dom_classes": [],
      "_model_module": "@jupyter-widgets/controls",
      "_model_module_version": "1.5.0",
      "_model_name": "HBoxModel",
      "_view_count": null,
      "_view_module": "@jupyter-widgets/controls",
      "_view_module_version": "1.5.0",
      "_view_name": "HBoxView",
      "box_style": "",
      "children": [
       "IPY_MODEL_529487c30e5e467b86e1f9c6a09a8f4d",
       "IPY_MODEL_e7611d3ff4c844ff9e1171745164d7ba"
      ],
      "layout": "IPY_MODEL_3052c1e56a1c48c9853bcb55b30f3264"
     }
    },
    "4495ab121c5a4011abf6fe94d8de5601": {
     "model_module": "@jupyter-widgets/base",
     "model_name": "LayoutModel",
     "state": {
      "_model_module": "@jupyter-widgets/base",
      "_model_module_version": "1.2.0",
      "_model_name": "LayoutModel",
      "_view_count": null,
      "_view_module": "@jupyter-widgets/base",
      "_view_module_version": "1.2.0",
      "_view_name": "LayoutView",
      "align_content": null,
      "align_items": null,
      "align_self": null,
      "border": null,
      "bottom": null,
      "display": null,
      "flex": null,
      "flex_flow": null,
      "grid_area": null,
      "grid_auto_columns": null,
      "grid_auto_flow": null,
      "grid_auto_rows": null,
      "grid_column": null,
      "grid_gap": null,
      "grid_row": null,
      "grid_template_areas": null,
      "grid_template_columns": null,
      "grid_template_rows": null,
      "height": null,
      "justify_content": null,
      "justify_items": null,
      "left": null,
      "margin": null,
      "max_height": null,
      "max_width": null,
      "min_height": null,
      "min_width": null,
      "object_fit": null,
      "object_position": null,
      "order": null,
      "overflow": null,
      "overflow_x": null,
      "overflow_y": null,
      "padding": null,
      "right": null,
      "top": null,
      "visibility": null,
      "width": null
     }
    },
    "458939c43cab4da594a7287ed6e6b597": {
     "model_module": "@jupyter-widgets/controls",
     "model_name": "ProgressStyleModel",
     "state": {
      "_model_module": "@jupyter-widgets/controls",
      "_model_module_version": "1.5.0",
      "_model_name": "ProgressStyleModel",
      "_view_count": null,
      "_view_module": "@jupyter-widgets/base",
      "_view_module_version": "1.2.0",
      "_view_name": "StyleView",
      "bar_color": null,
      "description_width": "initial"
     }
    },
    "4d7778ae78cc4a16aecf147f98b019a1": {
     "model_module": "@jupyter-widgets/controls",
     "model_name": "FloatProgressModel",
     "state": {
      "_dom_classes": [],
      "_model_module": "@jupyter-widgets/controls",
      "_model_module_version": "1.5.0",
      "_model_name": "FloatProgressModel",
      "_view_count": null,
      "_view_module": "@jupyter-widgets/controls",
      "_view_module_version": "1.5.0",
      "_view_name": "ProgressView",
      "bar_style": "info",
      "description": "",
      "description_tooltip": null,
      "layout": "IPY_MODEL_63e7b06bb73347d4b50bc622565abb66",
      "max": 1,
      "min": 0,
      "orientation": "horizontal",
      "style": "IPY_MODEL_d7470d5177ae488e932eeba9e59b1d6a",
      "value": 1
     }
    },
    "522a8393181c43a48ef75030f6e156a8": {
     "model_module": "@jupyter-widgets/controls",
     "model_name": "DescriptionStyleModel",
     "state": {
      "_model_module": "@jupyter-widgets/controls",
      "_model_module_version": "1.5.0",
      "_model_name": "DescriptionStyleModel",
      "_view_count": null,
      "_view_module": "@jupyter-widgets/base",
      "_view_module_version": "1.2.0",
      "_view_name": "StyleView",
      "description_width": ""
     }
    },
    "529487c30e5e467b86e1f9c6a09a8f4d": {
     "model_module": "@jupyter-widgets/controls",
     "model_name": "FloatProgressModel",
     "state": {
      "_dom_classes": [],
      "_model_module": "@jupyter-widgets/controls",
      "_model_module_version": "1.5.0",
      "_model_name": "FloatProgressModel",
      "_view_count": null,
      "_view_module": "@jupyter-widgets/controls",
      "_view_module_version": "1.5.0",
      "_view_name": "ProgressView",
      "bar_style": "success",
      "description": "100%",
      "description_tooltip": null,
      "layout": "IPY_MODEL_9cc0b10ee4744168b27a145ff559acf1",
      "max": 9245,
      "min": 0,
      "orientation": "horizontal",
      "style": "IPY_MODEL_17cd88d19f2849cea3d098a5f474d076",
      "value": 9245
     }
    },
    "533908a268214523b1cef2ddb709d613": {
     "model_module": "@jupyter-widgets/controls",
     "model_name": "FloatProgressModel",
     "state": {
      "_dom_classes": [],
      "_model_module": "@jupyter-widgets/controls",
      "_model_module_version": "1.5.0",
      "_model_name": "FloatProgressModel",
      "_view_count": null,
      "_view_module": "@jupyter-widgets/controls",
      "_view_module_version": "1.5.0",
      "_view_name": "ProgressView",
      "bar_style": "success",
      "description": "Downloading: 100%",
      "description_tooltip": null,
      "layout": "IPY_MODEL_35ddf645f6384f26945b759fac4185da",
      "max": 83,
      "min": 0,
      "orientation": "horizontal",
      "style": "IPY_MODEL_9c54553e15f047b5ac3192981f165c52",
      "value": 83
     }
    },
    "5429f482f0d54375861140709de153c1": {
     "model_module": "@jupyter-widgets/base",
     "model_name": "LayoutModel",
     "state": {
      "_model_module": "@jupyter-widgets/base",
      "_model_module_version": "1.2.0",
      "_model_name": "LayoutModel",
      "_view_count": null,
      "_view_module": "@jupyter-widgets/base",
      "_view_module_version": "1.2.0",
      "_view_name": "LayoutView",
      "align_content": null,
      "align_items": null,
      "align_self": null,
      "border": null,
      "bottom": null,
      "display": null,
      "flex": null,
      "flex_flow": null,
      "grid_area": null,
      "grid_auto_columns": null,
      "grid_auto_flow": null,
      "grid_auto_rows": null,
      "grid_column": null,
      "grid_gap": null,
      "grid_row": null,
      "grid_template_areas": null,
      "grid_template_columns": null,
      "grid_template_rows": null,
      "height": null,
      "justify_content": null,
      "justify_items": null,
      "left": null,
      "margin": null,
      "max_height": null,
      "max_width": null,
      "min_height": null,
      "min_width": null,
      "object_fit": null,
      "object_position": null,
      "order": null,
      "overflow": null,
      "overflow_x": null,
      "overflow_y": null,
      "padding": null,
      "right": null,
      "top": null,
      "visibility": null,
      "width": null
     }
    },
    "54ae0177660040e8b4850b4f76d5d1b2": {
     "model_module": "@jupyter-widgets/base",
     "model_name": "LayoutModel",
     "state": {
      "_model_module": "@jupyter-widgets/base",
      "_model_module_version": "1.2.0",
      "_model_name": "LayoutModel",
      "_view_count": null,
      "_view_module": "@jupyter-widgets/base",
      "_view_module_version": "1.2.0",
      "_view_name": "LayoutView",
      "align_content": null,
      "align_items": null,
      "align_self": null,
      "border": null,
      "bottom": null,
      "display": null,
      "flex": null,
      "flex_flow": null,
      "grid_area": null,
      "grid_auto_columns": null,
      "grid_auto_flow": null,
      "grid_auto_rows": null,
      "grid_column": null,
      "grid_gap": null,
      "grid_row": null,
      "grid_template_areas": null,
      "grid_template_columns": null,
      "grid_template_rows": null,
      "height": null,
      "justify_content": null,
      "justify_items": null,
      "left": null,
      "margin": null,
      "max_height": null,
      "max_width": null,
      "min_height": null,
      "min_width": null,
      "object_fit": null,
      "object_position": null,
      "order": null,
      "overflow": null,
      "overflow_x": null,
      "overflow_y": null,
      "padding": null,
      "right": null,
      "top": null,
      "visibility": null,
      "width": null
     }
    },
    "54dd7d1352494b39b073a925df274af9": {
     "model_module": "@jupyter-widgets/base",
     "model_name": "LayoutModel",
     "state": {
      "_model_module": "@jupyter-widgets/base",
      "_model_module_version": "1.2.0",
      "_model_name": "LayoutModel",
      "_view_count": null,
      "_view_module": "@jupyter-widgets/base",
      "_view_module_version": "1.2.0",
      "_view_name": "LayoutView",
      "align_content": null,
      "align_items": null,
      "align_self": null,
      "border": null,
      "bottom": null,
      "display": null,
      "flex": null,
      "flex_flow": null,
      "grid_area": null,
      "grid_auto_columns": null,
      "grid_auto_flow": null,
      "grid_auto_rows": null,
      "grid_column": null,
      "grid_gap": null,
      "grid_row": null,
      "grid_template_areas": null,
      "grid_template_columns": null,
      "grid_template_rows": null,
      "height": null,
      "justify_content": null,
      "justify_items": null,
      "left": null,
      "margin": null,
      "max_height": null,
      "max_width": null,
      "min_height": null,
      "min_width": null,
      "object_fit": null,
      "object_position": null,
      "order": null,
      "overflow": null,
      "overflow_x": null,
      "overflow_y": null,
      "padding": null,
      "right": null,
      "top": null,
      "visibility": null,
      "width": null
     }
    },
    "56b5ab07b0ea4ff3a95233fc0ac04201": {
     "model_module": "@jupyter-widgets/base",
     "model_name": "LayoutModel",
     "state": {
      "_model_module": "@jupyter-widgets/base",
      "_model_module_version": "1.2.0",
      "_model_name": "LayoutModel",
      "_view_count": null,
      "_view_module": "@jupyter-widgets/base",
      "_view_module_version": "1.2.0",
      "_view_name": "LayoutView",
      "align_content": null,
      "align_items": null,
      "align_self": null,
      "border": null,
      "bottom": null,
      "display": null,
      "flex": null,
      "flex_flow": null,
      "grid_area": null,
      "grid_auto_columns": null,
      "grid_auto_flow": null,
      "grid_auto_rows": null,
      "grid_column": null,
      "grid_gap": null,
      "grid_row": null,
      "grid_template_areas": null,
      "grid_template_columns": null,
      "grid_template_rows": null,
      "height": null,
      "justify_content": null,
      "justify_items": null,
      "left": null,
      "margin": null,
      "max_height": null,
      "max_width": null,
      "min_height": null,
      "min_width": null,
      "object_fit": null,
      "object_position": null,
      "order": null,
      "overflow": null,
      "overflow_x": null,
      "overflow_y": null,
      "padding": null,
      "right": null,
      "top": null,
      "visibility": null,
      "width": null
     }
    },
    "5df6caecc9184692be533e3a102e70b7": {
     "model_module": "@jupyter-widgets/controls",
     "model_name": "FloatProgressModel",
     "state": {
      "_dom_classes": [],
      "_model_module": "@jupyter-widgets/controls",
      "_model_module_version": "1.5.0",
      "_model_name": "FloatProgressModel",
      "_view_count": null,
      "_view_module": "@jupyter-widgets/controls",
      "_view_module_version": "1.5.0",
      "_view_name": "ProgressView",
      "bar_style": "success",
      "description": "Downloading: ",
      "description_tooltip": null,
      "layout": "IPY_MODEL_1bba484d1d01452180f2ff140dc1d356",
      "max": 9674114,
      "min": 0,
      "orientation": "horizontal",
      "style": "IPY_MODEL_3057197645ee4d51aadb48a337d35181",
      "value": 9674114
     }
    },
    "5f51db90998f4656baa3a65a0647c968": {
     "model_module": "@jupyter-widgets/controls",
     "model_name": "HTMLModel",
     "state": {
      "_dom_classes": [],
      "_model_module": "@jupyter-widgets/controls",
      "_model_module_version": "1.5.0",
      "_model_name": "HTMLModel",
      "_view_count": null,
      "_view_module": "@jupyter-widgets/controls",
      "_view_module_version": "1.5.0",
      "_view_name": "HTMLView",
      "description": "",
      "description_tooltip": null,
      "layout": "IPY_MODEL_709b4fe578b841afb33f036b1e2d100d",
      "placeholder": "​",
      "style": "IPY_MODEL_7f7464b3d38440dda233e0d52a7ea988",
      "value": " 442M/442M [00:14&lt;00:00, 30.8MB/s]"
     }
    },
    "6024e0b589bc41fc92c3041bc592ccfd": {
     "model_module": "@jupyter-widgets/controls",
     "model_name": "FloatProgressModel",
     "state": {
      "_dom_classes": [],
      "_model_module": "@jupyter-widgets/controls",
      "_model_module_version": "1.5.0",
      "_model_name": "FloatProgressModel",
      "_view_count": null,
      "_view_module": "@jupyter-widgets/controls",
      "_view_module_version": "1.5.0",
      "_view_name": "ProgressView",
      "bar_style": "success",
      "description": "Downloading: 100%",
      "description_tooltip": null,
      "layout": "IPY_MODEL_35e81c1a429f4bcdb4e087b40138d247",
      "max": 442258482,
      "min": 0,
      "orientation": "horizontal",
      "style": "IPY_MODEL_93151c1f26bb431eabec9da8e7fccc1d",
      "value": 442258482
     }
    },
    "60971ce2c0a744ea8e1060387995e985": {
     "model_module": "@jupyter-widgets/base",
     "model_name": "LayoutModel",
     "state": {
      "_model_module": "@jupyter-widgets/base",
      "_model_module_version": "1.2.0",
      "_model_name": "LayoutModel",
      "_view_count": null,
      "_view_module": "@jupyter-widgets/base",
      "_view_module_version": "1.2.0",
      "_view_name": "LayoutView",
      "align_content": null,
      "align_items": null,
      "align_self": null,
      "border": null,
      "bottom": null,
      "display": null,
      "flex": null,
      "flex_flow": null,
      "grid_area": null,
      "grid_auto_columns": null,
      "grid_auto_flow": null,
      "grid_auto_rows": null,
      "grid_column": null,
      "grid_gap": null,
      "grid_row": null,
      "grid_template_areas": null,
      "grid_template_columns": null,
      "grid_template_rows": null,
      "height": null,
      "justify_content": null,
      "justify_items": null,
      "left": null,
      "margin": null,
      "max_height": null,
      "max_width": null,
      "min_height": null,
      "min_width": null,
      "object_fit": null,
      "object_position": null,
      "order": null,
      "overflow": null,
      "overflow_x": null,
      "overflow_y": null,
      "padding": null,
      "right": null,
      "top": null,
      "visibility": null,
      "width": null
     }
    },
    "61dc4337c8cb404b973fa9a0ab454226": {
     "model_module": "@jupyter-widgets/controls",
     "model_name": "HTMLModel",
     "state": {
      "_dom_classes": [],
      "_model_module": "@jupyter-widgets/controls",
      "_model_module_version": "1.5.0",
      "_model_name": "HTMLModel",
      "_view_count": null,
      "_view_module": "@jupyter-widgets/controls",
      "_view_module_version": "1.5.0",
      "_view_name": "HTMLView",
      "description": "",
      "description_tooltip": null,
      "layout": "IPY_MODEL_fb50b98106494aa890dc0d2f67643426",
      "placeholder": "​",
      "style": "IPY_MODEL_26b0ae2937a6450da2fc0029e3540b1f",
      "value": " 240k/240k [00:01&lt;00:00, 188kB/s]"
     }
    },
    "638d55161f434e388c2cdfbdeafdcdea": {
     "model_module": "@jupyter-widgets/controls",
     "model_name": "HTMLModel",
     "state": {
      "_dom_classes": [],
      "_model_module": "@jupyter-widgets/controls",
      "_model_module_version": "1.5.0",
      "_model_name": "HTMLModel",
      "_view_count": null,
      "_view_module": "@jupyter-widgets/controls",
      "_view_module_version": "1.5.0",
      "_view_name": "HTMLView",
      "description": "",
      "description_tooltip": null,
      "layout": "IPY_MODEL_406f38a9695447dbb5a4b554986d53ff",
      "placeholder": "​",
      "style": "IPY_MODEL_d10280151b4a49b0914f78381a3110bf",
      "value": " 1028/0 [00:00&lt;00:00, 8849.02 examples/s]"
     }
    },
    "63e7b06bb73347d4b50bc622565abb66": {
     "model_module": "@jupyter-widgets/base",
     "model_name": "LayoutModel",
     "state": {
      "_model_module": "@jupyter-widgets/base",
      "_model_module_version": "1.2.0",
      "_model_name": "LayoutModel",
      "_view_count": null,
      "_view_module": "@jupyter-widgets/base",
      "_view_module_version": "1.2.0",
      "_view_name": "LayoutView",
      "align_content": null,
      "align_items": null,
      "align_self": null,
      "border": null,
      "bottom": null,
      "display": null,
      "flex": null,
      "flex_flow": null,
      "grid_area": null,
      "grid_auto_columns": null,
      "grid_auto_flow": null,
      "grid_auto_rows": null,
      "grid_column": null,
      "grid_gap": null,
      "grid_row": null,
      "grid_template_areas": null,
      "grid_template_columns": null,
      "grid_template_rows": null,
      "height": null,
      "justify_content": null,
      "justify_items": null,
      "left": null,
      "margin": null,
      "max_height": null,
      "max_width": null,
      "min_height": null,
      "min_width": null,
      "object_fit": null,
      "object_position": null,
      "order": null,
      "overflow": null,
      "overflow_x": null,
      "overflow_y": null,
      "padding": null,
      "right": null,
      "top": null,
      "visibility": null,
      "width": null
     }
    },
    "6564311f1fd5465db5e96bb8e5392e4c": {
     "model_module": "@jupyter-widgets/controls",
     "model_name": "HTMLModel",
     "state": {
      "_dom_classes": [],
      "_model_module": "@jupyter-widgets/controls",
      "_model_module_version": "1.5.0",
      "_model_name": "HTMLModel",
      "_view_count": null,
      "_view_module": "@jupyter-widgets/controls",
      "_view_module_version": "1.5.0",
      "_view_name": "HTMLView",
      "description": "",
      "description_tooltip": null,
      "layout": "IPY_MODEL_2d2b6008b2e84875b6025590348b7b26",
      "placeholder": "​",
      "style": "IPY_MODEL_a23082ab46ee44d5af6415ed3bb7b763",
      "value": " 3.59k/? [00:04&lt;00:00, 722B/s]"
     }
    },
    "6aa78c8e24f548cd9803be8ef0b40eb8": {
     "model_module": "@jupyter-widgets/controls",
     "model_name": "FloatProgressModel",
     "state": {
      "_dom_classes": [],
      "_model_module": "@jupyter-widgets/controls",
      "_model_module_version": "1.5.0",
      "_model_name": "FloatProgressModel",
      "_view_count": null,
      "_view_module": "@jupyter-widgets/controls",
      "_view_module_version": "1.5.0",
      "_view_name": "ProgressView",
      "bar_style": "success",
      "description": "Downloading: 100%",
      "description_tooltip": null,
      "layout": "IPY_MODEL_d162921167724b10a6285315b712fa78",
      "max": 239836,
      "min": 0,
      "orientation": "horizontal",
      "style": "IPY_MODEL_9a8cea9dde4f4b1da9b38fdf30c4ce46",
      "value": 239836
     }
    },
    "6b586d1f0e1d45e2806aa94d949d1b20": {
     "model_module": "@jupyter-widgets/controls",
     "model_name": "FloatProgressModel",
     "state": {
      "_dom_classes": [],
      "_model_module": "@jupyter-widgets/controls",
      "_model_module_version": "1.5.0",
      "_model_name": "FloatProgressModel",
      "_view_count": null,
      "_view_module": "@jupyter-widgets/controls",
      "_view_module_version": "1.5.0",
      "_view_name": "ProgressView",
      "bar_style": "success",
      "description": "100%",
      "description_tooltip": null,
      "layout": "IPY_MODEL_84a0f91e18784c03b0dac9804cd89ac2",
      "max": 1028,
      "min": 0,
      "orientation": "horizontal",
      "style": "IPY_MODEL_8a1cbf523b5c4238b9f6255cc52e1800",
      "value": 1028
     }
    },
    "6c63070bbad5409f88fa91b51b2c65f1": {
     "model_module": "@jupyter-widgets/controls",
     "model_name": "FloatProgressModel",
     "state": {
      "_dom_classes": [],
      "_model_module": "@jupyter-widgets/controls",
      "_model_module_version": "1.5.0",
      "_model_name": "FloatProgressModel",
      "_view_count": null,
      "_view_module": "@jupyter-widgets/controls",
      "_view_module_version": "1.5.0",
      "_view_name": "ProgressView",
      "bar_style": "info",
      "description": "",
      "description_tooltip": null,
      "layout": "IPY_MODEL_165bcce635a44d6ea8fa227c56912127",
      "max": 1,
      "min": 0,
      "orientation": "horizontal",
      "style": "IPY_MODEL_d26b39de750f4ad9a23df9d91c40b4a2",
      "value": 1
     }
    },
    "6c7eaf5623a24f7dbf846366ff222da8": {
     "model_module": "@jupyter-widgets/controls",
     "model_name": "HBoxModel",
     "state": {
      "_dom_classes": [],
      "_model_module": "@jupyter-widgets/controls",
      "_model_module_version": "1.5.0",
      "_model_name": "HBoxModel",
      "_view_count": null,
      "_view_module": "@jupyter-widgets/controls",
      "_view_module_version": "1.5.0",
      "_view_name": "HBoxView",
      "box_style": "",
      "children": [
       "IPY_MODEL_c4c546181316450bb778642c5ca4612f",
       "IPY_MODEL_6564311f1fd5465db5e96bb8e5392e4c"
      ],
      "layout": "IPY_MODEL_f47b52a14f5a48c2bfa57dbc4618cf12"
     }
    },
    "709b4fe578b841afb33f036b1e2d100d": {
     "model_module": "@jupyter-widgets/base",
     "model_name": "LayoutModel",
     "state": {
      "_model_module": "@jupyter-widgets/base",
      "_model_module_version": "1.2.0",
      "_model_name": "LayoutModel",
      "_view_count": null,
      "_view_module": "@jupyter-widgets/base",
      "_view_module_version": "1.2.0",
      "_view_name": "LayoutView",
      "align_content": null,
      "align_items": null,
      "align_self": null,
      "border": null,
      "bottom": null,
      "display": null,
      "flex": null,
      "flex_flow": null,
      "grid_area": null,
      "grid_auto_columns": null,
      "grid_auto_flow": null,
      "grid_auto_rows": null,
      "grid_column": null,
      "grid_gap": null,
      "grid_row": null,
      "grid_template_areas": null,
      "grid_template_columns": null,
      "grid_template_rows": null,
      "height": null,
      "justify_content": null,
      "justify_items": null,
      "left": null,
      "margin": null,
      "max_height": null,
      "max_width": null,
      "min_height": null,
      "min_width": null,
      "object_fit": null,
      "object_position": null,
      "order": null,
      "overflow": null,
      "overflow_x": null,
      "overflow_y": null,
      "padding": null,
      "right": null,
      "top": null,
      "visibility": null,
      "width": null
     }
    },
    "78a521fdc6b04598afea5e36269414c1": {
     "model_module": "@jupyter-widgets/base",
     "model_name": "LayoutModel",
     "state": {
      "_model_module": "@jupyter-widgets/base",
      "_model_module_version": "1.2.0",
      "_model_name": "LayoutModel",
      "_view_count": null,
      "_view_module": "@jupyter-widgets/base",
      "_view_module_version": "1.2.0",
      "_view_name": "LayoutView",
      "align_content": null,
      "align_items": null,
      "align_self": null,
      "border": null,
      "bottom": null,
      "display": null,
      "flex": null,
      "flex_flow": null,
      "grid_area": null,
      "grid_auto_columns": null,
      "grid_auto_flow": null,
      "grid_auto_rows": null,
      "grid_column": null,
      "grid_gap": null,
      "grid_row": null,
      "grid_template_areas": null,
      "grid_template_columns": null,
      "grid_template_rows": null,
      "height": null,
      "justify_content": null,
      "justify_items": null,
      "left": null,
      "margin": null,
      "max_height": null,
      "max_width": null,
      "min_height": null,
      "min_width": null,
      "object_fit": null,
      "object_position": null,
      "order": null,
      "overflow": null,
      "overflow_x": null,
      "overflow_y": null,
      "padding": null,
      "right": null,
      "top": null,
      "visibility": null,
      "width": null
     }
    },
    "7f7464b3d38440dda233e0d52a7ea988": {
     "model_module": "@jupyter-widgets/controls",
     "model_name": "DescriptionStyleModel",
     "state": {
      "_model_module": "@jupyter-widgets/controls",
      "_model_module_version": "1.5.0",
      "_model_name": "DescriptionStyleModel",
      "_view_count": null,
      "_view_module": "@jupyter-widgets/base",
      "_view_module_version": "1.2.0",
      "_view_name": "StyleView",
      "description_width": ""
     }
    },
    "84a0f91e18784c03b0dac9804cd89ac2": {
     "model_module": "@jupyter-widgets/base",
     "model_name": "LayoutModel",
     "state": {
      "_model_module": "@jupyter-widgets/base",
      "_model_module_version": "1.2.0",
      "_model_name": "LayoutModel",
      "_view_count": null,
      "_view_module": "@jupyter-widgets/base",
      "_view_module_version": "1.2.0",
      "_view_name": "LayoutView",
      "align_content": null,
      "align_items": null,
      "align_self": null,
      "border": null,
      "bottom": null,
      "display": null,
      "flex": null,
      "flex_flow": null,
      "grid_area": null,
      "grid_auto_columns": null,
      "grid_auto_flow": null,
      "grid_auto_rows": null,
      "grid_column": null,
      "grid_gap": null,
      "grid_row": null,
      "grid_template_areas": null,
      "grid_template_columns": null,
      "grid_template_rows": null,
      "height": null,
      "justify_content": null,
      "justify_items": null,
      "left": null,
      "margin": null,
      "max_height": null,
      "max_width": null,
      "min_height": null,
      "min_width": null,
      "object_fit": null,
      "object_position": null,
      "order": null,
      "overflow": null,
      "overflow_x": null,
      "overflow_y": null,
      "padding": null,
      "right": null,
      "top": null,
      "visibility": null,
      "width": null
     }
    },
    "8921fa05b8354883a9f8bf454b798fc0": {
     "model_module": "@jupyter-widgets/controls",
     "model_name": "DescriptionStyleModel",
     "state": {
      "_model_module": "@jupyter-widgets/controls",
      "_model_module_version": "1.5.0",
      "_model_name": "DescriptionStyleModel",
      "_view_count": null,
      "_view_module": "@jupyter-widgets/base",
      "_view_module_version": "1.2.0",
      "_view_name": "StyleView",
      "description_width": ""
     }
    },
    "8a1cbf523b5c4238b9f6255cc52e1800": {
     "model_module": "@jupyter-widgets/controls",
     "model_name": "ProgressStyleModel",
     "state": {
      "_model_module": "@jupyter-widgets/controls",
      "_model_module_version": "1.5.0",
      "_model_name": "ProgressStyleModel",
      "_view_count": null,
      "_view_module": "@jupyter-widgets/base",
      "_view_module_version": "1.2.0",
      "_view_name": "StyleView",
      "bar_color": null,
      "description_width": "initial"
     }
    },
    "8b18b710ac7946a8a7378d852e4ef2bf": {
     "model_module": "@jupyter-widgets/controls",
     "model_name": "FloatProgressModel",
     "state": {
      "_dom_classes": [],
      "_model_module": "@jupyter-widgets/controls",
      "_model_module_version": "1.5.0",
      "_model_name": "FloatProgressModel",
      "_view_count": null,
      "_view_module": "@jupyter-widgets/controls",
      "_view_module_version": "1.5.0",
      "_view_name": "ProgressView",
      "bar_style": "success",
      "description": "Downloading: ",
      "description_tooltip": null,
      "layout": "IPY_MODEL_331c29c504ba479fbd3217980e1ab0ad",
      "max": 987,
      "min": 0,
      "orientation": "horizontal",
      "style": "IPY_MODEL_8bcac84e6d764dde89015833cfa1ab53",
      "value": 987
     }
    },
    "8bcac84e6d764dde89015833cfa1ab53": {
     "model_module": "@jupyter-widgets/controls",
     "model_name": "ProgressStyleModel",
     "state": {
      "_model_module": "@jupyter-widgets/controls",
      "_model_module_version": "1.5.0",
      "_model_name": "ProgressStyleModel",
      "_view_count": null,
      "_view_module": "@jupyter-widgets/base",
      "_view_module_version": "1.2.0",
      "_view_name": "StyleView",
      "bar_color": null,
      "description_width": "initial"
     }
    },
    "8c69b2d0fe4940648beb4e01ee0eebf0": {
     "model_module": "@jupyter-widgets/controls",
     "model_name": "HBoxModel",
     "state": {
      "_dom_classes": [],
      "_model_module": "@jupyter-widgets/controls",
      "_model_module_version": "1.5.0",
      "_model_name": "HBoxModel",
      "_view_count": null,
      "_view_module": "@jupyter-widgets/controls",
      "_view_module_version": "1.5.0",
      "_view_name": "HBoxView",
      "box_style": "",
      "children": [
       "IPY_MODEL_5df6caecc9184692be533e3a102e70b7",
       "IPY_MODEL_a8b10e8de7dd48bb916d4c894bee6353"
      ],
      "layout": "IPY_MODEL_56b5ab07b0ea4ff3a95233fc0ac04201"
     }
    },
    "9001d2ab5ed54323aa6446b91e864ad5": {
     "model_module": "@jupyter-widgets/controls",
     "model_name": "DescriptionStyleModel",
     "state": {
      "_model_module": "@jupyter-widgets/controls",
      "_model_module_version": "1.5.0",
      "_model_name": "DescriptionStyleModel",
      "_view_count": null,
      "_view_module": "@jupyter-widgets/base",
      "_view_module_version": "1.2.0",
      "_view_name": "StyleView",
      "description_width": ""
     }
    },
    "91a11a350e2e4168aaad0ff7acfedde3": {
     "model_module": "@jupyter-widgets/base",
     "model_name": "LayoutModel",
     "state": {
      "_model_module": "@jupyter-widgets/base",
      "_model_module_version": "1.2.0",
      "_model_name": "LayoutModel",
      "_view_count": null,
      "_view_module": "@jupyter-widgets/base",
      "_view_module_version": "1.2.0",
      "_view_name": "LayoutView",
      "align_content": null,
      "align_items": null,
      "align_self": null,
      "border": null,
      "bottom": null,
      "display": null,
      "flex": null,
      "flex_flow": null,
      "grid_area": null,
      "grid_auto_columns": null,
      "grid_auto_flow": null,
      "grid_auto_rows": null,
      "grid_column": null,
      "grid_gap": null,
      "grid_row": null,
      "grid_template_areas": null,
      "grid_template_columns": null,
      "grid_template_rows": null,
      "height": null,
      "justify_content": null,
      "justify_items": null,
      "left": null,
      "margin": null,
      "max_height": null,
      "max_width": null,
      "min_height": null,
      "min_width": null,
      "object_fit": null,
      "object_position": null,
      "order": null,
      "overflow": null,
      "overflow_x": null,
      "overflow_y": null,
      "padding": null,
      "right": null,
      "top": null,
      "visibility": null,
      "width": null
     }
    },
    "91baea4d9fba43ee9ce21f51e6700b41": {
     "model_module": "@jupyter-widgets/controls",
     "model_name": "ProgressStyleModel",
     "state": {
      "_model_module": "@jupyter-widgets/controls",
      "_model_module_version": "1.5.0",
      "_model_name": "ProgressStyleModel",
      "_view_count": null,
      "_view_module": "@jupyter-widgets/base",
      "_view_module_version": "1.2.0",
      "_view_name": "StyleView",
      "bar_color": null,
      "description_width": "initial"
     }
    },
    "93151c1f26bb431eabec9da8e7fccc1d": {
     "model_module": "@jupyter-widgets/controls",
     "model_name": "ProgressStyleModel",
     "state": {
      "_model_module": "@jupyter-widgets/controls",
      "_model_module_version": "1.5.0",
      "_model_name": "ProgressStyleModel",
      "_view_count": null,
      "_view_module": "@jupyter-widgets/base",
      "_view_module_version": "1.2.0",
      "_view_name": "StyleView",
      "bar_color": null,
      "description_width": "initial"
     }
    },
    "94f8812a114d48c48022ca8447d80fac": {
     "model_module": "@jupyter-widgets/base",
     "model_name": "LayoutModel",
     "state": {
      "_model_module": "@jupyter-widgets/base",
      "_model_module_version": "1.2.0",
      "_model_name": "LayoutModel",
      "_view_count": null,
      "_view_module": "@jupyter-widgets/base",
      "_view_module_version": "1.2.0",
      "_view_name": "LayoutView",
      "align_content": null,
      "align_items": null,
      "align_self": null,
      "border": null,
      "bottom": null,
      "display": null,
      "flex": null,
      "flex_flow": null,
      "grid_area": null,
      "grid_auto_columns": null,
      "grid_auto_flow": null,
      "grid_auto_rows": null,
      "grid_column": null,
      "grid_gap": null,
      "grid_row": null,
      "grid_template_areas": null,
      "grid_template_columns": null,
      "grid_template_rows": null,
      "height": null,
      "justify_content": null,
      "justify_items": null,
      "left": null,
      "margin": null,
      "max_height": null,
      "max_width": null,
      "min_height": null,
      "min_width": null,
      "object_fit": null,
      "object_position": null,
      "order": null,
      "overflow": null,
      "overflow_x": null,
      "overflow_y": null,
      "padding": null,
      "right": null,
      "top": null,
      "visibility": null,
      "width": null
     }
    },
    "954f580a120040abbd731a66580dc479": {
     "model_module": "@jupyter-widgets/controls",
     "model_name": "HBoxModel",
     "state": {
      "_dom_classes": [],
      "_model_module": "@jupyter-widgets/controls",
      "_model_module_version": "1.5.0",
      "_model_name": "HBoxModel",
      "_view_count": null,
      "_view_module": "@jupyter-widgets/controls",
      "_view_module_version": "1.5.0",
      "_view_name": "HBoxView",
      "box_style": "",
      "children": [
       "IPY_MODEL_e0d01c7ca1a34b979b08a5057297c0a2",
       "IPY_MODEL_ee7542628b674bc6904d6fa796bfd1e8"
      ],
      "layout": "IPY_MODEL_a1c177b73c674b9c9cadabdfb20dba49"
     }
    },
    "96b51efcc65049dcacbed0371f500b07": {
     "model_module": "@jupyter-widgets/base",
     "model_name": "LayoutModel",
     "state": {
      "_model_module": "@jupyter-widgets/base",
      "_model_module_version": "1.2.0",
      "_model_name": "LayoutModel",
      "_view_count": null,
      "_view_module": "@jupyter-widgets/base",
      "_view_module_version": "1.2.0",
      "_view_name": "LayoutView",
      "align_content": null,
      "align_items": null,
      "align_self": null,
      "border": null,
      "bottom": null,
      "display": null,
      "flex": null,
      "flex_flow": null,
      "grid_area": null,
      "grid_auto_columns": null,
      "grid_auto_flow": null,
      "grid_auto_rows": null,
      "grid_column": null,
      "grid_gap": null,
      "grid_row": null,
      "grid_template_areas": null,
      "grid_template_columns": null,
      "grid_template_rows": null,
      "height": null,
      "justify_content": null,
      "justify_items": null,
      "left": null,
      "margin": null,
      "max_height": null,
      "max_width": null,
      "min_height": null,
      "min_width": null,
      "object_fit": null,
      "object_position": null,
      "order": null,
      "overflow": null,
      "overflow_x": null,
      "overflow_y": null,
      "padding": null,
      "right": null,
      "top": null,
      "visibility": null,
      "width": null
     }
    },
    "9a8cea9dde4f4b1da9b38fdf30c4ce46": {
     "model_module": "@jupyter-widgets/controls",
     "model_name": "ProgressStyleModel",
     "state": {
      "_model_module": "@jupyter-widgets/controls",
      "_model_module_version": "1.5.0",
      "_model_name": "ProgressStyleModel",
      "_view_count": null,
      "_view_module": "@jupyter-widgets/base",
      "_view_module_version": "1.2.0",
      "_view_name": "StyleView",
      "bar_color": null,
      "description_width": "initial"
     }
    },
    "9c54553e15f047b5ac3192981f165c52": {
     "model_module": "@jupyter-widgets/controls",
     "model_name": "ProgressStyleModel",
     "state": {
      "_model_module": "@jupyter-widgets/controls",
      "_model_module_version": "1.5.0",
      "_model_name": "ProgressStyleModel",
      "_view_count": null,
      "_view_module": "@jupyter-widgets/base",
      "_view_module_version": "1.2.0",
      "_view_name": "StyleView",
      "bar_color": null,
      "description_width": "initial"
     }
    },
    "9cc0b10ee4744168b27a145ff559acf1": {
     "model_module": "@jupyter-widgets/base",
     "model_name": "LayoutModel",
     "state": {
      "_model_module": "@jupyter-widgets/base",
      "_model_module_version": "1.2.0",
      "_model_name": "LayoutModel",
      "_view_count": null,
      "_view_module": "@jupyter-widgets/base",
      "_view_module_version": "1.2.0",
      "_view_name": "LayoutView",
      "align_content": null,
      "align_items": null,
      "align_self": null,
      "border": null,
      "bottom": null,
      "display": null,
      "flex": null,
      "flex_flow": null,
      "grid_area": null,
      "grid_auto_columns": null,
      "grid_auto_flow": null,
      "grid_auto_rows": null,
      "grid_column": null,
      "grid_gap": null,
      "grid_row": null,
      "grid_template_areas": null,
      "grid_template_columns": null,
      "grid_template_rows": null,
      "height": null,
      "justify_content": null,
      "justify_items": null,
      "left": null,
      "margin": null,
      "max_height": null,
      "max_width": null,
      "min_height": null,
      "min_width": null,
      "object_fit": null,
      "object_position": null,
      "order": null,
      "overflow": null,
      "overflow_x": null,
      "overflow_y": null,
      "padding": null,
      "right": null,
      "top": null,
      "visibility": null,
      "width": null
     }
    },
    "9f322c0a62624df2873a4c2d21658fab": {
     "model_module": "@jupyter-widgets/controls",
     "model_name": "HTMLModel",
     "state": {
      "_dom_classes": [],
      "_model_module": "@jupyter-widgets/controls",
      "_model_module_version": "1.5.0",
      "_model_name": "HTMLModel",
      "_view_count": null,
      "_view_module": "@jupyter-widgets/controls",
      "_view_module_version": "1.5.0",
      "_view_name": "HTMLView",
      "description": "",
      "description_tooltip": null,
      "layout": "IPY_MODEL_c3e75894cd9845e3873f520f6bddcb2e",
      "placeholder": "​",
      "style": "IPY_MODEL_3d50ccdb5b70444a9381eadf6e689b72",
      "value": " 9245/0 [00:04&lt;00:00,  2.24 examples/s]"
     }
    },
    "9f873744053d48a7b7bf1dc411052c1f": {
     "model_module": "@jupyter-widgets/controls",
     "model_name": "DescriptionStyleModel",
     "state": {
      "_model_module": "@jupyter-widgets/controls",
      "_model_module_version": "1.5.0",
      "_model_name": "DescriptionStyleModel",
      "_view_count": null,
      "_view_module": "@jupyter-widgets/base",
      "_view_module_version": "1.2.0",
      "_view_name": "StyleView",
      "description_width": ""
     }
    },
    "a13146b1ff2548498fd8c53a4efed1bb": {
     "model_module": "@jupyter-widgets/controls",
     "model_name": "HBoxModel",
     "state": {
      "_dom_classes": [],
      "_model_module": "@jupyter-widgets/controls",
      "_model_module_version": "1.5.0",
      "_model_name": "HBoxModel",
      "_view_count": null,
      "_view_module": "@jupyter-widgets/controls",
      "_view_module_version": "1.5.0",
      "_view_name": "HBoxView",
      "box_style": "",
      "children": [
       "IPY_MODEL_6024e0b589bc41fc92c3041bc592ccfd",
       "IPY_MODEL_5f51db90998f4656baa3a65a0647c968"
      ],
      "layout": "IPY_MODEL_251964d3564a40cdabe06d7274d29c6b"
     }
    },
    "a1c177b73c674b9c9cadabdfb20dba49": {
     "model_module": "@jupyter-widgets/base",
     "model_name": "LayoutModel",
     "state": {
      "_model_module": "@jupyter-widgets/base",
      "_model_module_version": "1.2.0",
      "_model_name": "LayoutModel",
      "_view_count": null,
      "_view_module": "@jupyter-widgets/base",
      "_view_module_version": "1.2.0",
      "_view_name": "LayoutView",
      "align_content": null,
      "align_items": null,
      "align_self": null,
      "border": null,
      "bottom": null,
      "display": null,
      "flex": null,
      "flex_flow": null,
      "grid_area": null,
      "grid_auto_columns": null,
      "grid_auto_flow": null,
      "grid_auto_rows": null,
      "grid_column": null,
      "grid_gap": null,
      "grid_row": null,
      "grid_template_areas": null,
      "grid_template_columns": null,
      "grid_template_rows": null,
      "height": null,
      "justify_content": null,
      "justify_items": null,
      "left": null,
      "margin": null,
      "max_height": null,
      "max_width": null,
      "min_height": null,
      "min_width": null,
      "object_fit": null,
      "object_position": null,
      "order": null,
      "overflow": null,
      "overflow_x": null,
      "overflow_y": null,
      "padding": null,
      "right": null,
      "top": null,
      "visibility": null,
      "width": null
     }
    },
    "a23082ab46ee44d5af6415ed3bb7b763": {
     "model_module": "@jupyter-widgets/controls",
     "model_name": "DescriptionStyleModel",
     "state": {
      "_model_module": "@jupyter-widgets/controls",
      "_model_module_version": "1.5.0",
      "_model_name": "DescriptionStyleModel",
      "_view_count": null,
      "_view_module": "@jupyter-widgets/base",
      "_view_module_version": "1.2.0",
      "_view_name": "StyleView",
      "description_width": ""
     }
    },
    "a693ea1539964a4e914f3eb84b90e949": {
     "model_module": "@jupyter-widgets/controls",
     "model_name": "HBoxModel",
     "state": {
      "_dom_classes": [],
      "_model_module": "@jupyter-widgets/controls",
      "_model_module_version": "1.5.0",
      "_model_name": "HBoxModel",
      "_view_count": null,
      "_view_module": "@jupyter-widgets/controls",
      "_view_module_version": "1.5.0",
      "_view_name": "HBoxView",
      "box_style": "",
      "children": [
       "IPY_MODEL_8b18b710ac7946a8a7378d852e4ef2bf",
       "IPY_MODEL_2853821e89754871afb28cc704254b44"
      ],
      "layout": "IPY_MODEL_dcaa00b8d1024bffa447363b596f14df"
     }
    },
    "a8234af885e54bf28d538a0f87cf5cf6": {
     "model_module": "@jupyter-widgets/base",
     "model_name": "LayoutModel",
     "state": {
      "_model_module": "@jupyter-widgets/base",
      "_model_module_version": "1.2.0",
      "_model_name": "LayoutModel",
      "_view_count": null,
      "_view_module": "@jupyter-widgets/base",
      "_view_module_version": "1.2.0",
      "_view_name": "LayoutView",
      "align_content": null,
      "align_items": null,
      "align_self": null,
      "border": null,
      "bottom": null,
      "display": null,
      "flex": null,
      "flex_flow": null,
      "grid_area": null,
      "grid_auto_columns": null,
      "grid_auto_flow": null,
      "grid_auto_rows": null,
      "grid_column": null,
      "grid_gap": null,
      "grid_row": null,
      "grid_template_areas": null,
      "grid_template_columns": null,
      "grid_template_rows": null,
      "height": null,
      "justify_content": null,
      "justify_items": null,
      "left": null,
      "margin": null,
      "max_height": null,
      "max_width": null,
      "min_height": null,
      "min_width": null,
      "object_fit": null,
      "object_position": null,
      "order": null,
      "overflow": null,
      "overflow_x": null,
      "overflow_y": null,
      "padding": null,
      "right": null,
      "top": null,
      "visibility": null,
      "width": null
     }
    },
    "a8b10e8de7dd48bb916d4c894bee6353": {
     "model_module": "@jupyter-widgets/controls",
     "model_name": "HTMLModel",
     "state": {
      "_dom_classes": [],
      "_model_module": "@jupyter-widgets/controls",
      "_model_module_version": "1.5.0",
      "_model_name": "HTMLModel",
      "_view_count": null,
      "_view_module": "@jupyter-widgets/controls",
      "_view_module_version": "1.5.0",
      "_view_name": "HTMLView",
      "description": "",
      "description_tooltip": null,
      "layout": "IPY_MODEL_94f8812a114d48c48022ca8447d80fac",
      "placeholder": "​",
      "style": "IPY_MODEL_f021b143ea3f4bbda99ea6a4a190701c",
      "value": " 24.4M/? [00:04&lt;00:00, 5.66MB/s]"
     }
    },
    "ac6f3035908545ccaa22aa9207731e27": {
     "model_module": "@jupyter-widgets/base",
     "model_name": "LayoutModel",
     "state": {
      "_model_module": "@jupyter-widgets/base",
      "_model_module_version": "1.2.0",
      "_model_name": "LayoutModel",
      "_view_count": null,
      "_view_module": "@jupyter-widgets/base",
      "_view_module_version": "1.2.0",
      "_view_name": "LayoutView",
      "align_content": null,
      "align_items": null,
      "align_self": null,
      "border": null,
      "bottom": null,
      "display": null,
      "flex": null,
      "flex_flow": null,
      "grid_area": null,
      "grid_auto_columns": null,
      "grid_auto_flow": null,
      "grid_auto_rows": null,
      "grid_column": null,
      "grid_gap": null,
      "grid_row": null,
      "grid_template_areas": null,
      "grid_template_columns": null,
      "grid_template_rows": null,
      "height": null,
      "justify_content": null,
      "justify_items": null,
      "left": null,
      "margin": null,
      "max_height": null,
      "max_width": null,
      "min_height": null,
      "min_width": null,
      "object_fit": null,
      "object_position": null,
      "order": null,
      "overflow": null,
      "overflow_x": null,
      "overflow_y": null,
      "padding": null,
      "right": null,
      "top": null,
      "visibility": null,
      "width": null
     }
    },
    "adfe06950ea64fd2bd1853c5b62d2e89": {
     "model_module": "@jupyter-widgets/controls",
     "model_name": "HBoxModel",
     "state": {
      "_dom_classes": [],
      "_model_module": "@jupyter-widgets/controls",
      "_model_module_version": "1.5.0",
      "_model_name": "HBoxModel",
      "_view_count": null,
      "_view_module": "@jupyter-widgets/controls",
      "_view_module_version": "1.5.0",
      "_view_name": "HBoxView",
      "box_style": "",
      "children": [
       "IPY_MODEL_4d7778ae78cc4a16aecf147f98b019a1",
       "IPY_MODEL_638d55161f434e388c2cdfbdeafdcdea"
      ],
      "layout": "IPY_MODEL_229c1991f6664501a41209fa5de449fb"
     }
    },
    "b0524035bc3543eba16d3a4fff3efb6d": {
     "model_module": "@jupyter-widgets/base",
     "model_name": "LayoutModel",
     "state": {
      "_model_module": "@jupyter-widgets/base",
      "_model_module_version": "1.2.0",
      "_model_name": "LayoutModel",
      "_view_count": null,
      "_view_module": "@jupyter-widgets/base",
      "_view_module_version": "1.2.0",
      "_view_name": "LayoutView",
      "align_content": null,
      "align_items": null,
      "align_self": null,
      "border": null,
      "bottom": null,
      "display": null,
      "flex": null,
      "flex_flow": null,
      "grid_area": null,
      "grid_auto_columns": null,
      "grid_auto_flow": null,
      "grid_auto_rows": null,
      "grid_column": null,
      "grid_gap": null,
      "grid_row": null,
      "grid_template_areas": null,
      "grid_template_columns": null,
      "grid_template_rows": null,
      "height": null,
      "justify_content": null,
      "justify_items": null,
      "left": null,
      "margin": null,
      "max_height": null,
      "max_width": null,
      "min_height": null,
      "min_width": null,
      "object_fit": null,
      "object_position": null,
      "order": null,
      "overflow": null,
      "overflow_x": null,
      "overflow_y": null,
      "padding": null,
      "right": null,
      "top": null,
      "visibility": null,
      "width": null
     }
    },
    "b314db9e193f4796a6fa946f10910059": {
     "model_module": "@jupyter-widgets/controls",
     "model_name": "ProgressStyleModel",
     "state": {
      "_model_module": "@jupyter-widgets/controls",
      "_model_module_version": "1.5.0",
      "_model_name": "ProgressStyleModel",
      "_view_count": null,
      "_view_module": "@jupyter-widgets/base",
      "_view_module_version": "1.2.0",
      "_view_name": "StyleView",
      "bar_color": null,
      "description_width": "initial"
     }
    },
    "b740c2d61d1748c9be0f412c763bdfe5": {
     "model_module": "@jupyter-widgets/base",
     "model_name": "LayoutModel",
     "state": {
      "_model_module": "@jupyter-widgets/base",
      "_model_module_version": "1.2.0",
      "_model_name": "LayoutModel",
      "_view_count": null,
      "_view_module": "@jupyter-widgets/base",
      "_view_module_version": "1.2.0",
      "_view_name": "LayoutView",
      "align_content": null,
      "align_items": null,
      "align_self": null,
      "border": null,
      "bottom": null,
      "display": null,
      "flex": null,
      "flex_flow": null,
      "grid_area": null,
      "grid_auto_columns": null,
      "grid_auto_flow": null,
      "grid_auto_rows": null,
      "grid_column": null,
      "grid_gap": null,
      "grid_row": null,
      "grid_template_areas": null,
      "grid_template_columns": null,
      "grid_template_rows": null,
      "height": null,
      "justify_content": null,
      "justify_items": null,
      "left": null,
      "margin": null,
      "max_height": null,
      "max_width": null,
      "min_height": null,
      "min_width": null,
      "object_fit": null,
      "object_position": null,
      "order": null,
      "overflow": null,
      "overflow_x": null,
      "overflow_y": null,
      "padding": null,
      "right": null,
      "top": null,
      "visibility": null,
      "width": null
     }
    },
    "b806743fb1114109af1b40d60c737c48": {
     "model_module": "@jupyter-widgets/base",
     "model_name": "LayoutModel",
     "state": {
      "_model_module": "@jupyter-widgets/base",
      "_model_module_version": "1.2.0",
      "_model_name": "LayoutModel",
      "_view_count": null,
      "_view_module": "@jupyter-widgets/base",
      "_view_module_version": "1.2.0",
      "_view_name": "LayoutView",
      "align_content": null,
      "align_items": null,
      "align_self": null,
      "border": null,
      "bottom": null,
      "display": null,
      "flex": null,
      "flex_flow": null,
      "grid_area": null,
      "grid_auto_columns": null,
      "grid_auto_flow": null,
      "grid_auto_rows": null,
      "grid_column": null,
      "grid_gap": null,
      "grid_row": null,
      "grid_template_areas": null,
      "grid_template_columns": null,
      "grid_template_rows": null,
      "height": null,
      "justify_content": null,
      "justify_items": null,
      "left": null,
      "margin": null,
      "max_height": null,
      "max_width": null,
      "min_height": null,
      "min_width": null,
      "object_fit": null,
      "object_position": null,
      "order": null,
      "overflow": null,
      "overflow_x": null,
      "overflow_y": null,
      "padding": null,
      "right": null,
      "top": null,
      "visibility": null,
      "width": null
     }
    },
    "bf1ecb33a6b04dec8919de3c70250a6b": {
     "model_module": "@jupyter-widgets/controls",
     "model_name": "HBoxModel",
     "state": {
      "_dom_classes": [],
      "_model_module": "@jupyter-widgets/controls",
      "_model_module_version": "1.5.0",
      "_model_name": "HBoxModel",
      "_view_count": null,
      "_view_module": "@jupyter-widgets/controls",
      "_view_module_version": "1.5.0",
      "_view_name": "HBoxView",
      "box_style": "",
      "children": [
       "IPY_MODEL_6b586d1f0e1d45e2806aa94d949d1b20",
       "IPY_MODEL_e8961a33eeb14306bfa5e1bddc38ff15"
      ],
      "layout": "IPY_MODEL_ac6f3035908545ccaa22aa9207731e27"
     }
    },
    "c2d07f72f4a44dd18942777ea5be683e": {
     "model_module": "@jupyter-widgets/controls",
     "model_name": "FloatProgressModel",
     "state": {
      "_dom_classes": [],
      "_model_module": "@jupyter-widgets/controls",
      "_model_module_version": "1.5.0",
      "_model_name": "FloatProgressModel",
      "_view_count": null,
      "_view_module": "@jupyter-widgets/controls",
      "_view_module_version": "1.5.0",
      "_view_name": "ProgressView",
      "bar_style": "success",
      "description": "100%",
      "description_tooltip": null,
      "layout": "IPY_MODEL_b806743fb1114109af1b40d60c737c48",
      "max": 10,
      "min": 0,
      "orientation": "horizontal",
      "style": "IPY_MODEL_91baea4d9fba43ee9ce21f51e6700b41",
      "value": 10
     }
    },
    "c3e75894cd9845e3873f520f6bddcb2e": {
     "model_module": "@jupyter-widgets/base",
     "model_name": "LayoutModel",
     "state": {
      "_model_module": "@jupyter-widgets/base",
      "_model_module_version": "1.2.0",
      "_model_name": "LayoutModel",
      "_view_count": null,
      "_view_module": "@jupyter-widgets/base",
      "_view_module_version": "1.2.0",
      "_view_name": "LayoutView",
      "align_content": null,
      "align_items": null,
      "align_self": null,
      "border": null,
      "bottom": null,
      "display": null,
      "flex": null,
      "flex_flow": null,
      "grid_area": null,
      "grid_auto_columns": null,
      "grid_auto_flow": null,
      "grid_auto_rows": null,
      "grid_column": null,
      "grid_gap": null,
      "grid_row": null,
      "grid_template_areas": null,
      "grid_template_columns": null,
      "grid_template_rows": null,
      "height": null,
      "justify_content": null,
      "justify_items": null,
      "left": null,
      "margin": null,
      "max_height": null,
      "max_width": null,
      "min_height": null,
      "min_width": null,
      "object_fit": null,
      "object_position": null,
      "order": null,
      "overflow": null,
      "overflow_x": null,
      "overflow_y": null,
      "padding": null,
      "right": null,
      "top": null,
      "visibility": null,
      "width": null
     }
    },
    "c4c546181316450bb778642c5ca4612f": {
     "model_module": "@jupyter-widgets/controls",
     "model_name": "FloatProgressModel",
     "state": {
      "_dom_classes": [],
      "_model_module": "@jupyter-widgets/controls",
      "_model_module_version": "1.5.0",
      "_model_name": "FloatProgressModel",
      "_view_count": null,
      "_view_module": "@jupyter-widgets/controls",
      "_view_module_version": "1.5.0",
      "_view_name": "ProgressView",
      "bar_style": "success",
      "description": "Downloading: ",
      "description_tooltip": null,
      "layout": "IPY_MODEL_cdfc5fbbb3ae4464abe90d235bc6596b",
      "max": 1502,
      "min": 0,
      "orientation": "horizontal",
      "style": "IPY_MODEL_0a8fcc805e714d728e66e32d43ee7e8e",
      "value": 1502
     }
    },
    "cdfc5fbbb3ae4464abe90d235bc6596b": {
     "model_module": "@jupyter-widgets/base",
     "model_name": "LayoutModel",
     "state": {
      "_model_module": "@jupyter-widgets/base",
      "_model_module_version": "1.2.0",
      "_model_name": "LayoutModel",
      "_view_count": null,
      "_view_module": "@jupyter-widgets/base",
      "_view_module_version": "1.2.0",
      "_view_name": "LayoutView",
      "align_content": null,
      "align_items": null,
      "align_self": null,
      "border": null,
      "bottom": null,
      "display": null,
      "flex": null,
      "flex_flow": null,
      "grid_area": null,
      "grid_auto_columns": null,
      "grid_auto_flow": null,
      "grid_auto_rows": null,
      "grid_column": null,
      "grid_gap": null,
      "grid_row": null,
      "grid_template_areas": null,
      "grid_template_columns": null,
      "grid_template_rows": null,
      "height": null,
      "justify_content": null,
      "justify_items": null,
      "left": null,
      "margin": null,
      "max_height": null,
      "max_width": null,
      "min_height": null,
      "min_width": null,
      "object_fit": null,
      "object_position": null,
      "order": null,
      "overflow": null,
      "overflow_x": null,
      "overflow_y": null,
      "padding": null,
      "right": null,
      "top": null,
      "visibility": null,
      "width": null
     }
    },
    "d10280151b4a49b0914f78381a3110bf": {
     "model_module": "@jupyter-widgets/controls",
     "model_name": "DescriptionStyleModel",
     "state": {
      "_model_module": "@jupyter-widgets/controls",
      "_model_module_version": "1.5.0",
      "_model_name": "DescriptionStyleModel",
      "_view_count": null,
      "_view_module": "@jupyter-widgets/base",
      "_view_module_version": "1.2.0",
      "_view_name": "StyleView",
      "description_width": ""
     }
    },
    "d162921167724b10a6285315b712fa78": {
     "model_module": "@jupyter-widgets/base",
     "model_name": "LayoutModel",
     "state": {
      "_model_module": "@jupyter-widgets/base",
      "_model_module_version": "1.2.0",
      "_model_name": "LayoutModel",
      "_view_count": null,
      "_view_module": "@jupyter-widgets/base",
      "_view_module_version": "1.2.0",
      "_view_name": "LayoutView",
      "align_content": null,
      "align_items": null,
      "align_self": null,
      "border": null,
      "bottom": null,
      "display": null,
      "flex": null,
      "flex_flow": null,
      "grid_area": null,
      "grid_auto_columns": null,
      "grid_auto_flow": null,
      "grid_auto_rows": null,
      "grid_column": null,
      "grid_gap": null,
      "grid_row": null,
      "grid_template_areas": null,
      "grid_template_columns": null,
      "grid_template_rows": null,
      "height": null,
      "justify_content": null,
      "justify_items": null,
      "left": null,
      "margin": null,
      "max_height": null,
      "max_width": null,
      "min_height": null,
      "min_width": null,
      "object_fit": null,
      "object_position": null,
      "order": null,
      "overflow": null,
      "overflow_x": null,
      "overflow_y": null,
      "padding": null,
      "right": null,
      "top": null,
      "visibility": null,
      "width": null
     }
    },
    "d26b39de750f4ad9a23df9d91c40b4a2": {
     "model_module": "@jupyter-widgets/controls",
     "model_name": "ProgressStyleModel",
     "state": {
      "_model_module": "@jupyter-widgets/controls",
      "_model_module_version": "1.5.0",
      "_model_name": "ProgressStyleModel",
      "_view_count": null,
      "_view_module": "@jupyter-widgets/base",
      "_view_module_version": "1.2.0",
      "_view_name": "StyleView",
      "bar_color": null,
      "description_width": "initial"
     }
    },
    "d7470d5177ae488e932eeba9e59b1d6a": {
     "model_module": "@jupyter-widgets/controls",
     "model_name": "ProgressStyleModel",
     "state": {
      "_model_module": "@jupyter-widgets/controls",
      "_model_module_version": "1.5.0",
      "_model_name": "ProgressStyleModel",
      "_view_count": null,
      "_view_module": "@jupyter-widgets/base",
      "_view_module_version": "1.2.0",
      "_view_name": "StyleView",
      "bar_color": null,
      "description_width": "initial"
     }
    },
    "daa779868ebf46c3af2894cc3aee196f": {
     "model_module": "@jupyter-widgets/controls",
     "model_name": "HBoxModel",
     "state": {
      "_dom_classes": [],
      "_model_module": "@jupyter-widgets/controls",
      "_model_module_version": "1.5.0",
      "_model_name": "HBoxModel",
      "_view_count": null,
      "_view_module": "@jupyter-widgets/controls",
      "_view_module_version": "1.5.0",
      "_view_name": "HBoxView",
      "box_style": "",
      "children": [
       "IPY_MODEL_e39028f5aea74935ac0871d5c61f11a4",
       "IPY_MODEL_e18da09f361b47d180597b03bcc9e6a7"
      ],
      "layout": "IPY_MODEL_78a521fdc6b04598afea5e36269414c1"
     }
    },
    "dcaa00b8d1024bffa447363b596f14df": {
     "model_module": "@jupyter-widgets/base",
     "model_name": "LayoutModel",
     "state": {
      "_model_module": "@jupyter-widgets/base",
      "_model_module_version": "1.2.0",
      "_model_name": "LayoutModel",
      "_view_count": null,
      "_view_module": "@jupyter-widgets/base",
      "_view_module_version": "1.2.0",
      "_view_name": "LayoutView",
      "align_content": null,
      "align_items": null,
      "align_self": null,
      "border": null,
      "bottom": null,
      "display": null,
      "flex": null,
      "flex_flow": null,
      "grid_area": null,
      "grid_auto_columns": null,
      "grid_auto_flow": null,
      "grid_auto_rows": null,
      "grid_column": null,
      "grid_gap": null,
      "grid_row": null,
      "grid_template_areas": null,
      "grid_template_columns": null,
      "grid_template_rows": null,
      "height": null,
      "justify_content": null,
      "justify_items": null,
      "left": null,
      "margin": null,
      "max_height": null,
      "max_width": null,
      "min_height": null,
      "min_width": null,
      "object_fit": null,
      "object_position": null,
      "order": null,
      "overflow": null,
      "overflow_x": null,
      "overflow_y": null,
      "padding": null,
      "right": null,
      "top": null,
      "visibility": null,
      "width": null
     }
    },
    "e0d01c7ca1a34b979b08a5057297c0a2": {
     "model_module": "@jupyter-widgets/controls",
     "model_name": "FloatProgressModel",
     "state": {
      "_dom_classes": [],
      "_model_module": "@jupyter-widgets/controls",
      "_model_module_version": "1.5.0",
      "_model_name": "FloatProgressModel",
      "_view_count": null,
      "_view_module": "@jupyter-widgets/controls",
      "_view_module_version": "1.5.0",
      "_view_name": "ProgressView",
      "bar_style": "success",
      "description": "Downloading: 100%",
      "description_tooltip": null,
      "layout": "IPY_MODEL_5429f482f0d54375861140709de153c1",
      "max": 362,
      "min": 0,
      "orientation": "horizontal",
      "style": "IPY_MODEL_2009e279c2a0498a87f999e2f6b535e0",
      "value": 362
     }
    },
    "e18da09f361b47d180597b03bcc9e6a7": {
     "model_module": "@jupyter-widgets/controls",
     "model_name": "HTMLModel",
     "state": {
      "_dom_classes": [],
      "_model_module": "@jupyter-widgets/controls",
      "_model_module_version": "1.5.0",
      "_model_name": "HTMLModel",
      "_view_count": null,
      "_view_module": "@jupyter-widgets/controls",
      "_view_module_version": "1.5.0",
      "_view_name": "HTMLView",
      "description": "",
      "description_tooltip": null,
      "layout": "IPY_MODEL_f577436a72f642e08306ca5c507f568d",
      "placeholder": "​",
      "style": "IPY_MODEL_fd2ee604aafb4d028211797b12bf23b9",
      "value": " 2/2 [01:37&lt;00:00, 48.67s/ba]"
     }
    },
    "e1b98088ce684c61bfd526998bddf5ce": {
     "model_module": "@jupyter-widgets/controls",
     "model_name": "FloatProgressModel",
     "state": {
      "_dom_classes": [],
      "_model_module": "@jupyter-widgets/controls",
      "_model_module_version": "1.5.0",
      "_model_name": "FloatProgressModel",
      "_view_count": null,
      "_view_module": "@jupyter-widgets/controls",
      "_view_module_version": "1.5.0",
      "_view_name": "ProgressView",
      "bar_style": "success",
      "description": "100%",
      "description_tooltip": null,
      "layout": "IPY_MODEL_96b51efcc65049dcacbed0371f500b07",
      "max": 10,
      "min": 0,
      "orientation": "horizontal",
      "style": "IPY_MODEL_01f5cd2ce5564179a81b0e8051dd3f08",
      "value": 10
     }
    },
    "e1ee77dad15e447dbd00942bdb398c33": {
     "model_module": "@jupyter-widgets/controls",
     "model_name": "HBoxModel",
     "state": {
      "_dom_classes": [],
      "_model_module": "@jupyter-widgets/controls",
      "_model_module_version": "1.5.0",
      "_model_name": "HBoxModel",
      "_view_count": null,
      "_view_module": "@jupyter-widgets/controls",
      "_view_module_version": "1.5.0",
      "_view_name": "HBoxView",
      "box_style": "",
      "children": [
       "IPY_MODEL_533908a268214523b1cef2ddb709d613",
       "IPY_MODEL_2c8c151584a8406f8743b466ee6591ba"
      ],
      "layout": "IPY_MODEL_a8234af885e54bf28d538a0f87cf5cf6"
     }
    },
    "e20e58c1c7a447efa3cac07896fc4e3a": {
     "model_module": "@jupyter-widgets/controls",
     "model_name": "HBoxModel",
     "state": {
      "_dom_classes": [],
      "_model_module": "@jupyter-widgets/controls",
      "_model_module_version": "1.5.0",
      "_model_name": "HBoxModel",
      "_view_count": null,
      "_view_module": "@jupyter-widgets/controls",
      "_view_module_version": "1.5.0",
      "_view_name": "HBoxView",
      "box_style": "",
      "children": [
       "IPY_MODEL_6aa78c8e24f548cd9803be8ef0b40eb8",
       "IPY_MODEL_61dc4337c8cb404b973fa9a0ab454226"
      ],
      "layout": "IPY_MODEL_b0524035bc3543eba16d3a4fff3efb6d"
     }
    },
    "e39028f5aea74935ac0871d5c61f11a4": {
     "model_module": "@jupyter-widgets/controls",
     "model_name": "FloatProgressModel",
     "state": {
      "_dom_classes": [],
      "_model_module": "@jupyter-widgets/controls",
      "_model_module_version": "1.5.0",
      "_model_name": "FloatProgressModel",
      "_view_count": null,
      "_view_module": "@jupyter-widgets/controls",
      "_view_module_version": "1.5.0",
      "_view_name": "ProgressView",
      "bar_style": "success",
      "description": "100%",
      "description_tooltip": null,
      "layout": "IPY_MODEL_11c104dc0e9544709c324e19f652392e",
      "max": 2,
      "min": 0,
      "orientation": "horizontal",
      "style": "IPY_MODEL_458939c43cab4da594a7287ed6e6b597",
      "value": 2
     }
    },
    "e7611d3ff4c844ff9e1171745164d7ba": {
     "model_module": "@jupyter-widgets/controls",
     "model_name": "HTMLModel",
     "state": {
      "_dom_classes": [],
      "_model_module": "@jupyter-widgets/controls",
      "_model_module_version": "1.5.0",
      "_model_name": "HTMLModel",
      "_view_count": null,
      "_view_module": "@jupyter-widgets/controls",
      "_view_module_version": "1.5.0",
      "_view_name": "HTMLView",
      "description": "",
      "description_tooltip": null,
      "layout": "IPY_MODEL_4495ab121c5a4011abf6fe94d8de5601",
      "placeholder": "​",
      "style": "IPY_MODEL_8921fa05b8354883a9f8bf454b798fc0",
      "value": " 9245/9245 [00:16&lt;00:00, 573.29ex/s]"
     }
    },
    "e8961a33eeb14306bfa5e1bddc38ff15": {
     "model_module": "@jupyter-widgets/controls",
     "model_name": "HTMLModel",
     "state": {
      "_dom_classes": [],
      "_model_module": "@jupyter-widgets/controls",
      "_model_module_version": "1.5.0",
      "_model_name": "HTMLModel",
      "_view_count": null,
      "_view_module": "@jupyter-widgets/controls",
      "_view_module_version": "1.5.0",
      "_view_name": "HTMLView",
      "description": "",
      "description_tooltip": null,
      "layout": "IPY_MODEL_54ae0177660040e8b4850b4f76d5d1b2",
      "placeholder": "​",
      "style": "IPY_MODEL_0e133d88590648ecae344f2f8651bc07",
      "value": " 1028/1028 [00:15&lt;00:00, 68.19ex/s]"
     }
    },
    "eafef3f4041c4729a7d417220c8b3774": {
     "model_module": "@jupyter-widgets/controls",
     "model_name": "HBoxModel",
     "state": {
      "_dom_classes": [],
      "_model_module": "@jupyter-widgets/controls",
      "_model_module_version": "1.5.0",
      "_model_name": "HBoxModel",
      "_view_count": null,
      "_view_module": "@jupyter-widgets/controls",
      "_view_module_version": "1.5.0",
      "_view_name": "HBoxView",
      "box_style": "",
      "children": [
       "IPY_MODEL_e1b98088ce684c61bfd526998bddf5ce",
       "IPY_MODEL_f9305052e46e4b95bcc60f4789ee73d4"
      ],
      "layout": "IPY_MODEL_09256159e45444239b31039e4739e8d0"
     }
    },
    "ee7542628b674bc6904d6fa796bfd1e8": {
     "model_module": "@jupyter-widgets/controls",
     "model_name": "HTMLModel",
     "state": {
      "_dom_classes": [],
      "_model_module": "@jupyter-widgets/controls",
      "_model_module_version": "1.5.0",
      "_model_name": "HTMLModel",
      "_view_count": null,
      "_view_module": "@jupyter-widgets/controls",
      "_view_module_version": "1.5.0",
      "_view_name": "HTMLView",
      "description": "",
      "description_tooltip": null,
      "layout": "IPY_MODEL_b740c2d61d1748c9be0f412c763bdfe5",
      "placeholder": "​",
      "style": "IPY_MODEL_1cb302424e9e444cae272027ab3672b3",
      "value": " 362/362 [00:00&lt;00:00, 1.50kB/s]"
     }
    },
    "f021b143ea3f4bbda99ea6a4a190701c": {
     "model_module": "@jupyter-widgets/controls",
     "model_name": "DescriptionStyleModel",
     "state": {
      "_model_module": "@jupyter-widgets/controls",
      "_model_module_version": "1.5.0",
      "_model_name": "DescriptionStyleModel",
      "_view_count": null,
      "_view_module": "@jupyter-widgets/base",
      "_view_module_version": "1.2.0",
      "_view_name": "StyleView",
      "description_width": ""
     }
    },
    "f1e790d59e4f4588885d2c481065d1ce": {
     "model_module": "@jupyter-widgets/controls",
     "model_name": "HBoxModel",
     "state": {
      "_dom_classes": [],
      "_model_module": "@jupyter-widgets/controls",
      "_model_module_version": "1.5.0",
      "_model_name": "HBoxModel",
      "_view_count": null,
      "_view_module": "@jupyter-widgets/controls",
      "_view_module_version": "1.5.0",
      "_view_name": "HBoxView",
      "box_style": "",
      "children": [
       "IPY_MODEL_6c63070bbad5409f88fa91b51b2c65f1",
       "IPY_MODEL_9f322c0a62624df2873a4c2d21658fab"
      ],
      "layout": "IPY_MODEL_33eec945cca7440284cf120260c4b969"
     }
    },
    "f47b52a14f5a48c2bfa57dbc4618cf12": {
     "model_module": "@jupyter-widgets/base",
     "model_name": "LayoutModel",
     "state": {
      "_model_module": "@jupyter-widgets/base",
      "_model_module_version": "1.2.0",
      "_model_name": "LayoutModel",
      "_view_count": null,
      "_view_module": "@jupyter-widgets/base",
      "_view_module_version": "1.2.0",
      "_view_name": "LayoutView",
      "align_content": null,
      "align_items": null,
      "align_self": null,
      "border": null,
      "bottom": null,
      "display": null,
      "flex": null,
      "flex_flow": null,
      "grid_area": null,
      "grid_auto_columns": null,
      "grid_auto_flow": null,
      "grid_auto_rows": null,
      "grid_column": null,
      "grid_gap": null,
      "grid_row": null,
      "grid_template_areas": null,
      "grid_template_columns": null,
      "grid_template_rows": null,
      "height": null,
      "justify_content": null,
      "justify_items": null,
      "left": null,
      "margin": null,
      "max_height": null,
      "max_width": null,
      "min_height": null,
      "min_width": null,
      "object_fit": null,
      "object_position": null,
      "order": null,
      "overflow": null,
      "overflow_x": null,
      "overflow_y": null,
      "padding": null,
      "right": null,
      "top": null,
      "visibility": null,
      "width": null
     }
    },
    "f577436a72f642e08306ca5c507f568d": {
     "model_module": "@jupyter-widgets/base",
     "model_name": "LayoutModel",
     "state": {
      "_model_module": "@jupyter-widgets/base",
      "_model_module_version": "1.2.0",
      "_model_name": "LayoutModel",
      "_view_count": null,
      "_view_module": "@jupyter-widgets/base",
      "_view_module_version": "1.2.0",
      "_view_name": "LayoutView",
      "align_content": null,
      "align_items": null,
      "align_self": null,
      "border": null,
      "bottom": null,
      "display": null,
      "flex": null,
      "flex_flow": null,
      "grid_area": null,
      "grid_auto_columns": null,
      "grid_auto_flow": null,
      "grid_auto_rows": null,
      "grid_column": null,
      "grid_gap": null,
      "grid_row": null,
      "grid_template_areas": null,
      "grid_template_columns": null,
      "grid_template_rows": null,
      "height": null,
      "justify_content": null,
      "justify_items": null,
      "left": null,
      "margin": null,
      "max_height": null,
      "max_width": null,
      "min_height": null,
      "min_width": null,
      "object_fit": null,
      "object_position": null,
      "order": null,
      "overflow": null,
      "overflow_x": null,
      "overflow_y": null,
      "padding": null,
      "right": null,
      "top": null,
      "visibility": null,
      "width": null
     }
    },
    "f9305052e46e4b95bcc60f4789ee73d4": {
     "model_module": "@jupyter-widgets/controls",
     "model_name": "HTMLModel",
     "state": {
      "_dom_classes": [],
      "_model_module": "@jupyter-widgets/controls",
      "_model_module_version": "1.5.0",
      "_model_name": "HTMLModel",
      "_view_count": null,
      "_view_module": "@jupyter-widgets/controls",
      "_view_module_version": "1.5.0",
      "_view_name": "HTMLView",
      "description": "",
      "description_tooltip": null,
      "layout": "IPY_MODEL_3ef430000382449d973cb02f4241b5e6",
      "placeholder": "​",
      "style": "IPY_MODEL_9001d2ab5ed54323aa6446b91e864ad5",
      "value": " 10/10 [01:46&lt;00:00, 10.66s/ba]"
     }
    },
    "fb50b98106494aa890dc0d2f67643426": {
     "model_module": "@jupyter-widgets/base",
     "model_name": "LayoutModel",
     "state": {
      "_model_module": "@jupyter-widgets/base",
      "_model_module_version": "1.2.0",
      "_model_name": "LayoutModel",
      "_view_count": null,
      "_view_module": "@jupyter-widgets/base",
      "_view_module_version": "1.2.0",
      "_view_name": "LayoutView",
      "align_content": null,
      "align_items": null,
      "align_self": null,
      "border": null,
      "bottom": null,
      "display": null,
      "flex": null,
      "flex_flow": null,
      "grid_area": null,
      "grid_auto_columns": null,
      "grid_auto_flow": null,
      "grid_auto_rows": null,
      "grid_column": null,
      "grid_gap": null,
      "grid_row": null,
      "grid_template_areas": null,
      "grid_template_columns": null,
      "grid_template_rows": null,
      "height": null,
      "justify_content": null,
      "justify_items": null,
      "left": null,
      "margin": null,
      "max_height": null,
      "max_width": null,
      "min_height": null,
      "min_width": null,
      "object_fit": null,
      "object_position": null,
      "order": null,
      "overflow": null,
      "overflow_x": null,
      "overflow_y": null,
      "padding": null,
      "right": null,
      "top": null,
      "visibility": null,
      "width": null
     }
    },
    "fd2ee604aafb4d028211797b12bf23b9": {
     "model_module": "@jupyter-widgets/controls",
     "model_name": "DescriptionStyleModel",
     "state": {
      "_model_module": "@jupyter-widgets/controls",
      "_model_module_version": "1.5.0",
      "_model_name": "DescriptionStyleModel",
      "_view_count": null,
      "_view_module": "@jupyter-widgets/base",
      "_view_module_version": "1.2.0",
      "_view_name": "StyleView",
      "description_width": ""
     }
    }
   }
  }
 },
 "nbformat": 4,
 "nbformat_minor": 1
}
